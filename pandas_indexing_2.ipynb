{
 "cells": [
  {
   "cell_type": "markdown",
   "metadata": {},
   "source": [
    "# Slicing data in pandas\n",
    "This is second in the series on indexing and selecting data in pandas. If you haven't read it yet, see [the first post](xxx) that covers the basics of selecting based on index or relative numerical indexing. In this post, I'm going to review slicing, which is a core Python topic, but has a few subtle issues related to pandas. Then, using slicing, we'll review the selection methods from the last post, but now with slicing applied.\n",
    "\n",
    "## What is a slice, and what is slicing?\n",
    "A slice is defined in the [Python glossory](https://docs.python.org/3/glossary.html#term-slice).\n",
    "> An object usually containing a portion of a sequence. A slice is created using the subscript notation, [] with colons between numbers when several are given, such as in variable_name[1:3:5]. The bracket (subscript) notation uses slice objects internally.\n",
    "\n",
    "Slicing is defined in the [Python reference](https://docs.python.org/3/reference/expressions.html#slicing).\n",
    "> a slicing selects a range of items in a sequence object (e.g., a string, tuple or list). Slicings may be used as expressions or as targets in assignment or del statements. \n",
    "\n",
    "A slicing has three parts: start, stop, and step. A ```slice``` class is a Python builtin. If you instantiante a ```slice``` object explicitly, you can supply a single value (the stop), or you can supply the start and stop and optionally, the step. In terms of what is selected in the sequence, the start is inclusive, the stop is not, and the step determines how you count from start to stop. You can use slice objects or slice notation, but unless you need to store the slice object for re-use, you usually see slice notation in code.\n",
    "\n",
    "So let's look at few examples to clear this up. We'll start with a string as a sequence object."
   ]
  },
  {
   "cell_type": "code",
   "execution_count": 1,
   "metadata": {},
   "outputs": [
    {
     "data": {
      "text/plain": [
       "'abcdefg'"
      ]
     },
     "execution_count": 1,
     "metadata": {},
     "output_type": "execute_result"
    }
   ],
   "source": [
    "w = \"abcdefg\"\n",
    "\n",
    "# all of these select the same slice of w, \"abc\"\n",
    "\n",
    "w[slice(0, 3, 1)]  # This is slice(start=0, stop=3, step=1)\n",
    "w[0:3:1]           # This is the same, but in slice notation\n",
    "w[slice(3)]        # start=0, step=1 are the defaults\n",
    "w[:3]              # same here\n",
    "\n",
    "# select the entire sequence. start=0, stop=last element (inclusive), step=1\n",
    "w[:]"
   ]
  },
  {
   "cell_type": "markdown",
   "metadata": {},
   "source": [
    "Now slices can be used very effectively and concisely to get views of data. I'll just cover a few examples here."
   ]
  },
  {
   "cell_type": "code",
   "execution_count": 2,
   "metadata": {},
   "outputs": [
    {
     "data": {
      "text/plain": [
       "'gfedcba'"
      ]
     },
     "execution_count": 2,
     "metadata": {},
     "output_type": "execute_result"
    }
   ],
   "source": [
    "w[::-1] # reverse a string (start=0, stop=end, stepping backwards)"
   ]
  },
  {
   "cell_type": "code",
   "execution_count": 3,
   "metadata": {},
   "outputs": [
    {
     "data": {
      "text/plain": [
       "'bc'"
      ]
     },
     "execution_count": 3,
     "metadata": {},
     "output_type": "execute_result"
    }
   ],
   "source": [
    "w[1:3] # a portion of a string"
   ]
  },
  {
   "cell_type": "markdown",
   "metadata": {},
   "source": [
    "Now strings are special, you can't modify them directly or delete their values. Same with tuples."
   ]
  },
  {
   "cell_type": "code",
   "execution_count": 4,
   "metadata": {},
   "outputs": [
    {
     "name": "stdout",
     "output_type": "stream",
     "text": [
      "'str' object does not support item assignment\n",
      "'tuple' object does not support item assignment\n"
     ]
    }
   ],
   "source": [
    "try:\n",
    "    w[2] = 'z'\n",
    "except TypeError as te:\n",
    "    print(te)\n",
    "    \n",
    "try:\n",
    "    t = (0, 1, 2)\n",
    "    t[0] = -1\n",
    "except TypeError as te:\n",
    "    print(te)"
   ]
  },
  {
   "cell_type": "markdown",
   "metadata": {},
   "source": [
    "We'll switch to using a list to show some more applications of slicing."
   ]
  },
  {
   "cell_type": "code",
   "execution_count": 5,
   "metadata": {},
   "outputs": [
    {
     "data": {
      "text/plain": [
       "[0, 1, 2, 3, 4, 5, 6]"
      ]
     },
     "execution_count": 5,
     "metadata": {},
     "output_type": "execute_result"
    }
   ],
   "source": [
    "l = [0, 1, 2, 3, 4, 5, 6]\n",
    "\n",
    "# just as with strings, these all work on a list, and return [0, 1, 2]\n",
    "l[slice(0,3,1)]\n",
    "l[0:3:1]\n",
    "l[slice(3)]\n",
    "l[:3]\n",
    "\n",
    "# this returns a full copy\n",
    "l[:]"
   ]
  },
  {
   "cell_type": "code",
   "execution_count": 6,
   "metadata": {},
   "outputs": [
    {
     "data": {
      "text/plain": [
       "[0, 2, 4, 6]"
      ]
     },
     "execution_count": 6,
     "metadata": {},
     "output_type": "execute_result"
    }
   ],
   "source": [
    "# using step\n",
    "l[::2]"
   ]
  },
  {
   "cell_type": "code",
   "execution_count": 7,
   "metadata": {},
   "outputs": [
    {
     "data": {
      "text/plain": [
       "[0, -1, 2, -1, 4, -1, 6]"
      ]
     },
     "execution_count": 7,
     "metadata": {},
     "output_type": "execute_result"
    }
   ],
   "source": [
    "# can also assign\n",
    "l[1::2] = [-1, -1, -1]\n",
    "l"
   ]
  },
  {
   "cell_type": "markdown",
   "metadata": {},
   "source": [
    "## On to pandas\n",
    "OK, after a quick overview of slicing, let's move onto pandas and see why we're talking about slicing at all. \n",
    "\n",
    "\n",
    "Just like the last post, I'll grab a dataset from the [Chicago Data Portal](https://data.cityofchicago.org), but this time we'll grab the [list of Chicago public libraries](https://data.cityofchicago.org/Education/Libraries-Locations-Hours-and-Contact-Information/x8fc-8rcq)."
   ]
  },
  {
   "cell_type": "code",
   "execution_count": 8,
   "metadata": {},
   "outputs": [],
   "source": [
    "import pandas as pd\n",
    "import numpy as np\n",
    "\n",
    "# you should be able to grab this dataset as an unauthenticated user, but you can be rate limited\n",
    "df = pd.read_json(\"https://data.cityofchicago.org/resource/x8fc-8rcq.json\")"
   ]
  },
  {
   "cell_type": "code",
   "execution_count": 9,
   "metadata": {},
   "outputs": [
    {
     "data": {
      "text/plain": [
       "name_                          object\n",
       "address                        object\n",
       "city                           object\n",
       "state                          object\n",
       "zip                             int64\n",
       "phone                          object\n",
       "website                        object\n",
       "location                       object\n",
       ":@computed_region_rpca_8um6     int64\n",
       ":@computed_region_vrxf_vc4k     int64\n",
       ":@computed_region_6mkv_f3dw     int64\n",
       ":@computed_region_bdys_3d7i     int64\n",
       ":@computed_region_43wa_7qmu     int64\n",
       "hours_of_operation             object\n",
       "dtype: object"
      ]
     },
     "execution_count": 9,
     "metadata": {},
     "output_type": "execute_result"
    }
   ],
   "source": [
    "df.dtypes"
   ]
  },
  {
   "cell_type": "code",
   "execution_count": 10,
   "metadata": {},
   "outputs": [],
   "source": [
    "# trim down the columns\n",
    "df = df[['name_', 'hours_of_operation', 'address', 'city', 'state', 'zip', 'phone', 'website', 'location']]"
   ]
  },
  {
   "cell_type": "code",
   "execution_count": 11,
   "metadata": {},
   "outputs": [
    {
     "data": {
      "text/html": [
       "<div>\n",
       "<style scoped>\n",
       "    .dataframe tbody tr th:only-of-type {\n",
       "        vertical-align: middle;\n",
       "    }\n",
       "\n",
       "    .dataframe tbody tr th {\n",
       "        vertical-align: top;\n",
       "    }\n",
       "\n",
       "    .dataframe thead th {\n",
       "        text-align: right;\n",
       "    }\n",
       "</style>\n",
       "<table border=\"1\" class=\"dataframe\">\n",
       "  <thead>\n",
       "    <tr style=\"text-align: right;\">\n",
       "      <th></th>\n",
       "      <th>name_</th>\n",
       "      <th>hours_of_operation</th>\n",
       "      <th>address</th>\n",
       "      <th>city</th>\n",
       "      <th>state</th>\n",
       "      <th>zip</th>\n",
       "      <th>phone</th>\n",
       "      <th>website</th>\n",
       "      <th>location</th>\n",
       "    </tr>\n",
       "  </thead>\n",
       "  <tbody>\n",
       "    <tr>\n",
       "      <th>0</th>\n",
       "      <td>Jefferson Park</td>\n",
       "      <td>NaN</td>\n",
       "      <td>5363 W. Lawrence Ave.</td>\n",
       "      <td>Chicago</td>\n",
       "      <td>IL</td>\n",
       "      <td>60630</td>\n",
       "      <td>Closed for Construction</td>\n",
       "      <td>{'url': 'https://www.chipublib.org/locations/3...</td>\n",
       "      <td>{'latitude': '41.96759739182978', 'longitude':...</td>\n",
       "    </tr>\n",
       "    <tr>\n",
       "      <th>1</th>\n",
       "      <td>Merlo</td>\n",
       "      <td>NaN</td>\n",
       "      <td>644 W. Belmont Ave.</td>\n",
       "      <td>Chicago</td>\n",
       "      <td>IL</td>\n",
       "      <td>60657</td>\n",
       "      <td>Closed for Construction</td>\n",
       "      <td>{'url': 'https://www.chipublib.org/locations/5...</td>\n",
       "      <td>{'latitude': '41.940084208613214', 'longitude'...</td>\n",
       "    </tr>\n",
       "    <tr>\n",
       "      <th>2</th>\n",
       "      <td>Douglass</td>\n",
       "      <td>NaN</td>\n",
       "      <td>3353 W. 13th St.</td>\n",
       "      <td>Chicago</td>\n",
       "      <td>IL</td>\n",
       "      <td>60623</td>\n",
       "      <td>Closed for Construction</td>\n",
       "      <td>{'url': 'https://www.chipublib.org/locations/2...</td>\n",
       "      <td>{'latitude': '41.864500759742604', 'longitude'...</td>\n",
       "    </tr>\n",
       "  </tbody>\n",
       "</table>\n",
       "</div>"
      ],
      "text/plain": [
       "            name_ hours_of_operation                address     city state  \\\n",
       "0  Jefferson Park                NaN  5363 W. Lawrence Ave.  Chicago    IL   \n",
       "1           Merlo                NaN    644 W. Belmont Ave.  Chicago    IL   \n",
       "2        Douglass                NaN       3353 W. 13th St.  Chicago    IL   \n",
       "\n",
       "     zip                    phone  \\\n",
       "0  60630  Closed for Construction   \n",
       "1  60657  Closed for Construction   \n",
       "2  60623  Closed for Construction   \n",
       "\n",
       "                                             website  \\\n",
       "0  {'url': 'https://www.chipublib.org/locations/3...   \n",
       "1  {'url': 'https://www.chipublib.org/locations/5...   \n",
       "2  {'url': 'https://www.chipublib.org/locations/2...   \n",
       "\n",
       "                                            location  \n",
       "0  {'latitude': '41.96759739182978', 'longitude':...  \n",
       "1  {'latitude': '41.940084208613214', 'longitude'...  \n",
       "2  {'latitude': '41.864500759742604', 'longitude'...  "
      ]
     },
     "execution_count": 11,
     "metadata": {},
     "output_type": "execute_result"
    }
   ],
   "source": [
    "df.head(3)"
   ]
  },
  {
   "cell_type": "markdown",
   "metadata": {},
   "source": [
    "## Slicing in pandas\n",
    "Now in pandas (and the underlying NumPy data structures), slicing is also supported, and you can use it via the indexing operator (```[]```), ```.loc```, and ```.iloc```.  Just like in the last post, we'll walk through these three methods and look at slicing for both ```Series``` and ```DataFrame``` objects. Also, as last time, to prevent confusion between location based indexing and label indexing, I'm going to update the index of our sample data to be string based for the initial explanations."
   ]
  },
  {
   "cell_type": "code",
   "execution_count": 12,
   "metadata": {},
   "outputs": [],
   "source": [
    "# this will make our examples a bit more obvious\n",
    "df.index = \"ID-\" + df.index.astype(str)\n",
    "# Use the name_ column for a sample Series.\n",
    "s = df['name_']"
   ]
  },
  {
   "cell_type": "markdown",
   "metadata": {},
   "source": [
    "## Slicing with ```[]```\n",
    "Just like basic indexing, we'll see that slicing with ```.loc``` and ```.iloc``` is preferred to using ```[]```. Since the behavior of ```[]``` can depend on the index and arugments, it's better to use the more explicit indexers. But it is supported, there's a just a few things to keep in mind.\n",
    "\n",
    "### Series\n",
    "Just like standard Python, you can use integer slicing on Series objects, with ```start:stop:step```."
   ]
  },
  {
   "cell_type": "code",
   "execution_count": 13,
   "metadata": {},
   "outputs": [
    {
     "data": {
      "text/plain": [
       "ID-0    Jefferson Park\n",
       "ID-1             Merlo\n",
       "ID-2          Douglass\n",
       "Name: name_, dtype: object"
      ]
     },
     "execution_count": 13,
     "metadata": {},
     "output_type": "execute_result"
    }
   ],
   "source": [
    "s[:3]            # These all slice the first 3 elements in the Series\n",
    "s[0:3]\n",
    "s[0:3:1]\n",
    "s[slice(0,3,1)]"
   ]
  },
  {
   "cell_type": "markdown",
   "metadata": {},
   "source": [
    "In a ```Series```, we also can slice on our index, which in this case is an index of objects (strings). Note that the slice start and stop are inclusive, which is different than regular Python slicing!"
   ]
  },
  {
   "cell_type": "code",
   "execution_count": 14,
   "metadata": {},
   "outputs": [
    {
     "data": {
      "text/plain": [
       "ID-4              Altgeld\n",
       "ID-5       Archer Heights\n",
       "ID-6               Austin\n",
       "ID-7        Austin-Irving\n",
       "ID-8               Avalon\n",
       "ID-9    Back of the Yards\n",
       "Name: name_, dtype: object"
      ]
     },
     "execution_count": 14,
     "metadata": {},
     "output_type": "execute_result"
    }
   ],
   "source": [
    "s['ID-4':'ID-9']"
   ]
  },
  {
   "cell_type": "markdown",
   "metadata": {},
   "source": [
    "You can specify a step as well."
   ]
  },
  {
   "cell_type": "code",
   "execution_count": 15,
   "metadata": {},
   "outputs": [
    {
     "data": {
      "text/plain": [
       "ID-10    South Shore\n",
       "ID-12       Bezazian\n",
       "ID-14       Brainerd\n",
       "Name: name_, dtype: object"
      ]
     },
     "execution_count": 15,
     "metadata": {},
     "output_type": "execute_result"
    }
   ],
   "source": [
    "s['ID-10':'ID-15':2]"
   ]
  },
  {
   "cell_type": "markdown",
   "metadata": {},
   "source": [
    "Note that your labels have to be in the index or you'll get a ```KeyError```."
   ]
  },
  {
   "cell_type": "code",
   "execution_count": 16,
   "metadata": {},
   "outputs": [
    {
     "name": "stdout",
     "output_type": "stream",
     "text": [
      "'ID-999'\n"
     ]
    }
   ],
   "source": [
    "try:\n",
    "    s['ID-10':'ID-999']\n",
    "except KeyError as ke:\n",
    "    print(ke)"
   ]
  },
  {
   "cell_type": "markdown",
   "metadata": {},
   "source": [
    "You can also (potentially) assign/update a slice. Note that using ```[]``` is not the right way to do this, you'll get a ```SettingWithCopyWarning```. More on this in future posts (or read the pandas docs for details)."
   ]
  },
  {
   "cell_type": "code",
   "execution_count": 17,
   "metadata": {},
   "outputs": [
    {
     "data": {
      "text/plain": [
       "ID-76             West Pullman\n",
       "ID-77                West Town\n",
       "ID-78    Whitney M. Young, Jr.\n",
       "ID-79                  Changed\n",
       "ID-80                  Changed\n",
       "Name: name_, dtype: object"
      ]
     },
     "execution_count": 17,
     "metadata": {},
     "output_type": "execute_result"
    }
   ],
   "source": [
    "s['ID-79':] = \"Changed\"\n",
    "s.tail()"
   ]
  },
  {
   "cell_type": "markdown",
   "metadata": {},
   "source": [
    "### DataFrame\n",
    "In a ```DataFrame```, slicing with ```[]``` will **slice on the rows**. If you remember back to the last past, selection on a ```DataFrame``` using ```[]``` selects the columns first, so this is a bit confusing. Just remember, if you see a ```:```, it's slicing on rows. "
   ]
  },
  {
   "cell_type": "code",
   "execution_count": 18,
   "metadata": {},
   "outputs": [
    {
     "data": {
      "text/html": [
       "<div>\n",
       "<style scoped>\n",
       "    .dataframe tbody tr th:only-of-type {\n",
       "        vertical-align: middle;\n",
       "    }\n",
       "\n",
       "    .dataframe tbody tr th {\n",
       "        vertical-align: top;\n",
       "    }\n",
       "\n",
       "    .dataframe thead th {\n",
       "        text-align: right;\n",
       "    }\n",
       "</style>\n",
       "<table border=\"1\" class=\"dataframe\">\n",
       "  <thead>\n",
       "    <tr style=\"text-align: right;\">\n",
       "      <th></th>\n",
       "      <th>name_</th>\n",
       "      <th>hours_of_operation</th>\n",
       "      <th>address</th>\n",
       "      <th>city</th>\n",
       "      <th>state</th>\n",
       "      <th>zip</th>\n",
       "      <th>phone</th>\n",
       "      <th>website</th>\n",
       "      <th>location</th>\n",
       "    </tr>\n",
       "  </thead>\n",
       "  <tbody>\n",
       "    <tr>\n",
       "      <th>ID-1</th>\n",
       "      <td>Merlo</td>\n",
       "      <td>NaN</td>\n",
       "      <td>644 W. Belmont Ave.</td>\n",
       "      <td>Chicago</td>\n",
       "      <td>IL</td>\n",
       "      <td>60657</td>\n",
       "      <td>Closed for Construction</td>\n",
       "      <td>{'url': 'https://www.chipublib.org/locations/5...</td>\n",
       "      <td>{'latitude': '41.940084208613214', 'longitude'...</td>\n",
       "    </tr>\n",
       "    <tr>\n",
       "      <th>ID-2</th>\n",
       "      <td>Douglass</td>\n",
       "      <td>NaN</td>\n",
       "      <td>3353 W. 13th St.</td>\n",
       "      <td>Chicago</td>\n",
       "      <td>IL</td>\n",
       "      <td>60623</td>\n",
       "      <td>Closed for Construction</td>\n",
       "      <td>{'url': 'https://www.chipublib.org/locations/2...</td>\n",
       "      <td>{'latitude': '41.864500759742604', 'longitude'...</td>\n",
       "    </tr>\n",
       "  </tbody>\n",
       "</table>\n",
       "</div>"
      ],
      "text/plain": [
       "         name_ hours_of_operation              address     city state    zip  \\\n",
       "ID-1     Merlo                NaN  644 W. Belmont Ave.  Chicago    IL  60657   \n",
       "ID-2  Douglass                NaN     3353 W. 13th St.  Chicago    IL  60623   \n",
       "\n",
       "                        phone  \\\n",
       "ID-1  Closed for Construction   \n",
       "ID-2  Closed for Construction   \n",
       "\n",
       "                                                website  \\\n",
       "ID-1  {'url': 'https://www.chipublib.org/locations/5...   \n",
       "ID-2  {'url': 'https://www.chipublib.org/locations/2...   \n",
       "\n",
       "                                               location  \n",
       "ID-1  {'latitude': '41.940084208613214', 'longitude'...  \n",
       "ID-2  {'latitude': '41.864500759742604', 'longitude'...  "
      ]
     },
     "execution_count": 18,
     "metadata": {},
     "output_type": "execute_result"
    }
   ],
   "source": [
    "df[1:3]"
   ]
  },
  {
   "cell_type": "markdown",
   "metadata": {},
   "source": [
    "You can also use the step."
   ]
  },
  {
   "cell_type": "code",
   "execution_count": 19,
   "metadata": {},
   "outputs": [
    {
     "data": {
      "text/html": [
       "<div>\n",
       "<style scoped>\n",
       "    .dataframe tbody tr th:only-of-type {\n",
       "        vertical-align: middle;\n",
       "    }\n",
       "\n",
       "    .dataframe tbody tr th {\n",
       "        vertical-align: top;\n",
       "    }\n",
       "\n",
       "    .dataframe thead th {\n",
       "        text-align: right;\n",
       "    }\n",
       "</style>\n",
       "<table border=\"1\" class=\"dataframe\">\n",
       "  <thead>\n",
       "    <tr style=\"text-align: right;\">\n",
       "      <th></th>\n",
       "      <th>name_</th>\n",
       "      <th>hours_of_operation</th>\n",
       "      <th>address</th>\n",
       "      <th>city</th>\n",
       "      <th>state</th>\n",
       "      <th>zip</th>\n",
       "      <th>phone</th>\n",
       "      <th>website</th>\n",
       "      <th>location</th>\n",
       "    </tr>\n",
       "  </thead>\n",
       "  <tbody>\n",
       "    <tr>\n",
       "      <th>ID-3</th>\n",
       "      <td>Albany Park</td>\n",
       "      <td>Sun., Closed; Mon. &amp; Wed., 10-6; Tue. &amp; Thu., ...</td>\n",
       "      <td>3401 W. Foster Ave.</td>\n",
       "      <td>Chicago</td>\n",
       "      <td>IL</td>\n",
       "      <td>60625</td>\n",
       "      <td>(773) 539-5450</td>\n",
       "      <td>{'url': 'https://www.chipublib.org/locations/3/'}</td>\n",
       "      <td>{'latitude': '41.975456', 'longitude': '-87.71...</td>\n",
       "    </tr>\n",
       "    <tr>\n",
       "      <th>ID-5</th>\n",
       "      <td>Archer Heights</td>\n",
       "      <td>Sun., Closed; Mon. &amp; Wed., Noon-8; Tue. &amp; Thu....</td>\n",
       "      <td>5055 S. Archer Ave.</td>\n",
       "      <td>Chicago</td>\n",
       "      <td>IL</td>\n",
       "      <td>60632</td>\n",
       "      <td>(312) 747-9241</td>\n",
       "      <td>{'url': 'https://www.chipublib.org/locations/5/'}</td>\n",
       "      <td>{'latitude': '41.8012136599335', 'longitude': ...</td>\n",
       "    </tr>\n",
       "    <tr>\n",
       "      <th>ID-7</th>\n",
       "      <td>Austin-Irving</td>\n",
       "      <td>Sun., Closed; Mon. &amp; Wed., Noon-8; Tue. &amp; Thu....</td>\n",
       "      <td>6100 W. Irving Park Rd.</td>\n",
       "      <td>Chicago</td>\n",
       "      <td>IL</td>\n",
       "      <td>60634</td>\n",
       "      <td>(312) 744-6222</td>\n",
       "      <td>{'url': 'https://www.chipublib.org/locations/7/'}</td>\n",
       "      <td>{'latitude': '41.95317390064158', 'longitude':...</td>\n",
       "    </tr>\n",
       "  </tbody>\n",
       "</table>\n",
       "</div>"
      ],
      "text/plain": [
       "               name_                                 hours_of_operation  \\\n",
       "ID-3     Albany Park  Sun., Closed; Mon. & Wed., 10-6; Tue. & Thu., ...   \n",
       "ID-5  Archer Heights  Sun., Closed; Mon. & Wed., Noon-8; Tue. & Thu....   \n",
       "ID-7   Austin-Irving  Sun., Closed; Mon. & Wed., Noon-8; Tue. & Thu....   \n",
       "\n",
       "                      address     city state    zip           phone  \\\n",
       "ID-3      3401 W. Foster Ave.  Chicago    IL  60625  (773) 539-5450   \n",
       "ID-5      5055 S. Archer Ave.  Chicago    IL  60632  (312) 747-9241   \n",
       "ID-7  6100 W. Irving Park Rd.  Chicago    IL  60634  (312) 744-6222   \n",
       "\n",
       "                                                website  \\\n",
       "ID-3  {'url': 'https://www.chipublib.org/locations/3/'}   \n",
       "ID-5  {'url': 'https://www.chipublib.org/locations/5/'}   \n",
       "ID-7  {'url': 'https://www.chipublib.org/locations/7/'}   \n",
       "\n",
       "                                               location  \n",
       "ID-3  {'latitude': '41.975456', 'longitude': '-87.71...  \n",
       "ID-5  {'latitude': '41.8012136599335', 'longitude': ...  \n",
       "ID-7  {'latitude': '41.95317390064158', 'longitude':...  "
      ]
     },
     "execution_count": 19,
     "metadata": {},
     "output_type": "execute_result"
    }
   ],
   "source": [
    "df['ID-3':'ID-7':2]"
   ]
  },
  {
   "cell_type": "markdown",
   "metadata": {},
   "source": [
    "## Slicing with ```.loc```.\n",
    "Now, just like with basic selection, ```.loc``` and ```.iloc``` are meant for label and position respectively. With ```.loc``` you cannot pass in locations unless those match the index you are using. In our case, we'll get a ```TypeError```. The issue is our index doesn't contain these values, and so we'll be rejected.\n",
    "\n",
    "Note that with ```.loc```, we will get both the start and stop values if they are in the index, just like with ```[]```.\n",
    "\n",
    "### Series\n",
    "For our example data, you can't slice with integers (since they aren't in the index), but we can slice by labels."
   ]
  },
  {
   "cell_type": "code",
   "execution_count": 20,
   "metadata": {},
   "outputs": [
    {
     "name": "stdout",
     "output_type": "stream",
     "text": [
      "cannot do slice indexing on Index with these indexers [1] of type int\n"
     ]
    },
    {
     "data": {
      "text/plain": [
       "ID-1          Merlo\n",
       "ID-2       Douglass\n",
       "ID-3    Albany Park\n",
       "Name: name_, dtype: object"
      ]
     },
     "execution_count": 20,
     "metadata": {},
     "output_type": "execute_result"
    }
   ],
   "source": [
    "try:\n",
    "    s.loc[1:3]\n",
    "except TypeError as te:\n",
    "    print(te)\n",
    "    \n",
    "s.loc['ID-1':'ID-3']"
   ]
  },
  {
   "cell_type": "markdown",
   "metadata": {},
   "source": [
    "Assignment or updates using slices (can) work with ```.loc```. We'll talk about updates in more detail in the future."
   ]
  },
  {
   "cell_type": "code",
   "execution_count": 60,
   "metadata": {},
   "outputs": [
    {
     "data": {
      "text/plain": [
       "ID-76             West Pullman\n",
       "ID-77                West Town\n",
       "ID-78    Whitney M. Young, Jr.\n",
       "ID-79            Changed again\n",
       "ID-80            Changed again\n",
       "Name: name_, dtype: object"
      ]
     },
     "execution_count": 60,
     "metadata": {},
     "output_type": "execute_result"
    }
   ],
   "source": [
    "s.loc['ID-79':] = \"Changed again\"\n",
    "s.tail()"
   ]
  },
  {
   "cell_type": "markdown",
   "metadata": {},
   "source": [
    "### DataFrame\n",
    "And things are similar for a ```DataFrame```."
   ]
  },
  {
   "cell_type": "code",
   "execution_count": 22,
   "metadata": {},
   "outputs": [
    {
     "name": "stdout",
     "output_type": "stream",
     "text": [
      "cannot do slice indexing on Index with these indexers [1] of type int\n"
     ]
    },
    {
     "data": {
      "text/html": [
       "<div>\n",
       "<style scoped>\n",
       "    .dataframe tbody tr th:only-of-type {\n",
       "        vertical-align: middle;\n",
       "    }\n",
       "\n",
       "    .dataframe tbody tr th {\n",
       "        vertical-align: top;\n",
       "    }\n",
       "\n",
       "    .dataframe thead th {\n",
       "        text-align: right;\n",
       "    }\n",
       "</style>\n",
       "<table border=\"1\" class=\"dataframe\">\n",
       "  <thead>\n",
       "    <tr style=\"text-align: right;\">\n",
       "      <th></th>\n",
       "      <th>name_</th>\n",
       "      <th>hours_of_operation</th>\n",
       "      <th>address</th>\n",
       "      <th>city</th>\n",
       "      <th>state</th>\n",
       "      <th>zip</th>\n",
       "      <th>phone</th>\n",
       "      <th>website</th>\n",
       "      <th>location</th>\n",
       "    </tr>\n",
       "  </thead>\n",
       "  <tbody>\n",
       "    <tr>\n",
       "      <th>ID-1</th>\n",
       "      <td>Merlo</td>\n",
       "      <td>NaN</td>\n",
       "      <td>644 W. Belmont Ave.</td>\n",
       "      <td>Chicago</td>\n",
       "      <td>IL</td>\n",
       "      <td>60657</td>\n",
       "      <td>Closed for Construction</td>\n",
       "      <td>{'url': 'https://www.chipublib.org/locations/5...</td>\n",
       "      <td>{'latitude': '41.940084208613214', 'longitude'...</td>\n",
       "    </tr>\n",
       "    <tr>\n",
       "      <th>ID-2</th>\n",
       "      <td>Douglass</td>\n",
       "      <td>NaN</td>\n",
       "      <td>3353 W. 13th St.</td>\n",
       "      <td>Chicago</td>\n",
       "      <td>IL</td>\n",
       "      <td>60623</td>\n",
       "      <td>Closed for Construction</td>\n",
       "      <td>{'url': 'https://www.chipublib.org/locations/2...</td>\n",
       "      <td>{'latitude': '41.864500759742604', 'longitude'...</td>\n",
       "    </tr>\n",
       "    <tr>\n",
       "      <th>ID-3</th>\n",
       "      <td>Albany Park</td>\n",
       "      <td>Sun., Closed; Mon. &amp; Wed., 10-6; Tue. &amp; Thu., ...</td>\n",
       "      <td>3401 W. Foster Ave.</td>\n",
       "      <td>Chicago</td>\n",
       "      <td>IL</td>\n",
       "      <td>60625</td>\n",
       "      <td>(773) 539-5450</td>\n",
       "      <td>{'url': 'https://www.chipublib.org/locations/3/'}</td>\n",
       "      <td>{'latitude': '41.975456', 'longitude': '-87.71...</td>\n",
       "    </tr>\n",
       "  </tbody>\n",
       "</table>\n",
       "</div>"
      ],
      "text/plain": [
       "            name_                                 hours_of_operation  \\\n",
       "ID-1        Merlo                                                NaN   \n",
       "ID-2     Douglass                                                NaN   \n",
       "ID-3  Albany Park  Sun., Closed; Mon. & Wed., 10-6; Tue. & Thu., ...   \n",
       "\n",
       "                  address     city state    zip                    phone  \\\n",
       "ID-1  644 W. Belmont Ave.  Chicago    IL  60657  Closed for Construction   \n",
       "ID-2     3353 W. 13th St.  Chicago    IL  60623  Closed for Construction   \n",
       "ID-3  3401 W. Foster Ave.  Chicago    IL  60625           (773) 539-5450   \n",
       "\n",
       "                                                website  \\\n",
       "ID-1  {'url': 'https://www.chipublib.org/locations/5...   \n",
       "ID-2  {'url': 'https://www.chipublib.org/locations/2...   \n",
       "ID-3  {'url': 'https://www.chipublib.org/locations/3/'}   \n",
       "\n",
       "                                               location  \n",
       "ID-1  {'latitude': '41.940084208613214', 'longitude'...  \n",
       "ID-2  {'latitude': '41.864500759742604', 'longitude'...  \n",
       "ID-3  {'latitude': '41.975456', 'longitude': '-87.71...  "
      ]
     },
     "execution_count": 22,
     "metadata": {},
     "output_type": "execute_result"
    }
   ],
   "source": [
    "try:\n",
    "    df.loc[1:3]\n",
    "except TypeError as te:\n",
    "    print(te)\n",
    "    \n",
    "df.loc['ID-1':'ID-3']"
   ]
  },
  {
   "cell_type": "markdown",
   "metadata": {},
   "source": [
    "Now with a ```DataFrame```, you can slice both on the index and the columns, by label."
   ]
  },
  {
   "cell_type": "code",
   "execution_count": 23,
   "metadata": {},
   "outputs": [
    {
     "data": {
      "text/html": [
       "<div>\n",
       "<style scoped>\n",
       "    .dataframe tbody tr th:only-of-type {\n",
       "        vertical-align: middle;\n",
       "    }\n",
       "\n",
       "    .dataframe tbody tr th {\n",
       "        vertical-align: top;\n",
       "    }\n",
       "\n",
       "    .dataframe thead th {\n",
       "        text-align: right;\n",
       "    }\n",
       "</style>\n",
       "<table border=\"1\" class=\"dataframe\">\n",
       "  <thead>\n",
       "    <tr style=\"text-align: right;\">\n",
       "      <th></th>\n",
       "      <th>name_</th>\n",
       "      <th>hours_of_operation</th>\n",
       "      <th>address</th>\n",
       "    </tr>\n",
       "  </thead>\n",
       "  <tbody>\n",
       "    <tr>\n",
       "      <th>ID-10</th>\n",
       "      <td>South Shore</td>\n",
       "      <td>NaN</td>\n",
       "      <td>2505 E. 73rd St.</td>\n",
       "    </tr>\n",
       "    <tr>\n",
       "      <th>ID-12</th>\n",
       "      <td>Bezazian</td>\n",
       "      <td>Sun., Closed; Mon. &amp; Wed., Noon-8; Tue. &amp; Thu....</td>\n",
       "      <td>1226 W. Ainslie St.</td>\n",
       "    </tr>\n",
       "    <tr>\n",
       "      <th>ID-14</th>\n",
       "      <td>Brainerd</td>\n",
       "      <td>Sun., Closed; Mon. &amp; Wed., 10-6; Tue. &amp; Thu., ...</td>\n",
       "      <td>1350 W. 89th St.</td>\n",
       "    </tr>\n",
       "    <tr>\n",
       "      <th>ID-16</th>\n",
       "      <td>Bucktown-Wicker Park</td>\n",
       "      <td>Sun., Closed; Mon. &amp; Wed., Noon-8; Tue. &amp; Thu....</td>\n",
       "      <td>1701 N. Milwaukee Ave.</td>\n",
       "    </tr>\n",
       "    <tr>\n",
       "      <th>ID-18</th>\n",
       "      <td>Canaryville</td>\n",
       "      <td>Sun., Closed; Mon. &amp; Wed., Noon-8; Tue. &amp; Thu....</td>\n",
       "      <td>642 W. 43rd St.</td>\n",
       "    </tr>\n",
       "    <tr>\n",
       "      <th>ID-20</th>\n",
       "      <td>Chicago Lawn</td>\n",
       "      <td>Sun., Closed; Mon. &amp; Wed., 10-6; Tue. &amp; Thu., ...</td>\n",
       "      <td>6120 S. Kedzie Ave.</td>\n",
       "    </tr>\n",
       "  </tbody>\n",
       "</table>\n",
       "</div>"
      ],
      "text/plain": [
       "                      name_  \\\n",
       "ID-10           South Shore   \n",
       "ID-12              Bezazian   \n",
       "ID-14              Brainerd   \n",
       "ID-16  Bucktown-Wicker Park   \n",
       "ID-18           Canaryville   \n",
       "ID-20          Chicago Lawn   \n",
       "\n",
       "                                      hours_of_operation  \\\n",
       "ID-10                                                NaN   \n",
       "ID-12  Sun., Closed; Mon. & Wed., Noon-8; Tue. & Thu....   \n",
       "ID-14  Sun., Closed; Mon. & Wed., 10-6; Tue. & Thu., ...   \n",
       "ID-16  Sun., Closed; Mon. & Wed., Noon-8; Tue. & Thu....   \n",
       "ID-18  Sun., Closed; Mon. & Wed., Noon-8; Tue. & Thu....   \n",
       "ID-20  Sun., Closed; Mon. & Wed., 10-6; Tue. & Thu., ...   \n",
       "\n",
       "                      address  \n",
       "ID-10        2505 E. 73rd St.  \n",
       "ID-12     1226 W. Ainslie St.  \n",
       "ID-14        1350 W. 89th St.  \n",
       "ID-16  1701 N. Milwaukee Ave.  \n",
       "ID-18         642 W. 43rd St.  \n",
       "ID-20     6120 S. Kedzie Ave.  "
      ]
     },
     "execution_count": 23,
     "metadata": {},
     "output_type": "execute_result"
    }
   ],
   "source": [
    "df.loc['ID-10':'ID-20':2, \"name_\":\"address\"]"
   ]
  },
  {
   "cell_type": "markdown",
   "metadata": {},
   "source": [
    "I'll also point out a common idiom in pandas code to use a full slice (```:```) to select the entire object when not using slicing to limit selection."
   ]
  },
  {
   "cell_type": "code",
   "execution_count": 24,
   "metadata": {},
   "outputs": [
    {
     "data": {
      "text/plain": [
       "ID-0            Jefferson Park\n",
       "ID-1                     Merlo\n",
       "ID-2                  Douglass\n",
       "ID-3               Albany Park\n",
       "ID-4                   Altgeld\n",
       "                 ...          \n",
       "ID-76             West Pullman\n",
       "ID-77                West Town\n",
       "ID-78    Whitney M. Young, Jr.\n",
       "ID-79            Changed again\n",
       "ID-80            Changed again\n",
       "Name: name_, Length: 81, dtype: object"
      ]
     },
     "execution_count": 24,
     "metadata": {},
     "output_type": "execute_result"
    }
   ],
   "source": [
    "df['name_']           # this is one way to select a single column, for example\n",
    "df.loc[:,'name_']     # but this is how you select that column using .loc"
   ]
  },
  {
   "cell_type": "markdown",
   "metadata": {},
   "source": [
    "## Slicing with ```.iloc```\n",
    "Remember, ```.iloc``` is for strictly integer based indexing, so as you'd expect, it doesn't work with labels. But also note that ```.iloc``` works like standard Python slicing, i.e. the stop value is not included.\n",
    "\n",
    "### Series"
   ]
  },
  {
   "cell_type": "code",
   "execution_count": 25,
   "metadata": {},
   "outputs": [
    {
     "name": "stdout",
     "output_type": "stream",
     "text": [
      "cannot do positional indexing on Index with these indexers [ID-1] of type str\n"
     ]
    },
    {
     "data": {
      "text/plain": [
       "ID-1       Merlo\n",
       "ID-2    Douglass\n",
       "Name: name_, dtype: object"
      ]
     },
     "execution_count": 25,
     "metadata": {},
     "output_type": "execute_result"
    }
   ],
   "source": [
    "try:\n",
    "    s.iloc[\"ID-1\":\"ID-3\"]  # not this way with .iloc\n",
    "except TypeError as te:\n",
    "    print(te)\n",
    "s.iloc[1:3]                # this way"
   ]
  },
  {
   "cell_type": "markdown",
   "metadata": {},
   "source": [
    "### DataFrame\n",
    "Similarly, ```DataFrame``` selects from the index as the first argument, and the columns with the second argument."
   ]
  },
  {
   "cell_type": "code",
   "execution_count": 26,
   "metadata": {},
   "outputs": [
    {
     "data": {
      "text/html": [
       "<div>\n",
       "<style scoped>\n",
       "    .dataframe tbody tr th:only-of-type {\n",
       "        vertical-align: middle;\n",
       "    }\n",
       "\n",
       "    .dataframe tbody tr th {\n",
       "        vertical-align: top;\n",
       "    }\n",
       "\n",
       "    .dataframe thead th {\n",
       "        text-align: right;\n",
       "    }\n",
       "</style>\n",
       "<table border=\"1\" class=\"dataframe\">\n",
       "  <thead>\n",
       "    <tr style=\"text-align: right;\">\n",
       "      <th></th>\n",
       "      <th>name_</th>\n",
       "      <th>hours_of_operation</th>\n",
       "      <th>address</th>\n",
       "      <th>city</th>\n",
       "      <th>state</th>\n",
       "      <th>zip</th>\n",
       "      <th>phone</th>\n",
       "      <th>website</th>\n",
       "      <th>location</th>\n",
       "    </tr>\n",
       "  </thead>\n",
       "  <tbody>\n",
       "    <tr>\n",
       "      <th>ID-1</th>\n",
       "      <td>Merlo</td>\n",
       "      <td>NaN</td>\n",
       "      <td>644 W. Belmont Ave.</td>\n",
       "      <td>Chicago</td>\n",
       "      <td>IL</td>\n",
       "      <td>60657</td>\n",
       "      <td>Closed for Construction</td>\n",
       "      <td>{'url': 'https://www.chipublib.org/locations/5...</td>\n",
       "      <td>{'latitude': '41.940084208613214', 'longitude'...</td>\n",
       "    </tr>\n",
       "    <tr>\n",
       "      <th>ID-2</th>\n",
       "      <td>Douglass</td>\n",
       "      <td>NaN</td>\n",
       "      <td>3353 W. 13th St.</td>\n",
       "      <td>Chicago</td>\n",
       "      <td>IL</td>\n",
       "      <td>60623</td>\n",
       "      <td>Closed for Construction</td>\n",
       "      <td>{'url': 'https://www.chipublib.org/locations/2...</td>\n",
       "      <td>{'latitude': '41.864500759742604', 'longitude'...</td>\n",
       "    </tr>\n",
       "  </tbody>\n",
       "</table>\n",
       "</div>"
      ],
      "text/plain": [
       "         name_ hours_of_operation              address     city state    zip  \\\n",
       "ID-1     Merlo                NaN  644 W. Belmont Ave.  Chicago    IL  60657   \n",
       "ID-2  Douglass                NaN     3353 W. 13th St.  Chicago    IL  60623   \n",
       "\n",
       "                        phone  \\\n",
       "ID-1  Closed for Construction   \n",
       "ID-2  Closed for Construction   \n",
       "\n",
       "                                                website  \\\n",
       "ID-1  {'url': 'https://www.chipublib.org/locations/5...   \n",
       "ID-2  {'url': 'https://www.chipublib.org/locations/2...   \n",
       "\n",
       "                                               location  \n",
       "ID-1  {'latitude': '41.940084208613214', 'longitude'...  \n",
       "ID-2  {'latitude': '41.864500759742604', 'longitude'...  "
      ]
     },
     "execution_count": 26,
     "metadata": {},
     "output_type": "execute_result"
    }
   ],
   "source": [
    "df.iloc[1:3]"
   ]
  },
  {
   "cell_type": "code",
   "execution_count": 27,
   "metadata": {},
   "outputs": [
    {
     "data": {
      "text/html": [
       "<div>\n",
       "<style scoped>\n",
       "    .dataframe tbody tr th:only-of-type {\n",
       "        vertical-align: middle;\n",
       "    }\n",
       "\n",
       "    .dataframe tbody tr th {\n",
       "        vertical-align: top;\n",
       "    }\n",
       "\n",
       "    .dataframe thead th {\n",
       "        text-align: right;\n",
       "    }\n",
       "</style>\n",
       "<table border=\"1\" class=\"dataframe\">\n",
       "  <thead>\n",
       "    <tr style=\"text-align: right;\">\n",
       "      <th></th>\n",
       "      <th>name_</th>\n",
       "      <th>hours_of_operation</th>\n",
       "    </tr>\n",
       "  </thead>\n",
       "  <tbody>\n",
       "    <tr>\n",
       "      <th>ID-1</th>\n",
       "      <td>Merlo</td>\n",
       "      <td>NaN</td>\n",
       "    </tr>\n",
       "    <tr>\n",
       "      <th>ID-2</th>\n",
       "      <td>Douglass</td>\n",
       "      <td>NaN</td>\n",
       "    </tr>\n",
       "  </tbody>\n",
       "</table>\n",
       "</div>"
      ],
      "text/plain": [
       "         name_ hours_of_operation\n",
       "ID-1     Merlo                NaN\n",
       "ID-2  Douglass                NaN"
      ]
     },
     "execution_count": 27,
     "metadata": {},
     "output_type": "execute_result"
    }
   ],
   "source": [
    "df.iloc[1:3, 0:2]"
   ]
  },
  {
   "cell_type": "code",
   "execution_count": 28,
   "metadata": {},
   "outputs": [
    {
     "data": {
      "text/html": [
       "<div>\n",
       "<style scoped>\n",
       "    .dataframe tbody tr th:only-of-type {\n",
       "        vertical-align: middle;\n",
       "    }\n",
       "\n",
       "    .dataframe tbody tr th {\n",
       "        vertical-align: top;\n",
       "    }\n",
       "\n",
       "    .dataframe thead th {\n",
       "        text-align: right;\n",
       "    }\n",
       "</style>\n",
       "<table border=\"1\" class=\"dataframe\">\n",
       "  <thead>\n",
       "    <tr style=\"text-align: right;\">\n",
       "      <th></th>\n",
       "      <th>address</th>\n",
       "      <th>city</th>\n",
       "      <th>state</th>\n",
       "    </tr>\n",
       "  </thead>\n",
       "  <tbody>\n",
       "    <tr>\n",
       "      <th>ID-1</th>\n",
       "      <td>644 W. Belmont Ave.</td>\n",
       "      <td>Chicago</td>\n",
       "      <td>IL</td>\n",
       "    </tr>\n",
       "    <tr>\n",
       "      <th>ID-4</th>\n",
       "      <td>13281 S. Corliss Ave.</td>\n",
       "      <td>Chicago</td>\n",
       "      <td>IL</td>\n",
       "    </tr>\n",
       "    <tr>\n",
       "      <th>ID-7</th>\n",
       "      <td>6100 W. Irving Park Rd.</td>\n",
       "      <td>Chicago</td>\n",
       "      <td>IL</td>\n",
       "    </tr>\n",
       "  </tbody>\n",
       "</table>\n",
       "</div>"
      ],
      "text/plain": [
       "                      address     city state\n",
       "ID-1      644 W. Belmont Ave.  Chicago    IL\n",
       "ID-4    13281 S. Corliss Ave.  Chicago    IL\n",
       "ID-7  6100 W. Irving Park Rd.  Chicago    IL"
      ]
     },
     "execution_count": 28,
     "metadata": {},
     "output_type": "execute_result"
    }
   ],
   "source": [
    "df.iloc[1:10:3, 2:-4]"
   ]
  },
  {
   "cell_type": "markdown",
   "metadata": {},
   "source": [
    "## Some special cases\n",
    "There's always some special cases to consider, so I'll go through those last. \n",
    "\n",
    "### Changing behavior for integer based indexes\n",
    "You'll remember that I changed the index on our first test ```DataFrame``` to be a string based index instead of the standard ```RangeIndex``` of sequential integer values. This following example shows why, but you should now understand why it works this way.\n"
   ]
  },
  {
   "cell_type": "code",
   "execution_count": 29,
   "metadata": {},
   "outputs": [
    {
     "data": {
      "text/html": [
       "<div>\n",
       "<style scoped>\n",
       "    .dataframe tbody tr th:only-of-type {\n",
       "        vertical-align: middle;\n",
       "    }\n",
       "\n",
       "    .dataframe tbody tr th {\n",
       "        vertical-align: top;\n",
       "    }\n",
       "\n",
       "    .dataframe thead th {\n",
       "        text-align: right;\n",
       "    }\n",
       "</style>\n",
       "<table border=\"1\" class=\"dataframe\">\n",
       "  <thead>\n",
       "    <tr style=\"text-align: right;\">\n",
       "      <th></th>\n",
       "      <th>a</th>\n",
       "      <th>b</th>\n",
       "      <th>c</th>\n",
       "    </tr>\n",
       "  </thead>\n",
       "  <tbody>\n",
       "    <tr>\n",
       "      <th>0</th>\n",
       "      <td>0</td>\n",
       "      <td>4</td>\n",
       "      <td>8</td>\n",
       "    </tr>\n",
       "    <tr>\n",
       "      <th>1</th>\n",
       "      <td>1</td>\n",
       "      <td>5</td>\n",
       "      <td>9</td>\n",
       "    </tr>\n",
       "    <tr>\n",
       "      <th>2</th>\n",
       "      <td>2</td>\n",
       "      <td>6</td>\n",
       "      <td>10</td>\n",
       "    </tr>\n",
       "    <tr>\n",
       "      <th>3</th>\n",
       "      <td>3</td>\n",
       "      <td>7</td>\n",
       "      <td>11</td>\n",
       "    </tr>\n",
       "  </tbody>\n",
       "</table>\n",
       "</div>"
      ],
      "text/plain": [
       "   a  b   c\n",
       "0  0  4   8\n",
       "1  1  5   9\n",
       "2  2  6  10\n",
       "3  3  7  11"
      ]
     },
     "execution_count": 29,
     "metadata": {},
     "output_type": "execute_result"
    }
   ],
   "source": [
    "df2 = pd.DataFrame({\"a\": [0, 1, 2, 3], \"b\": [4, 5, 6, 7], \"c\": [8, 9, 10, 11]})\n",
    "df2"
   ]
  },
  {
   "cell_type": "code",
   "execution_count": 30,
   "metadata": {},
   "outputs": [
    {
     "data": {
      "text/html": [
       "<div>\n",
       "<style scoped>\n",
       "    .dataframe tbody tr th:only-of-type {\n",
       "        vertical-align: middle;\n",
       "    }\n",
       "\n",
       "    .dataframe tbody tr th {\n",
       "        vertical-align: top;\n",
       "    }\n",
       "\n",
       "    .dataframe thead th {\n",
       "        text-align: right;\n",
       "    }\n",
       "</style>\n",
       "<table border=\"1\" class=\"dataframe\">\n",
       "  <thead>\n",
       "    <tr style=\"text-align: right;\">\n",
       "      <th></th>\n",
       "      <th>a</th>\n",
       "      <th>b</th>\n",
       "      <th>c</th>\n",
       "    </tr>\n",
       "  </thead>\n",
       "  <tbody>\n",
       "    <tr>\n",
       "      <th>0</th>\n",
       "      <td>0</td>\n",
       "      <td>4</td>\n",
       "      <td>8</td>\n",
       "    </tr>\n",
       "    <tr>\n",
       "      <th>1</th>\n",
       "      <td>1</td>\n",
       "      <td>5</td>\n",
       "      <td>9</td>\n",
       "    </tr>\n",
       "    <tr>\n",
       "      <th>2</th>\n",
       "      <td>2</td>\n",
       "      <td>6</td>\n",
       "      <td>10</td>\n",
       "    </tr>\n",
       "  </tbody>\n",
       "</table>\n",
       "</div>"
      ],
      "text/plain": [
       "   a  b   c\n",
       "0  0  4   8\n",
       "1  1  5   9\n",
       "2  2  6  10"
      ]
     },
     "execution_count": 30,
     "metadata": {},
     "output_type": "execute_result"
    }
   ],
   "source": [
    "df2.loc[0:2]  # Remember, .loc is label based"
   ]
  },
  {
   "cell_type": "code",
   "execution_count": 31,
   "metadata": {},
   "outputs": [
    {
     "data": {
      "text/html": [
       "<div>\n",
       "<style scoped>\n",
       "    .dataframe tbody tr th:only-of-type {\n",
       "        vertical-align: middle;\n",
       "    }\n",
       "\n",
       "    .dataframe tbody tr th {\n",
       "        vertical-align: top;\n",
       "    }\n",
       "\n",
       "    .dataframe thead th {\n",
       "        text-align: right;\n",
       "    }\n",
       "</style>\n",
       "<table border=\"1\" class=\"dataframe\">\n",
       "  <thead>\n",
       "    <tr style=\"text-align: right;\">\n",
       "      <th></th>\n",
       "      <th>a</th>\n",
       "      <th>b</th>\n",
       "      <th>c</th>\n",
       "    </tr>\n",
       "  </thead>\n",
       "  <tbody>\n",
       "    <tr>\n",
       "      <th>0</th>\n",
       "      <td>0</td>\n",
       "      <td>4</td>\n",
       "      <td>8</td>\n",
       "    </tr>\n",
       "    <tr>\n",
       "      <th>1</th>\n",
       "      <td>1</td>\n",
       "      <td>5</td>\n",
       "      <td>9</td>\n",
       "    </tr>\n",
       "  </tbody>\n",
       "</table>\n",
       "</div>"
      ],
      "text/plain": [
       "   a  b  c\n",
       "0  0  4  8\n",
       "1  1  5  9"
      ]
     },
     "execution_count": 31,
     "metadata": {},
     "output_type": "execute_result"
    }
   ],
   "source": [
    "df2.iloc[0:2]  # And .iloc is position based"
   ]
  },
  {
   "cell_type": "code",
   "execution_count": 32,
   "metadata": {},
   "outputs": [
    {
     "data": {
      "text/html": [
       "<div>\n",
       "<style scoped>\n",
       "    .dataframe tbody tr th:only-of-type {\n",
       "        vertical-align: middle;\n",
       "    }\n",
       "\n",
       "    .dataframe tbody tr th {\n",
       "        vertical-align: top;\n",
       "    }\n",
       "\n",
       "    .dataframe thead th {\n",
       "        text-align: right;\n",
       "    }\n",
       "</style>\n",
       "<table border=\"1\" class=\"dataframe\">\n",
       "  <thead>\n",
       "    <tr style=\"text-align: right;\">\n",
       "      <th></th>\n",
       "      <th>a</th>\n",
       "      <th>b</th>\n",
       "      <th>c</th>\n",
       "    </tr>\n",
       "  </thead>\n",
       "  <tbody>\n",
       "    <tr>\n",
       "      <th>0</th>\n",
       "      <td>0</td>\n",
       "      <td>4</td>\n",
       "      <td>8</td>\n",
       "    </tr>\n",
       "    <tr>\n",
       "      <th>1</th>\n",
       "      <td>1</td>\n",
       "      <td>5</td>\n",
       "      <td>9</td>\n",
       "    </tr>\n",
       "  </tbody>\n",
       "</table>\n",
       "</div>"
      ],
      "text/plain": [
       "   a  b  c\n",
       "0  0  4  8\n",
       "1  1  5  9"
      ]
     },
     "execution_count": 32,
     "metadata": {},
     "output_type": "execute_result"
    }
   ],
   "source": [
    "df2[0:2]   # So here [] behaves like position based, even though we may be trying to use our index"
   ]
  },
  {
   "cell_type": "code",
   "execution_count": 33,
   "metadata": {},
   "outputs": [
    {
     "data": {
      "text/html": [
       "<div>\n",
       "<style scoped>\n",
       "    .dataframe tbody tr th:only-of-type {\n",
       "        vertical-align: middle;\n",
       "    }\n",
       "\n",
       "    .dataframe tbody tr th {\n",
       "        vertical-align: top;\n",
       "    }\n",
       "\n",
       "    .dataframe thead th {\n",
       "        text-align: right;\n",
       "    }\n",
       "</style>\n",
       "<table border=\"1\" class=\"dataframe\">\n",
       "  <thead>\n",
       "    <tr style=\"text-align: right;\">\n",
       "      <th></th>\n",
       "      <th>a</th>\n",
       "      <th>b</th>\n",
       "      <th>c</th>\n",
       "    </tr>\n",
       "  </thead>\n",
       "  <tbody>\n",
       "    <tr>\n",
       "      <th>w</th>\n",
       "      <td>0</td>\n",
       "      <td>4</td>\n",
       "      <td>8</td>\n",
       "    </tr>\n",
       "    <tr>\n",
       "      <th>x</th>\n",
       "      <td>1</td>\n",
       "      <td>5</td>\n",
       "      <td>9</td>\n",
       "    </tr>\n",
       "    <tr>\n",
       "      <th>y</th>\n",
       "      <td>2</td>\n",
       "      <td>6</td>\n",
       "      <td>10</td>\n",
       "    </tr>\n",
       "  </tbody>\n",
       "</table>\n",
       "</div>"
      ],
      "text/plain": [
       "   a  b   c\n",
       "w  0  4   8\n",
       "x  1  5   9\n",
       "y  2  6  10"
      ]
     },
     "execution_count": 33,
     "metadata": {},
     "output_type": "execute_result"
    }
   ],
   "source": [
    "df2.index = [\"w\", \"x\", \"y\", \"z\"]\n",
    "df2[\"w\":\"y\"]  # now, [] behaves like it's label based. "
   ]
  },
  {
   "cell_type": "markdown",
   "metadata": {},
   "source": [
    "Hopefully this example reinforces for you why you'll want to use ```.loc``` and ```.iloc``` in production code, especially when you're taking values to select rows or columns from unknown sources!\n",
    "\n",
    "### Label slicing and sorted indexes\n",
    "We saw that using ```.loc``` will include both the start and stop values of a slice, which is not the way standard Python works. Well, you can end up with indexes that are not sorted and will behave slightly differently than expected. Essentially, what you need to notice is that with a sorted index, all values in between the start and stop will be included (including the value for the stop label)"
   ]
  },
  {
   "cell_type": "code",
   "execution_count": 54,
   "metadata": {},
   "outputs": [
    {
     "data": {
      "text/plain": [
       "0    1\n",
       "1    2\n",
       "2    3\n",
       "3    4\n",
       "dtype: int64"
      ]
     },
     "execution_count": 54,
     "metadata": {},
     "output_type": "execute_result"
    }
   ],
   "source": [
    "s2 = pd.Series([1, 2, 3, 4, 5], index=[5, 2, 1, 9, 7])\n",
    "s3 = pd.Series([1, 2, 3, 4, 5], index=[0, 1, 2, 3, 4])\n",
    "\n",
    "s3.loc[0:3] # works just as you'd expect for .loc (not standard python slicing, includes end label)"
   ]
  },
  {
   "cell_type": "code",
   "execution_count": 36,
   "metadata": {},
   "outputs": [
    {
     "data": {
      "text/plain": [
       "0    1\n",
       "1    2\n",
       "2    3\n",
       "3    4\n",
       "4    5\n",
       "dtype: int64"
      ]
     },
     "execution_count": 36,
     "metadata": {},
     "output_type": "execute_result"
    }
   ],
   "source": [
    "s3.loc[0:9]  # no exception raised, even though 9 is not in the index, and includes all values between them"
   ]
  },
  {
   "cell_type": "code",
   "execution_count": 37,
   "metadata": {},
   "outputs": [
    {
     "name": "stdout",
     "output_type": "stream",
     "text": [
      "0\n"
     ]
    }
   ],
   "source": [
    "try:\n",
    "    s2.loc[0:9]   # hmmm, this won't work\n",
    "except KeyError as ke:\n",
    "    print(ke)"
   ]
  },
  {
   "cell_type": "code",
   "execution_count": 38,
   "metadata": {},
   "outputs": [
    {
     "data": {
      "text/plain": [
       "1    3\n",
       "2    2\n",
       "5    1\n",
       "7    5\n",
       "9    4\n",
       "dtype: int64"
      ]
     },
     "execution_count": 38,
     "metadata": {},
     "output_type": "execute_result"
    }
   ],
   "source": [
    "s2.sort_index().loc[0:9] # this works though."
   ]
  },
  {
   "cell_type": "markdown",
   "metadata": {},
   "source": [
    "The reason for this functionality is that it is too expensive to do the sorting first, and it may not return the values you'd expect anyway since sorting may not make sense for your index. Just be aware of this behavior when you are dealing with non-sorted indexes. You'll realize that it's important to understand the indexes on your data and ensure they are accurately reflecting your data and what you're trying to accomplish with indexing and slicing it."
   ]
  },
  {
   "cell_type": "markdown",
   "metadata": {},
   "source": [
    "### The Ellipsis and NumPy slicing\n",
    "This is a little known part of Python, but in working through these examples I did come across the ```Ellipsis``` keyword in looking at the slicing documentation. ```Ellipsis``` is just a singleton (like ```None```) and is intended to be used in extended slicing syntax by user-defined container data types. It is represented by the ellipsis literal, ```...```.\n",
    "\n",
    "It doesn't appear to be supported much by pandas beyond ```Series```, but it is more useful in NumPy. The way to think of it is as a special value that will insert as many full slices as needed to extend the slice at the point of insertion in an index in all directions. This makes more sense with an example."
   ]
  },
  {
   "cell_type": "code",
   "execution_count": 51,
   "metadata": {},
   "outputs": [
    {
     "data": {
      "text/plain": [
       "Ellipsis"
      ]
     },
     "execution_count": 51,
     "metadata": {},
     "output_type": "execute_result"
    }
   ],
   "source": [
    "...   # the singleton"
   ]
  },
  {
   "cell_type": "code",
   "execution_count": 52,
   "metadata": {},
   "outputs": [
    {
     "name": "stdout",
     "output_type": "stream",
     "text": [
      "Full array:\n",
      " [[[ 0  1  2]\n",
      "  [ 3  4  5]\n",
      "  [ 6  7  8]]\n",
      "\n",
      " [[ 9 10 11]\n",
      "  [12 13 14]\n",
      "  [15 16 17]]\n",
      "\n",
      " [[18 19 20]\n",
      "  [21 22 23]\n",
      "  [24 25 26]]]\n",
      "First element in last dimension:\n",
      " [[ 0  3  6]\n",
      " [ 9 12 15]\n",
      " [18 21 24]]\n",
      "With ellipsis:\n",
      " [[ 0  3  6]\n",
      " [ 9 12 15]\n",
      " [18 21 24]]\n",
      "Last element in last dimension:\n",
      " [[ 2  5  8]\n",
      " [11 14 17]\n",
      " [20 23 26]]\n"
     ]
    }
   ],
   "source": [
    "m = np.arange(27).reshape((3,3,3))  # 3 x 3 x 3 multi-dimensional array\n",
    "print(\"Full array:\\n\", m)\n",
    "print(\"First element in last dimension:\\n\", m[:,:,0])\n",
    "print(\"With ellipsis:\\n\", m[...,0])\n",
    "print(\"Last element in last dimension:\\n\", m[...,-1])"
   ]
  },
  {
   "cell_type": "markdown",
   "metadata": {},
   "source": [
    "This could come in handy if you end up dealing with highly dimensioned arrays and want to save some typing. Or if you just want to try to stump someone with some obscure Python knowledge.\n",
    "\n",
    "### Wrapping it up\n",
    "OK, that should be enough for now. Hopefully you've learned something about slicing, I know I have in doing this writeup. \n",
    "\n",
    "Next I'll move on to boolean indexing, a very powerful way to select any bit of data in your ```Series``` or ```DataFrame``` using any logic you can think of."
   ]
  }
 ],
 "metadata": {
  "kernelspec": {
   "display_name": "Python 3",
   "language": "python",
   "name": "python3"
  },
  "language_info": {
   "codemirror_mode": {
    "name": "ipython",
    "version": 3
   },
   "file_extension": ".py",
   "mimetype": "text/x-python",
   "name": "python",
   "nbconvert_exporter": "python",
   "pygments_lexer": "ipython3",
   "version": "3.8.6"
  }
 },
 "nbformat": 4,
 "nbformat_minor": 4
}

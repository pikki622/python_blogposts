{
 "cells": [
  {
   "cell_type": "markdown",
   "metadata": {},
   "source": [
    "Sometimes we want to manipulate a DataFrame's columns by changing the column ordering. There are a few ways to do this, depending on what state your DataFrame is in."
   ]
  },
  {
   "cell_type": "code",
   "execution_count": 13,
   "metadata": {},
   "outputs": [
    {
     "data": {
      "text/html": [
       "<div>\n",
       "<style scoped>\n",
       "    .dataframe tbody tr th:only-of-type {\n",
       "        vertical-align: middle;\n",
       "    }\n",
       "\n",
       "    .dataframe tbody tr th {\n",
       "        vertical-align: top;\n",
       "    }\n",
       "\n",
       "    .dataframe thead th {\n",
       "        text-align: right;\n",
       "    }\n",
       "</style>\n",
       "<table border=\"1\" class=\"dataframe\">\n",
       "  <thead>\n",
       "    <tr style=\"text-align: right;\">\n",
       "      <th></th>\n",
       "      <th>a</th>\n",
       "      <th>b</th>\n",
       "      <th>c</th>\n",
       "      <th>d</th>\n",
       "      <th>e</th>\n",
       "      <th>max</th>\n",
       "    </tr>\n",
       "  </thead>\n",
       "  <tbody>\n",
       "    <tr>\n",
       "      <th>0</th>\n",
       "      <td>0.516304</td>\n",
       "      <td>0.705653</td>\n",
       "      <td>0.605606</td>\n",
       "      <td>0.997448</td>\n",
       "      <td>0.006643</td>\n",
       "      <td>0.997448</td>\n",
       "    </tr>\n",
       "    <tr>\n",
       "      <th>1</th>\n",
       "      <td>0.538629</td>\n",
       "      <td>0.874436</td>\n",
       "      <td>0.907932</td>\n",
       "      <td>0.002425</td>\n",
       "      <td>0.827617</td>\n",
       "      <td>0.907932</td>\n",
       "    </tr>\n",
       "    <tr>\n",
       "      <th>2</th>\n",
       "      <td>0.089607</td>\n",
       "      <td>0.619142</td>\n",
       "      <td>0.349426</td>\n",
       "      <td>0.476884</td>\n",
       "      <td>0.850378</td>\n",
       "      <td>0.850378</td>\n",
       "    </tr>\n",
       "    <tr>\n",
       "      <th>3</th>\n",
       "      <td>0.955909</td>\n",
       "      <td>0.847274</td>\n",
       "      <td>0.517604</td>\n",
       "      <td>0.875703</td>\n",
       "      <td>0.149167</td>\n",
       "      <td>0.955909</td>\n",
       "    </tr>\n",
       "    <tr>\n",
       "      <th>4</th>\n",
       "      <td>0.218893</td>\n",
       "      <td>0.970456</td>\n",
       "      <td>0.585351</td>\n",
       "      <td>0.477969</td>\n",
       "      <td>0.068663</td>\n",
       "      <td>0.970456</td>\n",
       "    </tr>\n",
       "  </tbody>\n",
       "</table>\n",
       "</div>"
      ],
      "text/plain": [
       "          a         b         c         d         e       max\n",
       "0  0.516304  0.705653  0.605606  0.997448  0.006643  0.997448\n",
       "1  0.538629  0.874436  0.907932  0.002425  0.827617  0.907932\n",
       "2  0.089607  0.619142  0.349426  0.476884  0.850378  0.850378\n",
       "3  0.955909  0.847274  0.517604  0.875703  0.149167  0.955909\n",
       "4  0.218893  0.970456  0.585351  0.477969  0.068663  0.970456"
      ]
     },
     "execution_count": 13,
     "metadata": {},
     "output_type": "execute_result"
    }
   ],
   "source": [
    "import pandas as pd\n",
    "import numpy as np\n",
    "\n",
    "df = pd.DataFrame(np.random.rand(5,5), columns=['a', 'b', 'c', 'd', 'e'])\n",
    "df['max'] = df.max(axis=1)\n",
    "\n",
    "df"
   ]
  },
  {
   "cell_type": "markdown",
   "metadata": {},
   "source": [
    "First, let's just review the basics. Without moving or dropping columns, we can view any column we want in any order by just selecting them."
   ]
  },
  {
   "cell_type": "code",
   "execution_count": 4,
   "metadata": {},
   "outputs": [
    {
     "data": {
      "text/plain": [
       "0    0.722492\n",
       "1    0.763392\n",
       "2    0.988133\n",
       "3    0.814483\n",
       "4    0.971838\n",
       "Name: max, dtype: float64"
      ]
     },
     "execution_count": 4,
     "metadata": {},
     "output_type": "execute_result"
    }
   ],
   "source": [
    "df['max']"
   ]
  },
  {
   "cell_type": "markdown",
   "metadata": {},
   "source": [
    "Or any set of columns, including viewing the column more than once, and in any order"
   ]
  },
  {
   "cell_type": "code",
   "execution_count": 5,
   "metadata": {},
   "outputs": [
    {
     "data": {
      "text/html": [
       "<div>\n",
       "<style scoped>\n",
       "    .dataframe tbody tr th:only-of-type {\n",
       "        vertical-align: middle;\n",
       "    }\n",
       "\n",
       "    .dataframe tbody tr th {\n",
       "        vertical-align: top;\n",
       "    }\n",
       "\n",
       "    .dataframe thead th {\n",
       "        text-align: right;\n",
       "    }\n",
       "</style>\n",
       "<table border=\"1\" class=\"dataframe\">\n",
       "  <thead>\n",
       "    <tr style=\"text-align: right;\">\n",
       "      <th></th>\n",
       "      <th>d</th>\n",
       "      <th>a</th>\n",
       "      <th>max</th>\n",
       "      <th>b</th>\n",
       "      <th>d</th>\n",
       "    </tr>\n",
       "  </thead>\n",
       "  <tbody>\n",
       "    <tr>\n",
       "      <th>0</th>\n",
       "      <td>0.284301</td>\n",
       "      <td>0.401462</td>\n",
       "      <td>0.722492</td>\n",
       "      <td>0.338639</td>\n",
       "      <td>0.284301</td>\n",
       "    </tr>\n",
       "    <tr>\n",
       "      <th>1</th>\n",
       "      <td>0.449932</td>\n",
       "      <td>0.444856</td>\n",
       "      <td>0.763392</td>\n",
       "      <td>0.763392</td>\n",
       "      <td>0.449932</td>\n",
       "    </tr>\n",
       "    <tr>\n",
       "      <th>2</th>\n",
       "      <td>0.988133</td>\n",
       "      <td>0.616086</td>\n",
       "      <td>0.988133</td>\n",
       "      <td>0.117530</td>\n",
       "      <td>0.988133</td>\n",
       "    </tr>\n",
       "    <tr>\n",
       "      <th>3</th>\n",
       "      <td>0.184922</td>\n",
       "      <td>0.778871</td>\n",
       "      <td>0.814483</td>\n",
       "      <td>0.404207</td>\n",
       "      <td>0.184922</td>\n",
       "    </tr>\n",
       "    <tr>\n",
       "      <th>4</th>\n",
       "      <td>0.391487</td>\n",
       "      <td>0.971838</td>\n",
       "      <td>0.971838</td>\n",
       "      <td>0.147024</td>\n",
       "      <td>0.391487</td>\n",
       "    </tr>\n",
       "  </tbody>\n",
       "</table>\n",
       "</div>"
      ],
      "text/plain": [
       "          d         a       max         b         d\n",
       "0  0.284301  0.401462  0.722492  0.338639  0.284301\n",
       "1  0.449932  0.444856  0.763392  0.763392  0.449932\n",
       "2  0.988133  0.616086  0.988133  0.117530  0.988133\n",
       "3  0.184922  0.778871  0.814483  0.404207  0.184922\n",
       "4  0.391487  0.971838  0.971838  0.147024  0.391487"
      ]
     },
     "execution_count": 5,
     "metadata": {},
     "output_type": "execute_result"
    }
   ],
   "source": [
    "df[['d', 'a', 'max', 'b', 'd']]"
   ]
  },
  {
   "cell_type": "markdown",
   "metadata": {},
   "source": [
    "So assigning back to our variable will make this reordering permanent."
   ]
  },
  {
   "cell_type": "code",
   "execution_count": 6,
   "metadata": {},
   "outputs": [],
   "source": [
    "df = df[['d', 'a', 'b', 'max', 'e']]"
   ]
  },
  {
   "cell_type": "code",
   "execution_count": 7,
   "metadata": {},
   "outputs": [
    {
     "data": {
      "text/html": [
       "<div>\n",
       "<style scoped>\n",
       "    .dataframe tbody tr th:only-of-type {\n",
       "        vertical-align: middle;\n",
       "    }\n",
       "\n",
       "    .dataframe tbody tr th {\n",
       "        vertical-align: top;\n",
       "    }\n",
       "\n",
       "    .dataframe thead th {\n",
       "        text-align: right;\n",
       "    }\n",
       "</style>\n",
       "<table border=\"1\" class=\"dataframe\">\n",
       "  <thead>\n",
       "    <tr style=\"text-align: right;\">\n",
       "      <th></th>\n",
       "      <th>d</th>\n",
       "      <th>a</th>\n",
       "      <th>b</th>\n",
       "      <th>max</th>\n",
       "      <th>e</th>\n",
       "    </tr>\n",
       "  </thead>\n",
       "  <tbody>\n",
       "    <tr>\n",
       "      <th>0</th>\n",
       "      <td>0.284301</td>\n",
       "      <td>0.401462</td>\n",
       "      <td>0.338639</td>\n",
       "      <td>0.722492</td>\n",
       "      <td>0.523084</td>\n",
       "    </tr>\n",
       "    <tr>\n",
       "      <th>1</th>\n",
       "      <td>0.449932</td>\n",
       "      <td>0.444856</td>\n",
       "      <td>0.763392</td>\n",
       "      <td>0.763392</td>\n",
       "      <td>0.191324</td>\n",
       "    </tr>\n",
       "    <tr>\n",
       "      <th>2</th>\n",
       "      <td>0.988133</td>\n",
       "      <td>0.616086</td>\n",
       "      <td>0.117530</td>\n",
       "      <td>0.988133</td>\n",
       "      <td>0.315078</td>\n",
       "    </tr>\n",
       "    <tr>\n",
       "      <th>3</th>\n",
       "      <td>0.184922</td>\n",
       "      <td>0.778871</td>\n",
       "      <td>0.404207</td>\n",
       "      <td>0.814483</td>\n",
       "      <td>0.259886</td>\n",
       "    </tr>\n",
       "    <tr>\n",
       "      <th>4</th>\n",
       "      <td>0.391487</td>\n",
       "      <td>0.971838</td>\n",
       "      <td>0.147024</td>\n",
       "      <td>0.971838</td>\n",
       "      <td>0.443666</td>\n",
       "    </tr>\n",
       "  </tbody>\n",
       "</table>\n",
       "</div>"
      ],
      "text/plain": [
       "          d         a         b       max         e\n",
       "0  0.284301  0.401462  0.338639  0.722492  0.523084\n",
       "1  0.449932  0.444856  0.763392  0.763392  0.191324\n",
       "2  0.988133  0.616086  0.117530  0.988133  0.315078\n",
       "3  0.184922  0.778871  0.404207  0.814483  0.259886\n",
       "4  0.391487  0.971838  0.147024  0.971838  0.443666"
      ]
     },
     "execution_count": 7,
     "metadata": {},
     "output_type": "execute_result"
    }
   ],
   "source": [
    "df"
   ]
  },
  {
   "cell_type": "markdown",
   "metadata": {},
   "source": [
    "Since the columns are just an Index, they can be converted to a list and manipulated, then you can also use the reindex method to change the columns ordering."
   ]
  },
  {
   "cell_type": "code",
   "execution_count": 8,
   "metadata": {},
   "outputs": [
    {
     "data": {
      "text/html": [
       "<div>\n",
       "<style scoped>\n",
       "    .dataframe tbody tr th:only-of-type {\n",
       "        vertical-align: middle;\n",
       "    }\n",
       "\n",
       "    .dataframe tbody tr th {\n",
       "        vertical-align: top;\n",
       "    }\n",
       "\n",
       "    .dataframe thead th {\n",
       "        text-align: right;\n",
       "    }\n",
       "</style>\n",
       "<table border=\"1\" class=\"dataframe\">\n",
       "  <thead>\n",
       "    <tr style=\"text-align: right;\">\n",
       "      <th></th>\n",
       "      <th>a</th>\n",
       "      <th>b</th>\n",
       "      <th>d</th>\n",
       "      <th>e</th>\n",
       "      <th>max</th>\n",
       "    </tr>\n",
       "  </thead>\n",
       "  <tbody>\n",
       "    <tr>\n",
       "      <th>0</th>\n",
       "      <td>0.401462</td>\n",
       "      <td>0.338639</td>\n",
       "      <td>0.284301</td>\n",
       "      <td>0.523084</td>\n",
       "      <td>0.722492</td>\n",
       "    </tr>\n",
       "    <tr>\n",
       "      <th>1</th>\n",
       "      <td>0.444856</td>\n",
       "      <td>0.763392</td>\n",
       "      <td>0.449932</td>\n",
       "      <td>0.191324</td>\n",
       "      <td>0.763392</td>\n",
       "    </tr>\n",
       "    <tr>\n",
       "      <th>2</th>\n",
       "      <td>0.616086</td>\n",
       "      <td>0.117530</td>\n",
       "      <td>0.988133</td>\n",
       "      <td>0.315078</td>\n",
       "      <td>0.988133</td>\n",
       "    </tr>\n",
       "    <tr>\n",
       "      <th>3</th>\n",
       "      <td>0.778871</td>\n",
       "      <td>0.404207</td>\n",
       "      <td>0.184922</td>\n",
       "      <td>0.259886</td>\n",
       "      <td>0.814483</td>\n",
       "    </tr>\n",
       "    <tr>\n",
       "      <th>4</th>\n",
       "      <td>0.971838</td>\n",
       "      <td>0.147024</td>\n",
       "      <td>0.391487</td>\n",
       "      <td>0.443666</td>\n",
       "      <td>0.971838</td>\n",
       "    </tr>\n",
       "  </tbody>\n",
       "</table>\n",
       "</div>"
      ],
      "text/plain": [
       "          a         b         d         e       max\n",
       "0  0.401462  0.338639  0.284301  0.523084  0.722492\n",
       "1  0.444856  0.763392  0.449932  0.191324  0.763392\n",
       "2  0.616086  0.117530  0.988133  0.315078  0.988133\n",
       "3  0.778871  0.404207  0.184922  0.259886  0.814483\n",
       "4  0.971838  0.147024  0.391487  0.443666  0.971838"
      ]
     },
     "execution_count": 8,
     "metadata": {},
     "output_type": "execute_result"
    }
   ],
   "source": [
    "df.reindex(columns=sorted(df.columns))"
   ]
  },
  {
   "cell_type": "markdown",
   "metadata": {},
   "source": [
    "Also, when you are first creating a column, you can just ```insert``` it in the order that you want it to appear. By default, adding a column using the ```[]``` operator will put it at the end."
   ]
  },
  {
   "cell_type": "code",
   "execution_count": 9,
   "metadata": {},
   "outputs": [],
   "source": [
    "df.insert(3, \"min\", df.min(axis=1))"
   ]
  },
  {
   "cell_type": "code",
   "execution_count": 10,
   "metadata": {},
   "outputs": [
    {
     "data": {
      "text/html": [
       "<div>\n",
       "<style scoped>\n",
       "    .dataframe tbody tr th:only-of-type {\n",
       "        vertical-align: middle;\n",
       "    }\n",
       "\n",
       "    .dataframe tbody tr th {\n",
       "        vertical-align: top;\n",
       "    }\n",
       "\n",
       "    .dataframe thead th {\n",
       "        text-align: right;\n",
       "    }\n",
       "</style>\n",
       "<table border=\"1\" class=\"dataframe\">\n",
       "  <thead>\n",
       "    <tr style=\"text-align: right;\">\n",
       "      <th></th>\n",
       "      <th>d</th>\n",
       "      <th>a</th>\n",
       "      <th>b</th>\n",
       "      <th>min</th>\n",
       "      <th>max</th>\n",
       "      <th>e</th>\n",
       "    </tr>\n",
       "  </thead>\n",
       "  <tbody>\n",
       "    <tr>\n",
       "      <th>0</th>\n",
       "      <td>0.284301</td>\n",
       "      <td>0.401462</td>\n",
       "      <td>0.338639</td>\n",
       "      <td>0.284301</td>\n",
       "      <td>0.722492</td>\n",
       "      <td>0.523084</td>\n",
       "    </tr>\n",
       "    <tr>\n",
       "      <th>1</th>\n",
       "      <td>0.449932</td>\n",
       "      <td>0.444856</td>\n",
       "      <td>0.763392</td>\n",
       "      <td>0.191324</td>\n",
       "      <td>0.763392</td>\n",
       "      <td>0.191324</td>\n",
       "    </tr>\n",
       "    <tr>\n",
       "      <th>2</th>\n",
       "      <td>0.988133</td>\n",
       "      <td>0.616086</td>\n",
       "      <td>0.117530</td>\n",
       "      <td>0.117530</td>\n",
       "      <td>0.988133</td>\n",
       "      <td>0.315078</td>\n",
       "    </tr>\n",
       "    <tr>\n",
       "      <th>3</th>\n",
       "      <td>0.184922</td>\n",
       "      <td>0.778871</td>\n",
       "      <td>0.404207</td>\n",
       "      <td>0.184922</td>\n",
       "      <td>0.814483</td>\n",
       "      <td>0.259886</td>\n",
       "    </tr>\n",
       "    <tr>\n",
       "      <th>4</th>\n",
       "      <td>0.391487</td>\n",
       "      <td>0.971838</td>\n",
       "      <td>0.147024</td>\n",
       "      <td>0.147024</td>\n",
       "      <td>0.971838</td>\n",
       "      <td>0.443666</td>\n",
       "    </tr>\n",
       "  </tbody>\n",
       "</table>\n",
       "</div>"
      ],
      "text/plain": [
       "          d         a         b       min       max         e\n",
       "0  0.284301  0.401462  0.338639  0.284301  0.722492  0.523084\n",
       "1  0.449932  0.444856  0.763392  0.191324  0.763392  0.191324\n",
       "2  0.988133  0.616086  0.117530  0.117530  0.988133  0.315078\n",
       "3  0.184922  0.778871  0.404207  0.184922  0.814483  0.259886\n",
       "4  0.391487  0.971838  0.147024  0.147024  0.971838  0.443666"
      ]
     },
     "execution_count": 10,
     "metadata": {},
     "output_type": "execute_result"
    }
   ],
   "source": [
    "df"
   ]
  },
  {
   "cell_type": "markdown",
   "metadata": {},
   "source": [
    "Finally, you can pop the column, then re-insert it."
   ]
  },
  {
   "cell_type": "code",
   "execution_count": 16,
   "metadata": {},
   "outputs": [
    {
     "data": {
      "text/html": [
       "<div>\n",
       "<style scoped>\n",
       "    .dataframe tbody tr th:only-of-type {\n",
       "        vertical-align: middle;\n",
       "    }\n",
       "\n",
       "    .dataframe tbody tr th {\n",
       "        vertical-align: top;\n",
       "    }\n",
       "\n",
       "    .dataframe thead th {\n",
       "        text-align: right;\n",
       "    }\n",
       "</style>\n",
       "<table border=\"1\" class=\"dataframe\">\n",
       "  <thead>\n",
       "    <tr style=\"text-align: right;\">\n",
       "      <th></th>\n",
       "      <th>a</th>\n",
       "      <th>b</th>\n",
       "      <th>c</th>\n",
       "      <th>e</th>\n",
       "      <th>d</th>\n",
       "      <th>max</th>\n",
       "    </tr>\n",
       "  </thead>\n",
       "  <tbody>\n",
       "    <tr>\n",
       "      <th>0</th>\n",
       "      <td>0.516304</td>\n",
       "      <td>0.705653</td>\n",
       "      <td>0.605606</td>\n",
       "      <td>0.006643</td>\n",
       "      <td>0.997448</td>\n",
       "      <td>0.997448</td>\n",
       "    </tr>\n",
       "    <tr>\n",
       "      <th>1</th>\n",
       "      <td>0.538629</td>\n",
       "      <td>0.874436</td>\n",
       "      <td>0.907932</td>\n",
       "      <td>0.827617</td>\n",
       "      <td>0.002425</td>\n",
       "      <td>0.907932</td>\n",
       "    </tr>\n",
       "    <tr>\n",
       "      <th>2</th>\n",
       "      <td>0.089607</td>\n",
       "      <td>0.619142</td>\n",
       "      <td>0.349426</td>\n",
       "      <td>0.850378</td>\n",
       "      <td>0.476884</td>\n",
       "      <td>0.850378</td>\n",
       "    </tr>\n",
       "    <tr>\n",
       "      <th>3</th>\n",
       "      <td>0.955909</td>\n",
       "      <td>0.847274</td>\n",
       "      <td>0.517604</td>\n",
       "      <td>0.149167</td>\n",
       "      <td>0.875703</td>\n",
       "      <td>0.955909</td>\n",
       "    </tr>\n",
       "    <tr>\n",
       "      <th>4</th>\n",
       "      <td>0.218893</td>\n",
       "      <td>0.970456</td>\n",
       "      <td>0.585351</td>\n",
       "      <td>0.068663</td>\n",
       "      <td>0.477969</td>\n",
       "      <td>0.970456</td>\n",
       "    </tr>\n",
       "  </tbody>\n",
       "</table>\n",
       "</div>"
      ],
      "text/plain": [
       "          a         b         c         e         d       max\n",
       "0  0.516304  0.705653  0.605606  0.006643  0.997448  0.997448\n",
       "1  0.538629  0.874436  0.907932  0.827617  0.002425  0.907932\n",
       "2  0.089607  0.619142  0.349426  0.850378  0.476884  0.850378\n",
       "3  0.955909  0.847274  0.517604  0.149167  0.875703  0.955909\n",
       "4  0.218893  0.970456  0.585351  0.068663  0.477969  0.970456"
      ]
     },
     "execution_count": 16,
     "metadata": {},
     "output_type": "execute_result"
    }
   ],
   "source": [
    "col_e = df.pop(\"e\")\n",
    "df.insert(3, \"e\", col_e)\n",
    "\n",
    "df"
   ]
  },
  {
   "cell_type": "markdown",
   "metadata": {},
   "source": [
    "So as you can see, there are a number of ways to manipulate your column ordering in your dataframe."
   ]
  }
 ],
 "metadata": {
  "kernelspec": {
   "display_name": "Python 3",
   "language": "python",
   "name": "python3"
  },
  "language_info": {
   "codemirror_mode": {
    "name": "ipython",
    "version": 3
   },
   "file_extension": ".py",
   "mimetype": "text/x-python",
   "name": "python",
   "nbconvert_exporter": "python",
   "pygments_lexer": "ipython3",
   "version": "3.6.10"
  }
 },
 "nbformat": 4,
 "nbformat_minor": 4
}

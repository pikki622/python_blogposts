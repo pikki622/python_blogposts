{
 "cells": [
  {
   "cell_type": "markdown",
   "id": "c9a8e27d",
   "metadata": {
    "pycharm": {
     "name": "#%% md\n"
    }
   },
   "source": [
    "# An introduction to accessing financial data in EDGAR, using Python\n",
    "Some sources of financial data can be expensive or difficult to find. For example, some is only available from exchanges or vendors who charge a hefty fee for access. However, the financial industry is also heavily regulated, and one of its main regulators provides free access to its data. The (U.S. Securities and Exchange Commission)[https://www.sec.gov] (known as the SEC), has the mission of protecting investors and ensuring that markets are fair, orderly, and efficient. Companies and individuals are highly incentivized to provide the SEC with accurate and timely information about their businesses, or risk fines or criminal prosecution. Most of this information is provided by filling out forms, and the data in those forms are known as filings. The filing data is all available, for free, via the SEC's [EDGAR](https://www.sec.gov/edgar/search-and-access) system. In this article, I'll show you the basics of how to access EDGAR filings using Python, then show you an examples of querying multiple filings from EDGAR. Along the way, you'll learn about a few useful Python libraries and techiques, as well as how to deal with some difficult data.\n",
    "\n",
    "Even if you are not interested in finance, the techniques we use here for cleaning up the data can be useful in other domains.\n",
    "\n",
    "Before we access data using Python, it helps to poke around in the system a bit using a web browser. If you try the [main search page](https://www.sec.gov/edgar/search/), you can type in a company name and the interface will helpfully give you results for that company. For instance, searching a popular name like \"Apple\" will show you various filings related to Apple Inc. There are dozens of different filings related to Apple, and you can click on the links and read them in a human readable format. For example, when I ran this search, the top link was for an insider trading transaction. In this case, an insider (usually a director or officer in the company) bought or sold some stock in Apple and is required to report that to the SEC, using a form. The full rules for filling out [SEC Form 4](https://www.sec.gov/about/forms/form4data.pdf) are available if you find that sort of thing interesting.\n",
    "\n",
    "Each filing has a human readable document, like [this one](https://www.sec.gov/Archives/edgar/data/0000320193/000032019322000063/xslF345X03/wf-form4_165248105838188.xml), and a link to the [actual filing data](https://www.sec.gov/Archives/edgar/data/0000320193/000032019322000063/0000320193-22-000063-index.html). In this case, the filing contains the following:\n",
    "* an [HTML document](https://www.sec.gov/Archives/edgar/data/320193/000032019322000063/xslF345X03/wf-form4_165248105838188.xml) that renders nicely in a web browser\n",
    "* an [XML document](https://www.sec.gov/Archives/edgar/data/320193/000032019322000063/wf-form4_165248105838188.xml) that contains the data in the form\n",
    "* and a [text document](https://www.sec.gov/Archives/edgar/data/320193/000032019322000063/0000320193-22-000063.txt) that contains the full submission. \n",
    "\n",
    "The last text document is actually in [SGML](https://en.wikipedia.org/wiki/Standard_Generalized_Markup_Language), which is a predecessor to XML. We will parse that document later.\n",
    "\n",
    "## Accessing data using Python\n",
    "I won't spend any more time digging into the search interface, but you can definitely get plenty of data without writing code. There are number of useful tools for searching company filings, and many users will be able to use Edgar effectively in that manner. But we want to understand how to automate collection of useful data from EDGAR. Now that you've seen what a basic filing looks like, let's try to access the data using Python. I'll stick with the example of our insider trading transaction.\n",
    "\n",
    "The Edgar site give us [some rules](https://www.sec.gov/os/accessing-edgar-data) about how we are to access the data using a computer program. I'd encourage you to check the details out, but I'll summarize the important points here. \n",
    "\n",
    "### 10 requests per second\n",
    "You need to limit your requests to only 10 requests per second. If you request more than that, you risk being blocked. Note that the code I'm writing in this article will be run for only one document at a time on one computer. It's highly unlikely that I will break this rule, but if you run multiple processes this is highly likely to cause you trouble. You should plan in inserting some throttling code to ensure you don't exceed the limits if you'll be fetching large amounts of data.\n",
    "\n",
    "### User agent requirement\n",
    "The API for EDGAR uses simple HTTP with no authentication. You do need to supply a company name and administrative email in your HTTP headers. If you don't, your request will be denied.\n",
    "\n",
    "### Accept compressed data\n",
    "Your user agent needs to accept compressed content, using gzip or deflate. \n",
    "\n",
    "With just those three pieces of information, we can continue. Let's use the [requests](https://requests.readthedocs.io/en/latest/) API to access the form above, with custom headers. Requests will accept the compressed data."
   ]
  },
  {
   "cell_type": "code",
   "execution_count": 1,
   "id": "c7d5ec66",
   "metadata": {
    "pycharm": {
     "name": "#%%\n"
    }
   },
   "outputs": [],
   "source": [
    "# Add your own email and website here before continuing\n",
    "email=\"your email\"\n",
    "website=\"your website\""
   ]
  },
  {
   "cell_type": "code",
   "execution_count": 2,
   "id": "c88b70f5",
   "metadata": {
    "pycharm": {
     "name": "#%%\n"
    }
   },
   "outputs": [],
   "source": [
    "import requests\n",
    "\n",
    "headers = { \"User-Agent\": f\"{website} {email}\"}\n",
    "\n",
    "form = \"https://www.sec.gov/Archives/edgar/data/320193/000032019322000063/wf-form4_165248105838188.xml\"\n",
    "res = requests.get(form)"
   ]
  },
  {
   "cell_type": "code",
   "execution_count": 3,
   "id": "32f2cdd7",
   "metadata": {
    "pycharm": {
     "name": "#%%\n"
    }
   },
   "outputs": [
    {
     "name": "stdout",
     "output_type": "stream",
     "text": [
      "403 Client Error: Forbidden for url: https://www.sec.gov/Archives/edgar/data/320193/000032019322000063/wf-form4_165248105838188.xml\n"
     ]
    }
   ],
   "source": [
    "try:\n",
    "    res.raise_for_status()\n",
    "except requests.HTTPError as err:\n",
    "    print(err)"
   ]
  },
  {
   "cell_type": "markdown",
   "id": "3518567e",
   "metadata": {
    "pycharm": {
     "name": "#%% md\n"
    }
   },
   "source": [
    "As you can see, EDGAR blocks us if we don't supply our custom header with our User-Agent. If we instead supply our headers, we can take a look at our result."
   ]
  },
  {
   "cell_type": "code",
   "execution_count": 4,
   "id": "0be56f58",
   "metadata": {
    "pycharm": {
     "name": "#%%\n"
    }
   },
   "outputs": [],
   "source": [
    "res = requests.get(form, headers=headers)\n",
    "res.raise_for_status()"
   ]
  },
  {
   "cell_type": "code",
   "execution_count": 5,
   "id": "87343b83",
   "metadata": {
    "pycharm": {
     "name": "#%%\n"
    }
   },
   "outputs": [
    {
     "data": {
      "text/plain": [
       "b'<?xml version=\"1.0\"?>\\n<ownershipDocument>\\n\\n    <sc'"
      ]
     },
     "execution_count": 5,
     "metadata": {},
     "output_type": "execute_result"
    }
   ],
   "source": [
    "res.content[0:50]"
   ]
  },
  {
   "cell_type": "markdown",
   "id": "1862d64f",
   "metadata": {
    "pycharm": {
     "name": "#%% md\n"
    }
   },
   "source": [
    "We have an xml document (as expected if you clicked the links above). Let's use Python's [`lxml`](https://lxml.de/) package to parse the XML. We can use XPath expressions to extract any information we want from the document. It would be useful to extract the name of the insider and the number of shares in the transaction, and whether they purchased or sold the shares."
   ]
  },
  {
   "cell_type": "code",
   "execution_count": 6,
   "id": "dc285f9a",
   "metadata": {
    "pycharm": {
     "name": "#%%\n"
    }
   },
   "outputs": [],
   "source": [
    "from lxml import etree\n",
    "\n",
    "doc = etree.fromstring(res.content)"
   ]
  },
  {
   "cell_type": "code",
   "execution_count": 7,
   "id": "5b1b5490",
   "metadata": {
    "pycharm": {
     "name": "#%%\n"
    }
   },
   "outputs": [],
   "source": [
    "owner = doc.xpath(\"/ownershipDocument/reportingOwner/reportingOwnerId/rptOwnerName\")[0].text\n",
    "security = doc.xpath(\"//securityTitle/value\")[0].text\n",
    "date = doc.xpath(\"//transactionDate/value\")[0].text\n",
    "amount = doc.xpath(\"//transactionAmounts/transactionShares/value\")[0].text\n",
    "disposal = doc.xpath(\"//transactionAmounts/transactionAcquiredDisposedCode/value\")[0].text"
   ]
  },
  {
   "cell_type": "code",
   "execution_count": 8,
   "id": "104b73dc",
   "metadata": {
    "pycharm": {
     "name": "#%%\n"
    }
   },
   "outputs": [
    {
     "data": {
      "text/plain": [
       "('BELL JAMES A', 'Common Stock', '2022-05-06', '1276', 'D')"
      ]
     },
     "execution_count": 8,
     "metadata": {},
     "output_type": "execute_result"
    }
   ],
   "source": [
    "owner, security, date, amount, disposal"
   ]
  },
  {
   "cell_type": "markdown",
   "id": "aa66a213",
   "metadata": {
    "pycharm": {
     "name": "#%% md\n"
    }
   },
   "source": [
    "So here we see an Apple insider, [James A Bell](https://en.wikipedia.org/wiki/James_A._Bell), disposed of 1,276 shares of Apple Common Stock on 2022-05-06. Let's see if we can pull up *all* the insider transactions at Apple for a given time period, such as the first quarter of 2022. How would we do that? We'll need to understand a few more EDGAR concepts.\n",
    "\n",
    "## The Central Index Key (CIK)\n",
    "The SEC assignes a special identifier to each filer, they call it the Central Index Key. This may or may not correspond one-to-one to other identifiers you may be familiar with, like CUSIP or ISIN or even a stock ticker. But EDGAR helpfully provides a reference between CIK and stock ticker for those public companies with a stock ticker. Since every filing will be under a CIK, we'll use this cross-reference to find the CIK. I suspect that this document is sorted by search popularity, when you see the top 5 entries."
   ]
  },
  {
   "cell_type": "code",
   "execution_count": 9,
   "id": "ee36248e",
   "metadata": {
    "pycharm": {
     "name": "#%%\n"
    }
   },
   "outputs": [],
   "source": [
    "symbol_to_cik = requests.get(\"https://www.sec.gov/files/company_tickers.json\").json()"
   ]
  },
  {
   "cell_type": "code",
   "execution_count": 10,
   "id": "caae56e6",
   "metadata": {
    "pycharm": {
     "name": "#%%\n"
    }
   },
   "outputs": [
    {
     "name": "stdout",
     "output_type": "stream",
     "text": [
      "0 {'cik_str': 320193, 'ticker': 'AAPL', 'title': 'Apple Inc.'}\n",
      "1 {'cik_str': 789019, 'ticker': 'MSFT', 'title': 'MICROSOFT CORP'}\n",
      "2 {'cik_str': 1652044, 'ticker': 'GOOGL', 'title': 'Alphabet Inc.'}\n",
      "3 {'cik_str': 1018724, 'ticker': 'AMZN', 'title': 'AMAZON COM INC'}\n",
      "4 {'cik_str': 1318605, 'ticker': 'TSLA', 'title': 'Tesla, Inc.'}\n"
     ]
    }
   ],
   "source": [
    "for i in range(5):\n",
    "    print(i, symbol_to_cik[f\"{i}\"])"
   ]
  },
  {
   "cell_type": "markdown",
   "id": "2d230f17",
   "metadata": {
    "pycharm": {
     "name": "#%% md\n"
    }
   },
   "source": [
    "We will make a lookup dictionary from ticker to CIK."
   ]
  },
  {
   "cell_type": "code",
   "execution_count": 11,
   "id": "e3317a56",
   "metadata": {
    "pycharm": {
     "name": "#%%\n"
    }
   },
   "outputs": [
    {
     "data": {
      "text/plain": [
       "320193"
      ]
     },
     "execution_count": 11,
     "metadata": {},
     "output_type": "execute_result"
    }
   ],
   "source": [
    "cik_lookup = dict([(val['ticker'], val['cik_str']) for key, val in symbol_to_cik.items()])\n",
    "\n",
    "cik = cik_lookup['AAPL']\n",
    "cik"
   ]
  },
  {
   "cell_type": "markdown",
   "id": "d4c7325a",
   "metadata": {
    "pycharm": {
     "name": "#%% md\n"
    }
   },
   "source": [
    "## Recent filings\n",
    "Now we can request *all* the recent filings for a CIK. Let's get all of AAPL's recent filings. Searching for submissions for a CIK gives a JSON document that includes a number of high level pieces of information about the filer (like a description, name, addresses, and state of incorporation). It also includes several lists of recent filing information. We need to pad the CIK with leading `0`s to get the submissions."
   ]
  },
  {
   "cell_type": "code",
   "execution_count": 12,
   "id": "c87ad986",
   "metadata": {
    "pycharm": {
     "name": "#%%\n"
    }
   },
   "outputs": [],
   "source": [
    "edgar_filings = requests.get(f\"https://data.sec.gov/submissions/CIK{cik:0>10}.json\", headers=headers).json()"
   ]
  },
  {
   "cell_type": "code",
   "execution_count": 13,
   "id": "eff07e56",
   "metadata": {
    "pycharm": {
     "name": "#%%\n"
    }
   },
   "outputs": [
    {
     "data": {
      "text/plain": [
       "dict_keys(['cik', 'entityType', 'sic', 'sicDescription', 'insiderTransactionForOwnerExists', 'insiderTransactionForIssuerExists', 'name', 'tickers', 'exchanges', 'ein', 'description', 'website', 'investorWebsite', 'category', 'fiscalYearEnd', 'stateOfIncorporation', 'stateOfIncorporationDescription', 'addresses', 'phone', 'flags', 'formerNames', 'filings'])"
      ]
     },
     "execution_count": 13,
     "metadata": {},
     "output_type": "execute_result"
    }
   ],
   "source": [
    "edgar_filings.keys()"
   ]
  },
  {
   "cell_type": "code",
   "execution_count": 14,
   "id": "9c5611dd",
   "metadata": {
    "pycharm": {
     "name": "#%%\n"
    }
   },
   "outputs": [
    {
     "data": {
      "text/plain": [
       "dict_keys(['accessionNumber', 'filingDate', 'reportDate', 'acceptanceDateTime', 'act', 'form', 'fileNumber', 'filmNumber', 'items', 'size', 'isXBRL', 'isInlineXBRL', 'primaryDocument', 'primaryDocDescription'])"
      ]
     },
     "execution_count": 14,
     "metadata": {},
     "output_type": "execute_result"
    }
   ],
   "source": [
    "edgar_filings['filings']['recent'].keys()"
   ]
  },
  {
   "cell_type": "markdown",
   "id": "502b7e24",
   "metadata": {
    "pycharm": {
     "name": "#%% md\n"
    }
   },
   "source": [
    "So we can see that there are a number of top level fields, as well as a filings attribute that has lists of filing data. You can explore this data if you run the code yourself, but for now we can transform the EDGAR filings data into a pandas `DataFrame`."
   ]
  },
  {
   "cell_type": "code",
   "execution_count": 15,
   "id": "f7cddd30",
   "metadata": {
    "pycharm": {
     "name": "#%%\n"
    }
   },
   "outputs": [],
   "source": [
    "import pandas as pd\n",
    "\n",
    "recents = pd.DataFrame(edgar_filings['filings']['recent'])"
   ]
  },
  {
   "cell_type": "code",
   "execution_count": 16,
   "id": "1895b9b4",
   "metadata": {
    "pycharm": {
     "name": "#%%\n"
    }
   },
   "outputs": [
    {
     "data": {
      "text/html": [
       "<div>\n",
       "<style scoped>\n",
       "    .dataframe tbody tr th:only-of-type {\n",
       "        vertical-align: middle;\n",
       "    }\n",
       "\n",
       "    .dataframe tbody tr th {\n",
       "        vertical-align: top;\n",
       "    }\n",
       "\n",
       "    .dataframe thead th {\n",
       "        text-align: right;\n",
       "    }\n",
       "</style>\n",
       "<table border=\"1\" class=\"dataframe\">\n",
       "  <thead>\n",
       "    <tr style=\"text-align: right;\">\n",
       "      <th></th>\n",
       "      <th>accessionNumber</th>\n",
       "      <th>filingDate</th>\n",
       "      <th>reportDate</th>\n",
       "      <th>acceptanceDateTime</th>\n",
       "      <th>act</th>\n",
       "      <th>form</th>\n",
       "      <th>fileNumber</th>\n",
       "      <th>filmNumber</th>\n",
       "      <th>items</th>\n",
       "      <th>size</th>\n",
       "      <th>isXBRL</th>\n",
       "      <th>isInlineXBRL</th>\n",
       "      <th>primaryDocument</th>\n",
       "      <th>primaryDocDescription</th>\n",
       "    </tr>\n",
       "  </thead>\n",
       "  <tbody>\n",
       "    <tr>\n",
       "      <th>0</th>\n",
       "      <td>0000320193-22-000063</td>\n",
       "      <td>2022-05-13</td>\n",
       "      <td>2022-05-06</td>\n",
       "      <td>2022-05-13T18:31:28.000Z</td>\n",
       "      <td></td>\n",
       "      <td>4</td>\n",
       "      <td></td>\n",
       "      <td></td>\n",
       "      <td></td>\n",
       "      <td>4636</td>\n",
       "      <td>0</td>\n",
       "      <td>0</td>\n",
       "      <td>xslF345X03/wf-form4_165248105838188.xml</td>\n",
       "      <td>FORM 4</td>\n",
       "    </tr>\n",
       "    <tr>\n",
       "      <th>1</th>\n",
       "      <td>0000320193-22-000061</td>\n",
       "      <td>2022-05-06</td>\n",
       "      <td>2022-05-04</td>\n",
       "      <td>2022-05-06T18:30:57.000Z</td>\n",
       "      <td></td>\n",
       "      <td>4</td>\n",
       "      <td></td>\n",
       "      <td></td>\n",
       "      <td></td>\n",
       "      <td>16362</td>\n",
       "      <td>0</td>\n",
       "      <td>0</td>\n",
       "      <td>xslF345X03/wf-form4_165187623819106.xml</td>\n",
       "      <td>FORM 4</td>\n",
       "    </tr>\n",
       "    <tr>\n",
       "      <th>2</th>\n",
       "      <td>0001193125-22-128368</td>\n",
       "      <td>2022-04-29</td>\n",
       "      <td></td>\n",
       "      <td>2022-04-28T19:03:29.000Z</td>\n",
       "      <td>33</td>\n",
       "      <td>S-8</td>\n",
       "      <td>333-264555</td>\n",
       "      <td>22869039</td>\n",
       "      <td></td>\n",
       "      <td>99455</td>\n",
       "      <td>0</td>\n",
       "      <td>0</td>\n",
       "      <td>d332661ds8.htm</td>\n",
       "      <td>S-8</td>\n",
       "    </tr>\n",
       "    <tr>\n",
       "      <th>3</th>\n",
       "      <td>0001193125-22-128361</td>\n",
       "      <td>2022-04-29</td>\n",
       "      <td></td>\n",
       "      <td>2022-04-28T18:59:32.000Z</td>\n",
       "      <td>33</td>\n",
       "      <td>S-8 POS</td>\n",
       "      <td>333-165214</td>\n",
       "      <td>22869020</td>\n",
       "      <td></td>\n",
       "      <td>121168</td>\n",
       "      <td>0</td>\n",
       "      <td>0</td>\n",
       "      <td>d279200ds8pos.htm</td>\n",
       "      <td>S-8 POS</td>\n",
       "    </tr>\n",
       "    <tr>\n",
       "      <th>4</th>\n",
       "      <td>0001193125-22-128354</td>\n",
       "      <td>2022-04-29</td>\n",
       "      <td></td>\n",
       "      <td>2022-04-28T18:54:29.000Z</td>\n",
       "      <td>33</td>\n",
       "      <td>S-8 POS</td>\n",
       "      <td>333-195509</td>\n",
       "      <td>22869000</td>\n",
       "      <td></td>\n",
       "      <td>121168</td>\n",
       "      <td>0</td>\n",
       "      <td>0</td>\n",
       "      <td>d279200ds8pos.htm</td>\n",
       "      <td>S-8 POS</td>\n",
       "    </tr>\n",
       "  </tbody>\n",
       "</table>\n",
       "</div>"
      ],
      "text/plain": [
       "        accessionNumber  filingDate  reportDate        acceptanceDateTime act  \\\n",
       "0  0000320193-22-000063  2022-05-13  2022-05-06  2022-05-13T18:31:28.000Z       \n",
       "1  0000320193-22-000061  2022-05-06  2022-05-04  2022-05-06T18:30:57.000Z       \n",
       "2  0001193125-22-128368  2022-04-29              2022-04-28T19:03:29.000Z  33   \n",
       "3  0001193125-22-128361  2022-04-29              2022-04-28T18:59:32.000Z  33   \n",
       "4  0001193125-22-128354  2022-04-29              2022-04-28T18:54:29.000Z  33   \n",
       "\n",
       "      form  fileNumber filmNumber items    size  isXBRL  isInlineXBRL  \\\n",
       "0        4                                 4636       0             0   \n",
       "1        4                                16362       0             0   \n",
       "2      S-8  333-264555   22869039         99455       0             0   \n",
       "3  S-8 POS  333-165214   22869020        121168       0             0   \n",
       "4  S-8 POS  333-195509   22869000        121168       0             0   \n",
       "\n",
       "                           primaryDocument primaryDocDescription  \n",
       "0  xslF345X03/wf-form4_165248105838188.xml                FORM 4  \n",
       "1  xslF345X03/wf-form4_165187623819106.xml                FORM 4  \n",
       "2                           d332661ds8.htm                   S-8  \n",
       "3                        d279200ds8pos.htm               S-8 POS  \n",
       "4                        d279200ds8pos.htm               S-8 POS  "
      ]
     },
     "execution_count": 16,
     "metadata": {},
     "output_type": "execute_result"
    }
   ],
   "source": [
    "recents.head()"
   ]
  },
  {
   "cell_type": "markdown",
   "id": "e5410a2b",
   "metadata": {
    "pycharm": {
     "name": "#%% md\n"
    }
   },
   "source": [
    "Let's also turn our date columns into dates. You can check out [this article](https://www.wrighters.io/converting-types-in-pandas/) on how to convert pandas datatypes."
   ]
  },
  {
   "cell_type": "code",
   "execution_count": 17,
   "id": "9b51cceb",
   "metadata": {
    "pycharm": {
     "name": "#%%\n"
    }
   },
   "outputs": [],
   "source": [
    "recents['reportDate'] = pd.to_datetime(recents['reportDate'])\n",
    "recents['filingDate'] = pd.to_datetime(recents['filingDate'])"
   ]
  },
  {
   "cell_type": "markdown",
   "id": "9e38cf9f",
   "metadata": {
    "pycharm": {
     "name": "#%% md\n"
    }
   },
   "source": [
    "If you rememember, the insider trading transactions were SEC Form 4. Let's look at those, for the first quarter of 2022. If you have questions about how to index pandas `DataFrame`s, you can check out [this series](https://www.wrighters.io/indexing-and-selecting-in-pandas-part-1/) of articles."
   ]
  },
  {
   "cell_type": "code",
   "execution_count": 18,
   "id": "768fd61d",
   "metadata": {
    "pycharm": {
     "name": "#%%\n"
    }
   },
   "outputs": [],
   "source": [
    "insider_q1 = recents[(recents['form'] == \"4\") &\n",
    "        (recents['filingDate'] >= '2022-01-01') &\n",
    "        (recents['filingDate'] <= '2022-03-31')]"
   ]
  },
  {
   "cell_type": "code",
   "execution_count": 19,
   "id": "7a7c0f66",
   "metadata": {
    "pycharm": {
     "name": "#%%\n"
    }
   },
   "outputs": [
    {
     "data": {
      "text/plain": [
       "(17, 14)"
      ]
     },
     "execution_count": 19,
     "metadata": {},
     "output_type": "execute_result"
    }
   ],
   "source": [
    "insider_q1.shape"
   ]
  },
  {
   "cell_type": "markdown",
   "id": "a88b7f25",
   "metadata": {
    "pycharm": {
     "name": "#%% md\n"
    }
   },
   "source": [
    "OK, we now have 17 insider transactions in Apple for the first quarter of 2022. Let's download the documents and build a pandas `DataFrame` of the transaction data. The first step is to make a function that downloads the correct filing. All EDGAR filings are found in the form `https://www.sec.gov/Archives/edgar/data/[CIK]/[Accession Number]/[Document]`. We already know the CIK. The Accession Number is available in our `DataFrame`. Given a row, we can return the URL. Note that the Primary Document listed is the human readable document. We want to access the raw filing data which is in SGML. Using that, we can extract the XML content. We also remove the `-` in the directory for the accessionNumber, but not the document itself.\n",
    "\n",
    "## Parsing the data\n",
    "How do we parse the html? We use our old friend [Beautiful Soup](https://www.wrighters.io/using-requests-and-beautifulsoup-in-python-to-scrape-data/)! The method is similar to my previous article, but in this case, the document is an SGML file. [SGML](https://en.wikipedia.org/wiki/Standard_Generalized_Markup_Language) is a markup language the precedes XML and html, but we can actually parse it using the same tools."
   ]
  },
  {
   "cell_type": "code",
   "execution_count": 20,
   "id": "5b36cde6",
   "metadata": {
    "pycharm": {
     "name": "#%%\n"
    }
   },
   "outputs": [],
   "source": [
    "def make_url(cik, row):\n",
    "    accessionNumber = row['accessionNumber'].replace(\"-\", \"\")\n",
    "    return f\"https://www.sec.gov/Archives/edgar/data/{cik}/{accessionNumber}/{row['accessionNumber']}.txt\""
   ]
  },
  {
   "cell_type": "code",
   "execution_count": 21,
   "id": "b1b76205",
   "metadata": {
    "pycharm": {
     "name": "#%%\n"
    }
   },
   "outputs": [
    {
     "data": {
      "text/plain": [
       "'https://www.sec.gov/Archives/edgar/data/320193/000032019322000041/0000320193-22-000041.txt'"
      ]
     },
     "execution_count": 21,
     "metadata": {},
     "output_type": "execute_result"
    }
   ],
   "source": [
    "make_url(cik, insider_q1.iloc[0])"
   ]
  },
  {
   "cell_type": "code",
   "execution_count": 22,
   "id": "4567aef6",
   "metadata": {
    "pycharm": {
     "name": "#%%\n"
    }
   },
   "outputs": [
    {
     "data": {
      "text/plain": [
       "b'<SEC-DOCUMENT>0000320193-22-000041.txt : 20220308\\n<SEC-HEADER>0000320193-22-000041.hdr.sgml : 20220308\\n<ACCEPTANCE-DATETIME>20220308183738\\nACCESSION NUMBER:\\t\\t0000320193-22-000041\\nCONFORMED SUBMISSION TYPE:\\t4\\nPUBLIC DOCUMENT COUNT:\\t\\t1\\nCONFORMED PERIOD OF REPORT:\\t20220304\\nFILED AS OF DATE:\\t\\t20220308\\nD'"
      ]
     },
     "execution_count": 22,
     "metadata": {},
     "output_type": "execute_result"
    }
   ],
   "source": [
    "from bs4 import BeautifulSoup\n",
    "req = requests.get(make_url(cik, insider_q1.iloc[0]), headers=headers)\n",
    "soup = BeautifulSoup(req.content, 'html.parser')\n",
    "req.content[0:300]"
   ]
  },
  {
   "cell_type": "markdown",
   "id": "8f6c746a",
   "metadata": {
    "pycharm": {
     "name": "#%% md\n"
    }
   },
   "source": [
    "A quick explainer on what we're doing here. First, get the main text document which is an SGML document. We then parse the content using Beautiful Soup, but use the html parser. The html parser is much more forgiving, so it will not fail as a standard xml parser would. We only want to find the xml node that is in the text node in this document. We use can look at that node to see what the \"raw\" xml looks like."
   ]
  },
  {
   "cell_type": "code",
   "execution_count": 23,
   "id": "1ac972d6",
   "metadata": {
    "pycharm": {
     "name": "#%%\n"
    }
   },
   "outputs": [
    {
     "data": {
      "text/plain": [
       "'<xml>\\n<?xml version=\"1.0\"?>\\n<ownershipdocument>\\n<schemaversion>X0306</schemaversion>\\n<documenttype>4</documenttype>\\n<periodofreport>2022-03-04</periodofreport>\\n<notsubjecttosection16>0</notsubjecttosection16>\\n<issuer>\\n<issuercik>0000320193</issuercik>\\n<issuername>Apple Inc.</issuername>\\n<issuertradi'"
      ]
     },
     "execution_count": 23,
     "metadata": {},
     "output_type": "execute_result"
    }
   ],
   "source": [
    "str(soup.find_all('xml')[0])[0:300]"
   ]
  },
  {
   "cell_type": "markdown",
   "id": "6ff27c8b",
   "metadata": {
    "pycharm": {
     "name": "#%% md\n"
    }
   },
   "source": [
    "## Messy data\n",
    "Now as I was working through this, I noticed something. This XML document doesn't look like the first one we looked at in the beginning of the article. Those tags were mixed case, these are all lowercase. XML is case sensitive, so one of these two is not valid.\n",
    "\n",
    "This is typical of data that we find in EDGAR, thousands of companies use different software packages to prepare their filings, and the SEC doesn't seem to enforce strict data compliance for the filings. Every time you think you have a way to fetch the data you want, you'll likely find a company that does things just slightly differently. As a result, we have to wrestle with the data and figure out how to bend it to our will. In this case, I'm going to check the case of the root element, and use two different sets of XPath expressions to retrieve our data. This is a hack, but will hopefully get us to the next step"
   ]
  },
  {
   "cell_type": "code",
   "execution_count": 24,
   "id": "8a01d4eb",
   "metadata": {
    "pycharm": {
     "name": "#%%\n"
    }
   },
   "outputs": [],
   "source": [
    "import re\n",
    "\n",
    "def get_document(cik, row):\n",
    "    url = make_url(cik, row)\n",
    "    res = requests.get(url, headers=headers)\n",
    "    res.raise_for_status()\n",
    "    soup = BeautifulSoup(res.content, 'html.parser')\n",
    "    # use a case insensitive search for the root node of the XML document\n",
    "    docs = soup.find_all(re.compile(\"ownershipDocument\", re.IGNORECASE))\n",
    "    if len(docs) > 0:\n",
    "        doc = etree.fromstring(str(docs[0]))\n",
    "        if docs[0].name == \"ownershipDocument\":\n",
    "            owner = doc.xpath(\"/ownershipDocument/reportingOwner/reportingOwnerId/rptOwnerName\")[0].text\n",
    "            security = doc.xpath(\"//securityTitle/value\")[0].text\n",
    "            date = doc.xpath(\"//transactionDate/value\")[0].text\n",
    "            amount = doc.xpath(\"//transactionAmounts/transactionShares/value\")[0].text\n",
    "            disposal = doc.xpath(\"//transactionAmounts/transactionAcquiredDisposedCode/value\")[0].text\n",
    "        elif docs[0].name == \"ownershipdocument\":\n",
    "            owner = doc.xpath(\"/ownershipdocument/reportingowner/reportingownerid/rptownername\")[0].text\n",
    "            security = doc.xpath(\"//securitytitle/value\")[0].text\n",
    "            date = doc.xpath(\"//transactiondate/value\")[0].text\n",
    "            amount = doc.xpath(\"//transactionamounts/transactionshares/value\")[0].text\n",
    "            disposal = doc.xpath(\"//transactionamounts/transactionacquireddisposedcode/value\")[0].text\n",
    "            pass\n",
    "        else:\n",
    "            raise ValueError(f\"Don't know how to process {docs[0].name}\")\n",
    "        \n",
    "        return (owner, security, date, amount, disposal)"
   ]
  },
  {
   "cell_type": "code",
   "execution_count": 25,
   "id": "32158aa7",
   "metadata": {
    "pycharm": {
     "name": "#%%\n"
    }
   },
   "outputs": [
    {
     "data": {
      "text/plain": [
       "('WAGNER SUSAN', 'Restricted Stock Unit', '2022-03-04', '1685', 'A')"
      ]
     },
     "execution_count": 25,
     "metadata": {},
     "output_type": "execute_result"
    }
   ],
   "source": [
    "get_document(cik, insider_q1.iloc[0])"
   ]
  },
  {
   "cell_type": "markdown",
   "id": "6e3dee95",
   "metadata": {
    "pycharm": {
     "name": "#%% md\n"
    }
   },
   "source": [
    "That worked. Now we can loop through our `DataFrame` rows and get the data for each row."
   ]
  },
  {
   "cell_type": "code",
   "execution_count": 26,
   "id": "81b27883",
   "metadata": {
    "pycharm": {
     "name": "#%%\n"
    }
   },
   "outputs": [],
   "source": [
    "results = []\n",
    "for i, row in insider_q1.iterrows():\n",
    "    try:\n",
    "        results.append(get_document(cik, row))\n",
    "    except ValueError as ve:\n",
    "        print(f\"{ve} on row {i}\")"
   ]
  },
  {
   "cell_type": "code",
   "execution_count": 27,
   "id": "52796b97",
   "metadata": {
    "pycharm": {
     "name": "#%%\n"
    }
   },
   "outputs": [
    {
     "data": {
      "text/html": [
       "<div>\n",
       "<style scoped>\n",
       "    .dataframe tbody tr th:only-of-type {\n",
       "        vertical-align: middle;\n",
       "    }\n",
       "\n",
       "    .dataframe tbody tr th {\n",
       "        vertical-align: top;\n",
       "    }\n",
       "\n",
       "    .dataframe thead th {\n",
       "        text-align: right;\n",
       "    }\n",
       "</style>\n",
       "<table border=\"1\" class=\"dataframe\">\n",
       "  <thead>\n",
       "    <tr style=\"text-align: right;\">\n",
       "      <th></th>\n",
       "      <th>name</th>\n",
       "      <th>type</th>\n",
       "      <th>date</th>\n",
       "      <th>quantity</th>\n",
       "      <th>acquired_disposed</th>\n",
       "    </tr>\n",
       "  </thead>\n",
       "  <tbody>\n",
       "    <tr>\n",
       "      <th>0</th>\n",
       "      <td>WAGNER SUSAN</td>\n",
       "      <td>Restricted Stock Unit</td>\n",
       "      <td>2022-03-04</td>\n",
       "      <td>1685</td>\n",
       "      <td>A</td>\n",
       "    </tr>\n",
       "    <tr>\n",
       "      <th>1</th>\n",
       "      <td>SUGAR RONALD D</td>\n",
       "      <td>Restricted Stock Unit</td>\n",
       "      <td>2022-03-04</td>\n",
       "      <td>1685</td>\n",
       "      <td>A</td>\n",
       "    </tr>\n",
       "    <tr>\n",
       "      <th>2</th>\n",
       "      <td>LOZANO MONICA C</td>\n",
       "      <td>Restricted Stock Unit</td>\n",
       "      <td>2022-03-04</td>\n",
       "      <td>1685</td>\n",
       "      <td>A</td>\n",
       "    </tr>\n",
       "    <tr>\n",
       "      <th>3</th>\n",
       "      <td>LEVINSON ARTHUR D</td>\n",
       "      <td>Restricted Stock Unit</td>\n",
       "      <td>2022-03-04</td>\n",
       "      <td>1685</td>\n",
       "      <td>A</td>\n",
       "    </tr>\n",
       "    <tr>\n",
       "      <th>4</th>\n",
       "      <td>JUNG ANDREA</td>\n",
       "      <td>Restricted Stock Unit</td>\n",
       "      <td>2022-03-04</td>\n",
       "      <td>1685</td>\n",
       "      <td>A</td>\n",
       "    </tr>\n",
       "    <tr>\n",
       "      <th>5</th>\n",
       "      <td>Gorsky Alex</td>\n",
       "      <td>Restricted Stock Unit</td>\n",
       "      <td>2022-03-04</td>\n",
       "      <td>1685</td>\n",
       "      <td>A</td>\n",
       "    </tr>\n",
       "    <tr>\n",
       "      <th>6</th>\n",
       "      <td>GORE ALBERT JR</td>\n",
       "      <td>Restricted Stock Unit</td>\n",
       "      <td>2022-03-04</td>\n",
       "      <td>1685</td>\n",
       "      <td>A</td>\n",
       "    </tr>\n",
       "    <tr>\n",
       "      <th>7</th>\n",
       "      <td>BELL JAMES A</td>\n",
       "      <td>Restricted Stock Unit</td>\n",
       "      <td>2022-03-04</td>\n",
       "      <td>1685</td>\n",
       "      <td>A</td>\n",
       "    </tr>\n",
       "    <tr>\n",
       "      <th>8</th>\n",
       "      <td>Adams Katherine L.</td>\n",
       "      <td>Common Stock</td>\n",
       "      <td>2021-11-29</td>\n",
       "      <td>2000</td>\n",
       "      <td>D</td>\n",
       "    </tr>\n",
       "    <tr>\n",
       "      <th>9</th>\n",
       "      <td>WAGNER SUSAN</td>\n",
       "      <td>Common Stock</td>\n",
       "      <td>2022-02-01</td>\n",
       "      <td>1986</td>\n",
       "      <td>A</td>\n",
       "    </tr>\n",
       "    <tr>\n",
       "      <th>10</th>\n",
       "      <td>SUGAR RONALD D</td>\n",
       "      <td>Common Stock</td>\n",
       "      <td>2022-02-01</td>\n",
       "      <td>1986</td>\n",
       "      <td>A</td>\n",
       "    </tr>\n",
       "    <tr>\n",
       "      <th>11</th>\n",
       "      <td>LOZANO MONICA C</td>\n",
       "      <td>Common Stock</td>\n",
       "      <td>2022-02-01</td>\n",
       "      <td>1986</td>\n",
       "      <td>A</td>\n",
       "    </tr>\n",
       "    <tr>\n",
       "      <th>12</th>\n",
       "      <td>LEVINSON ARTHUR D</td>\n",
       "      <td>Common Stock</td>\n",
       "      <td>2022-02-01</td>\n",
       "      <td>1986</td>\n",
       "      <td>A</td>\n",
       "    </tr>\n",
       "    <tr>\n",
       "      <th>13</th>\n",
       "      <td>JUNG ANDREA</td>\n",
       "      <td>Common Stock</td>\n",
       "      <td>2022-02-01</td>\n",
       "      <td>1986</td>\n",
       "      <td>A</td>\n",
       "    </tr>\n",
       "    <tr>\n",
       "      <th>14</th>\n",
       "      <td>Gorsky Alex</td>\n",
       "      <td>Common Stock</td>\n",
       "      <td>2022-02-01</td>\n",
       "      <td>486</td>\n",
       "      <td>A</td>\n",
       "    </tr>\n",
       "    <tr>\n",
       "      <th>15</th>\n",
       "      <td>GORE ALBERT JR</td>\n",
       "      <td>Common Stock</td>\n",
       "      <td>2022-02-01</td>\n",
       "      <td>1986</td>\n",
       "      <td>A</td>\n",
       "    </tr>\n",
       "    <tr>\n",
       "      <th>16</th>\n",
       "      <td>BELL JAMES A</td>\n",
       "      <td>Common Stock</td>\n",
       "      <td>2022-02-01</td>\n",
       "      <td>1986</td>\n",
       "      <td>A</td>\n",
       "    </tr>\n",
       "  </tbody>\n",
       "</table>\n",
       "</div>"
      ],
      "text/plain": [
       "                  name                   type        date quantity  \\\n",
       "0         WAGNER SUSAN  Restricted Stock Unit  2022-03-04     1685   \n",
       "1       SUGAR RONALD D  Restricted Stock Unit  2022-03-04     1685   \n",
       "2      LOZANO MONICA C  Restricted Stock Unit  2022-03-04     1685   \n",
       "3    LEVINSON ARTHUR D  Restricted Stock Unit  2022-03-04     1685   \n",
       "4          JUNG ANDREA  Restricted Stock Unit  2022-03-04     1685   \n",
       "5          Gorsky Alex  Restricted Stock Unit  2022-03-04     1685   \n",
       "6       GORE ALBERT JR  Restricted Stock Unit  2022-03-04     1685   \n",
       "7         BELL JAMES A  Restricted Stock Unit  2022-03-04     1685   \n",
       "8   Adams Katherine L.           Common Stock  2021-11-29     2000   \n",
       "9         WAGNER SUSAN           Common Stock  2022-02-01     1986   \n",
       "10      SUGAR RONALD D           Common Stock  2022-02-01     1986   \n",
       "11     LOZANO MONICA C           Common Stock  2022-02-01     1986   \n",
       "12   LEVINSON ARTHUR D           Common Stock  2022-02-01     1986   \n",
       "13         JUNG ANDREA           Common Stock  2022-02-01     1986   \n",
       "14         Gorsky Alex           Common Stock  2022-02-01      486   \n",
       "15      GORE ALBERT JR           Common Stock  2022-02-01     1986   \n",
       "16        BELL JAMES A           Common Stock  2022-02-01     1986   \n",
       "\n",
       "   acquired_disposed  \n",
       "0                  A  \n",
       "1                  A  \n",
       "2                  A  \n",
       "3                  A  \n",
       "4                  A  \n",
       "5                  A  \n",
       "6                  A  \n",
       "7                  A  \n",
       "8                  D  \n",
       "9                  A  \n",
       "10                 A  \n",
       "11                 A  \n",
       "12                 A  \n",
       "13                 A  \n",
       "14                 A  \n",
       "15                 A  \n",
       "16                 A  "
      ]
     },
     "execution_count": 27,
     "metadata": {},
     "output_type": "execute_result"
    }
   ],
   "source": [
    "pd.DataFrame(results, columns=['name', 'type', 'date', 'quantity', 'acquired_disposed' ])"
   ]
  },
  {
   "cell_type": "markdown",
   "id": "57d0d325",
   "metadata": {
    "pycharm": {
     "name": "#%% md\n"
    }
   },
   "source": [
    "There we go, there's a list of insider stock trades for a single company during a single quarter.\n",
    "\n",
    "## Wrapping up\n",
    "In summary, we learned a few things from this article. First, the SEC has a free system with a lot of data called EDGAR. The data consists of filings, which are submitted by individuals and companies as required by the SEC. It's possible to access all the EDGAR data using HTTP APIs. Some of that data can be very messy, but with a little bit of creative Python code, we can extract what we're looking for.\n",
    "\n",
    "What might you do with EDGAR data and Python?"
   ]
  }
 ],
 "metadata": {
  "kernelspec": {
   "display_name": "Python 3",
   "language": "python",
   "name": "python3"
  },
  "language_info": {
   "codemirror_mode": {
    "name": "ipython",
    "version": 3
   },
   "file_extension": ".py",
   "mimetype": "text/x-python",
   "name": "python",
   "nbconvert_exporter": "python",
   "pygments_lexer": "ipython3",
   "version": "3.8.6"
  },
  "varInspector": {
   "cols": {
    "lenName": 16,
    "lenType": 16,
    "lenVar": 40
   },
   "kernels_config": {
    "python": {
     "delete_cmd_postfix": "",
     "delete_cmd_prefix": "del ",
     "library": "var_list.py",
     "varRefreshCmd": "print(var_dic_list())"
    },
    "r": {
     "delete_cmd_postfix": ") ",
     "delete_cmd_prefix": "rm(",
     "library": "var_list.r",
     "varRefreshCmd": "cat(var_dic_list()) "
    }
   },
   "types_to_exclude": [
    "module",
    "function",
    "builtin_function_or_method",
    "instance",
    "_Feature"
   ],
   "window_display": false
  }
 },
 "nbformat": 4,
 "nbformat_minor": 5
}
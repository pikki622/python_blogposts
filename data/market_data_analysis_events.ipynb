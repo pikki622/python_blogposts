{
 "cells": [
  {
   "cell_type": "markdown",
   "id": "8443da13",
   "metadata": {
    "pycharm": {
     "name": "#%% md\n"
    }
   },
   "source": [
    "# Analyzing stock data near events with pandas\n",
    "Stock returns can be heavily impacted by certain events. Sometimes these events are unexpected or a surprise (natural disasters, global pandemics, terrorism) and other times they are scheduled (presidential elections, earnings announcements, financial data releases). We can use pandas to obtain financial data and see the impacts of events the returns of stocks.\n",
    "\n",
    "In my earlier article on [financial market data analysis with pandas](https://www.wrighters.io/financial-market-data-analysis-with-pandas/), I looked at the basics of obtaining free market data, visualizing the returns of the SPY Exchange Traded Fund, and examined the concept of seasonality, finding some evidence of it in the data. In this article, we'll build on that knowledge to look at daily returns for the stock market and how they are impacted by some major events.\n",
    "\n",
    "First, let's grab our historical stock data. We'll continue to look at the SPY ETF. Again, SPY is a special type of stock that mirrors the return of the S&P 500. We'll be getting our data from [Alpha Vantage](https://www.alphavantage.co), just like last time. You should get your own API key if you want to follow along on your own since I cannot give you this data."
   ]
  },
  {
   "cell_type": "code",
   "execution_count": 1,
   "id": "0ed08420",
   "metadata": {
    "pycharm": {
     "name": "#%%\n"
    }
   },
   "outputs": [
    {
     "data": {
      "image/png": "[encoded data removed]",
      "text/plain": [
       "<Figure size 432x288 with 1 Axes>"
      ]
     },
     "metadata": {
      "needs_background": "light"
     },
     "output_type": "display_data"
    }
   ],
   "source": [
    "import pandas as pd\n",
    "import numpy as np\n",
    "import os\n",
    "\n",
    "import matplotlib.pyplot as plt\n",
    "\n",
    "try:\n",
    "    API_KEY = open(os.path.expanduser(\"~/.alphavantage.key\"), 'r').readline().strip()\n",
    "except Exception as ex:\n",
    "    print(\"Put your AlphaVantage API key in the file '.alphavantage.key' in your home directory: \", ex)\n",
    "    API_KEY = \"demo\"\n",
    "\n",
    "def get_daily_bars(symbol):\n",
    "    function = \"TIME_SERIES_DAILY\"          # daily data\n",
    "    outputsize = \"full\"                     # all of it\n",
    "    datatype = \"csv\"                        # CSV - comma separated values\n",
    "    url = f\"https://www.alphavantage.co/query?function={function}&symbol=SPY&outputsize=full&apikey={API_KEY}&datatype={datatype}\"\n",
    "    return pd.read_csv(url, parse_dates=['timestamp'], index_col='timestamp').sort_index()\n",
    "\n",
    "spy_daily = get_daily_bars(\"SPY\")\n",
    "\n",
    "spy_daily['close'].plot();"
   ]
  },
  {
   "cell_type": "markdown",
   "id": "5c6331d3",
   "metadata": {
    "pycharm": {
     "name": "#%% md\n"
    }
   },
   "source": [
    "One thing to note about this data is that it doesn't include dividends. The data source that includes them is a premium service currently from Alpha Vantage. But for the analysis we will be doing, this won't be a primary concern.\n",
    "\n",
    "## What impacts stock returns?\n",
    "Looking at the chart above, most of us would be able to identify a few points on the chart even if we didn't display the date labels on the X-axis. Most notably is the Covid-19 pandemic, but you can probably spot the great financial crisis and other bigger moves like the 2016 election. Items like a global pandemic are not pre-planned, but US presidential elections are.\n",
    "\n",
    "Are there certain events that we suspect impact the stock returns more than others? Can we look at some of these and determine the size of the impact on stock returns?\n",
    "\n",
    "## The Fed\n",
    "I'm going to cheat a bit and just tell you about one event that does tend to have a large impact on the US markets: the Federal Reserve's interest rate announcements. The [Federal Open Market Committee](https://en.wikipedia.org/wiki/History_of_Federal_Open_Market_Committee_actions) meets regularly to discuss and make decisions about interest rates. These can have huge impacts on the economy, and so most financial assets will need to have their prices adjusted to reflect the future outlook based on these decisions. FOMC days can be highly volatile. Let's see if we can find that in the data.\n",
    "\n",
    "The Wikipedia article linked above has several tables in it that contains information about FOMC decisions. It turns out that pandas has the ability to read an html page and give you back a list of any tables it finds in the html as a `DataFrame` object. Let's see what that looks like."
   ]
  },
  {
   "cell_type": "code",
   "execution_count": 2,
   "id": "0f67b0a9",
   "metadata": {
    "pycharm": {
     "name": "#%%\n"
    }
   },
   "outputs": [
    {
     "name": "stdout",
     "output_type": "stream",
     "text": [
      "5\n"
     ]
    },
    {
     "data": {
      "text/html": [
       "<div>\n",
       "<style scoped>\n",
       "    .dataframe tbody tr th:only-of-type {\n",
       "        vertical-align: middle;\n",
       "    }\n",
       "\n",
       "    .dataframe tbody tr th {\n",
       "        vertical-align: top;\n",
       "    }\n",
       "\n",
       "    .dataframe thead th {\n",
       "        text-align: right;\n",
       "    }\n",
       "</style>\n",
       "<table border=\"1\" class=\"dataframe\">\n",
       "  <thead>\n",
       "    <tr style=\"text-align: right;\">\n",
       "      <th></th>\n",
       "      <th>Date</th>\n",
       "      <th>Fed. Funds Rate</th>\n",
       "      <th>Discount Rate</th>\n",
       "      <th>Votes</th>\n",
       "      <th>Notes</th>\n",
       "      <th>Unnamed: 5</th>\n",
       "    </tr>\n",
       "  </thead>\n",
       "  <tbody>\n",
       "    <tr>\n",
       "      <th>0</th>\n",
       "      <td>November 05, 2020</td>\n",
       "      <td>0%–0.25%</td>\n",
       "      <td>0.25%</td>\n",
       "      <td>10-0</td>\n",
       "      <td>Official statement</td>\n",
       "      <td>NaN</td>\n",
       "    </tr>\n",
       "    <tr>\n",
       "      <th>1</th>\n",
       "      <td>September 16, 2020</td>\n",
       "      <td>0%–0.25%</td>\n",
       "      <td>0.25%</td>\n",
       "      <td>8-2</td>\n",
       "      <td>Kaplan dissented, preferring \"the Committee [t...</td>\n",
       "      <td>NaN</td>\n",
       "    </tr>\n",
       "    <tr>\n",
       "      <th>2</th>\n",
       "      <td>August 27, 2020</td>\n",
       "      <td>0%–0.25%</td>\n",
       "      <td>0.25%</td>\n",
       "      <td>unanimous</td>\n",
       "      <td>No meeting, but announcement of approval of up...</td>\n",
       "      <td>NaN</td>\n",
       "    </tr>\n",
       "    <tr>\n",
       "      <th>3</th>\n",
       "      <td>July 29, 2020</td>\n",
       "      <td>0%–0.25%</td>\n",
       "      <td>0.25%</td>\n",
       "      <td>10-0</td>\n",
       "      <td>Official statement</td>\n",
       "      <td>NaN</td>\n",
       "    </tr>\n",
       "    <tr>\n",
       "      <th>4</th>\n",
       "      <td>June 10, 2020</td>\n",
       "      <td>0%–0.25%</td>\n",
       "      <td>0.25%</td>\n",
       "      <td>10-0</td>\n",
       "      <td>Official statement</td>\n",
       "      <td>NaN</td>\n",
       "    </tr>\n",
       "  </tbody>\n",
       "</table>\n",
       "</div>"
      ],
      "text/plain": [
       "                 Date Fed. Funds Rate Discount Rate      Votes  \\\n",
       "0   November 05, 2020        0%–0.25%         0.25%       10-0   \n",
       "1  September 16, 2020        0%–0.25%         0.25%        8-2   \n",
       "2     August 27, 2020        0%–0.25%         0.25%  unanimous   \n",
       "3       July 29, 2020        0%–0.25%         0.25%       10-0   \n",
       "4       June 10, 2020        0%–0.25%         0.25%       10-0   \n",
       "\n",
       "                                               Notes  Unnamed: 5  \n",
       "0                                 Official statement         NaN  \n",
       "1  Kaplan dissented, preferring \"the Committee [t...         NaN  \n",
       "2  No meeting, but announcement of approval of up...         NaN  \n",
       "3                                 Official statement         NaN  \n",
       "4                                 Official statement         NaN  "
      ]
     },
     "execution_count": 2,
     "metadata": {},
     "output_type": "execute_result"
    }
   ],
   "source": [
    "fomc = pd.read_html(\"https://en.wikipedia.org/wiki/History_of_Federal_Open_Market_Committee_actions\")\n",
    "\n",
    "print(len(fomc))\n",
    "fomc[1].head()"
   ]
  },
  {
   "cell_type": "markdown",
   "id": "4276191c",
   "metadata": {
    "pycharm": {
     "name": "#%% md\n"
    }
   },
   "source": [
    "It turns out this table is the second table in the page. We can see that for now, we care about the `Date` column. It's currently just text, let's turn it into a data object. You can read more about [pandas data conversion here](https://www.wrighters.io/converting-types-in-pandas/)."
   ]
  },
  {
   "cell_type": "code",
   "execution_count": 3,
   "id": "5780d3f4",
   "metadata": {
    "pycharm": {
     "name": "#%%\n"
    }
   },
   "outputs": [
    {
     "data": {
      "text/html": [
       "<div>\n",
       "<style scoped>\n",
       "    .dataframe tbody tr th:only-of-type {\n",
       "        vertical-align: middle;\n",
       "    }\n",
       "\n",
       "    .dataframe tbody tr th {\n",
       "        vertical-align: top;\n",
       "    }\n",
       "\n",
       "    .dataframe thead th {\n",
       "        text-align: right;\n",
       "    }\n",
       "</style>\n",
       "<table border=\"1\" class=\"dataframe\">\n",
       "  <thead>\n",
       "    <tr style=\"text-align: right;\">\n",
       "      <th></th>\n",
       "      <th>Fed. Funds Rate</th>\n",
       "      <th>Discount Rate</th>\n",
       "      <th>Votes</th>\n",
       "      <th>Notes</th>\n",
       "      <th>Unnamed: 5</th>\n",
       "    </tr>\n",
       "    <tr>\n",
       "      <th>Date</th>\n",
       "      <th></th>\n",
       "      <th></th>\n",
       "      <th></th>\n",
       "      <th></th>\n",
       "      <th></th>\n",
       "    </tr>\n",
       "  </thead>\n",
       "  <tbody>\n",
       "    <tr>\n",
       "      <th>2020-11-05</th>\n",
       "      <td>0%–0.25%</td>\n",
       "      <td>0.25%</td>\n",
       "      <td>10-0</td>\n",
       "      <td>Official statement</td>\n",
       "      <td>NaN</td>\n",
       "    </tr>\n",
       "    <tr>\n",
       "      <th>2020-09-16</th>\n",
       "      <td>0%–0.25%</td>\n",
       "      <td>0.25%</td>\n",
       "      <td>8-2</td>\n",
       "      <td>Kaplan dissented, preferring \"the Committee [t...</td>\n",
       "      <td>NaN</td>\n",
       "    </tr>\n",
       "    <tr>\n",
       "      <th>2020-08-27</th>\n",
       "      <td>0%–0.25%</td>\n",
       "      <td>0.25%</td>\n",
       "      <td>unanimous</td>\n",
       "      <td>No meeting, but announcement of approval of up...</td>\n",
       "      <td>NaN</td>\n",
       "    </tr>\n",
       "    <tr>\n",
       "      <th>2020-07-29</th>\n",
       "      <td>0%–0.25%</td>\n",
       "      <td>0.25%</td>\n",
       "      <td>10-0</td>\n",
       "      <td>Official statement</td>\n",
       "      <td>NaN</td>\n",
       "    </tr>\n",
       "    <tr>\n",
       "      <th>2020-06-10</th>\n",
       "      <td>0%–0.25%</td>\n",
       "      <td>0.25%</td>\n",
       "      <td>10-0</td>\n",
       "      <td>Official statement</td>\n",
       "      <td>NaN</td>\n",
       "    </tr>\n",
       "  </tbody>\n",
       "</table>\n",
       "</div>"
      ],
      "text/plain": [
       "           Fed. Funds Rate Discount Rate      Votes  \\\n",
       "Date                                                  \n",
       "2020-11-05        0%–0.25%         0.25%       10-0   \n",
       "2020-09-16        0%–0.25%         0.25%        8-2   \n",
       "2020-08-27        0%–0.25%         0.25%  unanimous   \n",
       "2020-07-29        0%–0.25%         0.25%       10-0   \n",
       "2020-06-10        0%–0.25%         0.25%       10-0   \n",
       "\n",
       "                                                        Notes  Unnamed: 5  \n",
       "Date                                                                       \n",
       "2020-11-05                                 Official statement         NaN  \n",
       "2020-09-16  Kaplan dissented, preferring \"the Committee [t...         NaN  \n",
       "2020-08-27  No meeting, but announcement of approval of up...         NaN  \n",
       "2020-07-29                                 Official statement         NaN  \n",
       "2020-06-10                                 Official statement         NaN  "
      ]
     },
     "execution_count": 3,
     "metadata": {},
     "output_type": "execute_result"
    }
   ],
   "source": [
    "fomc_events = fomc[1]\n",
    "fomc_events['Date'] = pd.to_datetime(fomc_events['Date'])\n",
    "# we will set the index to be our Data column (explained below)\n",
    "fomc_events = fomc_events.set_index('Date') # set the Date column as our index\n",
    "fomc_events.head()"
   ]
  },
  {
   "cell_type": "markdown",
   "id": "7f6afd2e",
   "metadata": {
    "pycharm": {
     "name": "#%% md\n"
    }
   },
   "source": [
    "## Finding the impact\n",
    "OK, now that we have the dates of the events, how do we use it to match up the daily returns for those days? I can tell you from experience that FOMC meetings *tend* to take place on Wednesdays, and the decision and meeting minutes are *usually* released at 14:00 America/New_York, which is during a normal stock trading day. However, some of these events can be emergency meetings that could take place outside of market hours. \n",
    "\n",
    "Because of this, we want to be able to look at the impact to the market on the day of the event as well as the next few days. In some cases, the market may take a little bit of time to figure out what the event means and how it will impact prices. We will see if we can quantify this.\n",
    "\n",
    "One way to do this is to add a column to our returns `DataFrame` that tells us how many days it is past the last FOMC announcements. With that information we can compare returns to see if they are different.\n",
    "\n",
    "## Merging our data\n",
    "We have a dense set of dates (the returns) and a sparse set of dates (the FOMC events). We want to find a way to identify all the rows in our returns where an event happens, and then count forward in time until the next event.\n",
    "\n",
    "There are wany ways to approach this, but here's one way that I've done it in the past. We will first make a column that numbers all of our rows sequentially. Then we'll make a second column where we will store values to subtract from the first to make our final counter. On days when we have an FOMC event, we will set the value to the number for that row, and forward fill those values until the next event. If this sounds confusing, that's fine, we'll walk through each step of the process.\n",
    "\n",
    "The simplest scenario for this to work is that all of our FOMC events can be found in our returns and we can do this in just a few steps."
   ]
  },
  {
   "cell_type": "code",
   "execution_count": 4,
   "id": "f4242bde",
   "metadata": {
    "pycharm": {
     "name": "#%%\n"
    }
   },
   "outputs": [
    {
     "name": "stdout",
     "output_type": "stream",
     "text": [
      "\"[Timestamp('2020-03-15 00:00:00'), Timestamp('2008-03-16 00:00:00')] not in index\"\n"
     ]
    }
   ],
   "source": [
    "spy_daily['days_since_fomc'] = np.arange(len(spy_daily))\n",
    "spy_daily['FOMC'] = np.nan # initially put in invalid data so we can fill them later\n",
    "\n",
    "try:\n",
    "    # set only the rows with a date\n",
    "    spy_daily.loc[fomc_events.index, 'FOMC'] = spy_daily.loc[fomc_events.index, 'days_since_fomc']\n",
    "except Exception as ex:\n",
    "    print(ex)"
   ]
  },
  {
   "cell_type": "markdown",
   "id": "bd582e81",
   "metadata": {
    "pycharm": {
     "name": "#%% md\n"
    }
   },
   "source": [
    "It appears that there are two dates that are not in our daily stock returns. It turns out these were emergency meetings. I can say I definitely remember both of these events. Both of these are Sunday announcements. On March 15, 2020 the FOMC had a second rate cut in response to the global pandemic and made the announcment just minutes before the futures markets opened on Sunday evening. The March 16, 2008 event was due to the collapse of Bear Stearns. I was working at Lehman Brothers at the time, not realizing we had some excitement coming our way as well. Because the stock markets were not open these two days, we cannot set their times to 0. So how can we handle this?\n",
    "\n",
    "One way is to merge our two datasets. If we only wanted to get matching rows from our SPY data and the FOMC table, we could do a simple `DataFrame` merge. To make the merge easier I made sure both `DataFrame`s had the same type of index above, by setting the `Date` column to the index. Note that you don't have to do this, but it makes life easier."
   ]
  },
  {
   "cell_type": "code",
   "execution_count": 5,
   "id": "fad0fa1c",
   "metadata": {
    "pycharm": {
     "name": "#%%\n"
    }
   },
   "outputs": [
    {
     "data": {
      "text/html": [
       "<div>\n",
       "<style scoped>\n",
       "    .dataframe tbody tr th:only-of-type {\n",
       "        vertical-align: middle;\n",
       "    }\n",
       "\n",
       "    .dataframe tbody tr th {\n",
       "        vertical-align: top;\n",
       "    }\n",
       "\n",
       "    .dataframe thead th {\n",
       "        text-align: right;\n",
       "    }\n",
       "</style>\n",
       "<table border=\"1\" class=\"dataframe\">\n",
       "  <thead>\n",
       "    <tr style=\"text-align: right;\">\n",
       "      <th></th>\n",
       "      <th>close</th>\n",
       "      <th>days_since_fomc</th>\n",
       "    </tr>\n",
       "  </thead>\n",
       "  <tbody>\n",
       "    <tr>\n",
       "      <th>2000-02-02</th>\n",
       "      <td>141.0625</td>\n",
       "      <td>64</td>\n",
       "    </tr>\n",
       "    <tr>\n",
       "      <th>2000-03-21</th>\n",
       "      <td>149.1875</td>\n",
       "      <td>97</td>\n",
       "    </tr>\n",
       "    <tr>\n",
       "      <th>2000-05-16</th>\n",
       "      <td>146.6875</td>\n",
       "      <td>136</td>\n",
       "    </tr>\n",
       "    <tr>\n",
       "      <th>2000-06-28</th>\n",
       "      <td>145.5625</td>\n",
       "      <td>166</td>\n",
       "    </tr>\n",
       "    <tr>\n",
       "      <th>2000-08-22</th>\n",
       "      <td>150.2500</td>\n",
       "      <td>204</td>\n",
       "    </tr>\n",
       "  </tbody>\n",
       "</table>\n",
       "</div>"
      ],
      "text/plain": [
       "               close  days_since_fomc\n",
       "2000-02-02  141.0625               64\n",
       "2000-03-21  149.1875               97\n",
       "2000-05-16  146.6875              136\n",
       "2000-06-28  145.5625              166\n",
       "2000-08-22  150.2500              204"
      ]
     },
     "execution_count": 5,
     "metadata": {},
     "output_type": "execute_result"
    }
   ],
   "source": [
    "spy_daily.merge(fomc_events, left_index=True, right_index=True).head()[['close', 'days_since_fomc']]"
   ]
  },
  {
   "cell_type": "markdown",
   "id": "cbd0719e",
   "metadata": {
    "pycharm": {
     "name": "#%% md\n"
    }
   },
   "source": [
    "That might look ok, but the problem with a simple merge is it will drop all the data where there isn't a match for the index, so that merge will not include our emergency meetings. This is the default of `merge`, and can be changed by setting the `how` argument. What we want to do is what is called an outer join.  The `merge` method also has a handy `indicator` param that will puts a column in your `DataFrame` telling you whether the resulting rows are from the `left_only`, `right_only`, or `both`. The left and right are the `DataFrames` as you read them in your code from left to right."
   ]
  },
  {
   "cell_type": "code",
   "execution_count": 6,
   "id": "094002d2",
   "metadata": {
    "pycharm": {
     "name": "#%%\n"
    }
   },
   "outputs": [],
   "source": [
    "spy_merged = spy_daily.merge(fomc_events, left_index=True, right_index=True, how='outer', indicator=True)"
   ]
  },
  {
   "cell_type": "markdown",
   "id": "5b4c32a4",
   "metadata": {
    "pycharm": {
     "name": "#%% md\n"
    }
   },
   "source": [
    "We can look at the rows where the `Fed. Funds Rate` is not null using a boolean index. This will be the rows where the FOMC had an event. We will find all the non-null values in the merged dataset (using the syntax `~` to flip the results of `pd.isnull`). You can read more about boolean indexing [here](https://www.wrighters.io/boolean-indexing-in-pandas/)."
   ]
  },
  {
   "cell_type": "code",
   "execution_count": 7,
   "id": "aad97fc8",
   "metadata": {
    "pycharm": {
     "name": "#%%\n"
    }
   },
   "outputs": [
    {
     "data": {
      "text/html": [
       "<div>\n",
       "<style scoped>\n",
       "    .dataframe tbody tr th:only-of-type {\n",
       "        vertical-align: middle;\n",
       "    }\n",
       "\n",
       "    .dataframe tbody tr th {\n",
       "        vertical-align: top;\n",
       "    }\n",
       "\n",
       "    .dataframe thead th {\n",
       "        text-align: right;\n",
       "    }\n",
       "</style>\n",
       "<table border=\"1\" class=\"dataframe\">\n",
       "  <thead>\n",
       "    <tr style=\"text-align: right;\">\n",
       "      <th></th>\n",
       "      <th>close</th>\n",
       "      <th>Fed. Funds Rate</th>\n",
       "      <th>_merge</th>\n",
       "    </tr>\n",
       "  </thead>\n",
       "  <tbody>\n",
       "    <tr>\n",
       "      <th>2000-02-02</th>\n",
       "      <td>141.0625</td>\n",
       "      <td>5.75%</td>\n",
       "      <td>both</td>\n",
       "    </tr>\n",
       "    <tr>\n",
       "      <th>2000-03-21</th>\n",
       "      <td>149.1875</td>\n",
       "      <td>6.00%</td>\n",
       "      <td>both</td>\n",
       "    </tr>\n",
       "    <tr>\n",
       "      <th>2000-05-16</th>\n",
       "      <td>146.6875</td>\n",
       "      <td>6.50%</td>\n",
       "      <td>both</td>\n",
       "    </tr>\n",
       "    <tr>\n",
       "      <th>2000-06-28</th>\n",
       "      <td>145.5625</td>\n",
       "      <td>6.50%</td>\n",
       "      <td>both</td>\n",
       "    </tr>\n",
       "    <tr>\n",
       "      <th>2000-08-22</th>\n",
       "      <td>150.2500</td>\n",
       "      <td>6.50%</td>\n",
       "      <td>both</td>\n",
       "    </tr>\n",
       "  </tbody>\n",
       "</table>\n",
       "</div>"
      ],
      "text/plain": [
       "               close Fed. Funds Rate _merge\n",
       "2000-02-02  141.0625           5.75%   both\n",
       "2000-03-21  149.1875           6.00%   both\n",
       "2000-05-16  146.6875           6.50%   both\n",
       "2000-06-28  145.5625           6.50%   both\n",
       "2000-08-22  150.2500           6.50%   both"
      ]
     },
     "execution_count": 7,
     "metadata": {},
     "output_type": "execute_result"
    }
   ],
   "source": [
    "spy_merged.loc[~pd.isnull(spy_merged['Fed. Funds Rate']), ['close', 'Fed. Funds Rate', '_merge']].head()"
   ]
  },
  {
   "cell_type": "markdown",
   "id": "9cbc5e7d",
   "metadata": {
    "pycharm": {
     "name": "#%% md\n"
    }
   },
   "source": [
    "If we want to see the rows that *only* come from the FOMC table, we can use the `right_only` value in our `_merge` column. These are rows that were *only* in our FOMC table, not in the returns."
   ]
  },
  {
   "cell_type": "code",
   "execution_count": 8,
   "id": "e60fa536",
   "metadata": {
    "pycharm": {
     "name": "#%%\n"
    }
   },
   "outputs": [
    {
     "data": {
      "text/html": [
       "<div>\n",
       "<style scoped>\n",
       "    .dataframe tbody tr th:only-of-type {\n",
       "        vertical-align: middle;\n",
       "    }\n",
       "\n",
       "    .dataframe tbody tr th {\n",
       "        vertical-align: top;\n",
       "    }\n",
       "\n",
       "    .dataframe thead th {\n",
       "        text-align: right;\n",
       "    }\n",
       "</style>\n",
       "<table border=\"1\" class=\"dataframe\">\n",
       "  <thead>\n",
       "    <tr style=\"text-align: right;\">\n",
       "      <th></th>\n",
       "      <th>close</th>\n",
       "      <th>Fed. Funds Rate</th>\n",
       "      <th>_merge</th>\n",
       "    </tr>\n",
       "  </thead>\n",
       "  <tbody>\n",
       "    <tr>\n",
       "      <th>2008-03-16</th>\n",
       "      <td>NaN</td>\n",
       "      <td>3.00%</td>\n",
       "      <td>right_only</td>\n",
       "    </tr>\n",
       "    <tr>\n",
       "      <th>2020-03-15</th>\n",
       "      <td>NaN</td>\n",
       "      <td>0%–0.25%</td>\n",
       "      <td>right_only</td>\n",
       "    </tr>\n",
       "  </tbody>\n",
       "</table>\n",
       "</div>"
      ],
      "text/plain": [
       "            close Fed. Funds Rate      _merge\n",
       "2008-03-16    NaN           3.00%  right_only\n",
       "2020-03-15    NaN        0%–0.25%  right_only"
      ]
     },
     "execution_count": 8,
     "metadata": {},
     "output_type": "execute_result"
    }
   ],
   "source": [
    "spy_merged.loc[spy_merged['_merge'] == 'right_only', ['close', 'Fed. Funds Rate', '_merge']]"
   ]
  },
  {
   "cell_type": "markdown",
   "id": "0cb18522",
   "metadata": {
    "pycharm": {
     "name": "#%% md\n"
    }
   },
   "source": [
    "These are the two 'emergency meeting' rows that kicked out of our initial attempt to set all the rows above. You can see that we don't have price data for those dates (since the market wasn't open). So we will set the 'FOMC' column to the row counter for the *next* date on those two dates, and to the row counter *on* that date for all the other dates. The way to find the next row is to first `shift` the `_merged` column by one, then use that column to find the `right_only` rows. Those will be rows for the next trading day."
   ]
  },
  {
   "cell_type": "code",
   "execution_count": 9,
   "id": "a9267226",
   "metadata": {
    "pycharm": {
     "name": "#%%\n"
    }
   },
   "outputs": [
    {
     "data": {
      "text/html": [
       "<div>\n",
       "<style scoped>\n",
       "    .dataframe tbody tr th:only-of-type {\n",
       "        vertical-align: middle;\n",
       "    }\n",
       "\n",
       "    .dataframe tbody tr th {\n",
       "        vertical-align: top;\n",
       "    }\n",
       "\n",
       "    .dataframe thead th {\n",
       "        text-align: right;\n",
       "    }\n",
       "</style>\n",
       "<table border=\"1\" class=\"dataframe\">\n",
       "  <thead>\n",
       "    <tr style=\"text-align: right;\">\n",
       "      <th></th>\n",
       "      <th>close</th>\n",
       "      <th>Fed. Funds Rate</th>\n",
       "      <th>_merge</th>\n",
       "    </tr>\n",
       "  </thead>\n",
       "  <tbody>\n",
       "    <tr>\n",
       "      <th>2008-03-17</th>\n",
       "      <td>128.30</td>\n",
       "      <td>NaN</td>\n",
       "      <td>left_only</td>\n",
       "    </tr>\n",
       "    <tr>\n",
       "      <th>2020-03-16</th>\n",
       "      <td>239.85</td>\n",
       "      <td>NaN</td>\n",
       "      <td>left_only</td>\n",
       "    </tr>\n",
       "  </tbody>\n",
       "</table>\n",
       "</div>"
      ],
      "text/plain": [
       "             close Fed. Funds Rate     _merge\n",
       "2008-03-17  128.30             NaN  left_only\n",
       "2020-03-16  239.85             NaN  left_only"
      ]
     },
     "execution_count": 9,
     "metadata": {},
     "output_type": "execute_result"
    }
   ],
   "source": [
    "spy_merged.loc[spy_merged['_merge'].shift() == 'right_only', ['close', 'Fed. Funds Rate', '_merge']]"
   ]
  },
  {
   "cell_type": "code",
   "execution_count": 10,
   "id": "c3e3c14b",
   "metadata": {
    "pycharm": {
     "name": "#%%\n"
    }
   },
   "outputs": [],
   "source": [
    "# set the ones we have in both data sets\n",
    "spy_merged.loc[spy_merged['_merge'] == 'both', 'FOMC'] = spy_merged.loc[spy_merged['_merge'] == 'both', 'days_since_fomc']\n",
    "# set the two special meetings\n",
    "spy_merged.loc[spy_merged['_merge'].shift() == 'right_only', 'FOMC'] = spy_merged.loc[spy_merged['_merge'].shift() == 'right_only', 'days_since_fomc']"
   ]
  },
  {
   "cell_type": "markdown",
   "id": "c47240c9",
   "metadata": {
    "pycharm": {
     "name": "#%% md\n"
    }
   },
   "source": [
    "Now, we can fill in the all the null data with the offset. We use the `ffill` method for this, it will forward fill all the null values with the last observed non-null value. So every time we have an FOMC event, we will be setting the offset from that day until the next event to be the total up to that day."
   ]
  },
  {
   "cell_type": "code",
   "execution_count": 11,
   "id": "652402c4",
   "metadata": {
    "pycharm": {
     "name": "#%%\n"
    }
   },
   "outputs": [],
   "source": [
    "spy_merged['FOMC'] = spy_merged['FOMC'].ffill()"
   ]
  },
  {
   "cell_type": "markdown",
   "id": "eca9a1cd",
   "metadata": {
    "pycharm": {
     "name": "#%% md\n"
    }
   },
   "source": [
    "The last step is to subtract the FOMC offset from the 'days_since_fomc' value. I'll do this as a new column so you can poke around to see what the two look like, but we could do this in place if we wanted to."
   ]
  },
  {
   "cell_type": "code",
   "execution_count": 12,
   "id": "01664317",
   "metadata": {
    "pycharm": {
     "name": "#%%\n"
    }
   },
   "outputs": [],
   "source": [
    "spy_merged['days_since_fomc_calced'] = spy_merged['days_since_fomc'] - spy_merged['FOMC']"
   ]
  },
  {
   "cell_type": "code",
   "execution_count": 13,
   "id": "8a536f20",
   "metadata": {
    "pycharm": {
     "name": "#%%\n"
    }
   },
   "outputs": [
    {
     "data": {
      "text/plain": [
       "count    5525.000000\n",
       "mean      178.999095\n",
       "std       270.565997\n",
       "min         0.000000\n",
       "25%        14.000000\n",
       "50%        33.000000\n",
       "75%       233.000000\n",
       "max      1128.000000\n",
       "Name: days_since_fomc_calced, dtype: float64"
      ]
     },
     "execution_count": 13,
     "metadata": {},
     "output_type": "execute_result"
    }
   ],
   "source": [
    "spy_merged['days_since_fomc_calced'].describe()"
   ]
  },
  {
   "cell_type": "markdown",
   "id": "0ff9824b",
   "metadata": {
    "pycharm": {
     "name": "#%% md\n"
    }
   },
   "source": [
    "Now a few things are immediately obvious. First, we didn't trim the stock data to make sure we didn't look at data from *before* our FOMC source had data, and we need to trim it to some reasonable size *after*, since the data source is not fully up-to-date. So let's do that. \n",
    "\n",
    "The easiest way is just limit our data using a boolean selection on the index. We'll keep 30 days after the last event in our dataset. (If you wondered why I chose to do a `copy` at the end, read [this](https://www.wrighters.io/views-copies-and-that-annoying-settingwithcopywarning/))."
   ]
  },
  {
   "cell_type": "code",
   "execution_count": 14,
   "id": "91866949",
   "metadata": {
    "pycharm": {
     "name": "#%%\n"
    }
   },
   "outputs": [],
   "source": [
    "spy_merged = spy_merged.loc[(spy_merged.index >= fomc_events.index[-1])\n",
    "               & (spy_merged.index <= fomc_events.index[0] + pd.Timedelta(days=30))].copy()"
   ]
  },
  {
   "cell_type": "markdown",
   "id": "5266e1b0",
   "metadata": {
    "pycharm": {
     "name": "#%% md\n"
    }
   },
   "source": [
    "The data also doesn't look complete since there are some larger gaps between meetings than we would expect. We'll deal with that later by only looking at the immediate data after (or before) the announcements we have.\n",
    "\n",
    "## FOMC impact\n",
    "Wow, that was a lot of work, but now we have a dataset that has two pieces of handy information. We have daily SPY prices (which we can calculate returns on), and a column telling us the number of days since the FOMC made a statement. Let's just look at some high level data first and add a `return` column. We don't want to look at price, but the change in price day to day."
   ]
  },
  {
   "cell_type": "code",
   "execution_count": 15,
   "id": "ec877b30",
   "metadata": {
    "pycharm": {
     "name": "#%%\n"
    }
   },
   "outputs": [],
   "source": [
    "spy_merged['return'] = spy_merged['close'].pct_change()"
   ]
  },
  {
   "cell_type": "markdown",
   "id": "c2db76b6",
   "metadata": {
    "pycharm": {
     "name": "#%% md\n"
    }
   },
   "source": [
    "Now, we want to understand how much these FOMC events impact returns and volatility. Before doing that, what do _normal_ volatility and daily returns look like for SPY? For returns, I'll choose here to look at the absolute value, since I'm interested in the size of the return, not the average return. I'm also going to multiply by 10,000 to see this in basis points, so it's easier to read. A basis point is 1/100 of a percent, and is usually used in finance and trading when talking about things like daily returns, since these numbers tend to be small."
   ]
  },
  {
   "cell_type": "code",
   "execution_count": 16,
   "id": "335ec279",
   "metadata": {
    "pycharm": {
     "name": "#%%\n"
    }
   },
   "outputs": [
    {
     "name": "stdout",
     "output_type": "stream",
     "text": [
      "Mean return:  2.622952572253447\n",
      "Mean abs return:  81.86473754180587\n"
     ]
    }
   ],
   "source": [
    "spy_merged['return_bps'] = spy_merged['return'] * 10_000\n",
    "print(\"Mean return: \", spy_merged['return_bps'].mean())\n",
    "print(\"Mean abs return: \", spy_merged['return_bps'].abs().mean())"
   ]
  },
  {
   "cell_type": "markdown",
   "id": "925e194c",
   "metadata": {
    "pycharm": {
     "name": "#%% md\n"
    }
   },
   "source": [
    "For our entire dataset, the mean daily return is 2.6 bps, but the mean size of a daily return is 81 bps (some of these will be up, some will be down, but on averge they'll be 2.6 bps up). \n",
    "\n",
    "In terms of volatility, we can look at the standard deviation for the entire set, or even look at it by year."
   ]
  },
  {
   "cell_type": "code",
   "execution_count": 17,
   "id": "246f99bc",
   "metadata": {
    "pycharm": {
     "name": "#%%\n"
    }
   },
   "outputs": [
    {
     "data": {
      "text/plain": [
       "125.28749957149593"
      ]
     },
     "execution_count": 17,
     "metadata": {},
     "output_type": "execute_result"
    }
   ],
   "source": [
    "spy_merged['return_bps'].std()"
   ]
  },
  {
   "cell_type": "markdown",
   "id": "02069486",
   "metadata": {
    "pycharm": {
     "name": "#%% md\n"
    }
   },
   "source": [
    "This is the standard deviation for the entire data set. We can see this by year as well. You can see some years are much more volatile than others."
   ]
  },
  {
   "cell_type": "code",
   "execution_count": 18,
   "id": "51544719",
   "metadata": {
    "pycharm": {
     "name": "#%%\n"
    }
   },
   "outputs": [
    {
     "data": {
      "text/plain": [
       "2000    144.966923\n",
       "2001    139.365551\n",
       "2002    166.543256\n",
       "2003    104.120539\n",
       "2004     70.723632\n",
       "2005     65.164303\n",
       "2006     63.498013\n",
       "2007     99.968045\n",
       "2008    259.338830\n",
       "2009    168.208984\n",
       "2010    113.180180\n",
       "2011    144.958668\n",
       "2012     80.637251\n",
       "2013     70.117707\n",
       "2014     71.086169\n",
       "2015     98.339539\n",
       "2016     82.738484\n",
       "2017     42.652961\n",
       "2018    107.928186\n",
       "2019     79.060342\n",
       "2020    218.100669\n",
       "Name: return_bps, dtype: float64"
      ]
     },
     "execution_count": 18,
     "metadata": {},
     "output_type": "execute_result"
    }
   ],
   "source": [
    "spy_merged.groupby(spy_merged.index.year).std()['return_bps']"
   ]
  },
  {
   "cell_type": "markdown",
   "id": "59957d97",
   "metadata": {
    "pycharm": {
     "name": "#%% md\n"
    }
   },
   "source": [
    "This can also be annualized by multiplying by the square root of 252. We do this because volatility increases with the square root of time. There are usually 252 trading days a year for stocks, so in one year we'll have 252 samples of daily volatility. I'll use the percentage returns here since we're looking at annualized values."
   ]
  },
  {
   "cell_type": "code",
   "execution_count": 19,
   "id": "bba18585",
   "metadata": {
    "pycharm": {
     "name": "#%%\n"
    }
   },
   "outputs": [
    {
     "data": {
      "text/plain": [
       "2000    23.012786\n",
       "2001    22.123595\n",
       "2002    26.437922\n",
       "2003    16.528623\n",
       "2004    11.227029\n",
       "2005    10.344512\n",
       "2006    10.079997\n",
       "2007    15.869435\n",
       "2008    41.168763\n",
       "2009    26.702348\n",
       "2010    17.966797\n",
       "2011    23.011475\n",
       "2012    12.800767\n",
       "2013    11.130841\n",
       "2014    11.284580\n",
       "2015    15.610918\n",
       "2016    13.134327\n",
       "2017     6.770948\n",
       "2018    17.133068\n",
       "2019    12.550440\n",
       "2020    34.622408\n",
       "Name: return, dtype: float64"
      ]
     },
     "execution_count": 19,
     "metadata": {},
     "output_type": "execute_result"
    }
   ],
   "source": [
    "spy_merged.groupby(spy_merged.index.year).std()['return'] * np.sqrt(252) * 100"
   ]
  },
  {
   "cell_type": "markdown",
   "id": "7b77708d",
   "metadata": {
    "pycharm": {
     "name": "#%% md\n"
    }
   },
   "source": [
    "Let's circle back to our FOMC data now, and see what volatility and returns look like for the 30 days after an FOMC announcment. This is fairly easy - we just look for all records within 30 days of the event and `groupby` by the number of days."
   ]
  },
  {
   "cell_type": "code",
   "execution_count": 20,
   "id": "e8253717",
   "metadata": {
    "pycharm": {
     "name": "#%%\n"
    }
   },
   "outputs": [
    {
     "data": {
      "image/png": "[encoded data removed]",
      "text/plain": [
       "<Figure size 432x288 with 1 Axes>"
      ]
     },
     "metadata": {
      "needs_background": "light"
     },
     "output_type": "display_data"
    }
   ],
   "source": [
    "spy_merged_recent = spy_merged.loc[spy_merged['days_since_fomc_calced'] < 30,\n",
    "                                  ['return_bps', 'days_since_fomc_calced']]\n",
    "\n",
    "spy_merged_recent.groupby('days_since_fomc_calced').std()['return_bps'].plot(label=\"return std\")\n",
    "spy_merged_recent.abs().groupby('days_since_fomc_calced').mean()['return_bps'].plot(label=\"mean abs(return)\")\n",
    "plt.legend();"
   ]
  },
  {
   "cell_type": "markdown",
   "id": "3f9e2423",
   "metadata": {
    "pycharm": {
     "name": "#%% md\n"
    }
   },
   "source": [
    "So looking at the results, we can see the effect of FOMC announcements on the data. Both the standard deviation and size of the returns are highest right around the announcement and then steadily decrease. There's a shock to the system, and then it is absorbed. Can we compare this to the time leading up to the announcement? We can do this by just repeating our earlier process, but doing it backwards."
   ]
  },
  {
   "cell_type": "code",
   "execution_count": 21,
   "id": "63c66dae",
   "metadata": {
    "pycharm": {
     "name": "#%%\n"
    }
   },
   "outputs": [
    {
     "data": {
      "image/png": "[encoded data removed]",
      "text/plain": [
       "<Figure size 432x288 with 1 Axes>"
      ]
     },
     "metadata": {
      "needs_background": "light"
     },
     "output_type": "display_data"
    }
   ],
   "source": [
    "spy_merged['days_til_fomc'] = np.arange(len(spy_merged), 0, -1)\n",
    "spy_merged['FOMC'] = np.nan  # reset our counter\n",
    "# use our earlier results to find the FOMC days\n",
    "spy_merged.loc[spy_merged['days_since_fomc_calced'] == 0, 'FOMC'] = spy_merged.loc[spy_merged['days_since_fomc_calced'] == 0, 'days_til_fomc']\n",
    "spy_merged['FOMC'] = spy_merged['FOMC'].bfill() # bfill is backwards fill, same logic\n",
    "spy_merged['days_til_fomc'] -= spy_merged['FOMC'] # we do this in-place instead this time\n",
    "\n",
    "spy_merged_before = spy_merged.loc[spy_merged['days_til_fomc'] < 30,\n",
    "                                  ['return_bps', 'days_til_fomc']]\n",
    "\n",
    "spy_merged_before.groupby('days_til_fomc').std()['return_bps'].plot(label=\"return std\")\n",
    "spy_merged_before.abs().groupby('days_til_fomc').mean()['return_bps'].plot(label=\"mean abs(return)\")\n",
    "plt.legend();"
   ]
  },
  {
   "cell_type": "markdown",
   "id": "f850b433",
   "metadata": {
    "pycharm": {
     "name": "#%% md\n"
    }
   },
   "source": [
    "Looking at this data we see that day 0 matches our results above (as expected), that's the day of the annoucement. But interestingly the volatility and size of returns does seem to *also* increase leading up to the announcement. This is not exactly what I would have expected. I might have thought that markets would be very quiet as they wait to hear what the Fed is going to do. But I can think of one big reason why markets would not be quiet. If the announcement is an emergency announcement, it's highly likely that the Fed is reacting to extreme market conditions. Those situations would definitely show up in the data leading up to the event.\n",
    "\n",
    "I'm going to wrap things up for now, but there's a lot more that could be explored here. We could look at other known events and their impact on markets. We could also try to get a higher quality source of FOMC event information since we're obviously missing some data, including some of the more recent announcments. Maybe this exploration will prompt you to dig into market data more.\n",
    "\n",
    "In terms of pandas usage, we took advantage of the following features:\n",
    "* loading csv data, including fetching it from a url\n",
    "* downloading tables from a web page\n",
    "* `groupby`\n",
    "* `DataFrame` merging\n",
    "* boolean indexing\n",
    "* plotting using matplotlib\n",
    "\n",
    "Stay tuned for further articles where I will look into other data sources as well as intraday returns."
   ]
  }
 ],
 "metadata": {
  "kernelspec": {
   "display_name": "Python 3",
   "language": "python",
   "name": "python3"
  },
  "language_info": {
   "codemirror_mode": {
    "name": "ipython",
    "version": 3
   },
   "file_extension": ".py",
   "mimetype": "text/x-python",
   "name": "python",
   "nbconvert_exporter": "python",
   "pygments_lexer": "ipython3",
   "version": "3.8.6"
  },
  "varInspector": {
   "cols": {
    "lenName": 16,
    "lenType": 16,
    "lenVar": 40
   },
   "kernels_config": {
    "python": {
     "delete_cmd_postfix": "",
     "delete_cmd_prefix": "del ",
     "library": "var_list.py",
     "varRefreshCmd": "print(var_dic_list())"
    },
    "r": {
     "delete_cmd_postfix": ") ",
     "delete_cmd_prefix": "rm(",
     "library": "var_list.r",
     "varRefreshCmd": "cat(var_dic_list()) "
    }
   },
   "types_to_exclude": [
    "module",
    "function",
    "builtin_function_or_method",
    "instance",
    "_Feature"
   ],
   "window_display": false
  }
 },
 "nbformat": 4,
 "nbformat_minor": 5
}
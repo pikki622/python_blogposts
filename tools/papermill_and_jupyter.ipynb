{
 "cells": [
  {
   "cell_type": "markdown",
   "id": "c721a574",
   "metadata": {
    "pycharm": {
     "name": "#%% md\n"
    }
   },
   "source": [
    "# Parameterizing and automating Jupyter notebooks with papermill\n",
    "Have you ever created a Jupyter notebook and wished you could generate the notebook with a different set of parameters? If so, you've probably either done one of the following:\n",
    "1. Edit the variables in a cell and reran the notebook, saving off a copy as needed\n",
    "1. Saved a copy of the notebook and maybe hack up code to edit the values in the .ipynb files\n",
    "1. Build some custom code to set the variables with data loaded from a database or configuration file\n",
    "\n",
    "It turns out that there is a good solution for this problem that can allow interactive notebooks to coexist with automated jobs, it's called [papermill](https://papermill.readthedocs.io/).\n",
    "\n",
    "Many notebook authors already use the standard practice of placing a cell near the top of their notebooks that is designated for global variables. The author or other users of the notebook can then modify the values in the cell and run the entire notebook to obtain different results. If the output needs to be persisted, it can be manually downloaded or saved in another format or saved as a different notebook file. But using only a notebook server and these manual methods can quickly become messy and difficult to track, not to mention error prone. Which notebook is the one you edit? Papermill helps solve this problem. In this article, I'll introduce papermill and basic usage, walk through an example of parameterization, and finally talk about ways to fully schedule and automate notebook execution using cron.\n",
    "\n",
    "With papermill, a cell in the notebook is designated for parameters. When papermill executes a parameterized notebook, either via the command line interface (CLI) or using the Python API, parameters are passed in and executed in a subsequent cell. This allows the notebook to be run multiple times with different parameters quickly. The resulting executed notebook can then be saved in a variety of places, including local or cloud storage.\n",
    "\n",
    "## Installation\n",
    "To install papermill, use pip. I'd recommend using a virtual environment using virtualenv or conda. I often recommend using [pyenv](https://www.wrighters.io/you-can-easily-and-sensibly-run-multiple-versions-of-python-with-pyenv/) to install a recent Python version and for creating a [virtualenv](https://www.wrighters.io/use-pyenv-and-virtual-environments-to-manage-python-complexity/). But use whatever you are most comfortable with.\n",
    "\n",
    "```\n",
    "pip install papermill\n",
    "```\n",
    "\n",
    "If you would like to use the various input and output options (like Amazon's ```s3``` or Microsoft's ```azure```, you can install all the dependencies. I won't get into the detail here, but the documentation covers those options, and you can even extend papermill to add other handlers for input/output (I/O) of notebooks.\n",
    "\n",
    "```\n",
    "pip install papermill[all]\n",
    "```\n",
    "\n",
    "## Basic use\n",
    "The first thing most users will want to do with papermill is parameterize a notebook. I made a simple [example notebook](https://github.com/wrighter/python_blogposts/blob/main/tools/papermill_example1.ipynb) that you can download and follow along. Once you have Jupyter running and have opened a notebook, all you need to do is add a parameters tag to the cell with parameters in it.\n",
    "\n",
    "![adding_parameters.gif](adding_parameters.gif)\n",
    "\n",
    "Save the notebook, and now you are ready to execute it using papermill. For the example notebook, use the CLI to run the notebook, supplying your own name.\n",
    "\n",
    "```\n",
    "papermill -p name Matt papermill_example1.ipynb papermill_matt.ipynb\n",
    "```\n",
    "\n",
    "This command is telling papermill to execute the input notebook ```papermill_example1.ipynb``` and write the output to ```papermill_matt.ipynb```, while setting the parameter ```name``` to the value ```Matt```. If you open the resulting notebook, the contents will now include a new cell after the ```parameters```-tagged one with an ```injected-parameters``` tag like this.\n",
    "\n",
    "![papermill_matt.jpg](papermill_matt.jpg)\n",
    "\n",
    "You should now see how you can add as many parameters as you need to make new notebooks from an existing notebook. Think of the main notebook (in our case, ```papermill_example1.ipynb```) as a template that you can use to make as many copies as you want by quickly injecting parameters.\n",
    "\n",
    "##  Basic API use\n",
    "You may want to fetch or build your injected parameters using Python code, and so running notebooks can be done via a Python API. We can achieve the exact same result as above, in a Python script (or in a notebook, it works great there as well - and will show you the progress dynamically)."
   ]
  },
  {
   "cell_type": "code",
   "execution_count": 1,
   "id": "4239cd8b",
   "metadata": {
    "pycharm": {
     "name": "#%%\n"
    }
   },
   "outputs": [
    {
     "data": {
      "application/vnd.jupyter.widget-view+json": {
       "model_id": "e3f1385b4bc3418cb9659e77c697d14c",
       "version_major": 2,
       "version_minor": 0
      },
      "text/plain": [
       "Executing:   0%|          | 0/3 [00:00<?, ?cell/s]"
      ]
     },
     "metadata": {},
     "output_type": "display_data"
    }
   ],
   "source": [
    "import papermill as pm\n",
    "\n",
    "name = \"Matt\"\n",
    "res = pm.execute_notebook(\n",
    "    'papermill_example1.ipynb',\n",
    "    'papermill_{name}.ipynb',\n",
    "    parameters = dict(name=name)\n",
    ")"
   ]
  },
  {
   "cell_type": "markdown",
   "id": "e375c7d6",
   "metadata": {
    "pycharm": {
     "name": "#%% md\n"
    }
   },
   "source": [
    "## More parameter passing\n",
    "So far we've passed only one parameter, and have used the -p option to do this. You can pass parameters a couple of ways.\n",
    "\n",
    "### Command Line\n",
    "You can run these all using the example notebook, then view the results yourself. First, you can specify multiple parameters from the CLI. Even parameters that don't already exist can be defined, and if a parameters cell doesn't exist in your notebook, it will be created for you.\n",
    "\n",
    "```\n",
    "papermill -p name Matt -p level 5 -p factor 0.33 -p alive True papermill_example1.ipynb papermill_matt.ipynb\n",
    "\n",
    "```\n",
    "or with long options instead...\n",
    "```\n",
    "papermill --parameters name Matt --parameters level 5 --parameters factor 0.33 --parameters alive True papermill_example1.ipynb papermill_matt.ipynb\n",
    "```\n",
    "\n",
    "Note that the ```-p``` or ```--parameters``` option will try to parse integers and floats, so if you want them to be interpreted as strings, you use the ```-r``` or ```--raw``` option to get all values in as strings.\n",
    "\n",
    "```\n",
    "papermill -r name Matt -r level 5 -r factor 0.33 -r alive True papermill_example1.ipynb papermill_matt.ipynb\n",
    "\n",
    "```\n",
    "\n",
    "You can also use [yaml](http://yaml.org) for specifying parameters. This can be passed in via a file (```-f``` or ```--parameters_file```), a string (```-y``` or ```--parameters_yaml```) or a base64 encoded string (```-b``` or ```--parameters_base64```). This allows you to pass in more complex data, including lists and dictionaries.\n",
    "\n",
    "```shell\n",
    "papermill papermill_example1.ipynb papermill_matt.ipynb -y \"\n",
    "name: Matt\n",
    "level: 5\n",
    "factor: 0.33\n",
    "alive: True\n",
    "sizes:\n",
    "    - 1.0\n",
    "    - 2.5\n",
    "    - 3.7\n",
    "params:\n",
    "    x: 3\n",
    "    y: 4\"\n",
    "```\n",
    "\n",
    "You can base64 encode the string pretty easily. (Run this in your shell on Mac or Linux or Windows WSL). \n",
    "\n",
    "```shell\n",
    "echo  \"\n",
    "name: Matt\n",
    "level: 5\n",
    "factor: 0.33\n",
    "alive: True\n",
    "sizes:\n",
    "    - 1.0\n",
    "    - 2.5\n",
    "    - 3.7\n",
    "params:\n",
    "    x: 3\n",
    "    y: 4\" > params.yaml\n",
    "```\n",
    "\n",
    "Now you can run the file version.\n",
    "\n",
    "```shell\n",
    "papermill papermill_example1.ipynb papermill_matt.ipynb -f params.yaml\n",
    "\n",
    "```\n",
    "\n",
    "Or the base64 version\n",
    "\n",
    "```shell\n",
    "PARAMS=$(cat params.yaml| base64)\n",
    "papermill papermill_example1.ipynb papermill_matt.ipynb -b $PARAMS\n",
    "```\n",
    "\n",
    "Either way, you should get the idea that you can pass complex data into your notebook from the command line, and also via the API. These examples all use the local filesystem for input and output of notebooks, but note that you can read and write notebooks from Amazon ```s3```,  Azure, Google Cloud Storage, or web servers. \n",
    "\n",
    "## Inspecting notebooks\n",
    "You can also inspect the available parameters of a notebook, from the CLI or using the API.\n",
    "\n",
    "```\n",
    "$ papermill --help-notebook papermill_example1.ipynb\n",
    "Usage: papermill [OPTIONS] NOTEBOOK_PATH [OUTPUT_PATH]\n",
    "\n",
    "Parameters inferred for notebook 'papermill_example1.ipynb':\n",
    "  name: Unknown type (default \"Joe\")\n",
    "```"
   ]
  },
  {
   "cell_type": "code",
   "execution_count": 2,
   "id": "27b399a4",
   "metadata": {
    "pycharm": {
     "name": "#%%\n"
    }
   },
   "outputs": [
    {
     "data": {
      "text/plain": [
       "{'name': {'name': 'name',\n",
       "  'inferred_type_name': 'None',\n",
       "  'default': '\"Joe\"',\n",
       "  'help': ''}}"
      ]
     },
     "execution_count": 2,
     "metadata": {},
     "output_type": "execute_result"
    }
   ],
   "source": [
    "pm.inspect_notebook('papermill_example1.ipynb')"
   ]
  },
  {
   "cell_type": "markdown",
   "id": "589badce",
   "metadata": {
    "pycharm": {
     "name": "#%% md\n"
    }
   },
   "source": [
    "## Executing a full workflow\n",
    "A typical workflow for papermill is to have a parameterized notebook, run it with multiple values, then convert the resulting notebooks into another format for review or reporting. Let's walk through an example of how this might be setup.\n",
    "\n",
    "First, we have a [parameterized notebook](https://github.com/wrighter/python_blogposts/blob/main/tools/papermill_example2.ipynb) that uses the Yahoo! finance API to fetch stock prices and plot data with the all time high price of the stock (or at least it's the high for the last two years since I'm only fetching that much data at this point). \n",
    "\n",
    "If you want to run this example, you will need to ensure you have the ```yfinance``` API installed as well as ```matplotlib```.  You can install both with pip if needed.\n",
    "\n",
    "We can use the papermill CLI to inspect the parameters.\n",
    "\n",
    "```\n",
    "$ papermill --help-notebook papermill_example2.ipynb\n",
    "Usage: papermill [OPTIONS] NOTEBOOK_PATH [OUTPUT_PATH]\n",
    "\n",
    "Parameters inferred for notebook 'papermill_example2.ipynb':\n",
    "  symbol: Unknown type (default 'AAPL')\n",
    "```\n",
    "\n",
    "We'll run this notebook with several symbols. I'm choosing to use a shell script for this so that I can run it through a scheduled cron job, but this could just as easily be done using a simple Python script. However, if you are using a virtual enviroment, you may end up needing a script anyway for ensuring the virtualenv is loaded properly, so it might just be easier to use shell script.\n",
    "\n",
    "I'm also going to use the [```jupyter nbconvert```](https://nbconvert.readthedocs.io/en/latest/usage.html) (or you can run it as ```jupyter-nbconvert```) command to convert the notebook into an html file for viewing via a web browser. Just like papermill, nbconvert can be executed via the command line or using the Python API.\n",
    "\n",
    "```shell\n",
    "#!/bin/bash\n",
    "\n",
    "set -eux\n",
    "\n",
    "# activate our virtualenv (this was created using pyenv-virtualenv, yours will be elsewhere)\n",
    "source /Users/mcw/.pyenv/versions/3.8.6/envs/pandas/bin/activate\n",
    "\n",
    "# get to the script directory if running via cron\n",
    "cd $(dirname \"${BASH_SOURCE[0]}\")\n",
    "\n",
    "for S in AAPL MSFT GOOG FB\n",
    "do\n",
    "        papermill -p symbol $S papermill_example2.ipynb papermill_${S}.ipynb\n",
    "        jupyter-nbconvert --no-input --to html papermill_${S}.ipynb\n",
    "done\n",
    "```\n",
    "\n",
    "You can run this command from your shell (after adjusting the line that activates the virtual environment to reflect your own setup). You can also schedule it to run regularly in cron pretty easily. For example, you can run this report every weekday at 4 PM like this (with your own path).\n",
    "\n",
    "```cron\n",
    "00 16 * * mon-fri /Users/mcw/projects/python_blogposts/tools/run_papermill.sh\n",
    "```\n",
    "\n",
    "With just a little more creativity (and software configuration on nbconvert), you can output the notebooks to PDF or other formats, send them via email, or upload them to a server to have nice looking reports updated on a daily basis. \n",
    "\n",
    "\n",
    "Note that the per-symbol notebooks can be opened in Jupyter server and re-executed easily if debugging or further work is needed if you choose to save them. Just know that if you have an automated job running, the notebooks will be replaced each time it runs. Ideally, you want to work on your main template notebook, then generate new versions for each symbol with automation.\n",
    "\n",
    "One other tip is that papermill can read and write to standard input and output. This means that if you have other tools that take notebook files as input, you don't have to write the files out to disk. For example, in our shell script above, we could prevent writing out each individual notebook file per symbol and do the following inside our loop instead.\n",
    "\n",
    "```\n",
    "papermill -p symbol $S papermill_example2.ipynb | jupyter-nbconvert --stdin --no-input --to html --output report_${S}.html\n",
    "```\n",
    "\n",
    "Note that if you do this, you'll need to open the main notebook (```papermill_example2.ipynb```) and edit your parameters to debug issues. But maybe that's prefereable if you need to save disk space and don't need the ability to debug each notebook separately.\n",
    "\n",
    "## Summary\n",
    "Papermill is a useful library to parameterize and execute Jupyter notebooks. You can use it to automate execution of your notebooks with any sets of parameters you can dream up, and then use nbconvert to provide readable and useful versions of your notebooks.\n",
    "\n",
    "There is much more we can do with notebook automation, but starting with papermill as a mechanism for executing and parameterizing notebooks is a good platform to build on."
   ]
  },
  {
   "cell_type": "code",
   "execution_count": null,
   "id": "42ee78cb",
   "metadata": {
    "pycharm": {
     "name": "#%%\n"
    }
   },
   "outputs": [],
   "source": []
  }
 ],
 "metadata": {
  "kernelspec": {
   "display_name": "Python 3",
   "language": "python",
   "name": "python3"
  },
  "language_info": {
   "codemirror_mode": {
    "name": "ipython",
    "version": 3
   },
   "file_extension": ".py",
   "mimetype": "text/x-python",
   "name": "python",
   "nbconvert_exporter": "python",
   "pygments_lexer": "ipython3",
   "version": "3.8.6"
  },
  "varInspector": {
   "cols": {
    "lenName": 16,
    "lenType": 16,
    "lenVar": 40
   },
   "kernels_config": {
    "python": {
     "delete_cmd_postfix": "",
     "delete_cmd_prefix": "del ",
     "library": "var_list.py",
     "varRefreshCmd": "print(var_dic_list())"
    },
    "r": {
     "delete_cmd_postfix": ") ",
     "delete_cmd_prefix": "rm(",
     "library": "var_list.r",
     "varRefreshCmd": "cat(var_dic_list()) "
    }
   },
   "types_to_exclude": [
    "module",
    "function",
    "builtin_function_or_method",
    "instance",
    "_Feature"
   ],
   "window_display": false
  }
 },
 "nbformat": 4,
 "nbformat_minor": 5
}
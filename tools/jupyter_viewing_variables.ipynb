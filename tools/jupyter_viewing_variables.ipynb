{
 "cells": [
  {
   "cell_type": "markdown",
   "metadata": {
    "pycharm": {
     "name": "#%% md\n"
    }
   },
   "source": [
    "# Ways to view all your variables in a Jupyter notebook\n",
    "Bring up the subject of Jupyter notebooks around Python developers and you'll likely get a variety of opinions about them. Many developers think that using notebooks can promote some bad habits, cause confusion, and result in ugly code. A very common problem that is raised is the idea of hidden state in a notebook. This hidden state can show up in a few ways, but one common way is by executing notebook cells out of order. This often happens during development and exploration. Also, at times, cells are modified, executed multiple times, and even deleted. On deleting or modifying and re-executing a notebook cell, the hidden state that was created by that cell remains in the current session. Variables, functions, classes, and any other code executed in that cell continues to exist and might be used in code in other cells. \n",
    "\n",
    "This causes some obvious problems, first for the current session of the notebook, and second for any future invocations of the notebook. In order for a notebook to reflect reality, it should contain valid code that can be executed in order to produce consistent results. Practically, you can work towards this goal in a couple of ways.\n",
    "\n",
    "## Nuke it\n",
    "If your notebook is small, and runs quickly, you can always restart your kernel and run all the code again. This mimics the more typical development done with unit testing or running scripts from the command line (or in an IDE integration). If you just run a new Python instance with the saved code, no hidden state can exist and the output will be consistent. This will make sense for small notebooks where you can quickly visualize all the code and verify it on inspection. \n",
    "\n",
    "But this may not be practical for all cases.\n",
    "\n",
    "## View it\n",
    "The second option for a developer who doesn't want to continually restart their interpreter is to view what your current state is. Let's walk through a few ways to do this, from the simple to more complex. Note that this code was run using Jupyter 6.15 with IPython 7.19.0 as the kernel.\n",
    "\n",
    "First, let's make some data."
   ]
  },
  {
   "cell_type": "code",
   "execution_count": 1,
   "metadata": {
    "pycharm": {
     "name": "#%%\n"
    }
   },
   "outputs": [],
   "source": [
    "import numpy as np\n",
    "\n",
    "def a_function():\n",
    "    pass\n",
    "\n",
    "class MyClass:\n",
    "    def __init__(self, name):\n",
    "        self.name = name\n",
    "\n",
    "var = \"a variable\"\n",
    "var2 = \"another variable\"\n",
    "x = np.ones(20)"
   ]
  },
  {
   "cell_type": "markdown",
   "metadata": {
    "pycharm": {
     "name": "#%% md\n"
    }
   },
   "source": [
    "Now once a cell with the above Python code has been executed, I can inspect the state of my current session by either executing a single cell with one of the variables, in it, or using the IPython ```display``` function. A cell will display the value of the last row in the cell (unless you append a ```;``` at the end of the line). If using the default interpreter, ```display``` is not available, but executing any variable will show you the value (based on its ```__repr__``` method)."
   ]
  },
  {
   "cell_type": "code",
   "execution_count": 2,
   "metadata": {
    "pycharm": {
     "name": "#%%\n"
    }
   },
   "outputs": [
    {
     "data": {
      "text/plain": [
       "<function __main__.a_function()>"
      ]
     },
     "metadata": {},
     "output_type": "display_data"
    },
    {
     "data": {
      "text/plain": [
       "'another variable'"
      ]
     },
     "metadata": {},
     "output_type": "display_data"
    },
    {
     "data": {
      "text/plain": [
       "__main__.MyClass"
      ]
     },
     "metadata": {},
     "output_type": "display_data"
    },
    {
     "data": {
      "text/plain": [
       "array([1., 1., 1., 1., 1., 1., 1., 1., 1., 1., 1., 1., 1., 1., 1., 1., 1.,\n",
       "       1., 1., 1.])"
      ]
     },
     "metadata": {},
     "output_type": "display_data"
    },
    {
     "data": {
      "text/plain": [
       "'a variable'"
      ]
     },
     "execution_count": 2,
     "metadata": {},
     "output_type": "execute_result"
    }
   ],
   "source": [
    "display(a_function)\n",
    "display(var2)\n",
    "display(MyClass)\n",
    "display(x)\n",
    "var"
   ]
  },
  {
   "cell_type": "markdown",
   "metadata": {
    "pycharm": {
     "name": "#%% md\n"
    }
   },
   "source": [
    "## But what if the code is gone?\n",
    "OK, this above method is obvious, we can view items that we know exist. But how do we find objects that we don't know exist? Maybe we deleted the cell that created the values, or if we're using an IPython command line, our history is not visible anymore for that code. Or maybe we edited the cell a few times and re-executed it, and changed some variable names.\n",
    "\n",
    "One function to consider is the [```dir```](https://docs.python.org/3/library/functions.html#dir) builtin. When you invoke this function with no arguments, it will return a list of all the variable names in the local scope. If you supply a module or class, it will list the attributes of the module or the class (and its subclasses).\n",
    "\n",
    "When we do this, we can see that our variables are all present. Note this is available in standard Python, not just IPython."
   ]
  },
  {
   "cell_type": "code",
   "execution_count": 3,
   "metadata": {
    "pycharm": {
     "name": "#%%\n"
    }
   },
   "outputs": [
    {
     "data": {
      "text/plain": [
       "['In',\n",
       " 'MyClass',\n",
       " 'Out',\n",
       " '_',\n",
       " '_2',\n",
       " '__',\n",
       " '___',\n",
       " '__builtin__',\n",
       " '__builtins__',\n",
       " '__doc__',\n",
       " '__loader__',\n",
       " '__name__',\n",
       " '__package__',\n",
       " '__spec__',\n",
       " '_dh',\n",
       " '_i',\n",
       " '_i1',\n",
       " '_i2',\n",
       " '_i3',\n",
       " '_ih',\n",
       " '_ii',\n",
       " '_iii',\n",
       " '_oh',\n",
       " 'a_function',\n",
       " 'exit',\n",
       " 'get_ipython',\n",
       " 'np',\n",
       " 'quit',\n",
       " 'var',\n",
       " 'var2',\n",
       " 'x']"
      ]
     },
     "execution_count": 3,
     "metadata": {},
     "output_type": "execute_result"
    }
   ],
   "source": [
    "dir()"
   ]
  },
  {
   "cell_type": "markdown",
   "metadata": {
    "pycharm": {
     "name": "#%% md\n"
    }
   },
   "source": [
    "Woah, there's also a lot of other stuff in there. Most of those variables are added by IPython and relate to command history, so if you run this sample with the default interpreter, there won't be quite as many variables present. Also, some functions are loaded at startup (and you can configure IPython to load others as well). Other objects are put there by Python in the global scope.\n",
    "\n",
    "Note that the special variable ```_``` is the value of the last executed cell (or line).\n",
    "\n",
    "## Using ```globals``` and ```locals```\n",
    "There are two other functions that are helpful: [```locals```](https://docs.python.org/3/library/functions.html#locals) and [```globals```](https://docs.python.org/3/library/functions.html#globals). These will return the symbol table, a dictionary keyed by the variable names and containing the values. For ```globals``` this is the values for the current module (when invoked in a function or method, the module is the one where the function was defined, not where it was executed). ```locals``` is the same as ```globals``` when invoked at the module level, but free variables are returned when invoked in function blocks.\n",
    "\n",
    "Note, don't modify these tables, it will impact the running interpreter."
   ]
  },
  {
   "cell_type": "code",
   "execution_count": 4,
   "metadata": {
    "pycharm": {
     "name": "#%%\n"
    }
   },
   "outputs": [
    {
     "data": {
      "text/plain": [
       "{'__name__': '__main__',\n",
       " '__doc__': 'Automatically created module for IPython interactive environment',\n",
       " '__package__': None,\n",
       " '__loader__': None,\n",
       " '__spec__': None,\n",
       " '__builtin__': <module 'builtins' (built-in)>,\n",
       " '__builtins__': <module 'builtins' (built-in)>,\n",
       " '_ih': ['',\n",
       "  'import numpy as np\\n\\ndef a_function():\\n    pass\\n\\nclass MyClass:\\n    def __init__(self, name):\\n        self.name = name\\n\\nvar = \"a variable\"\\nvar2 = \"another variable\"\\nx = np.ones(20)',\n",
       "  'display(a_function)\\ndisplay(var2)\\ndisplay(MyClass)\\ndisplay(x)\\nvar',\n",
       "  'dir()',\n",
       "  'locals()'],\n",
       " '_oh': {2: 'a variable',\n",
       "  3: ['In',\n",
       "   'MyClass',\n",
       "   'Out',\n",
       "   '_',\n",
       "   '_2',\n",
       "   '__',\n",
       "   '___',\n",
       "   '__builtin__',\n",
       "   '__builtins__',\n",
       "   '__doc__',\n",
       "   '__loader__',\n",
       "   '__name__',\n",
       "   '__package__',\n",
       "   '__spec__',\n",
       "   '_dh',\n",
       "   '_i',\n",
       "   '_i1',\n",
       "   '_i2',\n",
       "   '_i3',\n",
       "   '_ih',\n",
       "   '_ii',\n",
       "   '_iii',\n",
       "   '_oh',\n",
       "   'a_function',\n",
       "   'exit',\n",
       "   'get_ipython',\n",
       "   'np',\n",
       "   'quit',\n",
       "   'var',\n",
       "   'var2',\n",
       "   'x']},\n",
       " '_dh': ['/Users/mcw/projects/python_blogposts/tools'],\n",
       " 'In': ['',\n",
       "  'import numpy as np\\n\\ndef a_function():\\n    pass\\n\\nclass MyClass:\\n    def __init__(self, name):\\n        self.name = name\\n\\nvar = \"a variable\"\\nvar2 = \"another variable\"\\nx = np.ones(20)',\n",
       "  'display(a_function)\\ndisplay(var2)\\ndisplay(MyClass)\\ndisplay(x)\\nvar',\n",
       "  'dir()',\n",
       "  'locals()'],\n",
       " 'Out': {2: 'a variable',\n",
       "  3: ['In',\n",
       "   'MyClass',\n",
       "   'Out',\n",
       "   '_',\n",
       "   '_2',\n",
       "   '__',\n",
       "   '___',\n",
       "   '__builtin__',\n",
       "   '__builtins__',\n",
       "   '__doc__',\n",
       "   '__loader__',\n",
       "   '__name__',\n",
       "   '__package__',\n",
       "   '__spec__',\n",
       "   '_dh',\n",
       "   '_i',\n",
       "   '_i1',\n",
       "   '_i2',\n",
       "   '_i3',\n",
       "   '_ih',\n",
       "   '_ii',\n",
       "   '_iii',\n",
       "   '_oh',\n",
       "   'a_function',\n",
       "   'exit',\n",
       "   'get_ipython',\n",
       "   'np',\n",
       "   'quit',\n",
       "   'var',\n",
       "   'var2',\n",
       "   'x']},\n",
       " 'get_ipython': <bound method InteractiveShell.get_ipython of <ipykernel.zmqshell.ZMQInteractiveShell object at 0x10a66df40>>,\n",
       " 'exit': <IPython.core.autocall.ZMQExitAutocall at 0x10a6f23a0>,\n",
       " 'quit': <IPython.core.autocall.ZMQExitAutocall at 0x10a6f23a0>,\n",
       " '_': ['In',\n",
       "  'MyClass',\n",
       "  'Out',\n",
       "  '_',\n",
       "  '_2',\n",
       "  '__',\n",
       "  '___',\n",
       "  '__builtin__',\n",
       "  '__builtins__',\n",
       "  '__doc__',\n",
       "  '__loader__',\n",
       "  '__name__',\n",
       "  '__package__',\n",
       "  '__spec__',\n",
       "  '_dh',\n",
       "  '_i',\n",
       "  '_i1',\n",
       "  '_i2',\n",
       "  '_i3',\n",
       "  '_ih',\n",
       "  '_ii',\n",
       "  '_iii',\n",
       "  '_oh',\n",
       "  'a_function',\n",
       "  'exit',\n",
       "  'get_ipython',\n",
       "  'np',\n",
       "  'quit',\n",
       "  'var',\n",
       "  'var2',\n",
       "  'x'],\n",
       " '__': 'a variable',\n",
       " '___': '',\n",
       " '_i': 'dir()',\n",
       " '_ii': 'display(a_function)\\ndisplay(var2)\\ndisplay(MyClass)\\ndisplay(x)\\nvar',\n",
       " '_iii': 'import numpy as np\\n\\ndef a_function():\\n    pass\\n\\nclass MyClass:\\n    def __init__(self, name):\\n        self.name = name\\n\\nvar = \"a variable\"\\nvar2 = \"another variable\"\\nx = np.ones(20)',\n",
       " '_i1': 'import numpy as np\\n\\ndef a_function():\\n    pass\\n\\nclass MyClass:\\n    def __init__(self, name):\\n        self.name = name\\n\\nvar = \"a variable\"\\nvar2 = \"another variable\"\\nx = np.ones(20)',\n",
       " 'np': <module 'numpy' from '/Users/mcw/.pyenv/versions/3.8.6/envs/pandas/lib/python3.8/site-packages/numpy/__init__.py'>,\n",
       " 'a_function': <function __main__.a_function()>,\n",
       " 'MyClass': __main__.MyClass,\n",
       " 'var': 'a variable',\n",
       " 'var2': 'another variable',\n",
       " 'x': array([1., 1., 1., 1., 1., 1., 1., 1., 1., 1., 1., 1., 1., 1., 1., 1., 1.,\n",
       "        1., 1., 1.]),\n",
       " '_i2': 'display(a_function)\\ndisplay(var2)\\ndisplay(MyClass)\\ndisplay(x)\\nvar',\n",
       " '_2': 'a variable',\n",
       " '_i3': 'dir()',\n",
       " '_3': ['In',\n",
       "  'MyClass',\n",
       "  'Out',\n",
       "  '_',\n",
       "  '_2',\n",
       "  '__',\n",
       "  '___',\n",
       "  '__builtin__',\n",
       "  '__builtins__',\n",
       "  '__doc__',\n",
       "  '__loader__',\n",
       "  '__name__',\n",
       "  '__package__',\n",
       "  '__spec__',\n",
       "  '_dh',\n",
       "  '_i',\n",
       "  '_i1',\n",
       "  '_i2',\n",
       "  '_i3',\n",
       "  '_ih',\n",
       "  '_ii',\n",
       "  '_iii',\n",
       "  '_oh',\n",
       "  'a_function',\n",
       "  'exit',\n",
       "  'get_ipython',\n",
       "  'np',\n",
       "  'quit',\n",
       "  'var',\n",
       "  'var2',\n",
       "  'x'],\n",
       " '_i4': 'locals()'}"
      ]
     },
     "execution_count": 4,
     "metadata": {},
     "output_type": "execute_result"
    }
   ],
   "source": [
    "locals()"
   ]
  },
  {
   "cell_type": "code",
   "execution_count": 5,
   "metadata": {
    "pycharm": {
     "name": "#%%\n"
    }
   },
   "outputs": [
    {
     "data": {
      "text/plain": [
       "'a variable'"
      ]
     },
     "execution_count": 5,
     "metadata": {},
     "output_type": "execute_result"
    }
   ],
   "source": [
    "globals()['var'] # grab out a single value"
   ]
  },
  {
   "cell_type": "markdown",
   "metadata": {
    "pycharm": {
     "name": "#%% md\n"
    }
   },
   "source": [
    "## Can I see something a little nicer?\n",
    "Working with a big dictionary that has some extra values added by IPython might not be the easiest way to inspect your variables. You could build a function to beautify the symbol table, but luckily there's already some nice magics for this. (Magics are special functions in IPython, look [here](https://www.wrighters.io/using-autoreload-to-speed-up-ipython-and-jupyter-work/) for a quick intro to magics, and specifically the ```autoreload``` magic.)\n",
    "\n",
    "Jupyter/IPython provide three helpful magics for inspecting variables. First, there is ```%who```. With no arguments it prints all the interactive variables with minimal formatting. You can supply types to only show variables matching the type given. "
   ]
  },
  {
   "cell_type": "code",
   "execution_count": 6,
   "metadata": {
    "pycharm": {
     "name": "#%%\n"
    }
   },
   "outputs": [
    {
     "name": "stdout",
     "output_type": "stream",
     "text": [
      "MyClass\t a_function\t np\t var\t var2\t x\t \n"
     ]
    }
   ],
   "source": [
    "%who"
   ]
  },
  {
   "cell_type": "code",
   "execution_count": 7,
   "metadata": {
    "pycharm": {
     "name": "#%%\n"
    }
   },
   "outputs": [
    {
     "name": "stdout",
     "output_type": "stream",
     "text": [
      "a_function\t \n"
     ]
    }
   ],
   "source": [
    "# just functions\n",
    "%who function"
   ]
  },
  {
   "cell_type": "markdown",
   "metadata": {
    "pycharm": {
     "name": "#%% md\n"
    }
   },
   "source": [
    "The ```%who_ls``` magic does the same thing, but returns the variables as a list. It can also limit what you see by type."
   ]
  },
  {
   "cell_type": "code",
   "execution_count": 8,
   "metadata": {
    "pycharm": {
     "name": "#%%\n"
    }
   },
   "outputs": [
    {
     "data": {
      "text/plain": [
       "['MyClass', 'a_function', 'np', 'var', 'var2', 'x']"
      ]
     },
     "execution_count": 8,
     "metadata": {},
     "output_type": "execute_result"
    }
   ],
   "source": [
    "%who_ls"
   ]
  },
  {
   "cell_type": "code",
   "execution_count": 9,
   "metadata": {
    "pycharm": {
     "name": "#%%\n"
    }
   },
   "outputs": [
    {
     "data": {
      "text/plain": [
       "['a_function', 'var', 'var2']"
      ]
     },
     "execution_count": 9,
     "metadata": {},
     "output_type": "execute_result"
    }
   ],
   "source": [
    "%who_ls str function"
   ]
  },
  {
   "cell_type": "markdown",
   "metadata": {
    "pycharm": {
     "name": "#%% md\n"
    }
   },
   "source": [
    "The last magic is ```%whos```, it provides a nice formatted table that will show you the variable, type, and a string representation. It includes helpful information about Numpy and pandas data structures."
   ]
  },
  {
   "cell_type": "code",
   "execution_count": 10,
   "metadata": {
    "pycharm": {
     "name": "#%%\n"
    }
   },
   "outputs": [
    {
     "name": "stdout",
     "output_type": "stream",
     "text": [
      "Variable     Type        Data/Info\n",
      "----------------------------------\n",
      "MyClass      type        <class '__main__.MyClass'>\n",
      "a_function   function    <function a_function at 0x10b8051f0>\n",
      "np           module      <module 'numpy' from '/Us<...>kages/numpy/__init__.py'>\n",
      "var          str         a variable\n",
      "var2         str         another variable\n",
      "x            ndarray     20: 20 elems, type `float64`, 160 bytes\n"
     ]
    }
   ],
   "source": [
    "%whos"
   ]
  },
  {
   "cell_type": "markdown",
   "metadata": {
    "pycharm": {
     "name": "#%% md\n"
    }
   },
   "source": [
    "## Fancy output\n",
    "Now if you want to get fancy, Jupyter has an extension available through [nbextensions](https://github.com/ipython-contrib/jupyter_contrib_nbextensions/). The Variable Inspector extension will give you a nice option for viewing variables in an output similar to the ```%whos``` output above. If you are used to using an IDE with an automatically updating variable inspector, you might find this extension useful and worth checking out.\n",
    "\n",
    "## Removing variables\n",
    "After looking at the variables defined in your local scope, you may want to remove some of them. For example, if you deleted a cell and want the objects created by that cell to be removed, just ```del``` them. You can verify they are gone by using any of the methods above."
   ]
  },
  {
   "cell_type": "code",
   "execution_count": 11,
   "metadata": {
    "pycharm": {
     "name": "#%%\n"
    }
   },
   "outputs": [
    {
     "name": "stdout",
     "output_type": "stream",
     "text": [
      "Variable     Type        Data/Info\n",
      "----------------------------------\n",
      "MyClass      type        <class '__main__.MyClass'>\n",
      "a_function   function    <function a_function at 0x10b8051f0>\n",
      "np           module      <module 'numpy' from '/Us<...>kages/numpy/__init__.py'>\n",
      "var          str         a variable\n",
      "x            ndarray     20: 20 elems, type `float64`, 160 bytes\n"
     ]
    }
   ],
   "source": [
    "del var2\n",
    "%whos"
   ]
  },
  {
   "cell_type": "markdown",
   "metadata": {
    "pycharm": {
     "name": "#%% md\n"
    }
   },
   "source": [
    "## Summary\n",
    "Now you know of a few tools that you can use to look for variables in your current Python session. Use them to better understand the code you've already executed and maybe save yourself a little bit of time."
   ]
  }
 ],
 "metadata": {
  "kernelspec": {
   "display_name": "Python 3",
   "language": "python",
   "name": "python3"
  },
  "language_info": {
   "codemirror_mode": {
    "name": "ipython",
    "version": 3
   },
   "file_extension": ".py",
   "mimetype": "text/x-python",
   "name": "python",
   "nbconvert_exporter": "python",
   "pygments_lexer": "ipython3",
   "version": "3.8.6"
  },
  "varInspector": {
   "cols": {
    "lenName": 16,
    "lenType": 16,
    "lenVar": 40
   },
   "kernels_config": {
    "python": {
     "delete_cmd_postfix": "",
     "delete_cmd_prefix": "del ",
     "library": "var_list.py",
     "varRefreshCmd": "print(var_dic_list())"
    },
    "r": {
     "delete_cmd_postfix": ") ",
     "delete_cmd_prefix": "rm(",
     "library": "var_list.r",
     "varRefreshCmd": "cat(var_dic_list()) "
    }
   },
   "oldHeight": 212,
   "position": {
    "height": "40px",
    "left": "943px",
    "right": "20px",
    "top": "120px",
    "width": "391px"
   },
   "types_to_exclude": [
    "module",
    "function",
    "builtin_function_or_method",
    "instance",
    "_Feature"
   ],
   "varInspector_section_display": "none",
   "window_display": false
  }
 },
 "nbformat": 4,
 "nbformat_minor": 4
}
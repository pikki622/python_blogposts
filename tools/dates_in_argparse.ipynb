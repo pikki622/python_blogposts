{
 "cells": [
  {
   "cell_type": "markdown",
   "id": "06d3b48a",
   "metadata": {},
   "source": [
    "# Reading date arguments to a Python script using argparse\n",
    "I bet I've written hundreds of Python scripts in my career that take some sort of date parameter on the command line. It's very common for me to write little utility scripts that need to be able to run on a subset of data that is limited by dates. My preferred way to parse command line options in Python is to use the core `argparse` module. But argparse doesn't have built in support for date handling, and the first time I had to do this, I ended up doing all the date parsing *after* I had done the argument parsing. In this article, I'll show you two basic ways to add date argument parsing directly in your command line parsing.\n",
    "\n",
    "First, let's do a quick review of [`argparse`](https://docs.python.org/3/library/argparse.html) and how it works. Then we'll add a simple date parser, followed by a slightly more complex one.\n",
    "\n",
    "## `argparse` basics\n",
    "The `argparse` module has a good [tutorial](https://docs.python.org/3/howto/argparse.html) that I'd recommend as a starting point if you've never written a command line script in Python before, or haven't used `argparse`.  I'm going to assume that you at least know how to create an `ArgumentParser` and have it parse some basic arguments of different types. Let's look at an example. Note that since this example code is running inside a Jupyter notebook, I'll always pass in my own arguments here, but in your command line script, you'll just call `parser.parse_args()` to parse the arguments from the command line."
   ]
  },
  {
   "cell_type": "code",
   "execution_count": 1,
   "id": "f35219d3",
   "metadata": {},
   "outputs": [
    {
     "name": "stdout",
     "output_type": "stream",
     "text": [
      "usage: ipykernel_launcher.py [-h]\n",
      "\n",
      "optional arguments:\n",
      "  -h, --help  show this help message and exit\n"
     ]
    }
   ],
   "source": [
    "import argparse\n",
    "\n",
    "parser = argparse.ArgumentParser()\n",
    "# since this example is running in Jupyter, I'll always pass in the arguments \n",
    "try:\n",
    "    parser.parse_args([\"-h\"])\n",
    "except SystemExit: # calling help will call SystemExit, we can catch this instead\n",
    "    pass"
   ]
  },
  {
   "cell_type": "markdown",
   "id": "b3e2cf1c",
   "metadata": {},
   "source": [
    "OK, let's add a few arguments of different types."
   ]
  },
  {
   "cell_type": "code",
   "execution_count": 2,
   "id": "0d53604b",
   "metadata": {},
   "outputs": [
    {
     "data": {
      "text/plain": [
       "Namespace(debug=True, extension='.xls', number=10)"
      ]
     },
     "execution_count": 2,
     "metadata": {},
     "output_type": "execute_result"
    }
   ],
   "source": [
    "parser = argparse.ArgumentParser()\n",
    "parser.add_argument('-n', '--number', type=int, help='Number of times to run')\n",
    "parser.add_argument('-x', '--extension', type=str, help='File extension to search for')\n",
    "parser.add_argument('-d', '--debug', action='store_true', help='Turn on debug logging')\n",
    "\n",
    "parser.parse_args([\"-n\", \"10\", \"--extension\", \".xls\", \"-d\"])"
   ]
  },
  {
   "cell_type": "markdown",
   "id": "38077356",
   "metadata": {},
   "source": [
    "Now let's try it with some sort of date argument. Let's do the naive thing and just see if we could set the type to a date and have it magically work."
   ]
  },
  {
   "cell_type": "code",
   "execution_count": 3,
   "id": "9af6cd2a",
   "metadata": {},
   "outputs": [
    {
     "name": "stderr",
     "output_type": "stream",
     "text": [
      "usage: ipykernel_launcher.py [-h] [-s START]\n",
      "ipykernel_launcher.py: error: argument -s/--start: invalid date value: '2022-01-01'\n"
     ]
    }
   ],
   "source": [
    "import datetime\n",
    "\n",
    "parser = argparse.ArgumentParser()\n",
    "parser.add_argument('-s', '--start', type=datetime.date, help='Set a start date')\n",
    "\n",
    "try:\n",
    "    parser.parse_args([\"-s\", \"2022-01-01\"])\n",
    "except:\n",
    "    pass"
   ]
  },
  {
   "cell_type": "markdown",
   "id": "7c812459",
   "metadata": {},
   "source": [
    "Alas, it's not quite that easy. I didn't show you the full output (I put this in a try/except), but the reason it doesn't work is because `datetime.date` doesn't take a single string argument in its contructor. The `type` argument in `parser.add_argument` can be any callable that takes a single string, and in this scenario `argparse` is just passing that string into the `date` constructor, which doesn't work. It is expecting three int arguments instead.\n",
    "\n",
    "So let's do some basic date parsing like this:"
   ]
  },
  {
   "cell_type": "code",
   "execution_count": 4,
   "id": "e192f3b8",
   "metadata": {},
   "outputs": [
    {
     "data": {
      "text/plain": [
       "Namespace(start=datetime.date(2022, 1, 1))"
      ]
     },
     "execution_count": 4,
     "metadata": {},
     "output_type": "execute_result"
    }
   ],
   "source": [
    "parser = argparse.ArgumentParser()\n",
    "parser.add_argument('-s', '--start',\n",
    "                    type=lambda d: datetime.datetime.strptime(d, '%Y-%m-%d').date(),\n",
    "                    help='Set a start date')\n",
    "parser.parse_args([\"-s\", \"2022-01-01\"])"
   ]
  },
  {
   "cell_type": "markdown",
   "id": "c27e1690",
   "metadata": {},
   "source": [
    "I'll break that down a bit. The `lambda` takes one parameter. It will be passed the command line string token (which is `2022-01-01` in this case) and pass it into `datetime.datetime.strptime` with the right format, and then call `date()` on it to return just the date portion.\n",
    "\n",
    "## More complex date parsing\n",
    "But what if you want to accept dates in multiple formats?\n",
    "\n",
    "You could create a more complex lambda or a separate function to do this. But it turns out that someone has of course already created this, and it's called [`dateutil`](https://dateutil.readthedocs.io/en/stable/). You can install it if it's not already in your environment with `pip install python-dateutil`. The `parse` method will do a pretty good job of getting a valid date out of a string.\n",
    "\n",
    "To wire this parsing up to our argument parsing, the `argparse` API can be extended via custom `Action` classes. The action class only needs to implement the `__call__` method to take the correct arguments and deal with the values passed to it properly. The function signature includes the `argparse.Namespace` object and it's recommended that you store the results of your processing in the namespace by the correct name, using `setattr`. We connect it to the argument parser by specifying it as the action for our argument."
   ]
  },
  {
   "cell_type": "code",
   "execution_count": 5,
   "id": "1ef85d68",
   "metadata": {},
   "outputs": [
    {
     "data": {
      "text/plain": [
       "Namespace(start=datetime.date(2022, 1, 1))"
      ]
     },
     "execution_count": 5,
     "metadata": {},
     "output_type": "execute_result"
    }
   ],
   "source": [
    "from dateutil.parser import parse, ParserError\n",
    "\n",
    "class DateParser(argparse.Action):\n",
    "    def __call__(self, parser, namespace, values, option_strings=None):\n",
    "        setattr(namespace, self.dest, parse(values).date())\n",
    "    \n",
    "parser = argparse.ArgumentParser()\n",
    "parser.add_argument('-s', '--start',\n",
    "                    action=DateParser,\n",
    "                    help='Set a start date')\n",
    "parser.parse_args([\"-s\", \"1/1/2022\"])"
   ]
  },
  {
   "cell_type": "markdown",
   "id": "1e833c99",
   "metadata": {},
   "source": [
    "This works with a pretty wide variety of date formats. It will also raise a `ValueError` (actually a subclass of it) if there's a parsing error."
   ]
  },
  {
   "cell_type": "code",
   "execution_count": 6,
   "id": "39629909",
   "metadata": {},
   "outputs": [
    {
     "name": "stdout",
     "output_type": "stream",
     "text": [
      "Unknown string format: tomorrow\n"
     ]
    }
   ],
   "source": [
    "assert parser.parse_args([\"-s\", \"1/1/2022\"]).start == datetime.date(2022,1,1)\n",
    "assert parser.parse_args([\"-s\", \"2022-1-1\"]).start == datetime.date(2022,1,1)\n",
    "assert parser.parse_args([\"-s\", \"Jan1,2022\"]).start == datetime.date(2022,1,1)\n",
    "assert parser.parse_args([\"-s\", \"1-Jan-2022\"]).start == datetime.date(2022,1,1)\n",
    "assert parser.parse_args([\"-s\", \"1-Jan-22\"]).start == datetime.date(2022,1,1)\n",
    "assert parser.parse_args([\"-s\", \"January, 1 2022\"]).start == datetime.date(2022,1,1)\n",
    "assert parser.parse_args([\"-s\", \"January 1st, 2022\"]).start == datetime.date(2022,1,1)\n",
    "try:\n",
    "    parser.parse_args([\"-s\", \"tomorrow\"])\n",
    "except ValueError as ex:\n",
    "    print(ex)"
   ]
  },
  {
   "cell_type": "markdown",
   "id": "3f9e6b95",
   "metadata": {},
   "source": [
    "There you go, you can now easily add flexible date parsing of command line options to your Python scripts. I have to do this so often that I usually copy this code out of an existing script, so I thought it made sense to just write it up. I hope you find it useful."
   ]
  }
 ],
 "metadata": {
  "kernelspec": {
   "display_name": "Python 3",
   "language": "python",
   "name": "python3"
  },
  "language_info": {
   "codemirror_mode": {
    "name": "ipython",
    "version": 3
   },
   "file_extension": ".py",
   "mimetype": "text/x-python",
   "name": "python",
   "nbconvert_exporter": "python",
   "pygments_lexer": "ipython3",
   "version": "3.8.6"
  },
  "varInspector": {
   "cols": {
    "lenName": 16,
    "lenType": 16,
    "lenVar": 40
   },
   "kernels_config": {
    "python": {
     "delete_cmd_postfix": "",
     "delete_cmd_prefix": "del ",
     "library": "var_list.py",
     "varRefreshCmd": "print(var_dic_list())"
    },
    "r": {
     "delete_cmd_postfix": ") ",
     "delete_cmd_prefix": "rm(",
     "library": "var_list.r",
     "varRefreshCmd": "cat(var_dic_list()) "
    }
   },
   "types_to_exclude": [
    "module",
    "function",
    "builtin_function_or_method",
    "instance",
    "_Feature"
   ],
   "window_display": false
  }
 },
 "nbformat": 4,
 "nbformat_minor": 5
}

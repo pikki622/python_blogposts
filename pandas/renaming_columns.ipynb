{
 "cells": [
  {
   "cell_type": "markdown",
   "metadata": {
    "pycharm": {
     "name": "#%% md\n"
    }
   },
   "source": [
    "Let's say we have a pandas DataFrame with several columns."
   ]
  },
  {
   "cell_type": "code",
   "execution_count": 13,
   "metadata": {
    "pycharm": {
     "name": "#%%\n"
    }
   },
   "outputs": [
    {
     "data": {
      "text/html": [
       "<div>\n",
       "<style scoped>\n",
       "    .dataframe tbody tr th:only-of-type {\n",
       "        vertical-align: middle;\n",
       "    }\n",
       "\n",
       "    .dataframe tbody tr th {\n",
       "        vertical-align: top;\n",
       "    }\n",
       "\n",
       "    .dataframe thead th {\n",
       "        text-align: right;\n",
       "    }\n",
       "</style>\n",
       "<table border=\"1\" class=\"dataframe\">\n",
       "  <thead>\n",
       "    <tr style=\"text-align: right;\">\n",
       "      <th></th>\n",
       "      <th>A</th>\n",
       "      <th>B</th>\n",
       "      <th>C</th>\n",
       "      <th>D</th>\n",
       "      <th>E</th>\n",
       "    </tr>\n",
       "  </thead>\n",
       "  <tbody>\n",
       "    <tr>\n",
       "      <th>0</th>\n",
       "      <td>0.292812</td>\n",
       "      <td>0.893026</td>\n",
       "      <td>0.386482</td>\n",
       "      <td>0.620794</td>\n",
       "      <td>0.330648</td>\n",
       "    </tr>\n",
       "    <tr>\n",
       "      <th>1</th>\n",
       "      <td>0.476695</td>\n",
       "      <td>0.031236</td>\n",
       "      <td>0.139148</td>\n",
       "      <td>0.299926</td>\n",
       "      <td>0.073512</td>\n",
       "    </tr>\n",
       "    <tr>\n",
       "      <th>2</th>\n",
       "      <td>0.076082</td>\n",
       "      <td>0.392369</td>\n",
       "      <td>0.484886</td>\n",
       "      <td>0.152317</td>\n",
       "      <td>0.386407</td>\n",
       "    </tr>\n",
       "    <tr>\n",
       "      <th>3</th>\n",
       "      <td>0.877472</td>\n",
       "      <td>0.136594</td>\n",
       "      <td>0.256220</td>\n",
       "      <td>0.717604</td>\n",
       "      <td>0.020764</td>\n",
       "    </tr>\n",
       "    <tr>\n",
       "      <th>4</th>\n",
       "      <td>0.631452</td>\n",
       "      <td>0.784715</td>\n",
       "      <td>0.461989</td>\n",
       "      <td>0.424976</td>\n",
       "      <td>0.663504</td>\n",
       "    </tr>\n",
       "  </tbody>\n",
       "</table>\n",
       "</div>"
      ],
      "text/plain": [
       "          A         B         C         D         E\n",
       "0  0.292812  0.893026  0.386482  0.620794  0.330648\n",
       "1  0.476695  0.031236  0.139148  0.299926  0.073512\n",
       "2  0.076082  0.392369  0.484886  0.152317  0.386407\n",
       "3  0.877472  0.136594  0.256220  0.717604  0.020764\n",
       "4  0.631452  0.784715  0.461989  0.424976  0.663504"
      ]
     },
     "execution_count": 13,
     "metadata": {},
     "output_type": "execute_result"
    }
   ],
   "source": [
    "import pandas as pd\n",
    "import numpy as np\n",
    "\n",
    "df = pd.DataFrame(np.random.rand(5,5), columns=['A', 'B', 'C', 'D', 'E'])\n",
    "\n",
    "df"
   ]
  },
  {
   "cell_type": "markdown",
   "metadata": {
    "pycharm": {
     "name": "#%% md\n"
    }
   },
   "source": [
    "What if we want to rename the columns? There is more than one way to do this, and I'll start with an indirect answer that's not really a rename. Sometimes your desire to rename a column is associated with a data change, so maybe you just end up adding a column instead. Depending on what you're working on, and how much memory you can spare, and how many columns you want to deal with, adding another column is a good way to work when you're dealing with ad-hoc exploration, because you can always step back and repeat the steps since you have the intermediate data. You can complete the rename by dropping the old column. While this isn't very efficient, for ad-hoc data exploration, it's quite common."
   ]
  },
  {
   "cell_type": "code",
   "execution_count": 4,
   "metadata": {
    "pycharm": {
     "name": "#%%\n"
    }
   },
   "outputs": [],
   "source": [
    "df['e'] = np.maximum(df['E'], .5)"
   ]
  },
  {
   "cell_type": "markdown",
   "metadata": {
    "pycharm": {
     "name": "#%% md\n"
    }
   },
   "source": [
    "But let's say you do want to really just rename the column in place. Here's an easy way, but requires you do update all the columns at once."
   ]
  },
  {
   "cell_type": "code",
   "execution_count": 5,
   "metadata": {
    "pycharm": {
     "name": "#%%\n"
    }
   },
   "outputs": [
    {
     "name": "stdout",
     "output_type": "stream",
     "text": [
      "<class 'pandas.core.indexes.base.Index'>\n"
     ]
    }
   ],
   "source": [
    "print(type(df.columns))\n",
    "\n",
    "df.columns = ['A', 'B', 'C', 'D', 'EEEE', 'e']"
   ]
  },
  {
   "cell_type": "markdown",
   "metadata": {
    "pycharm": {
     "name": "#%% md\n"
    }
   },
   "source": [
    "Now the columns are not just a list of strings, but rather an Index, so under the hood the DataFrame will do some work to ensure you do the right thing here."
   ]
  },
  {
   "cell_type": "code",
   "execution_count": 6,
   "metadata": {
    "pycharm": {
     "name": "#%%\n"
    }
   },
   "outputs": [
    {
     "name": "stdout",
     "output_type": "stream",
     "text": [
      "Length mismatch: Expected axis has 6 elements, new values have 2 elements\n"
     ]
    }
   ],
   "source": [
    "try:\n",
    "    df.columns = ['a', 'b']\n",
    "except ValueError as ve:\n",
    "    print(ve)"
   ]
  },
  {
   "cell_type": "markdown",
   "metadata": {
    "pycharm": {
     "name": "#%% md\n"
    }
   },
   "source": [
    "Now, having to set the full column list to rename just one column is not convenient, so there are other ways. First, you can use the ```rename``` method. The method takes a mapping of old to new column names, so you can rename as many as you wish. Remember, axis 0 or \"index\" is the primary index of the DataFrame (aka the rows), and axis 1 or \"columns\". Note that the default here is the index, so you'll need to pass this argument."
   ]
  },
  {
   "cell_type": "code",
   "execution_count": 7,
   "metadata": {
    "pycharm": {
     "name": "#%%\n"
    }
   },
   "outputs": [
    {
     "data": {
      "text/html": [
       "<div>\n",
       "<style scoped>\n",
       "    .dataframe tbody tr th:only-of-type {\n",
       "        vertical-align: middle;\n",
       "    }\n",
       "\n",
       "    .dataframe tbody tr th {\n",
       "        vertical-align: top;\n",
       "    }\n",
       "\n",
       "    .dataframe thead th {\n",
       "        text-align: right;\n",
       "    }\n",
       "</style>\n",
       "<table border=\"1\" class=\"dataframe\">\n",
       "  <thead>\n",
       "    <tr style=\"text-align: right;\">\n",
       "      <th></th>\n",
       "      <th>aaa</th>\n",
       "      <th>bbb</th>\n",
       "      <th>C</th>\n",
       "      <th>D</th>\n",
       "      <th>EEEE</th>\n",
       "      <th>e</th>\n",
       "    </tr>\n",
       "  </thead>\n",
       "  <tbody>\n",
       "    <tr>\n",
       "      <th>0</th>\n",
       "      <td>0.472606</td>\n",
       "      <td>0.573878</td>\n",
       "      <td>0.583162</td>\n",
       "      <td>0.129296</td>\n",
       "      <td>0.666291</td>\n",
       "      <td>0.666291</td>\n",
       "    </tr>\n",
       "    <tr>\n",
       "      <th>1</th>\n",
       "      <td>0.296342</td>\n",
       "      <td>0.538023</td>\n",
       "      <td>0.931283</td>\n",
       "      <td>0.054995</td>\n",
       "      <td>0.534846</td>\n",
       "      <td>0.534846</td>\n",
       "    </tr>\n",
       "    <tr>\n",
       "      <th>2</th>\n",
       "      <td>0.623639</td>\n",
       "      <td>0.882558</td>\n",
       "      <td>0.048769</td>\n",
       "      <td>0.600781</td>\n",
       "      <td>0.046683</td>\n",
       "      <td>0.500000</td>\n",
       "    </tr>\n",
       "    <tr>\n",
       "      <th>3</th>\n",
       "      <td>0.002262</td>\n",
       "      <td>0.346915</td>\n",
       "      <td>0.552380</td>\n",
       "      <td>0.031790</td>\n",
       "      <td>0.473855</td>\n",
       "      <td>0.500000</td>\n",
       "    </tr>\n",
       "    <tr>\n",
       "      <th>4</th>\n",
       "      <td>0.918801</td>\n",
       "      <td>0.332260</td>\n",
       "      <td>0.816670</td>\n",
       "      <td>0.894351</td>\n",
       "      <td>0.466370</td>\n",
       "      <td>0.500000</td>\n",
       "    </tr>\n",
       "  </tbody>\n",
       "</table>\n",
       "</div>"
      ],
      "text/plain": [
       "        aaa       bbb         C         D      EEEE         e\n",
       "0  0.472606  0.573878  0.583162  0.129296  0.666291  0.666291\n",
       "1  0.296342  0.538023  0.931283  0.054995  0.534846  0.534846\n",
       "2  0.623639  0.882558  0.048769  0.600781  0.046683  0.500000\n",
       "3  0.002262  0.346915  0.552380  0.031790  0.473855  0.500000\n",
       "4  0.918801  0.332260  0.816670  0.894351  0.466370  0.500000"
      ]
     },
     "execution_count": 7,
     "metadata": {},
     "output_type": "execute_result"
    }
   ],
   "source": [
    "df.rename({'A': 'aaa', 'B': 'bbb', 'EEE': 'EE'}, axis=\"columns\")"
   ]
  },
  {
   "cell_type": "markdown",
   "metadata": {
    "pycharm": {
     "name": "#%% md\n"
    }
   },
   "source": [
    "Note that by default it doesn't complain for mappings without a match ('EEE' is not a column but 'EEEE' is). You can force it to raise errors by passing in ```errors='raise'```. Also, it returns the DataFrame, so like many DataFrame methods, you need to pass ```inplace=True``` if you want to make the change persist in your DataFrame, or reassign to the same variable."
   ]
  },
  {
   "cell_type": "code",
   "execution_count": 8,
   "metadata": {
    "pycharm": {
     "name": "#%%\n"
    }
   },
   "outputs": [],
   "source": [
    "df.rename({'A': 'aaa', 'B': 'bbb', 'EEE': 'EE'}, axis=1, inplace=True)"
   ]
  },
  {
   "cell_type": "markdown",
   "metadata": {
    "pycharm": {
     "name": "#%% md\n"
    }
   },
   "source": [
    "You can also change the columns using the ```set_index``` method, with the axis set to 1 or ```columns```. Again,  ```inplace=True``` will update the DataFrame in place (and is the default in older versions of pandas but defaults to False 1.0+) if you don't want to reassign variables."
   ]
  },
  {
   "cell_type": "code",
   "execution_count": 9,
   "metadata": {
    "pycharm": {
     "name": "#%%\n"
    }
   },
   "outputs": [
    {
     "data": {
      "text/html": [
       "<div>\n",
       "<style scoped>\n",
       "    .dataframe tbody tr th:only-of-type {\n",
       "        vertical-align: middle;\n",
       "    }\n",
       "\n",
       "    .dataframe tbody tr th {\n",
       "        vertical-align: top;\n",
       "    }\n",
       "\n",
       "    .dataframe thead th {\n",
       "        text-align: right;\n",
       "    }\n",
       "</style>\n",
       "<table border=\"1\" class=\"dataframe\">\n",
       "  <thead>\n",
       "    <tr style=\"text-align: right;\">\n",
       "      <th></th>\n",
       "      <th>A</th>\n",
       "      <th>B</th>\n",
       "      <th>C</th>\n",
       "      <th>D</th>\n",
       "      <th>E</th>\n",
       "      <th>e</th>\n",
       "    </tr>\n",
       "  </thead>\n",
       "  <tbody>\n",
       "    <tr>\n",
       "      <th>0</th>\n",
       "      <td>0.472606</td>\n",
       "      <td>0.573878</td>\n",
       "      <td>0.583162</td>\n",
       "      <td>0.129296</td>\n",
       "      <td>0.666291</td>\n",
       "      <td>0.666291</td>\n",
       "    </tr>\n",
       "    <tr>\n",
       "      <th>1</th>\n",
       "      <td>0.296342</td>\n",
       "      <td>0.538023</td>\n",
       "      <td>0.931283</td>\n",
       "      <td>0.054995</td>\n",
       "      <td>0.534846</td>\n",
       "      <td>0.534846</td>\n",
       "    </tr>\n",
       "    <tr>\n",
       "      <th>2</th>\n",
       "      <td>0.623639</td>\n",
       "      <td>0.882558</td>\n",
       "      <td>0.048769</td>\n",
       "      <td>0.600781</td>\n",
       "      <td>0.046683</td>\n",
       "      <td>0.500000</td>\n",
       "    </tr>\n",
       "    <tr>\n",
       "      <th>3</th>\n",
       "      <td>0.002262</td>\n",
       "      <td>0.346915</td>\n",
       "      <td>0.552380</td>\n",
       "      <td>0.031790</td>\n",
       "      <td>0.473855</td>\n",
       "      <td>0.500000</td>\n",
       "    </tr>\n",
       "    <tr>\n",
       "      <th>4</th>\n",
       "      <td>0.918801</td>\n",
       "      <td>0.332260</td>\n",
       "      <td>0.816670</td>\n",
       "      <td>0.894351</td>\n",
       "      <td>0.466370</td>\n",
       "      <td>0.500000</td>\n",
       "    </tr>\n",
       "  </tbody>\n",
       "</table>\n",
       "</div>"
      ],
      "text/plain": [
       "          A         B         C         D         E         e\n",
       "0  0.472606  0.573878  0.583162  0.129296  0.666291  0.666291\n",
       "1  0.296342  0.538023  0.931283  0.054995  0.534846  0.534846\n",
       "2  0.623639  0.882558  0.048769  0.600781  0.046683  0.500000\n",
       "3  0.002262  0.346915  0.552380  0.031790  0.473855  0.500000\n",
       "4  0.918801  0.332260  0.816670  0.894351  0.466370  0.500000"
      ]
     },
     "execution_count": 9,
     "metadata": {},
     "output_type": "execute_result"
    }
   ],
   "source": [
    "df.set_axis(['A', 'B', 'C', 'D', 'E', 'e'], axis=\"columns\")"
   ]
  },
  {
   "cell_type": "markdown",
   "metadata": {
    "pycharm": {
     "name": "#%% md\n"
    }
   },
   "source": [
    "The ```rename``` method will also take a function. If you pass in the function (or dictionary) as the index or columns paramater, it will apply to that axis. This can allow you to do generic column name cleanup easily, such as removing trailing whitespace."
   ]
  },
  {
   "cell_type": "code",
   "execution_count": 10,
   "metadata": {
    "pycharm": {
     "name": "#%%\n"
    }
   },
   "outputs": [],
   "source": [
    "df.columns = ['A  ', 'B ', 'C  ', 'D ', 'E ', 'e']\n",
    "df.rename(columns=lambda x: x.strip(), inplace=True)"
   ]
  },
  {
   "cell_type": "markdown",
   "metadata": {
    "pycharm": {
     "name": "#%% md\n"
    }
   },
   "source": [
    "I'll also mention one of the primary reasons of not using ```inplace=True``` is for method chaining in DataFrame creation and initial setup. Often, you'll end up doing something like this (contrived I know)."
   ]
  },
  {
   "cell_type": "code",
   "execution_count": 11,
   "metadata": {
    "pycharm": {
     "name": "#%%\n"
    }
   },
   "outputs": [
    {
     "data": {
      "text/html": [
       "<div>\n",
       "<style scoped>\n",
       "    .dataframe tbody tr th:only-of-type {\n",
       "        vertical-align: middle;\n",
       "    }\n",
       "\n",
       "    .dataframe tbody tr th {\n",
       "        vertical-align: top;\n",
       "    }\n",
       "\n",
       "    .dataframe thead th {\n",
       "        text-align: right;\n",
       "    }\n",
       "</style>\n",
       "<table border=\"1\" class=\"dataframe\">\n",
       "  <thead>\n",
       "    <tr style=\"text-align: right;\">\n",
       "      <th></th>\n",
       "      <th>0.689</th>\n",
       "      <th>0.889</th>\n",
       "      <th>0.929</th>\n",
       "      <th>0.634</th>\n",
       "      <th>0.757</th>\n",
       "    </tr>\n",
       "  </thead>\n",
       "  <tbody>\n",
       "    <tr>\n",
       "      <th>0</th>\n",
       "      <td>0.151959</td>\n",
       "      <td>0.847173</td>\n",
       "      <td>0.537661</td>\n",
       "      <td>0.687509</td>\n",
       "      <td>0.655668</td>\n",
       "    </tr>\n",
       "    <tr>\n",
       "      <th>1</th>\n",
       "      <td>0.683260</td>\n",
       "      <td>0.242501</td>\n",
       "      <td>0.011138</td>\n",
       "      <td>0.992909</td>\n",
       "      <td>0.847554</td>\n",
       "    </tr>\n",
       "  </tbody>\n",
       "</table>\n",
       "</div>"
      ],
      "text/plain": [
       "      0.689     0.889     0.929     0.634     0.757\n",
       "0  0.151959  0.847173  0.537661  0.687509  0.655668\n",
       "1  0.683260  0.242501  0.011138  0.992909  0.847554"
      ]
     },
     "execution_count": 11,
     "metadata": {},
     "output_type": "execute_result"
    }
   ],
   "source": [
    "df = pd.DataFrame(np.random.rand(2,5,), columns=np.random.rand(5)).rename(columns=lambda x: str(x)[0:5])\n",
    "df"
   ]
  },
  {
   "cell_type": "markdown",
   "metadata": {
    "pycharm": {
     "name": "#%% md\n"
    }
   },
   "source": [
    "Which you'll hopefully agree is much better than this."
   ]
  },
  {
   "cell_type": "code",
   "execution_count": 12,
   "metadata": {
    "pycharm": {
     "name": "#%%\n"
    }
   },
   "outputs": [
    {
     "data": {
      "text/html": [
       "<div>\n",
       "<style scoped>\n",
       "    .dataframe tbody tr th:only-of-type {\n",
       "        vertical-align: middle;\n",
       "    }\n",
       "\n",
       "    .dataframe tbody tr th {\n",
       "        vertical-align: top;\n",
       "    }\n",
       "\n",
       "    .dataframe thead th {\n",
       "        text-align: right;\n",
       "    }\n",
       "</style>\n",
       "<table border=\"1\" class=\"dataframe\">\n",
       "  <thead>\n",
       "    <tr style=\"text-align: right;\">\n",
       "      <th></th>\n",
       "      <th>0.214</th>\n",
       "      <th>0.031</th>\n",
       "      <th>0.845</th>\n",
       "      <th>0.014</th>\n",
       "      <th>0.158</th>\n",
       "    </tr>\n",
       "  </thead>\n",
       "  <tbody>\n",
       "    <tr>\n",
       "      <th>0</th>\n",
       "      <td>0.839396</td>\n",
       "      <td>0.727933</td>\n",
       "      <td>0.130416</td>\n",
       "      <td>0.569804</td>\n",
       "      <td>0.520804</td>\n",
       "    </tr>\n",
       "    <tr>\n",
       "      <th>1</th>\n",
       "      <td>0.488862</td>\n",
       "      <td>0.722910</td>\n",
       "      <td>0.276028</td>\n",
       "      <td>0.077579</td>\n",
       "      <td>0.226966</td>\n",
       "    </tr>\n",
       "  </tbody>\n",
       "</table>\n",
       "</div>"
      ],
      "text/plain": [
       "      0.214     0.031     0.845     0.014     0.158\n",
       "0  0.839396  0.727933  0.130416  0.569804  0.520804\n",
       "1  0.488862  0.722910  0.276028  0.077579  0.226966"
      ]
     },
     "execution_count": 12,
     "metadata": {},
     "output_type": "execute_result"
    }
   ],
   "source": [
    "df = pd.DataFrame(np.random.rand(2,5,), columns=np.random.rand(5))\n",
    "df.columns = [str(x)[0:5] for x in df.columns]\n",
    "df"
   ]
  }
 ],
 "metadata": {
  "kernelspec": {
   "display_name": "Python 3",
   "language": "python",
   "name": "python3"
  },
  "language_info": {
   "codemirror_mode": {
    "name": "ipython",
    "version": 3
   },
   "file_extension": ".py",
   "mimetype": "text/x-python",
   "name": "python",
   "nbconvert_exporter": "python",
   "pygments_lexer": "ipython3",
   "version": "3.6.10"
  }
 },
 "nbformat": 4,
 "nbformat_minor": 4
}
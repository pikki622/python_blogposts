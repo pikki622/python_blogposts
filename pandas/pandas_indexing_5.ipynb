{
 "cells": [
  {
   "cell_type": "markdown",
   "metadata": {},
   "source": [
    "# Selecting via ```where``` and ```mask```\n",
    "This is the fifth post in a series on indexing and selecting in pandas. If you are jumping in the middle and want to get caught up, here's what has been discussed so far:\n",
    "\n",
    " * [Basic indexing, selecting by label and location](https://www.wrighters.io/indexing-and-selecting-in-pandas-part-1/)\n",
    " * [Slicing in pandas](https://www.wrighters.io/indexing-and-selecting-in-pandas-slicing/)\n",
    " * [Selecting by boolean indexing](https://www.wrighters.io/boolean-indexing-in-pandas/)\n",
    " * [Selecting by callable](https://www.wrighters.io/indexing-and-selecting-in-pandas-by-callable/)\n",
    " \n",
    "Once the basics were covered in the first three posts, detailed topics on how to select and update data are next. In this post, we'll look at selecting using ```where``` and ```mask```.\n",
    "\n",
    "In the third post of this series, we covered the concept of boolean indexing. If you remember, boolean indexing allows us to essentially query our data (either a ```DataFrame``` or a ```Series```) and return only the data that matches the boolean vector we use as our indexer. For example, to select odd values in a ```Series``` like this:"
   ]
  },
  {
   "cell_type": "code",
   "execution_count": 1,
   "metadata": {},
   "outputs": [
    {
     "data": {
      "text/plain": [
       "1    1\n",
       "3    3\n",
       "5    5\n",
       "7    7\n",
       "9    9\n",
       "dtype: int64"
      ]
     },
     "execution_count": 1,
     "metadata": {},
     "output_type": "execute_result"
    }
   ],
   "source": [
    "import pandas as pd\n",
    "import numpy as np\n",
    "\n",
    "s = pd.Series(np.arange(10))\n",
    "s[s % 2 != 0]"
   ]
  },
  {
   "cell_type": "markdown",
   "metadata": {},
   "source": [
    "You'll notice that our result here is only 5 elements even though the original ```Series``` contains 10 elements. This is the whole point of indexing, selecting the values you want. But what happens if you want the shape of your result to match your original data? In this case, you use ```where```.  The values that are selected by the where condition are returned, the values that are not selected are set to ```NaN```. This way, the value you select has the same shape as your original data."
   ]
  },
  {
   "cell_type": "code",
   "execution_count": 2,
   "metadata": {},
   "outputs": [
    {
     "data": {
      "text/plain": [
       "0    NaN\n",
       "1    1.0\n",
       "2    NaN\n",
       "3    3.0\n",
       "4    NaN\n",
       "5    5.0\n",
       "6    NaN\n",
       "7    7.0\n",
       "8    NaN\n",
       "9    9.0\n",
       "dtype: float64"
      ]
     },
     "execution_count": 2,
     "metadata": {},
     "output_type": "execute_result"
    }
   ],
   "source": [
    "s.where(s % 2 != 0)"
   ]
  },
  {
   "cell_type": "markdown",
   "metadata": {},
   "source": [
    "```where``` also accepts an optional argument for what you want the other values to be, if ```NaN``` is not what you want, with some flexibility. For starters, it can be a scalar or ```Series```/```DataFrame```."
   ]
  },
  {
   "cell_type": "code",
   "execution_count": 3,
   "metadata": {},
   "outputs": [
    {
     "data": {
      "text/plain": [
       "0   -1\n",
       "1    1\n",
       "2   -1\n",
       "3    3\n",
       "4   -1\n",
       "5    5\n",
       "6   -1\n",
       "7    7\n",
       "8   -1\n",
       "9    9\n",
       "dtype: int64"
      ]
     },
     "execution_count": 3,
     "metadata": {},
     "output_type": "execute_result"
    }
   ],
   "source": [
    "s.where(s % 2 != 0, -1)  # set the non-matching elements to one value"
   ]
  },
  {
   "cell_type": "code",
   "execution_count": 4,
   "metadata": {},
   "outputs": [
    {
     "data": {
      "text/plain": [
       "0    0\n",
       "1    1\n",
       "2   -2\n",
       "3    3\n",
       "4   -4\n",
       "5    5\n",
       "6   -6\n",
       "7    7\n",
       "8   -8\n",
       "9    9\n",
       "dtype: int64"
      ]
     },
     "execution_count": 4,
     "metadata": {},
     "output_type": "execute_result"
    }
   ],
   "source": [
    "s.where(s % 2 != 0, -s)   # set the non-matching elements to the negative value of the original series"
   ]
  },
  {
   "cell_type": "markdown",
   "metadata": {},
   "source": [
    "Both the first ```condition``` argument and the ```other``` can be a callable that accepts the ```Series``` or ```DataFrame``` and returns either a scalar or a ```Series```/```DataFrame```. The condition callable should return boolean, the other can return whatever value you want for non selected values. So the above could be expressed (more verbosely) as"
   ]
  },
  {
   "cell_type": "code",
   "execution_count": 5,
   "metadata": {},
   "outputs": [
    {
     "data": {
      "text/plain": [
       "0    0\n",
       "1    1\n",
       "2   -2\n",
       "3    3\n",
       "4   -4\n",
       "5    5\n",
       "6   -6\n",
       "7    7\n",
       "8   -8\n",
       "9    9\n",
       "dtype: int64"
      ]
     },
     "execution_count": 5,
     "metadata": {},
     "output_type": "execute_result"
    }
   ],
   "source": [
    "s.where(lambda x: x % 2 != 0, lambda x: x * -1)"
   ]
  },
  {
   "cell_type": "markdown",
   "metadata": {},
   "source": [
    "Using ```where``` will always return a copy of the existing data. But if you want to modify the original, you can by using the ```inplace``` argument, similar to many other functions in pandas (like ```fillna``` or ```ffill``` and others)."
   ]
  },
  {
   "cell_type": "code",
   "execution_count": 6,
   "metadata": {},
   "outputs": [
    {
     "data": {
      "text/plain": [
       "0    0\n",
       "1    1\n",
       "2   -2\n",
       "3    3\n",
       "4   -4\n",
       "5    5\n",
       "6   -6\n",
       "7    7\n",
       "8   -8\n",
       "9    9\n",
       "dtype: int64"
      ]
     },
     "execution_count": 6,
     "metadata": {},
     "output_type": "execute_result"
    }
   ],
   "source": [
    "s.where(s % 2 != 0, -s, inplace=True)\n",
    "s"
   ]
  },
  {
   "cell_type": "markdown",
   "metadata": {},
   "source": [
    "The ```mask``` method is just the inverse of ```where```. Instead of selecting values based on the condition, it selects values where the condition is ```False```.  Everthing else is the same as above."
   ]
  },
  {
   "cell_type": "code",
   "execution_count": 7,
   "metadata": {},
   "outputs": [
    {
     "data": {
      "text/plain": [
       "0     0\n",
       "1    99\n",
       "2    -2\n",
       "3    99\n",
       "4    -4\n",
       "5    99\n",
       "6    -6\n",
       "7    99\n",
       "8    -8\n",
       "9    99\n",
       "dtype: int64"
      ]
     },
     "execution_count": 7,
     "metadata": {},
     "output_type": "execute_result"
    }
   ],
   "source": [
    "s.mask(s % 2 != 0, 99)"
   ]
  },
  {
   "cell_type": "markdown",
   "metadata": {},
   "source": [
    "## Updating data\n",
    "One thing that I noticed in writing this that I had missed before is that ```where``` is the underlying implementation for boolean indexing with the array indexing operator, i.e. ```[]``` on a ```DataFrame```.  So you've already been using ```where``` even if you didn't know it.\n",
    "\n",
    "This has implications for updating data. So with a ```DataFrame``` of random floats around 0, "
   ]
  },
  {
   "cell_type": "code",
   "execution_count": 8,
   "metadata": {},
   "outputs": [
    {
     "data": {
      "text/html": [
       "<div>\n",
       "<style scoped>\n",
       "    .dataframe tbody tr th:only-of-type {\n",
       "        vertical-align: middle;\n",
       "    }\n",
       "\n",
       "    .dataframe tbody tr th {\n",
       "        vertical-align: top;\n",
       "    }\n",
       "\n",
       "    .dataframe thead th {\n",
       "        text-align: right;\n",
       "    }\n",
       "</style>\n",
       "<table border=\"1\" class=\"dataframe\">\n",
       "  <thead>\n",
       "    <tr style=\"text-align: right;\">\n",
       "      <th></th>\n",
       "      <th>0</th>\n",
       "      <th>1</th>\n",
       "      <th>2</th>\n",
       "      <th>3</th>\n",
       "      <th>4</th>\n",
       "    </tr>\n",
       "  </thead>\n",
       "  <tbody>\n",
       "    <tr>\n",
       "      <th>0</th>\n",
       "      <td>0.209063</td>\n",
       "      <td>0.264184</td>\n",
       "      <td>0.008627</td>\n",
       "      <td>-0.306945</td>\n",
       "      <td>-0.113845</td>\n",
       "    </tr>\n",
       "    <tr>\n",
       "      <th>1</th>\n",
       "      <td>0.428156</td>\n",
       "      <td>0.149175</td>\n",
       "      <td>-0.325137</td>\n",
       "      <td>-0.132137</td>\n",
       "      <td>0.223475</td>\n",
       "    </tr>\n",
       "    <tr>\n",
       "      <th>2</th>\n",
       "      <td>-0.079726</td>\n",
       "      <td>0.442556</td>\n",
       "      <td>0.045006</td>\n",
       "      <td>-0.458681</td>\n",
       "      <td>-0.137157</td>\n",
       "    </tr>\n",
       "    <tr>\n",
       "      <th>3</th>\n",
       "      <td>-0.103307</td>\n",
       "      <td>-0.261144</td>\n",
       "      <td>-0.480385</td>\n",
       "      <td>0.368901</td>\n",
       "      <td>-0.392041</td>\n",
       "    </tr>\n",
       "    <tr>\n",
       "      <th>4</th>\n",
       "      <td>-0.485046</td>\n",
       "      <td>0.476217</td>\n",
       "      <td>0.472161</td>\n",
       "      <td>-0.107408</td>\n",
       "      <td>-0.267429</td>\n",
       "    </tr>\n",
       "  </tbody>\n",
       "</table>\n",
       "</div>"
      ],
      "text/plain": [
       "          0         1         2         3         4\n",
       "0  0.209063  0.264184  0.008627 -0.306945 -0.113845\n",
       "1  0.428156  0.149175 -0.325137 -0.132137  0.223475\n",
       "2 -0.079726  0.442556  0.045006 -0.458681 -0.137157\n",
       "3 -0.103307 -0.261144 -0.480385  0.368901 -0.392041\n",
       "4 -0.485046  0.476217  0.472161 -0.107408 -0.267429"
      ]
     },
     "execution_count": 8,
     "metadata": {},
     "output_type": "execute_result"
    }
   ],
   "source": [
    "df = pd.DataFrame(np.random.random_sample((5, 5)) - .5)\n",
    "df"
   ]
  },
  {
   "cell_type": "code",
   "execution_count": 9,
   "metadata": {},
   "outputs": [
    {
     "data": {
      "text/html": [
       "<div>\n",
       "<style scoped>\n",
       "    .dataframe tbody tr th:only-of-type {\n",
       "        vertical-align: middle;\n",
       "    }\n",
       "\n",
       "    .dataframe tbody tr th {\n",
       "        vertical-align: top;\n",
       "    }\n",
       "\n",
       "    .dataframe thead th {\n",
       "        text-align: right;\n",
       "    }\n",
       "</style>\n",
       "<table border=\"1\" class=\"dataframe\">\n",
       "  <thead>\n",
       "    <tr style=\"text-align: right;\">\n",
       "      <th></th>\n",
       "      <th>0</th>\n",
       "      <th>1</th>\n",
       "      <th>2</th>\n",
       "      <th>3</th>\n",
       "      <th>4</th>\n",
       "    </tr>\n",
       "  </thead>\n",
       "  <tbody>\n",
       "    <tr>\n",
       "      <th>0</th>\n",
       "      <td>NaN</td>\n",
       "      <td>NaN</td>\n",
       "      <td>NaN</td>\n",
       "      <td>-0.306945</td>\n",
       "      <td>-0.113845</td>\n",
       "    </tr>\n",
       "    <tr>\n",
       "      <th>1</th>\n",
       "      <td>NaN</td>\n",
       "      <td>NaN</td>\n",
       "      <td>-0.325137</td>\n",
       "      <td>-0.132137</td>\n",
       "      <td>NaN</td>\n",
       "    </tr>\n",
       "    <tr>\n",
       "      <th>2</th>\n",
       "      <td>-0.079726</td>\n",
       "      <td>NaN</td>\n",
       "      <td>NaN</td>\n",
       "      <td>-0.458681</td>\n",
       "      <td>-0.137157</td>\n",
       "    </tr>\n",
       "    <tr>\n",
       "      <th>3</th>\n",
       "      <td>-0.103307</td>\n",
       "      <td>-0.261144</td>\n",
       "      <td>-0.480385</td>\n",
       "      <td>NaN</td>\n",
       "      <td>-0.392041</td>\n",
       "    </tr>\n",
       "    <tr>\n",
       "      <th>4</th>\n",
       "      <td>-0.485046</td>\n",
       "      <td>NaN</td>\n",
       "      <td>NaN</td>\n",
       "      <td>-0.107408</td>\n",
       "      <td>-0.267429</td>\n",
       "    </tr>\n",
       "  </tbody>\n",
       "</table>\n",
       "</div>"
      ],
      "text/plain": [
       "          0         1         2         3         4\n",
       "0       NaN       NaN       NaN -0.306945 -0.113845\n",
       "1       NaN       NaN -0.325137 -0.132137       NaN\n",
       "2 -0.079726       NaN       NaN -0.458681 -0.137157\n",
       "3 -0.103307 -0.261144 -0.480385       NaN -0.392041\n",
       "4 -0.485046       NaN       NaN -0.107408 -0.267429"
      ]
     },
     "execution_count": 9,
     "metadata": {},
     "output_type": "execute_result"
    }
   ],
   "source": [
    "df.where(df < 0) # these two are equivalent\n",
    "df[df < 0]"
   ]
  },
  {
   "cell_type": "markdown",
   "metadata": {},
   "source": [
    "You can also do updates. This is not necessarily that practical for most ```DataFrame```s I work with though, because you I rarely have a ```DataFrame``` where I want to update across all the columns like this. But for some instances that might be useful, so here's an example. We could force all the values to be positive by inverting only the negative values."
   ]
  },
  {
   "cell_type": "code",
   "execution_count": 10,
   "metadata": {},
   "outputs": [
    {
     "data": {
      "text/html": [
       "<div>\n",
       "<style scoped>\n",
       "    .dataframe tbody tr th:only-of-type {\n",
       "        vertical-align: middle;\n",
       "    }\n",
       "\n",
       "    .dataframe tbody tr th {\n",
       "        vertical-align: top;\n",
       "    }\n",
       "\n",
       "    .dataframe thead th {\n",
       "        text-align: right;\n",
       "    }\n",
       "</style>\n",
       "<table border=\"1\" class=\"dataframe\">\n",
       "  <thead>\n",
       "    <tr style=\"text-align: right;\">\n",
       "      <th></th>\n",
       "      <th>0</th>\n",
       "      <th>1</th>\n",
       "      <th>2</th>\n",
       "      <th>3</th>\n",
       "      <th>4</th>\n",
       "    </tr>\n",
       "  </thead>\n",
       "  <tbody>\n",
       "    <tr>\n",
       "      <th>0</th>\n",
       "      <td>0.209063</td>\n",
       "      <td>0.264184</td>\n",
       "      <td>0.008627</td>\n",
       "      <td>0.306945</td>\n",
       "      <td>0.113845</td>\n",
       "    </tr>\n",
       "    <tr>\n",
       "      <th>1</th>\n",
       "      <td>0.428156</td>\n",
       "      <td>0.149175</td>\n",
       "      <td>0.325137</td>\n",
       "      <td>0.132137</td>\n",
       "      <td>0.223475</td>\n",
       "    </tr>\n",
       "    <tr>\n",
       "      <th>2</th>\n",
       "      <td>0.079726</td>\n",
       "      <td>0.442556</td>\n",
       "      <td>0.045006</td>\n",
       "      <td>0.458681</td>\n",
       "      <td>0.137157</td>\n",
       "    </tr>\n",
       "    <tr>\n",
       "      <th>3</th>\n",
       "      <td>0.103307</td>\n",
       "      <td>0.261144</td>\n",
       "      <td>0.480385</td>\n",
       "      <td>0.368901</td>\n",
       "      <td>0.392041</td>\n",
       "    </tr>\n",
       "    <tr>\n",
       "      <th>4</th>\n",
       "      <td>0.485046</td>\n",
       "      <td>0.476217</td>\n",
       "      <td>0.472161</td>\n",
       "      <td>0.107408</td>\n",
       "      <td>0.267429</td>\n",
       "    </tr>\n",
       "  </tbody>\n",
       "</table>\n",
       "</div>"
      ],
      "text/plain": [
       "          0         1         2         3         4\n",
       "0  0.209063  0.264184  0.008627  0.306945  0.113845\n",
       "1  0.428156  0.149175  0.325137  0.132137  0.223475\n",
       "2  0.079726  0.442556  0.045006  0.458681  0.137157\n",
       "3  0.103307  0.261144  0.480385  0.368901  0.392041\n",
       "4  0.485046  0.476217  0.472161  0.107408  0.267429"
      ]
     },
     "execution_count": 10,
     "metadata": {},
     "output_type": "execute_result"
    }
   ],
   "source": [
    "df[df < 0] = -df\n",
    "df"
   ]
  },
  {
   "cell_type": "markdown",
   "metadata": {},
   "source": [
    "## NumPy ```where```\n",
    "If you're a NumPy user, you are probably familiar with ```np.where```. To use it, you supply a condition and optional ```x``` and ```y``` values for ```True``` and ```False``` results in the condition. This is a bit different than using ```where``` in pandas, where the object itself provides data for the ```True``` result, with an optional ```False``` result (which defaults to ```NaN``` if not supplied). So here's how you'd use it to select odd values in our ```Series```, and set the even values to ```99```."
   ]
  },
  {
   "cell_type": "code",
   "execution_count": 11,
   "metadata": {},
   "outputs": [
    {
     "data": {
      "text/plain": [
       "array([99,  1, 99,  3, 99,  5, 99,  7, 99,  9])"
      ]
     },
     "execution_count": 11,
     "metadata": {},
     "output_type": "execute_result"
    }
   ],
   "source": [
    "np.where(s % 2 != 0, s, 99)"
   ]
  },
  {
   "cell_type": "markdown",
   "metadata": {},
   "source": [
    "Another way to think about this is that the pandas implementation can be used like the NumPy version, just think of the ```self``` argument of the ```DataFrame``` as the ```x``` argument in NumPy."
   ]
  },
  {
   "cell_type": "code",
   "execution_count": 12,
   "metadata": {},
   "outputs": [
    {
     "data": {
      "text/plain": [
       "0    99\n",
       "1     1\n",
       "2    99\n",
       "3     3\n",
       "4    99\n",
       "5     5\n",
       "6    99\n",
       "7     7\n",
       "8    99\n",
       "9     9\n",
       "dtype: int64"
      ]
     },
     "execution_count": 12,
     "metadata": {},
     "output_type": "execute_result"
    }
   ],
   "source": [
    "pd.Series.where(cond=s % 2 != 0, self=s, other=99)"
   ]
  },
  {
   "cell_type": "markdown",
   "metadata": {},
   "source": [
    "## More examples\n",
    "Let's go back to a data set [from a previous post](https://www.wrighters.io/indexing-and-selecting-in-pandas-by-callable/). This is salary info for City of Chicago employees for both hourly and salaried employees."
   ]
  },
  {
   "cell_type": "code",
   "execution_count": 13,
   "metadata": {},
   "outputs": [],
   "source": [
    "# you should be able to grab this dataset as an unauthenticated user, but you can be rate limited\n",
    "# it also only returns 1000 rows (or at least it did for me without an API key)\n",
    "sal = pd.read_json(\"https://data.cityofchicago.org/resource/xzkq-xp2w.json\")\n",
    "sal = sal.drop('name', axis=1) # remove personal info"
   ]
  },
  {
   "cell_type": "markdown",
   "metadata": {},
   "source": [
    "One thing I noticed about this data set last time was that there were a lot of ```NaN``` values because of the different treatment of salaried and hourly employees. As a result, there's a column for annual salary, and separate columns for typical hours and hourly rates. What if we just want to know what a typical full salary would be for any employee, regardless of their category?\n",
    "\n",
    "Using ```where``` is one way we could address this if we wanted a uniform data set. Now we won't apply it to the entire ```DataFrame``` as the update example above, we'll use it to create one column.\n"
   ]
  },
  {
   "cell_type": "code",
   "execution_count": 14,
   "metadata": {},
   "outputs": [],
   "source": [
    "sal['total_pay'] = sal['annual_salary'].where(sal['salary_or_hourly'] == 'Salary', sal['typical_hours'] * sal['hourly_rate'] * 52)"
   ]
  },
  {
   "cell_type": "markdown",
   "metadata": {},
   "source": [
    "Another way to do this, would be to selectively update only rows for hourly workers. But to do this, you end up needing to apply a mask multiple times."
   ]
  },
  {
   "cell_type": "code",
   "execution_count": 15,
   "metadata": {},
   "outputs": [],
   "source": [
    "sal['total_pay2'] = sal['annual_salary']\n",
    "mask = sal['salary_or_hourly'] != 'Salary'\n",
    "sal.loc[mask, 'total_pay2'] = sal.loc[mask, 'typical_hours'] * sal.loc[mask, 'hourly_rate'] * 52"
   ]
  },
  {
   "cell_type": "markdown",
   "metadata": {},
   "source": [
    "So using ```where``` can result in a slightly more simple expression, even if it's a little long."
   ]
  },
  {
   "cell_type": "markdown",
   "metadata": {},
   "source": [
    "## NumPy ```where``` and ```select``` for more complicated updates\n",
    "There are times where you want to create new columns with some sort of complicated condition on a dataframe that might need to be applied across multiple columns. Using NumPy ```where``` can be helpful for these situations. For example, we can creating an hourly rate column that calculates an hourly equivalent for the salried employees, but use the existing hourly rate."
   ]
  },
  {
   "cell_type": "code",
   "execution_count": 16,
   "metadata": {},
   "outputs": [],
   "source": [
    "sal['hourly_rate_all'] = np.where(sal['salary_or_hourly'] == 'Salary', sal['annual_salary'] / (52 * 40), sal['hourly_rate'])"
   ]
  },
  {
   "cell_type": "markdown",
   "metadata": {},
   "source": [
    "If you have a much more complex scenario, you can use ```np.select```. Think of ```np.select``` as a where with multiple conditions and multiple choices, as opposed to just one condition with two choices. For example, let's say that the hourly rate for employees in the police and fire departments was slightly different because of their shift schedule, so their calculation was different. We could do the calculation in one pass. Note that I chose to use the hourly rate as the default (using the last parameter), but could have just as easily made it a third condition. "
   ]
  },
  {
   "cell_type": "code",
   "execution_count": 17,
   "metadata": {},
   "outputs": [
    {
     "data": {
      "text/html": [
       "<div>\n",
       "<style scoped>\n",
       "    .dataframe tbody tr th:only-of-type {\n",
       "        vertical-align: middle;\n",
       "    }\n",
       "\n",
       "    .dataframe tbody tr th {\n",
       "        vertical-align: top;\n",
       "    }\n",
       "\n",
       "    .dataframe thead th {\n",
       "        text-align: right;\n",
       "    }\n",
       "</style>\n",
       "<table border=\"1\" class=\"dataframe\">\n",
       "  <thead>\n",
       "    <tr style=\"text-align: right;\">\n",
       "      <th></th>\n",
       "      <th>job_titles</th>\n",
       "      <th>department</th>\n",
       "      <th>full_or_part_time</th>\n",
       "      <th>salary_or_hourly</th>\n",
       "      <th>annual_salary</th>\n",
       "      <th>typical_hours</th>\n",
       "      <th>hourly_rate</th>\n",
       "      <th>total_pay</th>\n",
       "      <th>total_pay2</th>\n",
       "      <th>hourly_rate_all</th>\n",
       "      <th>hourly_rate_all2</th>\n",
       "    </tr>\n",
       "  </thead>\n",
       "  <tbody>\n",
       "    <tr>\n",
       "      <th>0</th>\n",
       "      <td>SERGEANT</td>\n",
       "      <td>POLICE</td>\n",
       "      <td>F</td>\n",
       "      <td>Salary</td>\n",
       "      <td>111444.0</td>\n",
       "      <td>NaN</td>\n",
       "      <td>NaN</td>\n",
       "      <td>111444.0</td>\n",
       "      <td>111444.0</td>\n",
       "      <td>53.578846</td>\n",
       "      <td>57.150769</td>\n",
       "    </tr>\n",
       "    <tr>\n",
       "      <th>1</th>\n",
       "      <td>POLICE OFFICER (ASSIGNED AS DETECTIVE)</td>\n",
       "      <td>POLICE</td>\n",
       "      <td>F</td>\n",
       "      <td>Salary</td>\n",
       "      <td>94122.0</td>\n",
       "      <td>NaN</td>\n",
       "      <td>NaN</td>\n",
       "      <td>94122.0</td>\n",
       "      <td>94122.0</td>\n",
       "      <td>45.250962</td>\n",
       "      <td>48.267692</td>\n",
       "    </tr>\n",
       "    <tr>\n",
       "      <th>2</th>\n",
       "      <td>CHIEF CONTRACT EXPEDITER</td>\n",
       "      <td>DAIS</td>\n",
       "      <td>F</td>\n",
       "      <td>Salary</td>\n",
       "      <td>118608.0</td>\n",
       "      <td>NaN</td>\n",
       "      <td>NaN</td>\n",
       "      <td>118608.0</td>\n",
       "      <td>118608.0</td>\n",
       "      <td>57.023077</td>\n",
       "      <td>57.023077</td>\n",
       "    </tr>\n",
       "    <tr>\n",
       "      <th>3</th>\n",
       "      <td>CIVIL ENGINEER IV</td>\n",
       "      <td>WATER MGMNT</td>\n",
       "      <td>F</td>\n",
       "      <td>Salary</td>\n",
       "      <td>117072.0</td>\n",
       "      <td>NaN</td>\n",
       "      <td>NaN</td>\n",
       "      <td>117072.0</td>\n",
       "      <td>117072.0</td>\n",
       "      <td>56.284615</td>\n",
       "      <td>56.284615</td>\n",
       "    </tr>\n",
       "    <tr>\n",
       "      <th>4</th>\n",
       "      <td>CONCRETE LABORER</td>\n",
       "      <td>TRANSPORTN</td>\n",
       "      <td>F</td>\n",
       "      <td>Hourly</td>\n",
       "      <td>NaN</td>\n",
       "      <td>40.0</td>\n",
       "      <td>44.4</td>\n",
       "      <td>92352.0</td>\n",
       "      <td>92352.0</td>\n",
       "      <td>44.400000</td>\n",
       "      <td>44.400000</td>\n",
       "    </tr>\n",
       "  </tbody>\n",
       "</table>\n",
       "</div>"
      ],
      "text/plain": [
       "                               job_titles   department full_or_part_time  \\\n",
       "0                                SERGEANT       POLICE                 F   \n",
       "1  POLICE OFFICER (ASSIGNED AS DETECTIVE)       POLICE                 F   \n",
       "2                CHIEF CONTRACT EXPEDITER         DAIS                 F   \n",
       "3                       CIVIL ENGINEER IV  WATER MGMNT                 F   \n",
       "4                        CONCRETE LABORER   TRANSPORTN                 F   \n",
       "\n",
       "  salary_or_hourly  annual_salary  typical_hours  hourly_rate  total_pay  \\\n",
       "0           Salary       111444.0            NaN          NaN   111444.0   \n",
       "1           Salary        94122.0            NaN          NaN    94122.0   \n",
       "2           Salary       118608.0            NaN          NaN   118608.0   \n",
       "3           Salary       117072.0            NaN          NaN   117072.0   \n",
       "4           Hourly            NaN           40.0         44.4    92352.0   \n",
       "\n",
       "   total_pay2  hourly_rate_all  hourly_rate_all2  \n",
       "0    111444.0        53.578846         57.150769  \n",
       "1     94122.0        45.250962         48.267692  \n",
       "2    118608.0        57.023077         57.023077  \n",
       "3    117072.0        56.284615         56.284615  \n",
       "4     92352.0        44.400000         44.400000  "
      ]
     },
     "execution_count": 17,
     "metadata": {},
     "output_type": "execute_result"
    }
   ],
   "source": [
    "conditions = [\n",
    "    (sal['salary_or_hourly'] == 'Salary') & (sal['department'].isin(['POLICE', 'FIRE'])),\n",
    "    (sal['salary_or_hourly'] == 'Salary') & (~sal['department'].isin(['POLICE', 'FIRE'])),\n",
    "]\n",
    "choices = [\n",
    "    sal['annual_salary'] / (26 * 75),\n",
    "    sal['annual_salary'] / (52 * 40)\n",
    "]\n",
    "sal['hourly_rate_all2'] = np.select(conditions, choices, sal['hourly_rate'])\n",
    "\n",
    "sal.head()"
   ]
  },
  {
   "cell_type": "markdown",
   "metadata": {},
   "source": [
    "In summary, using pandas' ```where``` and ```mask``` methods can be useful ways to select and update data in the same shape as your original data. Using NumPy's ```where``` and ```select``` can also be very useful for more complicated scenarios.\n",
    "\n",
    "Stay tuned for the next post in this series where I'll look at the ```query``` method."
   ]
  },
  {
   "cell_type": "code",
   "execution_count": null,
   "metadata": {},
   "outputs": [],
   "source": []
  }
 ],
 "metadata": {
  "kernelspec": {
   "display_name": "Python 3",
   "language": "python",
   "name": "python3"
  },
  "language_info": {
   "codemirror_mode": {
    "name": "ipython",
    "version": 3
   },
   "file_extension": ".py",
   "mimetype": "text/x-python",
   "name": "python",
   "nbconvert_exporter": "python",
   "pygments_lexer": "ipython3",
   "version": "3.8.6"
  }
 },
 "nbformat": 4,
 "nbformat_minor": 4
}

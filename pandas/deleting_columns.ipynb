{
 "cells": [
  {
   "cell_type": "markdown",
   "metadata": {},
   "source": [
    "# How to remove a column from a DataFrame, with some extra detail\n",
    "Removing one or more columns from a pandas ```DataFrame``` is a pretty common task, but it turns out there are a numbrer of possible ways to perform this task. I found that [this StackOverflow question](https://stackoverflow.com/questions/13411544/delete-column-from-pandas-dataframe), along with the various answers and discussion brought up so a number of interesting topics. It is worth digging in a little bit to the details.\n",
    "\n",
    "First, what's the \"correct\" way to remove a column from a ```DataFrame```? The standard way to do this is to think a SQL and use ```drop```."
   ]
  },
  {
   "cell_type": "code",
   "execution_count": 1,
   "metadata": {},
   "outputs": [
    {
     "data": {
      "text/html": [
       "<div>\n",
       "<style scoped>\n",
       "    .dataframe tbody tr th:only-of-type {\n",
       "        vertical-align: middle;\n",
       "    }\n",
       "\n",
       "    .dataframe tbody tr th {\n",
       "        vertical-align: top;\n",
       "    }\n",
       "\n",
       "    .dataframe thead th {\n",
       "        text-align: right;\n",
       "    }\n",
       "</style>\n",
       "<table border=\"1\" class=\"dataframe\">\n",
       "  <thead>\n",
       "    <tr style=\"text-align: right;\">\n",
       "      <th></th>\n",
       "      <th>a</th>\n",
       "      <th>b</th>\n",
       "      <th>c</th>\n",
       "      <th>d</th>\n",
       "      <th>e</th>\n",
       "    </tr>\n",
       "  </thead>\n",
       "  <tbody>\n",
       "    <tr>\n",
       "      <th>0</th>\n",
       "      <td>0</td>\n",
       "      <td>1</td>\n",
       "      <td>2</td>\n",
       "      <td>3</td>\n",
       "      <td>4</td>\n",
       "    </tr>\n",
       "    <tr>\n",
       "      <th>1</th>\n",
       "      <td>5</td>\n",
       "      <td>6</td>\n",
       "      <td>7</td>\n",
       "      <td>8</td>\n",
       "      <td>9</td>\n",
       "    </tr>\n",
       "    <tr>\n",
       "      <th>2</th>\n",
       "      <td>10</td>\n",
       "      <td>11</td>\n",
       "      <td>12</td>\n",
       "      <td>13</td>\n",
       "      <td>14</td>\n",
       "    </tr>\n",
       "    <tr>\n",
       "      <th>3</th>\n",
       "      <td>15</td>\n",
       "      <td>16</td>\n",
       "      <td>17</td>\n",
       "      <td>18</td>\n",
       "      <td>19</td>\n",
       "    </tr>\n",
       "    <tr>\n",
       "      <th>4</th>\n",
       "      <td>20</td>\n",
       "      <td>21</td>\n",
       "      <td>22</td>\n",
       "      <td>23</td>\n",
       "      <td>24</td>\n",
       "    </tr>\n",
       "  </tbody>\n",
       "</table>\n",
       "</div>"
      ],
      "text/plain": [
       "    a   b   c   d   e\n",
       "0   0   1   2   3   4\n",
       "1   5   6   7   8   9\n",
       "2  10  11  12  13  14\n",
       "3  15  16  17  18  19\n",
       "4  20  21  22  23  24"
      ]
     },
     "metadata": {},
     "output_type": "display_data"
    },
    {
     "name": "stdout",
     "output_type": "stream",
     "text": [
      "\"['b'] not found in axis\"\n"
     ]
    }
   ],
   "source": [
    "import pandas as pd\n",
    "import numpy as np\n",
    "\n",
    "df = pd.DataFrame(np.arange(25).reshape((5,5)), columns=list(\"abcde\"))\n",
    "\n",
    "display(df)\n",
    "\n",
    "try:\n",
    "    df.drop('b')\n",
    "except KeyError as ke:\n",
    "    print(ke)"
   ]
  },
  {
   "cell_type": "markdown",
   "metadata": {},
   "source": [
    "Wait, what? That's because the default axis that ```drop``` works with is the rows. As with many pandas methods, there's more than one way to do it (which some people may hate). \n",
    "\n",
    "You can drop rows using ```axis=0``` or ```axis='rows'```, or using the ```labels``` argument."
   ]
  },
  {
   "cell_type": "code",
   "execution_count": 2,
   "metadata": {},
   "outputs": [
    {
     "data": {
      "text/html": [
       "<div>\n",
       "<style scoped>\n",
       "    .dataframe tbody tr th:only-of-type {\n",
       "        vertical-align: middle;\n",
       "    }\n",
       "\n",
       "    .dataframe tbody tr th {\n",
       "        vertical-align: top;\n",
       "    }\n",
       "\n",
       "    .dataframe thead th {\n",
       "        text-align: right;\n",
       "    }\n",
       "</style>\n",
       "<table border=\"1\" class=\"dataframe\">\n",
       "  <thead>\n",
       "    <tr style=\"text-align: right;\">\n",
       "      <th></th>\n",
       "      <th>a</th>\n",
       "      <th>b</th>\n",
       "      <th>c</th>\n",
       "      <th>d</th>\n",
       "      <th>e</th>\n",
       "    </tr>\n",
       "  </thead>\n",
       "  <tbody>\n",
       "    <tr>\n",
       "      <th>1</th>\n",
       "      <td>5</td>\n",
       "      <td>6</td>\n",
       "      <td>7</td>\n",
       "      <td>8</td>\n",
       "      <td>9</td>\n",
       "    </tr>\n",
       "    <tr>\n",
       "      <th>2</th>\n",
       "      <td>10</td>\n",
       "      <td>11</td>\n",
       "      <td>12</td>\n",
       "      <td>13</td>\n",
       "      <td>14</td>\n",
       "    </tr>\n",
       "    <tr>\n",
       "      <th>3</th>\n",
       "      <td>15</td>\n",
       "      <td>16</td>\n",
       "      <td>17</td>\n",
       "      <td>18</td>\n",
       "      <td>19</td>\n",
       "    </tr>\n",
       "    <tr>\n",
       "      <th>4</th>\n",
       "      <td>20</td>\n",
       "      <td>21</td>\n",
       "      <td>22</td>\n",
       "      <td>23</td>\n",
       "      <td>24</td>\n",
       "    </tr>\n",
       "  </tbody>\n",
       "</table>\n",
       "</div>"
      ],
      "text/plain": [
       "    a   b   c   d   e\n",
       "1   5   6   7   8   9\n",
       "2  10  11  12  13  14\n",
       "3  15  16  17  18  19\n",
       "4  20  21  22  23  24"
      ]
     },
     "execution_count": 2,
     "metadata": {},
     "output_type": "execute_result"
    }
   ],
   "source": [
    "df.drop(0)                # drop a row, on axis 0 or 'rows'\n",
    "df.drop(0, axis=0)        # same\n",
    "df.drop(0, axis='rows')   # same\n",
    "df.drop(labels=0)         # same\n",
    "df.drop(labels=[0])       # same"
   ]
  },
  {
   "cell_type": "markdown",
   "metadata": {},
   "source": [
    "### Again, how do we drop a column?\n",
    "But we want to drop a column, so what does that look like? You can specify the ```axis``` or use the ```columns``` parameter."
   ]
  },
  {
   "cell_type": "code",
   "execution_count": 3,
   "metadata": {},
   "outputs": [
    {
     "data": {
      "text/html": [
       "<div>\n",
       "<style scoped>\n",
       "    .dataframe tbody tr th:only-of-type {\n",
       "        vertical-align: middle;\n",
       "    }\n",
       "\n",
       "    .dataframe tbody tr th {\n",
       "        vertical-align: top;\n",
       "    }\n",
       "\n",
       "    .dataframe thead th {\n",
       "        text-align: right;\n",
       "    }\n",
       "</style>\n",
       "<table border=\"1\" class=\"dataframe\">\n",
       "  <thead>\n",
       "    <tr style=\"text-align: right;\">\n",
       "      <th></th>\n",
       "      <th>a</th>\n",
       "      <th>c</th>\n",
       "      <th>d</th>\n",
       "      <th>e</th>\n",
       "    </tr>\n",
       "  </thead>\n",
       "  <tbody>\n",
       "    <tr>\n",
       "      <th>0</th>\n",
       "      <td>0</td>\n",
       "      <td>2</td>\n",
       "      <td>3</td>\n",
       "      <td>4</td>\n",
       "    </tr>\n",
       "    <tr>\n",
       "      <th>1</th>\n",
       "      <td>5</td>\n",
       "      <td>7</td>\n",
       "      <td>8</td>\n",
       "      <td>9</td>\n",
       "    </tr>\n",
       "    <tr>\n",
       "      <th>2</th>\n",
       "      <td>10</td>\n",
       "      <td>12</td>\n",
       "      <td>13</td>\n",
       "      <td>14</td>\n",
       "    </tr>\n",
       "    <tr>\n",
       "      <th>3</th>\n",
       "      <td>15</td>\n",
       "      <td>17</td>\n",
       "      <td>18</td>\n",
       "      <td>19</td>\n",
       "    </tr>\n",
       "    <tr>\n",
       "      <th>4</th>\n",
       "      <td>20</td>\n",
       "      <td>22</td>\n",
       "      <td>23</td>\n",
       "      <td>24</td>\n",
       "    </tr>\n",
       "  </tbody>\n",
       "</table>\n",
       "</div>"
      ],
      "text/plain": [
       "    a   c   d   e\n",
       "0   0   2   3   4\n",
       "1   5   7   8   9\n",
       "2  10  12  13  14\n",
       "3  15  17  18  19\n",
       "4  20  22  23  24"
      ]
     },
     "execution_count": 3,
     "metadata": {},
     "output_type": "execute_result"
    }
   ],
   "source": [
    "df.drop('b', axis=1)         # drop a column\n",
    "df.drop('b', axis='columns') # same\n",
    "df.drop(columns='b')         # same\n",
    "df.drop(columns=['b'])       # same"
   ]
  },
  {
   "cell_type": "markdown",
   "metadata": {},
   "source": [
    "There you go, that's how you drop a column. Now you have to either assign to a new variable, or back to your old variable, or pass in ```inplace=True``` to make the change permanent."
   ]
  },
  {
   "cell_type": "code",
   "execution_count": 4,
   "metadata": {},
   "outputs": [
    {
     "name": "stdout",
     "output_type": "stream",
     "text": [
      "Index(['a', 'c', 'd', 'e'], dtype='object')\n",
      "Index(['a', 'b', 'c', 'd', 'e'], dtype='object')\n"
     ]
    }
   ],
   "source": [
    "df2 = df.drop('b', axis=1)\n",
    "\n",
    "print(df2.columns)\n",
    "print(df.columns)"
   ]
  },
  {
   "cell_type": "markdown",
   "metadata": {},
   "source": [
    "It's also worth noting that you can drop *both* rows and columns at the same time using drop by using the ```index``` and ```columns``` arguments at once, and you can pass in multiple values."
   ]
  },
  {
   "cell_type": "code",
   "execution_count": 5,
   "metadata": {},
   "outputs": [
    {
     "data": {
      "text/html": [
       "<div>\n",
       "<style scoped>\n",
       "    .dataframe tbody tr th:only-of-type {\n",
       "        vertical-align: middle;\n",
       "    }\n",
       "\n",
       "    .dataframe tbody tr th {\n",
       "        vertical-align: top;\n",
       "    }\n",
       "\n",
       "    .dataframe thead th {\n",
       "        text-align: right;\n",
       "    }\n",
       "</style>\n",
       "<table border=\"1\" class=\"dataframe\">\n",
       "  <thead>\n",
       "    <tr style=\"text-align: right;\">\n",
       "      <th></th>\n",
       "      <th>a</th>\n",
       "      <th>d</th>\n",
       "      <th>e</th>\n",
       "    </tr>\n",
       "  </thead>\n",
       "  <tbody>\n",
       "    <tr>\n",
       "      <th>1</th>\n",
       "      <td>5</td>\n",
       "      <td>8</td>\n",
       "      <td>9</td>\n",
       "    </tr>\n",
       "    <tr>\n",
       "      <th>3</th>\n",
       "      <td>15</td>\n",
       "      <td>18</td>\n",
       "      <td>19</td>\n",
       "    </tr>\n",
       "    <tr>\n",
       "      <th>4</th>\n",
       "      <td>20</td>\n",
       "      <td>23</td>\n",
       "      <td>24</td>\n",
       "    </tr>\n",
       "  </tbody>\n",
       "</table>\n",
       "</div>"
      ],
      "text/plain": [
       "    a   d   e\n",
       "1   5   8   9\n",
       "3  15  18  19\n",
       "4  20  23  24"
      ]
     },
     "execution_count": 5,
     "metadata": {},
     "output_type": "execute_result"
    }
   ],
   "source": [
    "df.drop(index=[0,2], columns=['b','c'])"
   ]
  },
  {
   "cell_type": "markdown",
   "metadata": {},
   "source": [
    "If you didn't have the drop method, you could basically do the same thing through indexing. For example, an equivalent indexing using the ```.loc``` indexer and ```isin```, along with inverting the selection, would work."
   ]
  },
  {
   "cell_type": "code",
   "execution_count": 6,
   "metadata": {},
   "outputs": [
    {
     "data": {
      "text/html": [
       "<div>\n",
       "<style scoped>\n",
       "    .dataframe tbody tr th:only-of-type {\n",
       "        vertical-align: middle;\n",
       "    }\n",
       "\n",
       "    .dataframe tbody tr th {\n",
       "        vertical-align: top;\n",
       "    }\n",
       "\n",
       "    .dataframe thead th {\n",
       "        text-align: right;\n",
       "    }\n",
       "</style>\n",
       "<table border=\"1\" class=\"dataframe\">\n",
       "  <thead>\n",
       "    <tr style=\"text-align: right;\">\n",
       "      <th></th>\n",
       "      <th>a</th>\n",
       "      <th>d</th>\n",
       "      <th>e</th>\n",
       "    </tr>\n",
       "  </thead>\n",
       "  <tbody>\n",
       "    <tr>\n",
       "      <th>1</th>\n",
       "      <td>5</td>\n",
       "      <td>8</td>\n",
       "      <td>9</td>\n",
       "    </tr>\n",
       "    <tr>\n",
       "      <th>3</th>\n",
       "      <td>15</td>\n",
       "      <td>18</td>\n",
       "      <td>19</td>\n",
       "    </tr>\n",
       "    <tr>\n",
       "      <th>4</th>\n",
       "      <td>20</td>\n",
       "      <td>23</td>\n",
       "      <td>24</td>\n",
       "    </tr>\n",
       "  </tbody>\n",
       "</table>\n",
       "</div>"
      ],
      "text/plain": [
       "    a   d   e\n",
       "1   5   8   9\n",
       "3  15  18  19\n",
       "4  20  23  24"
      ]
     },
     "execution_count": 6,
     "metadata": {},
     "output_type": "execute_result"
    }
   ],
   "source": [
    "df.loc[~df.index.isin([0,2]), ~df.columns.isin(['b', 'c'])]"
   ]
  },
  {
   "cell_type": "markdown",
   "metadata": {},
   "source": [
    "If none of that makes sense to you, I would suggest reading through my series on selecting and indexing in pandas, starting [here](https://www.wrighters.io/indexing-and-selecting-in-pandas-part-1/).\n",
    "\n",
    "## Back to the question\n",
    "Looking back at the original question though, we see there is another interesting technique for removing a column. "
   ]
  },
  {
   "cell_type": "code",
   "execution_count": 7,
   "metadata": {},
   "outputs": [
    {
     "data": {
      "text/html": [
       "<div>\n",
       "<style scoped>\n",
       "    .dataframe tbody tr th:only-of-type {\n",
       "        vertical-align: middle;\n",
       "    }\n",
       "\n",
       "    .dataframe tbody tr th {\n",
       "        vertical-align: top;\n",
       "    }\n",
       "\n",
       "    .dataframe thead th {\n",
       "        text-align: right;\n",
       "    }\n",
       "</style>\n",
       "<table border=\"1\" class=\"dataframe\">\n",
       "  <thead>\n",
       "    <tr style=\"text-align: right;\">\n",
       "      <th></th>\n",
       "      <th>b</th>\n",
       "      <th>c</th>\n",
       "      <th>d</th>\n",
       "      <th>e</th>\n",
       "    </tr>\n",
       "  </thead>\n",
       "  <tbody>\n",
       "    <tr>\n",
       "      <th>0</th>\n",
       "      <td>1</td>\n",
       "      <td>2</td>\n",
       "      <td>3</td>\n",
       "      <td>4</td>\n",
       "    </tr>\n",
       "    <tr>\n",
       "      <th>1</th>\n",
       "      <td>6</td>\n",
       "      <td>7</td>\n",
       "      <td>8</td>\n",
       "      <td>9</td>\n",
       "    </tr>\n",
       "    <tr>\n",
       "      <th>2</th>\n",
       "      <td>11</td>\n",
       "      <td>12</td>\n",
       "      <td>13</td>\n",
       "      <td>14</td>\n",
       "    </tr>\n",
       "    <tr>\n",
       "      <th>3</th>\n",
       "      <td>16</td>\n",
       "      <td>17</td>\n",
       "      <td>18</td>\n",
       "      <td>19</td>\n",
       "    </tr>\n",
       "    <tr>\n",
       "      <th>4</th>\n",
       "      <td>21</td>\n",
       "      <td>22</td>\n",
       "      <td>23</td>\n",
       "      <td>24</td>\n",
       "    </tr>\n",
       "  </tbody>\n",
       "</table>\n",
       "</div>"
      ],
      "text/plain": [
       "    b   c   d   e\n",
       "0   1   2   3   4\n",
       "1   6   7   8   9\n",
       "2  11  12  13  14\n",
       "3  16  17  18  19\n",
       "4  21  22  23  24"
      ]
     },
     "execution_count": 7,
     "metadata": {},
     "output_type": "execute_result"
    }
   ],
   "source": [
    "del df['a']\n",
    "\n",
    "df"
   ]
  },
  {
   "cell_type": "markdown",
   "metadata": {},
   "source": [
    "Poof! It's gone. This is like doing a drop with ```inplace=True```. \n",
    "\n",
    "## What about attribute access?\n",
    "We also know that we can use attribute access to *select* columns of a ```DataFrame```."
   ]
  },
  {
   "cell_type": "code",
   "execution_count": 8,
   "metadata": {},
   "outputs": [
    {
     "data": {
      "text/plain": [
       "0     1\n",
       "1     6\n",
       "2    11\n",
       "3    16\n",
       "4    21\n",
       "Name: b, dtype: int64"
      ]
     },
     "execution_count": 8,
     "metadata": {},
     "output_type": "execute_result"
    }
   ],
   "source": [
    "df.b"
   ]
  },
  {
   "cell_type": "markdown",
   "metadata": {},
   "source": [
    "Can we delete the column this way?"
   ]
  },
  {
   "cell_type": "code",
   "execution_count": 9,
   "metadata": {},
   "outputs": [
    {
     "ename": "AttributeError",
     "evalue": "b",
     "output_type": "error",
     "traceback": [
      "\u001b[0;31m---------------------------------------------------------------------------\u001b[0m",
      "\u001b[0;31mAttributeError\u001b[0m                            Traceback (most recent call last)",
      "\u001b[0;32m<ipython-input-9-0dca358a6ef9>\u001b[0m in \u001b[0;36m<module>\u001b[0;34m\u001b[0m\n\u001b[0;32m----> 1\u001b[0;31m \u001b[0;32mdel\u001b[0m \u001b[0mdf\u001b[0m\u001b[0;34m.\u001b[0m\u001b[0mb\u001b[0m\u001b[0;34m\u001b[0m\u001b[0;34m\u001b[0m\u001b[0m\n\u001b[0m",
      "\u001b[0;31mAttributeError\u001b[0m: b"
     ]
    }
   ],
   "source": [
    "del df.b"
   ]
  },
  {
   "cell_type": "markdown",
   "metadata": {},
   "source": [
    "We cannot. This is not an option for removing columns with the current pandas design. But is this technically impossible? How come ```del df['b']``` works but ```del df.b``` doesn't?. Let's dig into those details and see whether it would be possible to make the second work as well.\n",
    "\n",
    "The first version works because in pandas, the ```DataFrame``` implements the ```__delitem__``` method which gets invoked when you execute ```del df['b']```. But what about ```del df.b```, is there a way to handle that?\n",
    "\n",
    "First, let's make a simple class that shows how this works under the hood. Instead of being a real ```DataFrame```, we'll just use a ```dict``` as a container for our columns (which could really be anything, we're not doing any indexing here)."
   ]
  },
  {
   "cell_type": "code",
   "execution_count": 10,
   "metadata": {},
   "outputs": [
    {
     "name": "stdout",
     "output_type": "stream",
     "text": [
      "StupidFrame value for a: 1\n",
      "StupidFrame columns:  {'a': 1, 'b': 2, 'c': 3}\n",
      "StupidFrame columns:  {'a': 1, 'c': 3}\n"
     ]
    }
   ],
   "source": [
    "class StupidFrame:\n",
    "    def __init__(self, columns):\n",
    "        self.columns = columns\n",
    "        \n",
    "    def __delitem__(self, item):\n",
    "        del self.columns[item]\n",
    "        \n",
    "    def __getitem__(self, item):\n",
    "        return self.columns[item]\n",
    "    \n",
    "    def __setitem__(self, item, val):\n",
    "        self.columns[item] = val\n",
    "            \n",
    "f = StupidFrame({'a': 1, 'b': 2, 'c': 3})\n",
    "print(\"StupidFrame value for a:\", f['a'])\n",
    "print(\"StupidFrame columns: \", f.columns)\n",
    "del f['b']\n",
    "f.d = 4\n",
    "print(\"StupidFrame columns: \", f.columns)"
   ]
  },
  {
   "cell_type": "markdown",
   "metadata": {},
   "source": [
    "A couple of things to note here. First, we how that we can access the data in our ```StupidFrame``` with the index operators (```[]```), and use that for setting, getting, and deleting items. But we added ```d``` to our frame, but it wasn't added to our columns because it's just a normal instance attribute. If we wanted to be able to handle the columns as attributes, we have to do a little bit more work.\n",
    "\n",
    "So following the example from pandas (which supports attribute access of columns), we add the ```__getattr__``` method, but we also will handle setting it with the ```__setattr__``` method and pretend that any attribute assignment is a 'column'. We have to update our instance dictionary (```__dict__```) directly to avoid an infinite recursion."
   ]
  },
  {
   "cell_type": "code",
   "execution_count": 11,
   "metadata": {},
   "outputs": [
    {
     "name": "stdout",
     "output_type": "stream",
     "text": [
      "StupidFrameAttr value for a 1\n",
      "StupidFrameAttr columns:  {'a': 1, 'b': 2, 'c': 3}\n",
      "StupidFrameAttr columns:  {'a': 1, 'c': 3}\n",
      "StupidFrameAttr value for a 1\n",
      "StupidFrameAttr columns:  {'a': 1, 'c': 3, 'd': 4}\n",
      "StupidFrameAttr columns:  {'a': 1, 'c': 3}\n",
      "StupidFrameAttr columns:  {'a': 1, 'c': 3, 'd': 5}\n"
     ]
    },
    {
     "ename": "AttributeError",
     "evalue": "d",
     "output_type": "error",
     "traceback": [
      "\u001b[0;31m---------------------------------------------------------------------------\u001b[0m",
      "\u001b[0;31mAttributeError\u001b[0m                            Traceback (most recent call last)",
      "\u001b[0;32m<ipython-input-11-fd29f59ea01e>\u001b[0m in \u001b[0;36m<module>\u001b[0;34m\u001b[0m\n\u001b[1;32m     39\u001b[0m \u001b[0mf\u001b[0m\u001b[0;34m.\u001b[0m\u001b[0md\u001b[0m \u001b[0;34m=\u001b[0m \u001b[0;36m5\u001b[0m\u001b[0;34m\u001b[0m\u001b[0;34m\u001b[0m\u001b[0m\n\u001b[1;32m     40\u001b[0m \u001b[0mprint\u001b[0m\u001b[0;34m(\u001b[0m\u001b[0;34m\"StupidFrameAttr columns: \"\u001b[0m\u001b[0;34m,\u001b[0m \u001b[0mf\u001b[0m\u001b[0;34m.\u001b[0m\u001b[0mcolumns\u001b[0m\u001b[0;34m)\u001b[0m\u001b[0;34m\u001b[0m\u001b[0;34m\u001b[0m\u001b[0m\n\u001b[0;32m---> 41\u001b[0;31m \u001b[0;32mdel\u001b[0m \u001b[0mf\u001b[0m\u001b[0;34m.\u001b[0m\u001b[0md\u001b[0m\u001b[0;34m\u001b[0m\u001b[0;34m\u001b[0m\u001b[0m\n\u001b[0m",
      "\u001b[0;31mAttributeError\u001b[0m: d"
     ]
    }
   ],
   "source": [
    "class StupidFrameAttr:\n",
    "    def __init__(self, columns):\n",
    "        self.__dict__['columns'] = columns\n",
    "        \n",
    "    def __delitem__(self, item):\n",
    "        del self.__dict__['columns'][item]\n",
    "        \n",
    "    def __getitem__(self, item):\n",
    "        return self.__dict__['columns'][item]\n",
    "    \n",
    "    def __setitem__(self, item, val):\n",
    "        self.__dict__['columns'][item] = val\n",
    "        \n",
    "    def __getattr__(self, item):\n",
    "        if item in self.__dict__['columns']:\n",
    "            return self.__dict__['columns'][item]\n",
    "        elif item == 'columns':\n",
    "            return self.__dict__[item]\n",
    "        else:\n",
    "            raise AttributeError\n",
    "    \n",
    "    def __setattr__(self, item, val):\n",
    "        if item != 'columns':\n",
    "            self.__dict__['columns'][item] = val\n",
    "        else:\n",
    "            raise ValueError(\"Overwriting columns prohibited\") \n",
    "\n",
    "            \n",
    "f = StupidFrameAttr({'a': 1, 'b': 2, 'c': 3})\n",
    "print(\"StupidFrameAttr value for a\", f['a'])\n",
    "print(\"StupidFrameAttr columns: \", f.columns)\n",
    "del f['b']\n",
    "print(\"StupidFrameAttr columns: \", f.columns)\n",
    "print(\"StupidFrameAttr value for a\", f.a)\n",
    "f.d = 4\n",
    "print(\"StupidFrameAttr columns: \", f.columns)\n",
    "del f['d']\n",
    "print(\"StupidFrameAttr columns: \", f.columns)\n",
    "f.d = 5\n",
    "print(\"StupidFrameAttr columns: \", f.columns)\n",
    "del f.d"
   ]
  },
  {
   "cell_type": "markdown",
   "metadata": {},
   "source": [
    "## How could we handle deletion?\n",
    "Everythign works but deletion using attribute access. We handle setting/getting columns using both the array index operator (```[]```) and attribute access. But what about detecting deletion? Is that possible?\n",
    "\n",
    "One way to do this is using the ```__delattr__``` method, which is described in the [data model](https://docs.python.org/3.8/reference/datamodel.html) documentation. If you define this method in your class, it will be invoked instead of updating an instance's attribute dictionary directly. This gives us a chance to redirect this to our columns instance. "
   ]
  },
  {
   "cell_type": "code",
   "execution_count": 12,
   "metadata": {},
   "outputs": [
    {
     "name": "stdout",
     "output_type": "stream",
     "text": [
      "StupidFrameDelAttr value for a 1\n",
      "StupidFrameDelAttr columns:  {'a': 1, 'b': 2, 'c': 3}\n",
      "StupidFrameDelAttr columns:  {'a': 1, 'c': 3}\n",
      "StupidFrameDelAttr value for a 1\n",
      "StupidFrameDelAttr columns:  {'a': 1, 'c': 3, 'd': 4}\n",
      "StupidFrameDelAttr columns:  {'a': 1, 'c': 3}\n"
     ]
    }
   ],
   "source": [
    "class StupidFrameDelAttr(StupidFrameAttr):\n",
    "    def __delattr__(self, item):\n",
    "        # trivial implementation using the data model methods\n",
    "        del self.__dict__['columns'][item]\n",
    "\n",
    "f = StupidFrameDelAttr({'a': 1, 'b': 2, 'c': 3})\n",
    "print(\"StupidFrameDelAttr value for a\", f['a'])\n",
    "print(\"StupidFrameDelAttr columns: \", f.columns)\n",
    "del f['b']\n",
    "print(\"StupidFrameDelAttr columns: \", f.columns)\n",
    "print(\"StupidFrameDelAttr value for a\", f.a)\n",
    "f.d = 4\n",
    "print(\"StupidFrameDelAttr columns: \", f.columns)\n",
    "del f.d \n",
    "print(\"StupidFrameDelAttr columns: \", f.columns)"
   ]
  },
  {
   "cell_type": "markdown",
   "metadata": {},
   "source": [
    "Now I'm not suggesting that attribute deletion for columns would be easy to add to pandas, but at least this shows how it could be possible. In the case of current pandas, deleting columns is best done using ```drop```.\n",
    "\n",
    "It's worth mentioning here that when you create a new column in pandas, you don't assign it as an attribute. To better understand how to properly create a column, you can check out [this article](https://www.wrighters.io/basic-pandas-how-to-add-a-column-to-a-dataframe/)."
   ]
  }
 ],
 "metadata": {
  "kernelspec": {
   "display_name": "Python 3",
   "language": "python",
   "name": "python3"
  },
  "language_info": {
   "codemirror_mode": {
    "name": "ipython",
    "version": 3
   },
   "file_extension": ".py",
   "mimetype": "text/x-python",
   "name": "python",
   "nbconvert_exporter": "python",
   "pygments_lexer": "ipython3",
   "version": "3.8.6"
  }
 },
 "nbformat": 4,
 "nbformat_minor": 4
}

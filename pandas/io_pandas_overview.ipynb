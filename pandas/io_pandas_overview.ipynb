{
 "cells": [
  {
   "cell_type": "markdown",
   "metadata": {
    "pycharm": {
     "name": "#%% md\n"
    }
   },
   "source": [
    "## Input and Output\n",
    "Pandas has a lot of functionality, but before you can explore or use it, you'll most likely want to access some data from an external source. You'll also likely want to store results for use later or be able to export results to other tools or to share with others. Pandas has a lot of great options in the area of Input/Output, but with a large number of choices we need to put some thought into what options to use and when.\n",
    "\n",
    "In this post, I'm going to do a quick overview of some basic I/O for the major options that pandas supports. All of this is available in the documentation, but instead of focusing on details here, I want to get a real world dataset and go over the basic code required to write this data set and then read it back with the same values and types represented in the set. This will give us a basic overview of all of the APIs.\n",
    "\n",
    "For an input data set, I'll use the [Yahoo! Finance API](https://pypi.org/project/yfinance/) to grab some historical stock market data. This will allow us to see the handling of data types like strings, dates, and numeric values.\n",
    "\n",
    "All of these examples were first written and tested with Python 3.8.6 and pandas 1.1.4, using a separate virtualenv created using [pyenv](https://www.wrighters.io/2020/11/07/use-pyenv-and-virtual-environments-to-manage-python-complexity).\n",
    "\n",
    "First, let's install our dependencies using pip (run this cell if needed). If you're using anaconda, you may need to install some of these separately depending on how you setup your environment.\n",
    "\n",
    "For each of the I/O options below, I'll explain which of these installs are needed."
   ]
  },
  {
   "cell_type": "code",
   "execution_count": null,
   "metadata": {
    "pycharm": {
     "name": "#%%\n"
    }
   },
   "outputs": [],
   "source": [
    "%pip install yfinance pandas jupyter matplotlib openpyxl xlrd tables pyarrow"
   ]
  },
  {
   "cell_type": "code",
   "execution_count": 2,
   "metadata": {
    "pycharm": {
     "name": "#%%\n"
    }
   },
   "outputs": [
    {
     "data": {
      "text/html": [
       "<div>\n",
       "<style scoped>\n",
       "    .dataframe tbody tr th:only-of-type {\n",
       "        vertical-align: middle;\n",
       "    }\n",
       "\n",
       "    .dataframe tbody tr th {\n",
       "        vertical-align: top;\n",
       "    }\n",
       "\n",
       "    .dataframe thead th {\n",
       "        text-align: right;\n",
       "    }\n",
       "</style>\n",
       "<table border=\"1\" class=\"dataframe\">\n",
       "  <thead>\n",
       "    <tr style=\"text-align: right;\">\n",
       "      <th></th>\n",
       "      <th>Open</th>\n",
       "      <th>High</th>\n",
       "      <th>Low</th>\n",
       "      <th>Close</th>\n",
       "      <th>Volume</th>\n",
       "      <th>Dividends</th>\n",
       "      <th>Stock Splits</th>\n",
       "    </tr>\n",
       "    <tr>\n",
       "      <th>Date</th>\n",
       "      <th></th>\n",
       "      <th></th>\n",
       "      <th></th>\n",
       "      <th></th>\n",
       "      <th></th>\n",
       "      <th></th>\n",
       "      <th></th>\n",
       "    </tr>\n",
       "  </thead>\n",
       "  <tbody>\n",
       "    <tr>\n",
       "      <th>1986-03-13</th>\n",
       "      <td>0.056367</td>\n",
       "      <td>0.064656</td>\n",
       "      <td>0.056367</td>\n",
       "      <td>0.061893</td>\n",
       "      <td>1031788800</td>\n",
       "      <td>0.0</td>\n",
       "      <td>0.0</td>\n",
       "    </tr>\n",
       "    <tr>\n",
       "      <th>1986-03-14</th>\n",
       "      <td>0.061893</td>\n",
       "      <td>0.065209</td>\n",
       "      <td>0.061893</td>\n",
       "      <td>0.064103</td>\n",
       "      <td>308160000</td>\n",
       "      <td>0.0</td>\n",
       "      <td>0.0</td>\n",
       "    </tr>\n",
       "    <tr>\n",
       "      <th>1986-03-17</th>\n",
       "      <td>0.064103</td>\n",
       "      <td>0.065761</td>\n",
       "      <td>0.064103</td>\n",
       "      <td>0.065209</td>\n",
       "      <td>133171200</td>\n",
       "      <td>0.0</td>\n",
       "      <td>0.0</td>\n",
       "    </tr>\n",
       "    <tr>\n",
       "      <th>1986-03-18</th>\n",
       "      <td>0.065209</td>\n",
       "      <td>0.065761</td>\n",
       "      <td>0.062998</td>\n",
       "      <td>0.063551</td>\n",
       "      <td>67766400</td>\n",
       "      <td>0.0</td>\n",
       "      <td>0.0</td>\n",
       "    </tr>\n",
       "    <tr>\n",
       "      <th>1986-03-19</th>\n",
       "      <td>0.063551</td>\n",
       "      <td>0.064103</td>\n",
       "      <td>0.061893</td>\n",
       "      <td>0.062446</td>\n",
       "      <td>47894400</td>\n",
       "      <td>0.0</td>\n",
       "      <td>0.0</td>\n",
       "    </tr>\n",
       "  </tbody>\n",
       "</table>\n",
       "</div>"
      ],
      "text/plain": [
       "                Open      High       Low     Close      Volume  Dividends  \\\n",
       "Date                                                                        \n",
       "1986-03-13  0.056367  0.064656  0.056367  0.061893  1031788800        0.0   \n",
       "1986-03-14  0.061893  0.065209  0.061893  0.064103   308160000        0.0   \n",
       "1986-03-17  0.064103  0.065761  0.064103  0.065209   133171200        0.0   \n",
       "1986-03-18  0.065209  0.065761  0.062998  0.063551    67766400        0.0   \n",
       "1986-03-19  0.063551  0.064103  0.061893  0.062446    47894400        0.0   \n",
       "\n",
       "            Stock Splits  \n",
       "Date                      \n",
       "1986-03-13           0.0  \n",
       "1986-03-14           0.0  \n",
       "1986-03-17           0.0  \n",
       "1986-03-18           0.0  \n",
       "1986-03-19           0.0  "
      ]
     },
     "execution_count": 2,
     "metadata": {},
     "output_type": "execute_result"
    }
   ],
   "source": [
    "import os\n",
    "\n",
    "import yfinance as yf\n",
    "import pandas as pd\n",
    "import matplotlib.pyplot as plt\n",
    "\n",
    "msft = yf.Ticker('MSFT')\n",
    "\n",
    "prices = msft.history(period='max')\n",
    "\n",
    "prices.head()"
   ]
  },
  {
   "cell_type": "code",
   "execution_count": 3,
   "metadata": {
    "pycharm": {
     "name": "#%%\n"
    }
   },
   "outputs": [
    {
     "data": {
      "text/plain": [
       "(8757, 7)"
      ]
     },
     "execution_count": 3,
     "metadata": {},
     "output_type": "execute_result"
    }
   ],
   "source": [
    "prices.shape"
   ]
  },
  {
   "cell_type": "code",
   "execution_count": 4,
   "metadata": {
    "pycharm": {
     "name": "#%%\n"
    }
   },
   "outputs": [
    {
     "data": {
      "text/html": [
       "<div>\n",
       "<style scoped>\n",
       "    .dataframe tbody tr th:only-of-type {\n",
       "        vertical-align: middle;\n",
       "    }\n",
       "\n",
       "    .dataframe tbody tr th {\n",
       "        vertical-align: top;\n",
       "    }\n",
       "\n",
       "    .dataframe thead th {\n",
       "        text-align: right;\n",
       "    }\n",
       "</style>\n",
       "<table border=\"1\" class=\"dataframe\">\n",
       "  <thead>\n",
       "    <tr style=\"text-align: right;\">\n",
       "      <th></th>\n",
       "      <th>Open</th>\n",
       "      <th>High</th>\n",
       "      <th>Low</th>\n",
       "      <th>Close</th>\n",
       "      <th>Volume</th>\n",
       "      <th>Dividends</th>\n",
       "      <th>Stock Splits</th>\n",
       "    </tr>\n",
       "  </thead>\n",
       "  <tbody>\n",
       "    <tr>\n",
       "      <th>count</th>\n",
       "      <td>8757.000000</td>\n",
       "      <td>8757.000000</td>\n",
       "      <td>8757.000000</td>\n",
       "      <td>8757.000000</td>\n",
       "      <td>8.757000e+03</td>\n",
       "      <td>8757.000000</td>\n",
       "      <td>8757.000000</td>\n",
       "    </tr>\n",
       "    <tr>\n",
       "      <th>mean</th>\n",
       "      <td>27.605228</td>\n",
       "      <td>27.898439</td>\n",
       "      <td>27.304389</td>\n",
       "      <td>27.611278</td>\n",
       "      <td>5.988022e+07</td>\n",
       "      <td>0.002251</td>\n",
       "      <td>0.001941</td>\n",
       "    </tr>\n",
       "    <tr>\n",
       "      <th>std</th>\n",
       "      <td>38.664189</td>\n",
       "      <td>39.066306</td>\n",
       "      <td>38.232989</td>\n",
       "      <td>38.672286</td>\n",
       "      <td>3.865088e+07</td>\n",
       "      <td>0.041333</td>\n",
       "      <td>0.060893</td>\n",
       "    </tr>\n",
       "    <tr>\n",
       "      <th>min</th>\n",
       "      <td>0.056367</td>\n",
       "      <td>0.058577</td>\n",
       "      <td>0.056367</td>\n",
       "      <td>0.057472</td>\n",
       "      <td>2.304000e+06</td>\n",
       "      <td>0.000000</td>\n",
       "      <td>0.000000</td>\n",
       "    </tr>\n",
       "    <tr>\n",
       "      <th>25%</th>\n",
       "      <td>2.392274</td>\n",
       "      <td>2.422115</td>\n",
       "      <td>2.367407</td>\n",
       "      <td>2.382327</td>\n",
       "      <td>3.601770e+07</td>\n",
       "      <td>0.000000</td>\n",
       "      <td>0.000000</td>\n",
       "    </tr>\n",
       "    <tr>\n",
       "      <th>50%</th>\n",
       "      <td>18.598666</td>\n",
       "      <td>18.802277</td>\n",
       "      <td>18.407415</td>\n",
       "      <td>18.580099</td>\n",
       "      <td>5.303360e+07</td>\n",
       "      <td>0.000000</td>\n",
       "      <td>0.000000</td>\n",
       "    </tr>\n",
       "    <tr>\n",
       "      <th>75%</th>\n",
       "      <td>26.421556</td>\n",
       "      <td>26.742760</td>\n",
       "      <td>26.166867</td>\n",
       "      <td>26.399563</td>\n",
       "      <td>7.366680e+07</td>\n",
       "      <td>0.000000</td>\n",
       "      <td>0.000000</td>\n",
       "    </tr>\n",
       "    <tr>\n",
       "      <th>max</th>\n",
       "      <td>228.671335</td>\n",
       "      <td>232.251952</td>\n",
       "      <td>226.756345</td>\n",
       "      <td>231.045105</td>\n",
       "      <td>1.031789e+09</td>\n",
       "      <td>3.080000</td>\n",
       "      <td>2.000000</td>\n",
       "    </tr>\n",
       "  </tbody>\n",
       "</table>\n",
       "</div>"
      ],
      "text/plain": [
       "              Open         High          Low        Close        Volume  \\\n",
       "count  8757.000000  8757.000000  8757.000000  8757.000000  8.757000e+03   \n",
       "mean     27.605228    27.898439    27.304389    27.611278  5.988022e+07   \n",
       "std      38.664189    39.066306    38.232989    38.672286  3.865088e+07   \n",
       "min       0.056367     0.058577     0.056367     0.057472  2.304000e+06   \n",
       "25%       2.392274     2.422115     2.367407     2.382327  3.601770e+07   \n",
       "50%      18.598666    18.802277    18.407415    18.580099  5.303360e+07   \n",
       "75%      26.421556    26.742760    26.166867    26.399563  7.366680e+07   \n",
       "max     228.671335   232.251952   226.756345   231.045105  1.031789e+09   \n",
       "\n",
       "         Dividends  Stock Splits  \n",
       "count  8757.000000   8757.000000  \n",
       "mean      0.002251      0.001941  \n",
       "std       0.041333      0.060893  \n",
       "min       0.000000      0.000000  \n",
       "25%       0.000000      0.000000  \n",
       "50%       0.000000      0.000000  \n",
       "75%       0.000000      0.000000  \n",
       "max       3.080000      2.000000  "
      ]
     },
     "execution_count": 4,
     "metadata": {},
     "output_type": "execute_result"
    }
   ],
   "source": [
    "prices.describe()"
   ]
  },
  {
   "cell_type": "code",
   "execution_count": 5,
   "metadata": {
    "pycharm": {
     "name": "#%%\n"
    }
   },
   "outputs": [
    {
     "data": {
      "text/plain": [
       "DatetimeIndex(['1986-03-13', '1986-03-14', '1986-03-17', '1986-03-18',\n",
       "               '1986-03-19', '1986-03-20', '1986-03-21', '1986-03-24',\n",
       "               '1986-03-25', '1986-03-26',\n",
       "               ...\n",
       "               '2020-11-23', '2020-11-24', '2020-11-25', '2020-11-27',\n",
       "               '2020-11-30', '2020-12-01', '2020-12-02', '2020-12-03',\n",
       "               '2020-12-04', '2020-12-07'],\n",
       "              dtype='datetime64[ns]', name='Date', length=8757, freq=None)"
      ]
     },
     "execution_count": 5,
     "metadata": {},
     "output_type": "execute_result"
    }
   ],
   "source": [
    "prices.index"
   ]
  },
  {
   "cell_type": "code",
   "execution_count": 6,
   "metadata": {
    "pycharm": {
     "name": "#%%\n"
    }
   },
   "outputs": [
    {
     "data": {
      "text/plain": [
       "Open            float64\n",
       "High            float64\n",
       "Low             float64\n",
       "Close           float64\n",
       "Volume            int64\n",
       "Dividends       float64\n",
       "Stock Splits    float64\n",
       "dtype: object"
      ]
     },
     "execution_count": 6,
     "metadata": {},
     "output_type": "execute_result"
    }
   ],
   "source": [
    "prices.dtypes"
   ]
  },
  {
   "cell_type": "code",
   "execution_count": 7,
   "metadata": {
    "pycharm": {
     "name": "#%%\n"
    }
   },
   "outputs": [
    {
     "data": {
      "text/plain": [
       "<AxesSubplot:xlabel='Date'>"
      ]
     },
     "execution_count": 7,
     "metadata": {},
     "output_type": "execute_result"
    },
    {
     "data": {
      "image/png": "[encoded data removed]",
      "text/plain": [
       "<Figure size 432x288 with 1 Axes>"
      ]
     },
     "metadata": {
      "needs_background": "light"
     },
     "output_type": "display_data"
    }
   ],
   "source": [
    "prices['Close'].plot()"
   ]
  },
  {
   "cell_type": "markdown",
   "metadata": {
    "pycharm": {
     "name": "#%% md\n"
    }
   },
   "source": [
    "## Our data\n",
    "Now we have a pandas ```DataFrame``` with a date index, floating point values for Open, High, Low, Close, Dividends, and Stock Splits. The Volume is an integer type. This will let us explore some basics for how to persist and read data in the various formats available to us in pandas.\n",
    "\n",
    "In this post, we'll look at the following formats: CSV, JSON, Microsoft Excel, HDF5, Feather, Parquet, Pickle, and SQL. These are the format that are supported in pandas with ```to_xxx``` methods and provide local storage of data. For each case, we'll look at only the basics of the API so that we can write and read back the ```DataFrame``` with the same datatypes. For each type, we'll also look at a few basics like the size of the file on disk and the time it takes to read and write the data. Note that this is a small ```DataFrame```, so we won't be exploring the true advantages of compression and speed for some of the formats with a smaller amount of data. Later, we can look at that sort of detail.\n",
    "\n",
    "Note: I don't mention the html format here, since it's not really a good way to store local data, but is more useful for simple web scraping or generating reports. I also won't mention Stata or SAS in this article, mainly because most users will not choose to use either format unless they need to integrate with those platforms, in which case they won't have much choice in the matter of what storage to choose. Also note that Msgpack support was dropped in pandas 1.0, so while it's in the documentation, it's use is discouraged going forward.\n",
    "\n",
    "For each storage type, I've created a method that takes in the source ```DataFrame``` and writes it out to local storage, then returns the ```DataFrame``` that was created, along with the stat values of the file it was stored in. This will allow us to run some tests on the results and build a summary table of our differences.\n",
    "\n",
    "I've also created a comparison method that will compare our original ```DataFrame``` with the one that was written to disk and then recreated from the saved data. It should be the same, minus small changes due to the number of significant digits that the storage mechanism will use.\n",
    "\n",
    "## CSV\n",
    "First, the most used format for persisting data in the world is probably Comma Separated Values, or CSV. CSV is far from perfect as a format, but is so commonly used that everyone should be able to use it and understand the major issues most users of pandas will encounter with it. The ```DataFrame.to_csv``` and ```pd.read_csv``` methods have a number of arguments and are worthy of a separate article. It's worth noting that the method ```pd.read_table``` is just calling ```read_csv``` but with a Tab (```\\t```) as a separator instead of a comma. For now, we will just write our prices ```DataFrame``` as is. When reading our CSV, we need to use a few options to generate a similar result. First, we need to specify our index column so that a new default index is not created, and second, we give the method a hint that our index column is a date so that it can be converted properly.\n",
    "\n",
    "### Advantages\n",
    "* Widely supported\n",
    "* Easy to manipulate and debug with a text editor, or a spreadsheet tool\n",
    "* No special libraries or tools needed\n",
    "* Simple to break dataset into smaller chunks\n",
    "\n",
    "### Disadvantages\n",
    "1. Not efficient\n",
    "1. Lossy for some datatypes\n",
    "1. Not a clear standard, so usually requires some investigation of data to set up\n",
    "1. Cumbersome for large datasets"
   ]
  },
  {
   "cell_type": "code",
   "execution_count": 8,
   "metadata": {
    "pycharm": {
     "name": "#%%\n"
    }
   },
   "outputs": [],
   "source": [
    "def compare_dfs(df1, df2):\n",
    "    # at a minimum, we expect the index to be an exact match\n",
    "    assert (df1.index == df2.index).all()\n",
    "    \n",
    "    # we also need all the columns to exist\n",
    "    assert (df1.columns == df2.columns).all()\n",
    "    \n",
    "    for col in df1.columns:\n",
    "        if df1[col].dtype == 'int64':\n",
    "            # integer columns will be an exact match\n",
    "            assert (df1[col] == df2[col]).all()\n",
    "        elif df1[col].dtype == 'float64':\n",
    "            # floating point will not be exact, but needs to be close\n",
    "            assert ((df1[col] - df2[col]).abs() < 1e-10).all()"
   ]
  },
  {
   "cell_type": "code",
   "execution_count": 9,
   "metadata": {
    "pycharm": {
     "name": "#%%\n"
    }
   },
   "outputs": [],
   "source": [
    "def read_and_write_csv(df, filename):\n",
    "    df.to_csv(filename)\n",
    "    df2 = pd.read_csv(filename, index_col=0, parse_dates=[0])\n",
    "    return df2, os.stat(filename)\n",
    "    "
   ]
  },
  {
   "cell_type": "markdown",
   "metadata": {
    "pycharm": {
     "name": "#%% md\n"
    }
   },
   "source": [
    "## JSON\n",
    "For JSON (JavaScript Object Notation), the ```DataFrame``` is stored as a single object with each column as a member of that object, consisting of members of the keys of the index and values being the values from the column. So it may look something like this:\n",
    "```\n",
    "{\"Open\":{\"511056000000\":0.0563667971, ..},\n",
    " \"Close\": {\"511056000000\":0.0533667232, ..}\n",
    "}\n",
    "```\n",
    "\n",
    "In general, I don't see many people using JSON as a storage format for pandas.\n",
    "\n",
    "### Advantages\n",
    "* Widely supported\n",
    "* Somewhat easy to manipulate and debug with a text editor\n",
    "* No special libraries or tools needed\n",
    "\n",
    "### Disadvantages\n",
    "* Not the most efficient and readable method of storage. Hand editing is not simple.\n",
    "* Very cumbersome with larger datasets"
   ]
  },
  {
   "cell_type": "code",
   "execution_count": 10,
   "metadata": {
    "pycharm": {
     "name": "#%%\n"
    }
   },
   "outputs": [],
   "source": [
    "def read_and_write_json(df, filename):\n",
    "    df.to_json(filename)\n",
    "    df2 = pd.read_json(filename)\n",
    "    return df2, os.stat(filename)"
   ]
  },
  {
   "cell_type": "markdown",
   "metadata": {
    "pycharm": {
     "name": "#%% md\n"
    }
   },
   "source": [
    "## Microsoft Excel\n",
    "Using the openpyxl and xlrd packages, pandas is able to read and write Excel files. While maybe not the best long term source of storage, being able interact with Excel is a very important feature for many users. If work teams have data already in Excel and maintain it there, being able to read it into pandas is a necessary feature. Also, many third parties build Excel add-ins, so a common workflow can be to pull data into Excel first, then read it into pandas. \n",
    "\n",
    "To use Excel, you need to install openpyxl and xlrd.\n",
    "\n",
    "### Advantages\n",
    "* Excel can make a great data editor, and it's highly likely to be used by businesses to keep lots of valuable business data.\n",
    "* Many vendors integrate with Excel, so this can be the quickest and most reliable way to get data into python\n",
    "\n",
    "### Disadvantages\n",
    "* To manually edit the file, you need to use a spreadsheet tool like Excel\n",
    "* Once multiple worksheets are stored in a workbook, life gets a little more complicated\n",
    "* Maintaining all formatting and formulas, not to mention macros, can be difficult.\n",
    "* Not good for very large data sets"
   ]
  },
  {
   "cell_type": "code",
   "execution_count": 11,
   "metadata": {
    "pycharm": {
     "name": "#%%\n"
    }
   },
   "outputs": [],
   "source": [
    "def read_and_write_excel(df, filename):\n",
    "    df.to_excel(filename)\n",
    "    df2 = pd.read_excel(filename, index_col=0)\n",
    "    return df2, os.stat(filename)"
   ]
  },
  {
   "cell_type": "markdown",
   "metadata": {
    "pycharm": {
     "name": "#%% md\n"
    }
   },
   "source": [
    "## HDF5\n",
    "HDF5 is a technology suite that includes a data model, portable file format, software, and a set of tools for managing complex data objects and metadata. For this example, we'll just look at basic persistence. However, HDF5 has support for a number of great features, like extremely large datasets, heirarchical data, and compression.\n",
    "\n",
    "To use HDF5, you need to install tables.\n",
    "\n",
    "### Advantages\n",
    "* Support for large datasets\n",
    "* Supports hierarchical data\n",
    "* Advanced tools for maintaining data\n",
    "\n",
    "### Disadvantages\n",
    "* More complexity\n",
    "* More dependencies"
   ]
  },
  {
   "cell_type": "code",
   "execution_count": 12,
   "metadata": {
    "pycharm": {
     "name": "#%%\n"
    }
   },
   "outputs": [],
   "source": [
    "def read_and_write_hdf(df, filename):\n",
    "    df.to_hdf(filename, key='prices', mode='w')\n",
    "    df2 = pd.read_hdf(filename, key='prices')\n",
    "    return df2, os.stat(filename)"
   ]
  },
  {
   "cell_type": "markdown",
   "metadata": {
    "pycharm": {
     "name": "#%% md\n"
    }
   },
   "source": [
    "## Feather\n",
    "Feather is a format designed specifically for dataframes and is written by pandas creator, Wes McKinney. It's interopable with R, and supports typical data types that would be used in pandas ```DataFrames```, such as timestamps, boolean values, a wide array of numeric types, and categorical values. It's intended to be faster and more efficient than other formats. Feather is now part of the Apache Arrow project.\n",
    "\n",
    "To use feather, you need to install pyarrow.\n",
    "\n",
    "### Advantages\n",
    "* Handles datatypes typical in dataframes better than other formats\n",
    "* More efficient\n",
    "\n",
    "### Disadvantages\n",
    "* Requires other dependencies\n",
    "* Not as widely supported by other tools"
   ]
  },
  {
   "cell_type": "code",
   "execution_count": 13,
   "metadata": {
    "pycharm": {
     "name": "#%%\n"
    }
   },
   "outputs": [],
   "source": [
    "def read_and_write_feather(df, filename):\n",
    "    # Note that feather doesn't allow for non-default indexes, so the index needs to be stored as a column\n",
    "    df.reset_index().to_feather(filename)\n",
    "    df2 = pd.read_feather(filename).set_index('Date')\n",
    "    return df2, os.stat(filename)"
   ]
  },
  {
   "cell_type": "markdown",
   "metadata": {
    "pycharm": {
     "name": "#%% md\n"
    }
   },
   "source": [
    "## Parquet\n",
    "Parquet is a compressed, efficient columnar data representation that was developed for use in the Hadoop ecosystem. The intention is that it support very efficient compression and encoding schemes.\n",
    "\n",
    "To use parquet, you need to install pyarrow or fastparquet.\n",
    "\n",
    "### Advantages\n",
    "* Efficient\n",
    "* May use much less space\n",
    "* Supports complex nested data structures\n",
    "\n",
    "### Disadvantages\n",
    "* Requires other dependencies\n",
    "* More complex"
   ]
  },
  {
   "cell_type": "code",
   "execution_count": 14,
   "metadata": {
    "pycharm": {
     "name": "#%%\n"
    }
   },
   "outputs": [],
   "source": [
    "def read_and_write_parquet(df, filename):\n",
    "    df.to_parquet(filename)\n",
    "    df2 = pd.read_parquet(filename)\n",
    "    return df2, os.stat(filename)"
   ]
  },
  {
   "cell_type": "markdown",
   "metadata": {
    "pycharm": {
     "name": "#%% md\n"
    }
   },
   "source": [
    "## Pickle\n",
    "Pickle support is also built into pandas. For many users, pickle is a good choice for a quick way to save off data and reload it elsewhere since it's built into Python to begin with.\n",
    "\n",
    "### Advantages\n",
    "* Widely known\n",
    "\n",
    "### Disadvantages\n",
    "* Not inherently secure, shouldn't be trusted when loading from external sources since it can result in code execution\n",
    "* Not guaranteed to be able to unpickle objects from very old versions of pandas\n",
    "* Not ideal for sharing data with non-Python users"
   ]
  },
  {
   "cell_type": "code",
   "execution_count": 15,
   "metadata": {
    "pycharm": {
     "name": "#%%\n"
    }
   },
   "outputs": [],
   "source": [
    "def read_and_write_pickle(df, filename):\n",
    "    df.to_pickle(filename)\n",
    "    df2 = pd.read_pickle(filename)\n",
    "    return df2, os.stat(filename)"
   ]
  },
  {
   "cell_type": "markdown",
   "metadata": {
    "pycharm": {
     "name": "#%% md\n"
    }
   },
   "source": [
    "## SQL\n",
    "Pandas also has wide support for SQL databases, both to read and write data. The backend database can be any database supported by SQLAlchemy with a driver. But without SQLAlchemy installed, the fallback is to use SQLite.\n",
    "\n",
    "### Advantages\n",
    "* Widely used\n",
    "* Databases tools are plentiful and can be used for maintaining data\n",
    "* Highly likely that many uses cases will require querying a database\n",
    "\n",
    "### Disadvantages\n",
    "* Database setups can be complex and require extra infrastructure\n",
    "* Drivers or extra installs are needed for databases besides SQLite"
   ]
  },
  {
   "cell_type": "code",
   "execution_count": 16,
   "metadata": {
    "pycharm": {
     "name": "#%%\n"
    }
   },
   "outputs": [],
   "source": [
    "import sqlite3\n",
    "\n",
    "def read_and_write_sql(df, filename):\n",
    "    conn = sqlite3.connect(filename)\n",
    "    # so we can rerun this method\n",
    "    conn.execute('drop table if exists prices')\n",
    "    # this avoids warnings about spaces in column names\n",
    "    df.columns = [c.replace(' ', '_') for c in df.columns]\n",
    "    df.to_sql('prices', conn)\n",
    "    df.columns = [c.replace('_', ' ') for c in df.columns]\n",
    "\n",
    "    df2 = pd.read_sql('select * from prices', conn, parse_dates=['Date']).set_index('Date')\n",
    "    df2.columns = [c.replace('_', ' ') for c in df2.columns]\n",
    "\n",
    "    return df2, os.stat(filename)"
   ]
  },
  {
   "cell_type": "markdown",
   "metadata": {
    "pycharm": {
     "name": "#%% md\n"
    }
   },
   "source": [
    "For a quick summary of these methods (which I wrote and debugged first), I'll run them all and compare the timings and file sizes for each. Note that I purposefully did not choose any extra compression of this data, even though it is available in some formats. I also am using a fairly small dataframe, so performance improvements for some formats will not show up until dealing with very large datasets."
   ]
  },
  {
   "cell_type": "code",
   "execution_count": 17,
   "metadata": {
    "pycharm": {
     "name": "#%%\n"
    }
   },
   "outputs": [
    {
     "name": "stdout",
     "output_type": "stream",
     "text": [
      "125 ms ± 5.52 ms per loop (mean ± std. dev. of 7 runs, 10 loops each)\n"
     ]
    }
   ],
   "source": [
    "%timeit read_and_write_csv(prices, 'prices.csv')"
   ]
  },
  {
   "cell_type": "code",
   "execution_count": 18,
   "metadata": {
    "pycharm": {
     "name": "#%%\n"
    }
   },
   "outputs": [
    {
     "name": "stdout",
     "output_type": "stream",
     "text": [
      "49.7 ms ± 2.97 ms per loop (mean ± std. dev. of 7 runs, 10 loops each)\n"
     ]
    }
   ],
   "source": [
    "%timeit read_and_write_json(prices, 'prices.json')"
   ]
  },
  {
   "cell_type": "code",
   "execution_count": 19,
   "metadata": {
    "pycharm": {
     "name": "#%%\n"
    }
   },
   "outputs": [
    {
     "name": "stdout",
     "output_type": "stream",
     "text": [
      "2.12 s ± 93.5 ms per loop (mean ± std. dev. of 7 runs, 1 loop each)\n"
     ]
    }
   ],
   "source": [
    "%timeit read_and_write_excel(prices, 'prices.xlsx')"
   ]
  },
  {
   "cell_type": "code",
   "execution_count": 20,
   "metadata": {
    "pycharm": {
     "name": "#%%\n"
    }
   },
   "outputs": [
    {
     "name": "stdout",
     "output_type": "stream",
     "text": [
      "15.1 ms ± 521 µs per loop (mean ± std. dev. of 7 runs, 100 loops each)\n"
     ]
    }
   ],
   "source": [
    "%timeit read_and_write_hdf(prices, 'prices.h5')"
   ]
  },
  {
   "cell_type": "code",
   "execution_count": 21,
   "metadata": {
    "pycharm": {
     "name": "#%%\n"
    }
   },
   "outputs": [
    {
     "name": "stdout",
     "output_type": "stream",
     "text": [
      "6.18 ms ± 322 µs per loop (mean ± std. dev. of 7 runs, 100 loops each)\n"
     ]
    }
   ],
   "source": [
    "%timeit read_and_write_feather(prices, 'prices.feather')"
   ]
  },
  {
   "cell_type": "code",
   "execution_count": 22,
   "metadata": {
    "pycharm": {
     "name": "#%%\n"
    }
   },
   "outputs": [
    {
     "name": "stdout",
     "output_type": "stream",
     "text": [
      "20 ms ± 1.08 ms per loop (mean ± std. dev. of 7 runs, 100 loops each)\n"
     ]
    }
   ],
   "source": [
    "%timeit read_and_write_parquet(prices, 'prices.parquet')"
   ]
  },
  {
   "cell_type": "code",
   "execution_count": 23,
   "metadata": {
    "pycharm": {
     "name": "#%%\n"
    }
   },
   "outputs": [
    {
     "name": "stdout",
     "output_type": "stream",
     "text": [
      "1.82 ms ± 67.8 µs per loop (mean ± std. dev. of 7 runs, 1000 loops each)\n"
     ]
    }
   ],
   "source": [
    "%timeit read_and_write_pickle(prices, 'prices.pkl')"
   ]
  },
  {
   "cell_type": "code",
   "execution_count": 24,
   "metadata": {
    "pycharm": {
     "name": "#%%\n"
    }
   },
   "outputs": [
    {
     "name": "stdout",
     "output_type": "stream",
     "text": [
      "68 ms ± 3.21 ms per loop (mean ± std. dev. of 7 runs, 10 loops each)\n"
     ]
    }
   ],
   "source": [
    "%timeit read_and_write_sql(prices, 'prices.db')"
   ]
  },
  {
   "cell_type": "markdown",
   "metadata": {
    "pycharm": {
     "name": "#%% md\n"
    }
   },
   "source": [
    "In terms of timing, it's pretty clear that Pickle is the fastest, and hdf5, feather, and parquet are also fairly quick. CSV, JSON, and Excel are much slower. SQL databases will depend a lot on whether the storage is local or not, and if a remote server, how fast the network is and the database server itself. This is just a quick test, a more realistic test would look at various levels of compression, much larger datasets, and different combinations of requirements."
   ]
  },
  {
   "cell_type": "code",
   "execution_count": 25,
   "metadata": {
    "pycharm": {
     "name": "#%%\n"
    }
   },
   "outputs": [
    {
     "name": "stdout",
     "output_type": "stream",
     "text": [
      "<function read_and_write_csv at 0x1153e9a60> 879.0390625\n",
      "<function read_and_write_json at 0x122053ca0> 1543.609375\n",
      "<function read_and_write_excel at 0x121f5adc0> 570.5078125\n",
      "<function read_and_write_hdf at 0x121f700d0> 556.3828125\n",
      "<function read_and_write_feather at 0x121f704c0> 363.087890625\n",
      "<function read_and_write_parquet at 0x121f70820> 437.927734375\n",
      "<function read_and_write_pickle at 0x121f70b80> 548.5615234375\n",
      "<function read_and_write_sql at 0x121f70ee0> 868.0\n"
     ]
    }
   ],
   "source": [
    "for func, file in [(read_and_write_csv, 'prices.csv'), (read_and_write_json, 'prices.json'),\n",
    "                   (read_and_write_excel, 'prices.xlsx'), (read_and_write_hdf, 'prices.h5'),\n",
    "                   (read_and_write_feather, 'prices.feather'), (read_and_write_parquet, 'prices.parquet'),\n",
    "                   (read_and_write_pickle, 'prices.pkl'), (read_and_write_sql, 'prices.db')]:\n",
    "    df2, s = func(prices, file)\n",
    "    compare_dfs(prices, df2)\n",
    "    print(func, s.st_size/1024)"
   ]
  },
  {
   "cell_type": "markdown",
   "metadata": {
    "pycharm": {
     "name": "#%% md\n"
    }
   },
   "source": [
    "Because of the repeated text data in the JSON file, it's far larger than any of the other data files. We see feather is the smallest, with parquet also smaller than most of the others. For a better comparison, we should look at each method's storage options, since compression will make a big difference in size, especially for repeated data.\n",
    "\n",
    "### Conclusion\n",
    "In summary, pandas has a wide variety of I/O options. Most of the time, choosing which option to use will be dictated by the format in which data is already available. When starting a new project, looking at all the options is a good idea. This post gives a quick overview of what is available in pandas, the basics of calling those APIs, and a rough comparison of data storage size and speed of access. Hopefully ths will motivate you to explore some of the other options that you haven't used yet with pandas."
   ]
  },
  {
   "cell_type": "code",
   "execution_count": null,
   "metadata": {
    "pycharm": {
     "name": "#%%\n"
    }
   },
   "outputs": [],
   "source": []
  }
 ],
 "metadata": {
  "kernelspec": {
   "display_name": "Python 3",
   "language": "python",
   "name": "python3"
  },
  "language_info": {
   "codemirror_mode": {
    "name": "ipython",
    "version": 3
   },
   "file_extension": ".py",
   "mimetype": "text/x-python",
   "name": "python",
   "nbconvert_exporter": "python",
   "pygments_lexer": "ipython3",
   "version": "3.8.6"
  }
 },
 "nbformat": 4,
 "nbformat_minor": 4
}
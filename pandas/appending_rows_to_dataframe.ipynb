{
 "cells": [
  {
   "cell_type": "markdown",
   "id": "c00a5881",
   "metadata": {},
   "source": [
    "# Don't append rows to a pandas DataFrame\n",
    "Most beginning pandas users encounter a situation where choosing to append a row to a `DataFrame` seems like a good idea. A quick search of the API (or your favorite search engine) reveals that pandas has an `append` method in `DataFrame`. You may be tempted to use it. In this article I'll show you why you should not use `append`, how you _should_ grow your `DataFrame`, and a tip to make it faster.\n",
    "\n",
    "Since pandas version 1.4.0, the `append` method has been deprecated, and this is called out in the [documentation](https://pandas.pydata.org/pandas-docs/stable/reference/api/pandas.DataFrame.append.html). The recommended solution is to use `concat`, but there's a little more to the idea of growing a `DataFrame` than just blindly calling `concat`. Let's dig into some examples to see why.\n",
    "\n",
    "## An example\n",
    "Let's say we have a `DataFrame` with [time series](https://www.wrighters.io/indexing-time-series-data-in-pandas/) data. That just means that the index is a `datetime`, and in our case, it has one row per day. "
   ]
  },
  {
   "cell_type": "code",
   "execution_count": 1,
   "id": "6c3a1889",
   "metadata": {},
   "outputs": [
    {
     "data": {
      "text/html": [
       "<div>\n",
       "<style scoped>\n",
       "    .dataframe tbody tr th:only-of-type {\n",
       "        vertical-align: middle;\n",
       "    }\n",
       "\n",
       "    .dataframe tbody tr th {\n",
       "        vertical-align: top;\n",
       "    }\n",
       "\n",
       "    .dataframe thead th {\n",
       "        text-align: right;\n",
       "    }\n",
       "</style>\n",
       "<table border=\"1\" class=\"dataframe\">\n",
       "  <thead>\n",
       "    <tr style=\"text-align: right;\">\n",
       "      <th></th>\n",
       "      <th>A</th>\n",
       "      <th>B</th>\n",
       "      <th>C</th>\n",
       "    </tr>\n",
       "  </thead>\n",
       "  <tbody>\n",
       "    <tr>\n",
       "      <th>1999-12-27</th>\n",
       "      <td>0.731785</td>\n",
       "      <td>0.737431</td>\n",
       "      <td>0.422735</td>\n",
       "    </tr>\n",
       "    <tr>\n",
       "      <th>1999-12-28</th>\n",
       "      <td>0.378716</td>\n",
       "      <td>0.880707</td>\n",
       "      <td>0.775295</td>\n",
       "    </tr>\n",
       "    <tr>\n",
       "      <th>1999-12-29</th>\n",
       "      <td>0.002116</td>\n",
       "      <td>0.417487</td>\n",
       "      <td>0.427373</td>\n",
       "    </tr>\n",
       "    <tr>\n",
       "      <th>1999-12-30</th>\n",
       "      <td>0.012588</td>\n",
       "      <td>0.455592</td>\n",
       "      <td>0.022638</td>\n",
       "    </tr>\n",
       "    <tr>\n",
       "      <th>1999-12-31</th>\n",
       "      <td>0.026779</td>\n",
       "      <td>0.337595</td>\n",
       "      <td>0.894299</td>\n",
       "    </tr>\n",
       "  </tbody>\n",
       "</table>\n",
       "</div>"
      ],
      "text/plain": [
       "                   A         B         C\n",
       "1999-12-27  0.731785  0.737431  0.422735\n",
       "1999-12-28  0.378716  0.880707  0.775295\n",
       "1999-12-29  0.002116  0.417487  0.427373\n",
       "1999-12-30  0.012588  0.455592  0.022638\n",
       "1999-12-31  0.026779  0.337595  0.894299"
      ]
     },
     "execution_count": 1,
     "metadata": {},
     "output_type": "execute_result"
    }
   ],
   "source": [
    "import pandas as pd\n",
    "import numpy as np\n",
    "\n",
    "df = pd.DataFrame(np.random.rand(365,3), index=pd.date_range('1999-01-01', periods=365), columns=list('ABC'))\n",
    "\n",
    "df.tail()"
   ]
  },
  {
   "cell_type": "markdown",
   "id": "a1522cff",
   "metadata": {},
   "source": [
    "This is fabricated data, but you could imagine that you have a data file with data for each year, month, or week, for example. Now let's say that the approach you choose is is to load the first data file into a `DataFrame`, then load each file (as a `DataFrame`) and append it your initial `DataFrame`. How would `append` work?"
   ]
  },
  {
   "cell_type": "code",
   "execution_count": 2,
   "id": "20695238",
   "metadata": {},
   "outputs": [
    {
     "name": "stdout",
     "output_type": "stream",
     "text": [
      "(730, 3)\n"
     ]
    },
    {
     "name": "stderr",
     "output_type": "stream",
     "text": [
      "<ipython-input-2-58251cd78b0a>:3: FutureWarning: The frame.append method is deprecated and will be removed from pandas in a future version. Use pandas.concat instead.\n",
      "  df_combined = df.append(df2)\n"
     ]
    },
    {
     "data": {
      "text/html": [
       "<div>\n",
       "<style scoped>\n",
       "    .dataframe tbody tr th:only-of-type {\n",
       "        vertical-align: middle;\n",
       "    }\n",
       "\n",
       "    .dataframe tbody tr th {\n",
       "        vertical-align: top;\n",
       "    }\n",
       "\n",
       "    .dataframe thead th {\n",
       "        text-align: right;\n",
       "    }\n",
       "</style>\n",
       "<table border=\"1\" class=\"dataframe\">\n",
       "  <thead>\n",
       "    <tr style=\"text-align: right;\">\n",
       "      <th></th>\n",
       "      <th>A</th>\n",
       "      <th>B</th>\n",
       "      <th>C</th>\n",
       "    </tr>\n",
       "  </thead>\n",
       "  <tbody>\n",
       "    <tr>\n",
       "      <th>2000-12-26</th>\n",
       "      <td>0.900865</td>\n",
       "      <td>0.054083</td>\n",
       "      <td>0.103369</td>\n",
       "    </tr>\n",
       "    <tr>\n",
       "      <th>2000-12-27</th>\n",
       "      <td>0.433142</td>\n",
       "      <td>0.325692</td>\n",
       "      <td>0.412640</td>\n",
       "    </tr>\n",
       "    <tr>\n",
       "      <th>2000-12-28</th>\n",
       "      <td>0.877837</td>\n",
       "      <td>0.766650</td>\n",
       "      <td>0.244791</td>\n",
       "    </tr>\n",
       "    <tr>\n",
       "      <th>2000-12-29</th>\n",
       "      <td>0.095600</td>\n",
       "      <td>0.821537</td>\n",
       "      <td>0.685641</td>\n",
       "    </tr>\n",
       "    <tr>\n",
       "      <th>2000-12-30</th>\n",
       "      <td>0.095580</td>\n",
       "      <td>0.501606</td>\n",
       "      <td>0.856036</td>\n",
       "    </tr>\n",
       "  </tbody>\n",
       "</table>\n",
       "</div>"
      ],
      "text/plain": [
       "                   A         B         C\n",
       "2000-12-26  0.900865  0.054083  0.103369\n",
       "2000-12-27  0.433142  0.325692  0.412640\n",
       "2000-12-28  0.877837  0.766650  0.244791\n",
       "2000-12-29  0.095600  0.821537  0.685641\n",
       "2000-12-30  0.095580  0.501606  0.856036"
      ]
     },
     "execution_count": 2,
     "metadata": {},
     "output_type": "execute_result"
    }
   ],
   "source": [
    "# data for year 2000\n",
    "df2 = pd.DataFrame(np.random.rand(365,3), index=pd.date_range('2000-01-01', periods=365), columns=list('ABC'))\n",
    "df_combined = df.append(df2)\n",
    "\n",
    "print(df_combined.shape)\n",
    "df_combined.tail()"
   ]
  },
  {
   "cell_type": "markdown",
   "id": "099c52e1",
   "metadata": {},
   "source": [
    "## `append` is deprecated\n",
    "The first thing we see is that since I'm running pandas >= 1.4.0, there is a deprecation warning. It's telling us to switch from `append` to `concat`. So if all you want to know is how you should append rows to an existing `DataFrame`, use `pd.concat`.\n",
    "\n",
    "## How to use `pd.concat`\n",
    "`pd.concat` takes a list of pandas objects to concatenate as the only required argument. If you call it this way, it will use the index on the objects (they could be `DataFrame`s or `Series`) you pass in, and concatenate them along the `0` (or `index`) axis. If you pass in `1` (or `columns`) as the `axis` argument, it will grow the `DataFrame` by adding columns. \n",
    "\n",
    "You also should know about the `ignore_index` parameter. This is `False` by default, but if the indexes overlap on your objects (for example, if you have a default index on your `DataFrame`s and truly intend to just have those rows added at the end), then you should set that to `True`.\n",
    "\n",
    "It also takes a `join` argument, which defaults to `outer`. This means that missing values in one `DataFrame` will be created in the resulting `DataFrame` but with `NaN` values.\n",
    "\n",
    "There are other arguments which can be useful, check the [docs on merging](https://pandas.pydata.org/pandas-docs/stable/user_guide/merging.html) for some good examples."
   ]
  },
  {
   "cell_type": "code",
   "execution_count": 3,
   "id": "c4f4da45",
   "metadata": {},
   "outputs": [
    {
     "data": {
      "text/html": [
       "<div>\n",
       "<style scoped>\n",
       "    .dataframe tbody tr th:only-of-type {\n",
       "        vertical-align: middle;\n",
       "    }\n",
       "\n",
       "    .dataframe tbody tr th {\n",
       "        vertical-align: top;\n",
       "    }\n",
       "\n",
       "    .dataframe thead th {\n",
       "        text-align: right;\n",
       "    }\n",
       "</style>\n",
       "<table border=\"1\" class=\"dataframe\">\n",
       "  <thead>\n",
       "    <tr style=\"text-align: right;\">\n",
       "      <th></th>\n",
       "      <th>A</th>\n",
       "      <th>B</th>\n",
       "      <th>C</th>\n",
       "    </tr>\n",
       "  </thead>\n",
       "  <tbody>\n",
       "    <tr>\n",
       "      <th>1999-01-01</th>\n",
       "      <td>0.190596</td>\n",
       "      <td>0.369787</td>\n",
       "      <td>0.503640</td>\n",
       "    </tr>\n",
       "    <tr>\n",
       "      <th>1999-01-02</th>\n",
       "      <td>0.407761</td>\n",
       "      <td>0.114384</td>\n",
       "      <td>0.044529</td>\n",
       "    </tr>\n",
       "    <tr>\n",
       "      <th>1999-01-03</th>\n",
       "      <td>0.782395</td>\n",
       "      <td>0.578529</td>\n",
       "      <td>0.426242</td>\n",
       "    </tr>\n",
       "    <tr>\n",
       "      <th>1999-01-04</th>\n",
       "      <td>0.996079</td>\n",
       "      <td>0.796410</td>\n",
       "      <td>0.246697</td>\n",
       "    </tr>\n",
       "    <tr>\n",
       "      <th>1999-01-05</th>\n",
       "      <td>0.409903</td>\n",
       "      <td>0.112034</td>\n",
       "      <td>0.602407</td>\n",
       "    </tr>\n",
       "    <tr>\n",
       "      <th>...</th>\n",
       "      <td>...</td>\n",
       "      <td>...</td>\n",
       "      <td>...</td>\n",
       "    </tr>\n",
       "    <tr>\n",
       "      <th>2000-12-26</th>\n",
       "      <td>0.900865</td>\n",
       "      <td>0.054083</td>\n",
       "      <td>0.103369</td>\n",
       "    </tr>\n",
       "    <tr>\n",
       "      <th>2000-12-27</th>\n",
       "      <td>0.433142</td>\n",
       "      <td>0.325692</td>\n",
       "      <td>0.412640</td>\n",
       "    </tr>\n",
       "    <tr>\n",
       "      <th>2000-12-28</th>\n",
       "      <td>0.877837</td>\n",
       "      <td>0.766650</td>\n",
       "      <td>0.244791</td>\n",
       "    </tr>\n",
       "    <tr>\n",
       "      <th>2000-12-29</th>\n",
       "      <td>0.095600</td>\n",
       "      <td>0.821537</td>\n",
       "      <td>0.685641</td>\n",
       "    </tr>\n",
       "    <tr>\n",
       "      <th>2000-12-30</th>\n",
       "      <td>0.095580</td>\n",
       "      <td>0.501606</td>\n",
       "      <td>0.856036</td>\n",
       "    </tr>\n",
       "  </tbody>\n",
       "</table>\n",
       "<p>730 rows × 3 columns</p>\n",
       "</div>"
      ],
      "text/plain": [
       "                   A         B         C\n",
       "1999-01-01  0.190596  0.369787  0.503640\n",
       "1999-01-02  0.407761  0.114384  0.044529\n",
       "1999-01-03  0.782395  0.578529  0.426242\n",
       "1999-01-04  0.996079  0.796410  0.246697\n",
       "1999-01-05  0.409903  0.112034  0.602407\n",
       "...              ...       ...       ...\n",
       "2000-12-26  0.900865  0.054083  0.103369\n",
       "2000-12-27  0.433142  0.325692  0.412640\n",
       "2000-12-28  0.877837  0.766650  0.244791\n",
       "2000-12-29  0.095600  0.821537  0.685641\n",
       "2000-12-30  0.095580  0.501606  0.856036\n",
       "\n",
       "[730 rows x 3 columns]"
      ]
     },
     "execution_count": 3,
     "metadata": {},
     "output_type": "execute_result"
    }
   ],
   "source": [
    "pd.concat([df, df2])"
   ]
  },
  {
   "cell_type": "markdown",
   "id": "f5388006",
   "metadata": {},
   "source": [
    "## Building up a `DataFrame`\n",
    "OK, now that you know the right answer to combining multiple `DataFrame`s into one `DataFrame`, you know enough to use the _correct_ method. But what about the situation where you end up getting multiple rows or smaller `DataFrame`s one at a time and want to build one larger `DataFrame`? How should you do that?\n",
    "\n",
    "Let's start with a simple example of our time series data, pretending we get one file per year."
   ]
  },
  {
   "cell_type": "code",
   "execution_count": 4,
   "id": "d4cd9235",
   "metadata": {},
   "outputs": [
    {
     "name": "stdout",
     "output_type": "stream",
     "text": [
      "11.9 ms ± 392 µs per loop (mean ± std. dev. of 7 runs, 100 loops each)\n"
     ]
    }
   ],
   "source": [
    "%%timeit\n",
    "df_all = pd.DataFrame()\n",
    "for y in range(1999, 2023):\n",
    "    # pretend we're loading these from a file or API or database\n",
    "    df_y = pd.DataFrame(np.random.rand(365,3), index=pd.date_range(f'{y}-01-01', periods=365), columns=list('ABC'))\n",
    "    # the temptation is to do this:\n",
    "    #  df_combined = df_combined.append(df_y)\n",
    "    df_all = pd.concat([df_all, df_y])"
   ]
  },
  {
   "cell_type": "markdown",
   "id": "63b22173",
   "metadata": {},
   "source": [
    "## A better way\n",
    "That works. But a better way to do it is to do the `pd.concat` only one time. "
   ]
  },
  {
   "cell_type": "code",
   "execution_count": 5,
   "id": "4fef840e",
   "metadata": {},
   "outputs": [
    {
     "name": "stdout",
     "output_type": "stream",
     "text": [
      "7.2 ms ± 221 µs per loop (mean ± std. dev. of 7 runs, 100 loops each)\n"
     ]
    }
   ],
   "source": [
    "%%timeit\n",
    "data = []\n",
    "for y in range(1999, 2023):\n",
    "    data.append(pd.DataFrame(np.random.rand(365,3), index=pd.date_range(f'{y}-01-01', periods=365), columns=list('ABC')))\n",
    "df_all = pd.concat(data)"
   ]
  },
  {
   "cell_type": "markdown",
   "id": "9d2f2d19",
   "metadata": {},
   "source": [
    "You might think, \"What's the big deal, it's only a few more milliseconds\"? Well, this is a trivial example of 365 data points. Let's build a more complete example with a bit more data. Let's say we have `DataFrame`s of size 1,000 x 1,000, and let's build them by calling `pd.concat` in two situations: once for each loop and only at the end. Let's also build an example where we start with a larger `DataFrame`, but only append one row.\n",
    "\n",
    "(Note I set `ignore_index=True` here because each `DataFrame` will have the same default index.)"
   ]
  },
  {
   "cell_type": "code",
   "execution_count": 6,
   "id": "5b3f8201",
   "metadata": {},
   "outputs": [
    {
     "name": "stdout",
     "output_type": "stream",
     "text": [
      "0:00:27.403460 to make final DataFrame of dimensions (100000, 1000) calling concat every iteration\n",
      "0:00:01.383713 to make final DataFrame of dimensions (100000, 1000) calling concat once\n",
      "0:00:50.220051 to make final DataFrame of dimensions (100100, 1000) calling concat every iteration\n"
     ]
    }
   ],
   "source": [
    "import datetime\n",
    "\n",
    "start = datetime.datetime.now()\n",
    "times = []\n",
    "df_all = pd.DataFrame()\n",
    "# appending each time\n",
    "for y in range(100):\n",
    "    df = pd.DataFrame(np.random.rand(1_000, 1_000))\n",
    "    df_all = pd.concat([df_all, df], ignore_index=True)\n",
    "    duration = datetime.datetime.now() - start\n",
    "    times.append((duration, y))\n",
    "print(f\"{duration} to make final DataFrame of dimensions {df_all.shape} calling concat every iteration\")\n",
    "\n",
    "start = datetime.datetime.now()\n",
    "times2 = []        \n",
    "data = []      \n",
    "# just making the DataFrames once in the loop\n",
    "for y in range(100):\n",
    "    df = pd.DataFrame(np.random.rand(1_000, 1_000))\n",
    "    data.append(df)\n",
    "    duration = datetime.datetime.now() - start \n",
    "    times2.append((duration, y))\n",
    "# and then one big final concat\n",
    "df_all2 = pd.concat(data, ignore_index=True)\n",
    "duration = datetime.datetime.now() - start\n",
    "times2.append((duration, y))\n",
    "print(f\"{duration} to make final DataFrame of dimensions {df_all2.shape} calling concat once\")\n",
    "\n",
    "start = datetime.datetime.now()\n",
    "times3 = []\n",
    "df_all3 = pd.DataFrame(np.random.rand(100_000, 1_000))\n",
    "# appending each time, but just a single row\n",
    "for y in range(100):\n",
    "    one_row_df = pd.DataFrame(np.random.rand(1, 1_000))\n",
    "    df_all3 = pd.concat([df_all3, one_row_df], ignore_index=True)\n",
    "    duration = datetime.datetime.now() - start\n",
    "    times3.append((duration, y))\n",
    "print(f\"{duration} to make final DataFrame of dimensions {df_all3.shape} calling concat every iteration\")"
   ]
  },
  {
   "cell_type": "code",
   "execution_count": 7,
   "id": "63400a52",
   "metadata": {},
   "outputs": [
    {
     "data": {
      "image/png": "[encoded data removed]",
      "text/plain": [
       "<Figure size 432x288 with 1 Axes>"
      ]
     },
     "metadata": {
      "needs_background": "light"
     },
     "output_type": "display_data"
    }
   ],
   "source": [
    "import matplotlib.pyplot as plt\n",
    "\n",
    "axis = plt.subplot()\n",
    "plt.plot(pd.DataFrame(times).set_index(1), label='Concat Every iteration')\n",
    "plt.plot(pd.DataFrame(times2).set_index(1), label='Concat once at end')\n",
    "plt.plot(pd.DataFrame(times3).set_index(1), label='Start big, one row every iteration')\n",
    "axis.set_title('Time to append DataFrames')\n",
    "axis.set_xlabel('Number of iterations')\n",
    "axis.set_ylabel('Seconds')\n",
    "axis.legend();"
   ]
  },
  {
   "cell_type": "markdown",
   "id": "9a77a82b",
   "metadata": {},
   "source": [
    "## Dramatic, isn't it?\n",
    "Now that's pretty dramatic, and hopefully illustrates clearly the cost of naively appending to `DataFrame`s. If you append rows to an existing `DataFrame`, all the rows in the current `DataFrame` are copied each time you call append. If you start with a large `DataFrame` but only append one row in a loop, the time to add new rows will grow with the number of rows in the total `DataFrame`. If you are growing a `DataFrame` from scratch, it might seem fast enough in the beginning, but will bog down at large sizes.\n",
    "\n",
    "Let's just take a step back and talk about what the problem is. The first and most important thing to realize is that appending to a `DataFrame` will make a copy of the data. This means that every time you call `pd.concat` (or the deprecated `append`) every row in the first `DataFrame` has to be copied once to the new result `DataFrame`. If you start with a `DataFrame` with N rows and append M rows or `DataFrame`s one at a time, you have to make NxM copies of just the original data, and this will be even worse if you are appending large chunks of data.\n",
    "\n",
    "If we instead do one final concatenation, the NxM copies are reduced to just one final copy of the N rows.\n",
    "\n",
    "So when you need to add data to your `DataFrame` and are tempted to do this in a loop, remember the correct way to do it and only call `pd.concat` once."
   ]
  }
 ],
 "metadata": {
  "kernelspec": {
   "display_name": "Python 3",
   "language": "python",
   "name": "python3"
  },
  "language_info": {
   "codemirror_mode": {
    "name": "ipython",
    "version": 3
   },
   "file_extension": ".py",
   "mimetype": "text/x-python",
   "name": "python",
   "nbconvert_exporter": "python",
   "pygments_lexer": "ipython3",
   "version": "3.8.6"
  },
  "varInspector": {
   "cols": {
    "lenName": 16,
    "lenType": 16,
    "lenVar": 40
   },
   "kernels_config": {
    "python": {
     "delete_cmd_postfix": "",
     "delete_cmd_prefix": "del ",
     "library": "var_list.py",
     "varRefreshCmd": "print(var_dic_list())"
    },
    "r": {
     "delete_cmd_postfix": ") ",
     "delete_cmd_prefix": "rm(",
     "library": "var_list.r",
     "varRefreshCmd": "cat(var_dic_list()) "
    }
   },
   "types_to_exclude": [
    "module",
    "function",
    "builtin_function_or_method",
    "instance",
    "_Feature"
   ],
   "window_display": false
  }
 },
 "nbformat": 4,
 "nbformat_minor": 5
}

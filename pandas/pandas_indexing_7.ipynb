{
 "cells": [
  {
   "cell_type": "markdown",
   "metadata": {},
   "source": [
    "# Indexing time series data in pandas\n",
    "Quite often the data that we want to analyze has a time based component. Think about data like daily temperatures or rainfall, stock prices, sales data, student attendance, or events like clicks or views of a web application. There is no shortage of sources of data, and new sources are being added all the time. As a result, most pandas users will need to be familiar with time series data at some point. \n",
    "\n",
    "A time series is just a pandas ```DataFrame``` or ```Series``` that has a time based index. The values in the time series can be anything else that can be contained in the containers, they are just accessed using date or time values. A time series container can be manipulated in many ways in pandas, but for this article I will focus just on the basics of indexing. Knowing how indexing works first is important for data exploration and use of more advanced features. \n",
    "\n",
    "## DatetimeIndex\n",
    "In pandas, a ```DatetimeIndex``` is used to provide indexing for pandas ```Series``` and ```DataFrame```s and works just like other ```Index``` types, but provides special functionality for time series operations. We'll cover the common functionality with other ```Index``` types first, then talk about the basics of partial string indexing.\n",
    "\n",
    "One word of warning before we get started. It's important for your index to be sorted, or you may get some strange results.\n",
    "\n",
    "## Examples\n",
    "To show how this functionality works, let's create some sample time series data with different time resolutions. "
   ]
  },
  {
   "cell_type": "code",
   "execution_count": null,
   "metadata": {},
   "outputs": [],
   "source": [
    "import pandas as pd\n",
    "import numpy as np\n",
    "\n",
    "import datetime\n",
    "\n",
    "# this is an easy way to create a DatetimeIndex\n",
    "# both dates are inclusive\n",
    "d_range = pd.date_range(\"2021-01-01\", \"2021-01-20\")\n",
    "\n",
    "# this creates another DatetimeIndex, 10000 minutes long\n",
    "m_range = pd.date_range(\"2021-01-01\", periods=10000, freq=\"T\")\n",
    "\n",
    "# daily data in a Series\n",
    "daily = pd.Series(np.random.rand(len(d_range)), index=d_range)\n",
    "# minute data in a DataFrame\n",
    "minute = pd.DataFrame(np.random.rand(len(m_range), 1),\n",
    "                      columns=[\"value\"],\n",
    "                      index=m_range)\n",
    "\n",
    "# time boundaries not on the minute boundary, add some random jitter\n",
    "mr_range = m_range + pd.Series([pd.Timedelta(microseconds=1_000_000.0 * s)\n",
    "                                for s in np.random.rand(len(m_range))]) \n",
    "# minute data in a DataFrame, but at a higher resolution\n",
    "minute2 = pd.DataFrame(np.random.rand(len(mr_range), 1),\n",
    "                       columns=[\"value\"],\n",
    "                       index=mr_range)\n"
   ]
  },
  {
   "cell_type": "code",
   "execution_count": null,
   "metadata": {},
   "outputs": [],
   "source": [
    "daily.head()"
   ]
  },
  {
   "cell_type": "code",
   "execution_count": null,
   "metadata": {},
   "outputs": [],
   "source": [
    "minute.head()"
   ]
  },
  {
   "cell_type": "code",
   "execution_count": null,
   "metadata": {},
   "outputs": [],
   "source": [
    "minute2.head()"
   ]
  },
  {
   "cell_type": "markdown",
   "metadata": {},
   "source": [
    "## Resolution\n",
    "A ```DatetimeIndex``` has a resolution that indicates to what level the ```Index``` is indexing the data. The three indices created above have distinct resolutions. This will have ramifications in how we index later on."
   ]
  },
  {
   "cell_type": "code",
   "execution_count": null,
   "metadata": {},
   "outputs": [],
   "source": [
    "print(\"daily:\", daily.index.resolution)\n",
    "print(\"minute:\", minute.index.resolution)\n",
    "print(\"randomized minute:\", minute2.index.resolution)"
   ]
  },
  {
   "cell_type": "markdown",
   "metadata": {},
   "source": [
    "## Typical indexing\n",
    "Before we get into some of the \"special\" ways to index a pandas ```Series``` or ```DataFrame``` with a ```DatetimeIndex```, let's just look at some of the typical indexing functionality.\n",
    "\n",
    "### Basics\n",
    "I've covered the basics of indexing before, so I won't cover too many details here. However it's important to realize that a ```DatetimeIndex``` works just like other indices in pandas, but has extra functionality. (The extra functionality can be more useful and convenient, but just hold tight, those details are next). If you already understand basic indexing, you may want to skim until you get to partial string indexing. If you haven't read my articles on indexing, you should start with the [basics](https://www.wrighters.io/indexing-and-selecting-in-pandas-part-1/) and go from there.\n",
    "\n",
    "Indexing a ```DatetimeIndex``` using a ```datetime```-like object will use [exact indexing](https://pandas.pydata.org/docs/user_guide/timeseries.html#exact-indexing).\n",
    "\n",
    "### ```getitem``` a.k.a the array indexing operator (```[]```)\n",
    "When using ```datetime```-like objects for indexing, we need to match the resolution of the index.\n",
    "\n",
    "This ends up looking fairly obvious for our daily time series."
   ]
  },
  {
   "cell_type": "code",
   "execution_count": null,
   "metadata": {},
   "outputs": [],
   "source": [
    "daily[pd.Timestamp(\"2021-01-01\")]"
   ]
  },
  {
   "cell_type": "code",
   "execution_count": null,
   "metadata": {},
   "outputs": [],
   "source": [
    "try:\n",
    "    minute[pd.Timestamp(\"2021-01-01 00:00:00\")]\n",
    "except KeyError as ke:\n",
    "    print(ke)"
   ]
  },
  {
   "cell_type": "markdown",
   "metadata": {},
   "source": [
    "This ```KeyError``` is raised because in a ```DataFrame```, using a single argument to the ```[]``` operator will look for a *column*, not a row. We have a single column called ```value``` in our ```DataFrame```, so the code above is looking for a column. Since there isn't a column by that name, there is a ```KeyError```. We will use other methods for indexing rows in a ```DataFrame```.\n",
    "\n",
    "### ```.iloc``` indexing\n",
    "Since the ```iloc``` indexer is integer offset based, it's pretty clear how it works, not much else to say here. It works the same for all resolutions."
   ]
  },
  {
   "cell_type": "code",
   "execution_count": null,
   "metadata": {},
   "outputs": [],
   "source": [
    "daily.iloc[0]"
   ]
  },
  {
   "cell_type": "code",
   "execution_count": null,
   "metadata": {},
   "outputs": [],
   "source": [
    "minute.iloc[-1]"
   ]
  },
  {
   "cell_type": "code",
   "execution_count": null,
   "metadata": {},
   "outputs": [],
   "source": [
    "minute2.iloc[4]"
   ]
  },
  {
   "cell_type": "markdown",
   "metadata": {},
   "source": [
    "### ```.loc``` indexing\n",
    "When using ```datetime```-like objects, you need to have exact matches for single indexing. It's important to realize that when you make ```datetime``` or ```pd.Timestamp``` objects, all the fields you don't specify explicitly will default to 0."
   ]
  },
  {
   "cell_type": "code",
   "execution_count": null,
   "metadata": {},
   "outputs": [],
   "source": [
    "jan1 = datetime.datetime(2021, 1, 1)\n",
    "daily.loc[jan1]"
   ]
  },
  {
   "cell_type": "code",
   "execution_count": null,
   "metadata": {},
   "outputs": [],
   "source": [
    "minute.loc[jan1]  # the defaults for hour, minute, second make this work"
   ]
  },
  {
   "cell_type": "code",
   "execution_count": null,
   "metadata": {},
   "outputs": [],
   "source": [
    "try:\n",
    "    # we don't have that exact time, due to the jitter\n",
    "    minute2.loc[jan1] \n",
    "except KeyError as ke:\n",
    "    print(\"Missing in index: \", ke)\n",
    "# but we do have a value on that day\n",
    "# we could construct it manually to the microsecond if needed\n",
    "jan1_ms = datetime.datetime(2021, 1, 1, 0, 0, 0, microsecond=minute2.index[0].microsecond)\n",
    "minute2.loc[jan1_ms] "
   ]
  },
  {
   "cell_type": "markdown",
   "metadata": {},
   "source": [
    "### Slicing\n",
    "Slicing with integers works as expected, you can read more about regular slicing [here](https://www.wrighters.io/indexing-and-selecting-in-pandas-slicing/). But here's a few examples of \"regular\" slicing, which works with the array indexing operator (```[]```) or the ```.iloc``` indexer."
   ]
  },
  {
   "cell_type": "code",
   "execution_count": null,
   "metadata": {},
   "outputs": [],
   "source": [
    "daily[0:2] # first two, end is not inclusive"
   ]
  },
  {
   "cell_type": "code",
   "execution_count": null,
   "metadata": {},
   "outputs": [],
   "source": [
    "minute[0:2] # same"
   ]
  },
  {
   "cell_type": "code",
   "execution_count": null,
   "metadata": {},
   "outputs": [],
   "source": [
    "minute2[1:5:2]  # every other"
   ]
  },
  {
   "cell_type": "code",
   "execution_count": null,
   "metadata": {},
   "outputs": [],
   "source": [
    "minute2.iloc[1:5:2] # works with the iloc indexer as well"
   ]
  },
  {
   "cell_type": "markdown",
   "metadata": {},
   "source": [
    "Slicing with ```datetime```-like objects also works. Note that the end item is inclusive, and the defaults for hours, minutes, seconds, and microseconds will set the cutoff for the randomized data on minute boundaries (in our case)."
   ]
  },
  {
   "cell_type": "code",
   "execution_count": null,
   "metadata": {},
   "outputs": [],
   "source": [
    "daily[datetime.date(2021,1,1):datetime.date(2021, 1,3)] # end is inclusive"
   ]
  },
  {
   "cell_type": "code",
   "execution_count": null,
   "metadata": {},
   "outputs": [],
   "source": [
    "minute[datetime.datetime(2021, 1, 1): datetime.datetime(2021, 1, 1, 0, 2, 0)]"
   ]
  },
  {
   "cell_type": "code",
   "execution_count": null,
   "metadata": {},
   "outputs": [],
   "source": [
    "minute2[datetime.datetime(2021, 1, 1): datetime.datetime(2021, 1, 1, 0, 2, 0)]"
   ]
  },
  {
   "cell_type": "markdown",
   "metadata": {},
   "source": [
    "This sort of slicing work with ```[]``` and ```.loc```, but not ```.iloc```, as expected. Remember, ```.iloc``` is for integer offset indexing."
   ]
  },
  {
   "cell_type": "code",
   "execution_count": null,
   "metadata": {},
   "outputs": [],
   "source": [
    "minute2.loc[datetime.datetime(2021, 1, 1): datetime.datetime(2021, 1, 1, 0, 2, 0)]"
   ]
  },
  {
   "cell_type": "code",
   "execution_count": null,
   "metadata": {},
   "outputs": [],
   "source": [
    "try:\n",
    "    # no! use integers with iloc\n",
    "    minute2.iloc[datetime.datetime(2021, 1, 1): datetime.datetime(2021, 1, 1, 0, 2, 0)]\n",
    "except TypeError as te:\n",
    "    print(te)"
   ]
  },
  {
   "cell_type": "markdown",
   "metadata": {},
   "source": [
    "### Special indexing with strings\n",
    "Now things get really interesting and helpful. When working with time series data, partial string indexing can be very helpful and way less cumbersome than working with ```datetime``` objects. I know we started with objects, but now you see that for interactive use and exploration, strings are very helpful. You can pass in a string that can be parsed as a full date, and it will work for indexing."
   ]
  },
  {
   "cell_type": "code",
   "execution_count": null,
   "metadata": {},
   "outputs": [],
   "source": [
    "daily[\"2021-01-04\"]"
   ]
  },
  {
   "cell_type": "code",
   "execution_count": null,
   "metadata": {},
   "outputs": [],
   "source": [
    "minute.loc[\"2021-01-01 00:03:00\"]"
   ]
  },
  {
   "cell_type": "markdown",
   "metadata": {},
   "source": [
    "Strings also work for slicing."
   ]
  },
  {
   "cell_type": "code",
   "execution_count": null,
   "metadata": {},
   "outputs": [],
   "source": [
    "minute.loc[\"2021-01-01 00:03:00\":\"2021-01-01 00:05:00\"] # end is inclusive"
   ]
  },
  {
   "cell_type": "markdown",
   "metadata": {},
   "source": [
    "### Partial String Indexing\n",
    "Partial strings can also be used, so you only need to specify part of the data. This can be useful for pulling out a single year, month, or day from a longer dataset."
   ]
  },
  {
   "cell_type": "code",
   "execution_count": null,
   "metadata": {},
   "outputs": [],
   "source": [
    "daily[\"2021\"]    # all items match (since they were all in 2021)\n",
    "daily[\"2021-01\"] # this one as well (and only in January for our data)"
   ]
  },
  {
   "cell_type": "markdown",
   "metadata": {},
   "source": [
    "You can do this on a ```DataFrame``` as well."
   ]
  },
  {
   "cell_type": "code",
   "execution_count": null,
   "metadata": {},
   "outputs": [],
   "source": [
    "minute[\"2021-01-01\"]"
   ]
  },
  {
   "cell_type": "markdown",
   "metadata": {},
   "source": [
    "See that deprecation warning? You should no longer use ```[]``` for ```DataFrame``` string indexing (as we saw above, ```[]``` should be used for column access, not rows). Depending on whether the value is found in the index or not, you may get an error or a warning. Use ```.loc``` instead so you can avoid the confusion."
   ]
  },
  {
   "cell_type": "code",
   "execution_count": null,
   "metadata": {},
   "outputs": [],
   "source": [
    "minute2.loc[\"2021-01-01\"]"
   ]
  },
  {
   "cell_type": "markdown",
   "metadata": {},
   "source": [
    "If using string slicing, the end point includes *all times in the day*."
   ]
  },
  {
   "cell_type": "code",
   "execution_count": null,
   "metadata": {},
   "outputs": [],
   "source": [
    "minute2.loc[\"2021-01-01\":\"2021-01-02\"]"
   ]
  },
  {
   "cell_type": "markdown",
   "metadata": {},
   "source": [
    "But if we include times, it will include partial periods, cutting off the end right up to the microsecond if it is specified. "
   ]
  },
  {
   "cell_type": "code",
   "execution_count": null,
   "metadata": {},
   "outputs": [],
   "source": [
    "minute2.loc[\"2021-01-01\":\"2021-01-02 13:32:01\"]"
   ]
  },
  {
   "cell_type": "markdown",
   "metadata": {},
   "source": [
    "## Slicing vs. exact matching\n",
    "Our three datasets have different resolutions in their index: day, minute, and microsecond respectively. If we pass in a string indexing parameter and the resolution of the string is *less* accurate than the index, it will be treated as a slice. If it's the same or more accurate, it's treated as an exact match. Let's use our microsecond (```minute2```) and minute (```minute```) resolution data examples. Note that every time you get a slice of the ```DataFrame```, the value returned is a ```DataFrame```. When it's an exact match, it's a ```Series```."
   ]
  },
  {
   "cell_type": "code",
   "execution_count": null,
   "metadata": {},
   "outputs": [],
   "source": [
    "minute2.loc[\"2021-01-01\"]          # slice - the entire day\n",
    "minute2.loc[\"2021-01-01 00\"]       # slice - the first hour of the day\n",
    "minute2.loc[\"2021-01-01 00:00\"]    # slice - the first minute of the day\n",
    "minute2.loc[\"2021-01-01 00:00:00\"] # slice - the first minute and second of the day"
   ]
  },
  {
   "cell_type": "code",
   "execution_count": null,
   "metadata": {},
   "outputs": [],
   "source": [
    "print(str(minute2.index[0]))       # note the string representation include the full microseconds\n",
    "minute2.loc[str(minute2.index[0])] # slice - this seems incorrect to me, should return Series not DataFrame\n",
    "minute2.loc[minute2.index[0]]      # exact match"
   ]
  },
  {
   "cell_type": "code",
   "execution_count": null,
   "metadata": {},
   "outputs": [],
   "source": [
    "minute.loc[\"2021-01-01\"]       # slice - the entire day\n",
    "minute.loc[\"2021-01-01 00\"]    # slice - the first hour of the day\n",
    "minute.loc[\"2021-01-01 00:00\"] # exact match"
   ]
  },
  {
   "cell_type": "markdown",
   "metadata": {},
   "source": [
    "Note that for a microsecond resolution string match, I don't see an exact match (where the return would be a ```Series```), but instead a slice match (because the return value is a ```DataFrame```). On the minute resolution ```DataFrame``` it worked as I expected.\n",
    "\n",
    "## asof\n",
    "One way to deal with this sort of issue is to use ```asof```. Often, when you have data that is either randomized in time or may have missing values, getting the most recent value as of a certain time is preffered. You could do this yourself, but it looks little cleaner to use ```asof```."
   ]
  },
  {
   "cell_type": "code",
   "execution_count": null,
   "metadata": {},
   "outputs": [],
   "source": [
    "minute2.loc[:\"2021-01-01 00:00:03\"].iloc[-1]\n",
    "# vs\n",
    "minute2.asof(\"2021-01-01 00:00:03\")"
   ]
  },
  {
   "cell_type": "markdown",
   "metadata": {},
   "source": [
    "## truncate\n",
    "You can also use ```truncate``` which is sort of like slicing. You specify a value of ```before``` or  ```after``` (or both) to indicate cutoffs for data. Unlike slicing which includes all values that partially match the date, ```truncate``` assumes 0 for any unspecified values of the date."
   ]
  },
  {
   "cell_type": "code",
   "execution_count": null,
   "metadata": {},
   "outputs": [],
   "source": [
    "minute2.truncate(after=\"2021-01-01 00:00:03\")"
   ]
  },
  {
   "cell_type": "markdown",
   "metadata": {},
   "source": [
    "## Summary\n",
    "You can now see that time series data can be indexed a bit differently than other types of ```Index``` in pandas. Understanding time series slicing will allow you to quickly navigate time series data and quickly move on to more advanced time series analysis."
   ]
  }
 ],
 "metadata": {
  "kernelspec": {
   "display_name": "Python 3",
   "language": "python",
   "name": "python3"
  },
  "language_info": {
   "codemirror_mode": {
    "name": "ipython",
    "version": 3
   },
   "file_extension": ".py",
   "mimetype": "text/x-python",
   "name": "python",
   "nbconvert_exporter": "python",
   "pygments_lexer": "ipython3",
   "version": "3.8.6"
  },
  "varInspector": {
   "cols": {
    "lenName": 16,
    "lenType": 16,
    "lenVar": 40
   },
   "kernels_config": {
    "python": {
     "delete_cmd_postfix": "",
     "delete_cmd_prefix": "del ",
     "library": "var_list.py",
     "varRefreshCmd": "print(var_dic_list())"
    },
    "r": {
     "delete_cmd_postfix": ") ",
     "delete_cmd_prefix": "rm(",
     "library": "var_list.r",
     "varRefreshCmd": "cat(var_dic_list()) "
    }
   },
   "types_to_exclude": [
    "module",
    "function",
    "builtin_function_or_method",
    "instance",
    "_Feature"
   ],
   "window_display": false
  }
 },
 "nbformat": 4,
 "nbformat_minor": 4
}

{
 "cells": [
  {
   "cell_type": "markdown",
   "metadata": {},
   "source": [
    "## How to add columns to a Pandas DataFrame, the basics\n",
    "This notebook will give some simple examples of adding columns to DataFrames and explain how to deal with some of the more complex scenarios raised."
   ]
  },
  {
   "cell_type": "code",
   "execution_count": 1,
   "metadata": {},
   "outputs": [],
   "source": [
    "import pandas as pd\n",
    "import numpy as np"
   ]
  },
  {
   "cell_type": "markdown",
   "metadata": {},
   "source": [
    "Let's start with a very simple DataFrame. This DataFrame has 4 columns of random floating point values. The index of this DataFrame will also be the default, a RangeIndex of the size of the DataFrame."
   ]
  },
  {
   "cell_type": "code",
   "execution_count": 2,
   "metadata": {},
   "outputs": [],
   "source": [
    "df = pd.DataFrame(np.random.rand(6,4), columns=['a', 'b', 'c', 'd'])"
   ]
  },
  {
   "cell_type": "code",
   "execution_count": 3,
   "metadata": {},
   "outputs": [
    {
     "data": {
      "text/html": [
       "<div>\n",
       "<style scoped>\n",
       "    .dataframe tbody tr th:only-of-type {\n",
       "        vertical-align: middle;\n",
       "    }\n",
       "\n",
       "    .dataframe tbody tr th {\n",
       "        vertical-align: top;\n",
       "    }\n",
       "\n",
       "    .dataframe thead th {\n",
       "        text-align: right;\n",
       "    }\n",
       "</style>\n",
       "<table border=\"1\" class=\"dataframe\">\n",
       "  <thead>\n",
       "    <tr style=\"text-align: right;\">\n",
       "      <th></th>\n",
       "      <th>a</th>\n",
       "      <th>b</th>\n",
       "      <th>c</th>\n",
       "      <th>d</th>\n",
       "    </tr>\n",
       "  </thead>\n",
       "  <tbody>\n",
       "    <tr>\n",
       "      <th>0</th>\n",
       "      <td>0.016070</td>\n",
       "      <td>0.927096</td>\n",
       "      <td>0.927195</td>\n",
       "      <td>0.331235</td>\n",
       "    </tr>\n",
       "    <tr>\n",
       "      <th>1</th>\n",
       "      <td>0.179215</td>\n",
       "      <td>0.800215</td>\n",
       "      <td>0.702414</td>\n",
       "      <td>0.431010</td>\n",
       "    </tr>\n",
       "    <tr>\n",
       "      <th>2</th>\n",
       "      <td>0.986067</td>\n",
       "      <td>0.255110</td>\n",
       "      <td>0.592221</td>\n",
       "      <td>0.785731</td>\n",
       "    </tr>\n",
       "    <tr>\n",
       "      <th>3</th>\n",
       "      <td>0.224867</td>\n",
       "      <td>0.228913</td>\n",
       "      <td>0.884387</td>\n",
       "      <td>0.196844</td>\n",
       "    </tr>\n",
       "    <tr>\n",
       "      <th>4</th>\n",
       "      <td>0.924711</td>\n",
       "      <td>0.735926</td>\n",
       "      <td>0.809921</td>\n",
       "      <td>0.807838</td>\n",
       "    </tr>\n",
       "    <tr>\n",
       "      <th>5</th>\n",
       "      <td>0.502910</td>\n",
       "      <td>0.098659</td>\n",
       "      <td>0.343513</td>\n",
       "      <td>0.132948</td>\n",
       "    </tr>\n",
       "  </tbody>\n",
       "</table>\n",
       "</div>"
      ],
      "text/plain": [
       "          a         b         c         d\n",
       "0  0.016070  0.927096  0.927195  0.331235\n",
       "1  0.179215  0.800215  0.702414  0.431010\n",
       "2  0.986067  0.255110  0.592221  0.785731\n",
       "3  0.224867  0.228913  0.884387  0.196844\n",
       "4  0.924711  0.735926  0.809921  0.807838\n",
       "5  0.502910  0.098659  0.343513  0.132948"
      ]
     },
     "metadata": {},
     "output_type": "display_data"
    }
   ],
   "source": [
    "display(df)"
   ]
  },
  {
   "cell_type": "code",
   "execution_count": 4,
   "metadata": {},
   "outputs": [
    {
     "data": {
      "text/plain": [
       "RangeIndex(start=0, stop=6, step=1)"
      ]
     },
     "execution_count": 4,
     "metadata": {},
     "output_type": "execute_result"
    }
   ],
   "source": [
    "df.index"
   ]
  },
  {
   "cell_type": "markdown",
   "metadata": {},
   "source": [
    "### Simple cases\n",
    "Let's start with the simplest way to add a column, such as a single value. This will be applied to all rows in the DataFrame."
   ]
  },
  {
   "cell_type": "code",
   "execution_count": 5,
   "metadata": {},
   "outputs": [],
   "source": [
    "df['e'] = .5"
   ]
  },
  {
   "cell_type": "code",
   "execution_count": 6,
   "metadata": {},
   "outputs": [
    {
     "data": {
      "text/html": [
       "<div>\n",
       "<style scoped>\n",
       "    .dataframe tbody tr th:only-of-type {\n",
       "        vertical-align: middle;\n",
       "    }\n",
       "\n",
       "    .dataframe tbody tr th {\n",
       "        vertical-align: top;\n",
       "    }\n",
       "\n",
       "    .dataframe thead th {\n",
       "        text-align: right;\n",
       "    }\n",
       "</style>\n",
       "<table border=\"1\" class=\"dataframe\">\n",
       "  <thead>\n",
       "    <tr style=\"text-align: right;\">\n",
       "      <th></th>\n",
       "      <th>a</th>\n",
       "      <th>b</th>\n",
       "      <th>c</th>\n",
       "      <th>d</th>\n",
       "      <th>e</th>\n",
       "    </tr>\n",
       "  </thead>\n",
       "  <tbody>\n",
       "    <tr>\n",
       "      <th>0</th>\n",
       "      <td>0.016070</td>\n",
       "      <td>0.927096</td>\n",
       "      <td>0.927195</td>\n",
       "      <td>0.331235</td>\n",
       "      <td>0.5</td>\n",
       "    </tr>\n",
       "    <tr>\n",
       "      <th>1</th>\n",
       "      <td>0.179215</td>\n",
       "      <td>0.800215</td>\n",
       "      <td>0.702414</td>\n",
       "      <td>0.431010</td>\n",
       "      <td>0.5</td>\n",
       "    </tr>\n",
       "    <tr>\n",
       "      <th>2</th>\n",
       "      <td>0.986067</td>\n",
       "      <td>0.255110</td>\n",
       "      <td>0.592221</td>\n",
       "      <td>0.785731</td>\n",
       "      <td>0.5</td>\n",
       "    </tr>\n",
       "    <tr>\n",
       "      <th>3</th>\n",
       "      <td>0.224867</td>\n",
       "      <td>0.228913</td>\n",
       "      <td>0.884387</td>\n",
       "      <td>0.196844</td>\n",
       "      <td>0.5</td>\n",
       "    </tr>\n",
       "    <tr>\n",
       "      <th>4</th>\n",
       "      <td>0.924711</td>\n",
       "      <td>0.735926</td>\n",
       "      <td>0.809921</td>\n",
       "      <td>0.807838</td>\n",
       "      <td>0.5</td>\n",
       "    </tr>\n",
       "    <tr>\n",
       "      <th>5</th>\n",
       "      <td>0.502910</td>\n",
       "      <td>0.098659</td>\n",
       "      <td>0.343513</td>\n",
       "      <td>0.132948</td>\n",
       "      <td>0.5</td>\n",
       "    </tr>\n",
       "  </tbody>\n",
       "</table>\n",
       "</div>"
      ],
      "text/plain": [
       "          a         b         c         d    e\n",
       "0  0.016070  0.927096  0.927195  0.331235  0.5\n",
       "1  0.179215  0.800215  0.702414  0.431010  0.5\n",
       "2  0.986067  0.255110  0.592221  0.785731  0.5\n",
       "3  0.224867  0.228913  0.884387  0.196844  0.5\n",
       "4  0.924711  0.735926  0.809921  0.807838  0.5\n",
       "5  0.502910  0.098659  0.343513  0.132948  0.5"
      ]
     },
     "execution_count": 6,
     "metadata": {},
     "output_type": "execute_result"
    }
   ],
   "source": [
    "df"
   ]
  },
  {
   "cell_type": "markdown",
   "metadata": {},
   "source": [
    "Now, under the hood, pandas is making life easier for you and taking your scalar value (the 0.5) and turning it into an array that matches the index (in this case a ```RangeIndex```) of your DataFrame.\n",
    "\n",
    "This is sort of the equivalent:"
   ]
  },
  {
   "cell_type": "code",
   "execution_count": 7,
   "metadata": {},
   "outputs": [],
   "source": [
    "df['e_prime'] = pd.Series(.5, index=pd.RangeIndex(6))"
   ]
  },
  {
   "cell_type": "code",
   "execution_count": 8,
   "metadata": {},
   "outputs": [
    {
     "data": {
      "text/html": [
       "<div>\n",
       "<style scoped>\n",
       "    .dataframe tbody tr th:only-of-type {\n",
       "        vertical-align: middle;\n",
       "    }\n",
       "\n",
       "    .dataframe tbody tr th {\n",
       "        vertical-align: top;\n",
       "    }\n",
       "\n",
       "    .dataframe thead th {\n",
       "        text-align: right;\n",
       "    }\n",
       "</style>\n",
       "<table border=\"1\" class=\"dataframe\">\n",
       "  <thead>\n",
       "    <tr style=\"text-align: right;\">\n",
       "      <th></th>\n",
       "      <th>a</th>\n",
       "      <th>b</th>\n",
       "      <th>c</th>\n",
       "      <th>d</th>\n",
       "      <th>e</th>\n",
       "      <th>e_prime</th>\n",
       "    </tr>\n",
       "  </thead>\n",
       "  <tbody>\n",
       "    <tr>\n",
       "      <th>0</th>\n",
       "      <td>0.016070</td>\n",
       "      <td>0.927096</td>\n",
       "      <td>0.927195</td>\n",
       "      <td>0.331235</td>\n",
       "      <td>0.5</td>\n",
       "      <td>0.5</td>\n",
       "    </tr>\n",
       "    <tr>\n",
       "      <th>1</th>\n",
       "      <td>0.179215</td>\n",
       "      <td>0.800215</td>\n",
       "      <td>0.702414</td>\n",
       "      <td>0.431010</td>\n",
       "      <td>0.5</td>\n",
       "      <td>0.5</td>\n",
       "    </tr>\n",
       "    <tr>\n",
       "      <th>2</th>\n",
       "      <td>0.986067</td>\n",
       "      <td>0.255110</td>\n",
       "      <td>0.592221</td>\n",
       "      <td>0.785731</td>\n",
       "      <td>0.5</td>\n",
       "      <td>0.5</td>\n",
       "    </tr>\n",
       "    <tr>\n",
       "      <th>3</th>\n",
       "      <td>0.224867</td>\n",
       "      <td>0.228913</td>\n",
       "      <td>0.884387</td>\n",
       "      <td>0.196844</td>\n",
       "      <td>0.5</td>\n",
       "      <td>0.5</td>\n",
       "    </tr>\n",
       "    <tr>\n",
       "      <th>4</th>\n",
       "      <td>0.924711</td>\n",
       "      <td>0.735926</td>\n",
       "      <td>0.809921</td>\n",
       "      <td>0.807838</td>\n",
       "      <td>0.5</td>\n",
       "      <td>0.5</td>\n",
       "    </tr>\n",
       "    <tr>\n",
       "      <th>5</th>\n",
       "      <td>0.502910</td>\n",
       "      <td>0.098659</td>\n",
       "      <td>0.343513</td>\n",
       "      <td>0.132948</td>\n",
       "      <td>0.5</td>\n",
       "      <td>0.5</td>\n",
       "    </tr>\n",
       "  </tbody>\n",
       "</table>\n",
       "</div>"
      ],
      "text/plain": [
       "          a         b         c         d    e  e_prime\n",
       "0  0.016070  0.927096  0.927195  0.331235  0.5      0.5\n",
       "1  0.179215  0.800215  0.702414  0.431010  0.5      0.5\n",
       "2  0.986067  0.255110  0.592221  0.785731  0.5      0.5\n",
       "3  0.224867  0.228913  0.884387  0.196844  0.5      0.5\n",
       "4  0.924711  0.735926  0.809921  0.807838  0.5      0.5\n",
       "5  0.502910  0.098659  0.343513  0.132948  0.5      0.5"
      ]
     },
     "execution_count": 8,
     "metadata": {},
     "output_type": "execute_result"
    }
   ],
   "source": [
    "df"
   ]
  },
  {
   "cell_type": "markdown",
   "metadata": {},
   "source": [
    "You can also pass in an array yourself without an index, but it must match the dimensions of your DataFrame."
   ]
  },
  {
   "cell_type": "code",
   "execution_count": 9,
   "metadata": {},
   "outputs": [],
   "source": [
    "df['f'] = np.random.rand(6,1)"
   ]
  },
  {
   "cell_type": "code",
   "execution_count": 10,
   "metadata": {},
   "outputs": [
    {
     "data": {
      "text/html": [
       "<div>\n",
       "<style scoped>\n",
       "    .dataframe tbody tr th:only-of-type {\n",
       "        vertical-align: middle;\n",
       "    }\n",
       "\n",
       "    .dataframe tbody tr th {\n",
       "        vertical-align: top;\n",
       "    }\n",
       "\n",
       "    .dataframe thead th {\n",
       "        text-align: right;\n",
       "    }\n",
       "</style>\n",
       "<table border=\"1\" class=\"dataframe\">\n",
       "  <thead>\n",
       "    <tr style=\"text-align: right;\">\n",
       "      <th></th>\n",
       "      <th>a</th>\n",
       "      <th>b</th>\n",
       "      <th>c</th>\n",
       "      <th>d</th>\n",
       "      <th>e</th>\n",
       "      <th>e_prime</th>\n",
       "      <th>f</th>\n",
       "    </tr>\n",
       "  </thead>\n",
       "  <tbody>\n",
       "    <tr>\n",
       "      <th>0</th>\n",
       "      <td>0.016070</td>\n",
       "      <td>0.927096</td>\n",
       "      <td>0.927195</td>\n",
       "      <td>0.331235</td>\n",
       "      <td>0.5</td>\n",
       "      <td>0.5</td>\n",
       "      <td>0.004665</td>\n",
       "    </tr>\n",
       "    <tr>\n",
       "      <th>1</th>\n",
       "      <td>0.179215</td>\n",
       "      <td>0.800215</td>\n",
       "      <td>0.702414</td>\n",
       "      <td>0.431010</td>\n",
       "      <td>0.5</td>\n",
       "      <td>0.5</td>\n",
       "      <td>0.745241</td>\n",
       "    </tr>\n",
       "    <tr>\n",
       "      <th>2</th>\n",
       "      <td>0.986067</td>\n",
       "      <td>0.255110</td>\n",
       "      <td>0.592221</td>\n",
       "      <td>0.785731</td>\n",
       "      <td>0.5</td>\n",
       "      <td>0.5</td>\n",
       "      <td>0.129182</td>\n",
       "    </tr>\n",
       "    <tr>\n",
       "      <th>3</th>\n",
       "      <td>0.224867</td>\n",
       "      <td>0.228913</td>\n",
       "      <td>0.884387</td>\n",
       "      <td>0.196844</td>\n",
       "      <td>0.5</td>\n",
       "      <td>0.5</td>\n",
       "      <td>0.799768</td>\n",
       "    </tr>\n",
       "    <tr>\n",
       "      <th>4</th>\n",
       "      <td>0.924711</td>\n",
       "      <td>0.735926</td>\n",
       "      <td>0.809921</td>\n",
       "      <td>0.807838</td>\n",
       "      <td>0.5</td>\n",
       "      <td>0.5</td>\n",
       "      <td>0.264247</td>\n",
       "    </tr>\n",
       "    <tr>\n",
       "      <th>5</th>\n",
       "      <td>0.502910</td>\n",
       "      <td>0.098659</td>\n",
       "      <td>0.343513</td>\n",
       "      <td>0.132948</td>\n",
       "      <td>0.5</td>\n",
       "      <td>0.5</td>\n",
       "      <td>0.519458</td>\n",
       "    </tr>\n",
       "  </tbody>\n",
       "</table>\n",
       "</div>"
      ],
      "text/plain": [
       "          a         b         c         d    e  e_prime         f\n",
       "0  0.016070  0.927096  0.927195  0.331235  0.5      0.5  0.004665\n",
       "1  0.179215  0.800215  0.702414  0.431010  0.5      0.5  0.745241\n",
       "2  0.986067  0.255110  0.592221  0.785731  0.5      0.5  0.129182\n",
       "3  0.224867  0.228913  0.884387  0.196844  0.5      0.5  0.799768\n",
       "4  0.924711  0.735926  0.809921  0.807838  0.5      0.5  0.264247\n",
       "5  0.502910  0.098659  0.343513  0.132948  0.5      0.5  0.519458"
      ]
     },
     "execution_count": 10,
     "metadata": {},
     "output_type": "execute_result"
    }
   ],
   "source": [
    "df"
   ]
  },
  {
   "cell_type": "markdown",
   "metadata": {},
   "source": [
    "If you try to do this with a non-matching shape, it won't work. This is because the DataFrame won't know where to put the values."
   ]
  },
  {
   "cell_type": "code",
   "execution_count": 11,
   "metadata": {},
   "outputs": [
    {
     "name": "stdout",
     "output_type": "stream",
     "text": [
      "Length of values (5) does not match length of index (6)\n"
     ]
    }
   ],
   "source": [
    "try:\n",
    "    df['g'] = np.random.rand(5,1)\n",
    "except Exception as ex:\n",
    "    print(ex)"
   ]
  },
  {
   "cell_type": "markdown",
   "metadata": {},
   "source": [
    "### Non-matching indices\n",
    "Now what happens when the data you want to add doesn't match your current DataFrame? Specifically, what if the index is different on the right hand side?"
   ]
  },
  {
   "cell_type": "code",
   "execution_count": 12,
   "metadata": {},
   "outputs": [],
   "source": [
    "df['g'] = pd.Series(np.random.rand(50), index=pd.RangeIndex(2,52))"
   ]
  },
  {
   "cell_type": "code",
   "execution_count": 13,
   "metadata": {},
   "outputs": [
    {
     "data": {
      "text/html": [
       "<div>\n",
       "<style scoped>\n",
       "    .dataframe tbody tr th:only-of-type {\n",
       "        vertical-align: middle;\n",
       "    }\n",
       "\n",
       "    .dataframe tbody tr th {\n",
       "        vertical-align: top;\n",
       "    }\n",
       "\n",
       "    .dataframe thead th {\n",
       "        text-align: right;\n",
       "    }\n",
       "</style>\n",
       "<table border=\"1\" class=\"dataframe\">\n",
       "  <thead>\n",
       "    <tr style=\"text-align: right;\">\n",
       "      <th></th>\n",
       "      <th>a</th>\n",
       "      <th>b</th>\n",
       "      <th>c</th>\n",
       "      <th>d</th>\n",
       "      <th>e</th>\n",
       "      <th>e_prime</th>\n",
       "      <th>f</th>\n",
       "      <th>g</th>\n",
       "    </tr>\n",
       "  </thead>\n",
       "  <tbody>\n",
       "    <tr>\n",
       "      <th>0</th>\n",
       "      <td>0.016070</td>\n",
       "      <td>0.927096</td>\n",
       "      <td>0.927195</td>\n",
       "      <td>0.331235</td>\n",
       "      <td>0.5</td>\n",
       "      <td>0.5</td>\n",
       "      <td>0.004665</td>\n",
       "      <td>NaN</td>\n",
       "    </tr>\n",
       "    <tr>\n",
       "      <th>1</th>\n",
       "      <td>0.179215</td>\n",
       "      <td>0.800215</td>\n",
       "      <td>0.702414</td>\n",
       "      <td>0.431010</td>\n",
       "      <td>0.5</td>\n",
       "      <td>0.5</td>\n",
       "      <td>0.745241</td>\n",
       "      <td>NaN</td>\n",
       "    </tr>\n",
       "    <tr>\n",
       "      <th>2</th>\n",
       "      <td>0.986067</td>\n",
       "      <td>0.255110</td>\n",
       "      <td>0.592221</td>\n",
       "      <td>0.785731</td>\n",
       "      <td>0.5</td>\n",
       "      <td>0.5</td>\n",
       "      <td>0.129182</td>\n",
       "      <td>0.900162</td>\n",
       "    </tr>\n",
       "    <tr>\n",
       "      <th>3</th>\n",
       "      <td>0.224867</td>\n",
       "      <td>0.228913</td>\n",
       "      <td>0.884387</td>\n",
       "      <td>0.196844</td>\n",
       "      <td>0.5</td>\n",
       "      <td>0.5</td>\n",
       "      <td>0.799768</td>\n",
       "      <td>0.144825</td>\n",
       "    </tr>\n",
       "    <tr>\n",
       "      <th>4</th>\n",
       "      <td>0.924711</td>\n",
       "      <td>0.735926</td>\n",
       "      <td>0.809921</td>\n",
       "      <td>0.807838</td>\n",
       "      <td>0.5</td>\n",
       "      <td>0.5</td>\n",
       "      <td>0.264247</td>\n",
       "      <td>0.884787</td>\n",
       "    </tr>\n",
       "    <tr>\n",
       "      <th>5</th>\n",
       "      <td>0.502910</td>\n",
       "      <td>0.098659</td>\n",
       "      <td>0.343513</td>\n",
       "      <td>0.132948</td>\n",
       "      <td>0.5</td>\n",
       "      <td>0.5</td>\n",
       "      <td>0.519458</td>\n",
       "      <td>0.019577</td>\n",
       "    </tr>\n",
       "  </tbody>\n",
       "</table>\n",
       "</div>"
      ],
      "text/plain": [
       "          a         b         c         d    e  e_prime         f         g\n",
       "0  0.016070  0.927096  0.927195  0.331235  0.5      0.5  0.004665       NaN\n",
       "1  0.179215  0.800215  0.702414  0.431010  0.5      0.5  0.745241       NaN\n",
       "2  0.986067  0.255110  0.592221  0.785731  0.5      0.5  0.129182  0.900162\n",
       "3  0.224867  0.228913  0.884387  0.196844  0.5      0.5  0.799768  0.144825\n",
       "4  0.924711  0.735926  0.809921  0.807838  0.5      0.5  0.264247  0.884787\n",
       "5  0.502910  0.098659  0.343513  0.132948  0.5      0.5  0.519458  0.019577"
      ]
     },
     "execution_count": 13,
     "metadata": {},
     "output_type": "execute_result"
    }
   ],
   "source": [
    "df"
   ]
  },
  {
   "cell_type": "markdown",
   "metadata": {},
   "source": [
    "So what happened here? Our column ```g``` only has values at rows 2 through 5, even though we assigned a series with 50 values. Well, these were the rows that matched our index. For the rows that didn't have values, a ```NaN``` was inserted.\n",
    "\n",
    "Another way to think of this is that we could use the ```loc``` method to select the rows we wanted to update, but unless we set the index on the right hand side, we still need to align with the shape of the DataFrame."
   ]
  },
  {
   "cell_type": "code",
   "execution_count": 14,
   "metadata": {},
   "outputs": [],
   "source": [
    "df.loc[2:5, 'g_prime'] = np.random.rand(4)"
   ]
  },
  {
   "cell_type": "code",
   "execution_count": 15,
   "metadata": {},
   "outputs": [
    {
     "data": {
      "text/html": [
       "<div>\n",
       "<style scoped>\n",
       "    .dataframe tbody tr th:only-of-type {\n",
       "        vertical-align: middle;\n",
       "    }\n",
       "\n",
       "    .dataframe tbody tr th {\n",
       "        vertical-align: top;\n",
       "    }\n",
       "\n",
       "    .dataframe thead th {\n",
       "        text-align: right;\n",
       "    }\n",
       "</style>\n",
       "<table border=\"1\" class=\"dataframe\">\n",
       "  <thead>\n",
       "    <tr style=\"text-align: right;\">\n",
       "      <th></th>\n",
       "      <th>a</th>\n",
       "      <th>b</th>\n",
       "      <th>c</th>\n",
       "      <th>d</th>\n",
       "      <th>e</th>\n",
       "      <th>e_prime</th>\n",
       "      <th>f</th>\n",
       "      <th>g</th>\n",
       "      <th>g_prime</th>\n",
       "    </tr>\n",
       "  </thead>\n",
       "  <tbody>\n",
       "    <tr>\n",
       "      <th>0</th>\n",
       "      <td>0.016070</td>\n",
       "      <td>0.927096</td>\n",
       "      <td>0.927195</td>\n",
       "      <td>0.331235</td>\n",
       "      <td>0.5</td>\n",
       "      <td>0.5</td>\n",
       "      <td>0.004665</td>\n",
       "      <td>NaN</td>\n",
       "      <td>NaN</td>\n",
       "    </tr>\n",
       "    <tr>\n",
       "      <th>1</th>\n",
       "      <td>0.179215</td>\n",
       "      <td>0.800215</td>\n",
       "      <td>0.702414</td>\n",
       "      <td>0.431010</td>\n",
       "      <td>0.5</td>\n",
       "      <td>0.5</td>\n",
       "      <td>0.745241</td>\n",
       "      <td>NaN</td>\n",
       "      <td>NaN</td>\n",
       "    </tr>\n",
       "    <tr>\n",
       "      <th>2</th>\n",
       "      <td>0.986067</td>\n",
       "      <td>0.255110</td>\n",
       "      <td>0.592221</td>\n",
       "      <td>0.785731</td>\n",
       "      <td>0.5</td>\n",
       "      <td>0.5</td>\n",
       "      <td>0.129182</td>\n",
       "      <td>0.900162</td>\n",
       "      <td>0.865911</td>\n",
       "    </tr>\n",
       "    <tr>\n",
       "      <th>3</th>\n",
       "      <td>0.224867</td>\n",
       "      <td>0.228913</td>\n",
       "      <td>0.884387</td>\n",
       "      <td>0.196844</td>\n",
       "      <td>0.5</td>\n",
       "      <td>0.5</td>\n",
       "      <td>0.799768</td>\n",
       "      <td>0.144825</td>\n",
       "      <td>0.217103</td>\n",
       "    </tr>\n",
       "    <tr>\n",
       "      <th>4</th>\n",
       "      <td>0.924711</td>\n",
       "      <td>0.735926</td>\n",
       "      <td>0.809921</td>\n",
       "      <td>0.807838</td>\n",
       "      <td>0.5</td>\n",
       "      <td>0.5</td>\n",
       "      <td>0.264247</td>\n",
       "      <td>0.884787</td>\n",
       "      <td>0.755596</td>\n",
       "    </tr>\n",
       "    <tr>\n",
       "      <th>5</th>\n",
       "      <td>0.502910</td>\n",
       "      <td>0.098659</td>\n",
       "      <td>0.343513</td>\n",
       "      <td>0.132948</td>\n",
       "      <td>0.5</td>\n",
       "      <td>0.5</td>\n",
       "      <td>0.519458</td>\n",
       "      <td>0.019577</td>\n",
       "      <td>0.207294</td>\n",
       "    </tr>\n",
       "  </tbody>\n",
       "</table>\n",
       "</div>"
      ],
      "text/plain": [
       "          a         b         c         d    e  e_prime         f         g  \\\n",
       "0  0.016070  0.927096  0.927195  0.331235  0.5      0.5  0.004665       NaN   \n",
       "1  0.179215  0.800215  0.702414  0.431010  0.5      0.5  0.745241       NaN   \n",
       "2  0.986067  0.255110  0.592221  0.785731  0.5      0.5  0.129182  0.900162   \n",
       "3  0.224867  0.228913  0.884387  0.196844  0.5      0.5  0.799768  0.144825   \n",
       "4  0.924711  0.735926  0.809921  0.807838  0.5      0.5  0.264247  0.884787   \n",
       "5  0.502910  0.098659  0.343513  0.132948  0.5      0.5  0.519458  0.019577   \n",
       "\n",
       "    g_prime  \n",
       "0       NaN  \n",
       "1       NaN  \n",
       "2  0.865911  \n",
       "3  0.217103  \n",
       "4  0.755596  \n",
       "5  0.207294  "
      ]
     },
     "execution_count": 15,
     "metadata": {},
     "output_type": "execute_result"
    }
   ],
   "source": [
    "df"
   ]
  },
  {
   "cell_type": "markdown",
   "metadata": {},
   "source": [
    "The main lesson here is to realize that assigning a column to a DataFrame can lead to some surprising results if you don't realize whether what you are assigning has a matching index or not."
   ]
  }
 ],
 "metadata": {
  "kernelspec": {
   "display_name": "Python 3",
   "language": "python",
   "name": "python3"
  },
  "language_info": {
   "codemirror_mode": {
    "name": "ipython",
    "version": 3
   },
   "file_extension": ".py",
   "mimetype": "text/x-python",
   "name": "python",
   "nbconvert_exporter": "python",
   "pygments_lexer": "ipython3",
   "version": "3.6.10"
  }
 },
 "nbformat": 4,
 "nbformat_minor": 4
}

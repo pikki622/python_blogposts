{
 "cells": [
  {
   "cell_type": "markdown",
   "metadata": {
    "pycharm": {
     "name": "#%% md\n"
    }
   },
   "source": [
    "# Selecting by Callable\n",
    "This is the fourth entry in a series on indexing and selecting in pandas. In summary, this is what we've covered:\n",
    "\n",
    " * [Basic indexing, selecting by label and location](https://www.wrighters.io/indexing-and-selecting-in-pandas-part-1/)\n",
    " * [Slicing in pandas](https://www.wrighters.io/indexing-and-selecting-in-pandas-slicing/)\n",
    " * [Selecting by boolean indexing](https://www.wrighters.io/boolean-indexing-in-pandas/)\n",
    " \n",
    "In all of the discussion so far, we've focused on the three main methods of selecting data in the two main pandas data structures, ```Series``` and ```DataFrame```. \n",
    "\n",
    " * The array indexing operator, or ```[]```\n",
    " * The ```.loc``` selector, for selection using the label on the index\n",
    " * The ```.iloc``` selector, for selection using the location\n",
    " \n",
    "We noted in the last entry in the series that all three can take a boolean vector as indexer to select data from the object. It turns out that you can also pass in a callable.  If you're not familiar with a callable, it can be a function, or object with a ```___call___``` method. When used for pandas selection, the callable needs to take one argument, which will be the pandas object, and return a result that will select data from the dataset. Why would you want to do this? We'll look at how this can be useful.\n",
    "\n",
    "In this series I've been grabbing data from the [Chicago Data Portal](https://data.cityofchicago.org). For this post, I've grabbed the [list of current employees](https://data.cityofchicago.org/Administration-Finance/Current-Employee-Names-Salaries-and-Position-Title/xzkq-xp2w) for the city. This includes full time and part time, salaried and hourly data.\n"
   ]
  },
  {
   "cell_type": "code",
   "execution_count": 1,
   "metadata": {
    "pycharm": {
     "name": "#%%\n"
    }
   },
   "outputs": [],
   "source": [
    "import pandas as pd\n",
    "\n",
    "# you should be able to grab this dataset as an unauthenticated user, but you can be rate limited\n",
    "# it also only returns 1000 rows (or at least it did for me without an API key)\n",
    "df = pd.read_json(\"https://data.cityofchicago.org/resource/xzkq-xp2w.json\")"
   ]
  },
  {
   "cell_type": "code",
   "execution_count": 2,
   "metadata": {
    "pycharm": {
     "name": "#%%\n"
    }
   },
   "outputs": [
    {
     "data": {
      "text/plain": [
       "name                  object\n",
       "job_titles            object\n",
       "department            object\n",
       "full_or_part_time     object\n",
       "salary_or_hourly      object\n",
       "annual_salary        float64\n",
       "typical_hours        float64\n",
       "hourly_rate          float64\n",
       "dtype: object"
      ]
     },
     "execution_count": 2,
     "metadata": {},
     "output_type": "execute_result"
    }
   ],
   "source": [
    "df.dtypes"
   ]
  },
  {
   "cell_type": "code",
   "execution_count": 3,
   "metadata": {
    "pycharm": {
     "name": "#%%\n"
    }
   },
   "outputs": [
    {
     "data": {
      "text/html": [
       "<div>\n",
       "<style scoped>\n",
       "    .dataframe tbody tr th:only-of-type {\n",
       "        vertical-align: middle;\n",
       "    }\n",
       "\n",
       "    .dataframe tbody tr th {\n",
       "        vertical-align: top;\n",
       "    }\n",
       "\n",
       "    .dataframe thead th {\n",
       "        text-align: right;\n",
       "    }\n",
       "</style>\n",
       "<table border=\"1\" class=\"dataframe\">\n",
       "  <thead>\n",
       "    <tr style=\"text-align: right;\">\n",
       "      <th></th>\n",
       "      <th>annual_salary</th>\n",
       "      <th>typical_hours</th>\n",
       "      <th>hourly_rate</th>\n",
       "    </tr>\n",
       "  </thead>\n",
       "  <tbody>\n",
       "    <tr>\n",
       "      <th>count</th>\n",
       "      <td>785.000000</td>\n",
       "      <td>215.000000</td>\n",
       "      <td>215.000000</td>\n",
       "    </tr>\n",
       "    <tr>\n",
       "      <th>mean</th>\n",
       "      <td>87307.076637</td>\n",
       "      <td>35.558140</td>\n",
       "      <td>34.706000</td>\n",
       "    </tr>\n",
       "    <tr>\n",
       "      <th>std</th>\n",
       "      <td>20342.094746</td>\n",
       "      <td>8.183932</td>\n",
       "      <td>13.027963</td>\n",
       "    </tr>\n",
       "    <tr>\n",
       "      <th>min</th>\n",
       "      <td>20568.000000</td>\n",
       "      <td>20.000000</td>\n",
       "      <td>3.000000</td>\n",
       "    </tr>\n",
       "    <tr>\n",
       "      <th>25%</th>\n",
       "      <td>76164.000000</td>\n",
       "      <td>40.000000</td>\n",
       "      <td>22.350000</td>\n",
       "    </tr>\n",
       "    <tr>\n",
       "      <th>50%</th>\n",
       "      <td>87006.000000</td>\n",
       "      <td>40.000000</td>\n",
       "      <td>38.350000</td>\n",
       "    </tr>\n",
       "    <tr>\n",
       "      <th>75%</th>\n",
       "      <td>97386.000000</td>\n",
       "      <td>40.000000</td>\n",
       "      <td>44.400000</td>\n",
       "    </tr>\n",
       "    <tr>\n",
       "      <th>max</th>\n",
       "      <td>180000.000000</td>\n",
       "      <td>40.000000</td>\n",
       "      <td>57.040000</td>\n",
       "    </tr>\n",
       "  </tbody>\n",
       "</table>\n",
       "</div>"
      ],
      "text/plain": [
       "       annual_salary  typical_hours  hourly_rate\n",
       "count     785.000000     215.000000   215.000000\n",
       "mean    87307.076637      35.558140    34.706000\n",
       "std     20342.094746       8.183932    13.027963\n",
       "min     20568.000000      20.000000     3.000000\n",
       "25%     76164.000000      40.000000    22.350000\n",
       "50%     87006.000000      40.000000    38.350000\n",
       "75%     97386.000000      40.000000    44.400000\n",
       "max    180000.000000      40.000000    57.040000"
      ]
     },
     "execution_count": 3,
     "metadata": {},
     "output_type": "execute_result"
    }
   ],
   "source": [
    "df.describe()"
   ]
  },
  {
   "cell_type": "code",
   "execution_count": 4,
   "metadata": {
    "pycharm": {
     "name": "#%%\n"
    }
   },
   "outputs": [
    {
     "data": {
      "text/plain": [
       "(1000, 8)"
      ]
     },
     "execution_count": 4,
     "metadata": {},
     "output_type": "execute_result"
    }
   ],
   "source": [
    "df.shape"
   ]
  },
  {
   "cell_type": "code",
   "execution_count": 5,
   "metadata": {
    "pycharm": {
     "name": "#%%\n"
    }
   },
   "outputs": [],
   "source": [
    "df = df.drop('name', axis=1)   # no need to include personal info in this post"
   ]
  },
  {
   "cell_type": "markdown",
   "metadata": {
    "pycharm": {
     "name": "#%% md\n"
    }
   },
   "source": [
    "## Simple callables\n",
    "So we have some data, which is a subset of the total list of employees for the city of Chicago. The full dataset should be about 32,000 rows.\n",
    "\n",
    "Before we give a few examples, let's clarify what this callable should do. First, the callable will take one argument, which will be the ```DataFrame``` or ```Series``` being indexed. What you need to returns a valid value for indexing. This could be any value that we've already discussed in earlier posts.\n",
    "\n",
    "So, if we are using the array indexing operator, on a ```DataFrame``` you'll remember that you can pass in a single column, or a list of columns to select."
   ]
  },
  {
   "cell_type": "code",
   "execution_count": 6,
   "metadata": {
    "pycharm": {
     "name": "#%%\n"
    }
   },
   "outputs": [
    {
     "data": {
      "text/plain": [
       "0                                    SERGEANT\n",
       "1      POLICE OFFICER (ASSIGNED AS DETECTIVE)\n",
       "2                    CHIEF CONTRACT EXPEDITER\n",
       "3                           CIVIL ENGINEER IV\n",
       "4                            CONCRETE LABORER\n",
       "                        ...                  \n",
       "995                 AVIATION SECURITY OFFICER\n",
       "996                           FIREFIGHTER-EMT\n",
       "997                              LIBRARIAN IV\n",
       "998               HUMAN SERVICE SPECIALIST II\n",
       "999                            POLICE OFFICER\n",
       "Name: job_titles, Length: 1000, dtype: object"
      ]
     },
     "execution_count": 6,
     "metadata": {},
     "output_type": "execute_result"
    }
   ],
   "source": [
    "def select_job_titles(df):\n",
    "    return \"job_titles\"\n",
    "\n",
    "df[select_job_titles]"
   ]
  },
  {
   "cell_type": "code",
   "execution_count": 7,
   "metadata": {
    "pycharm": {
     "name": "#%%\n"
    }
   },
   "outputs": [
    {
     "data": {
      "text/html": [
       "<div>\n",
       "<style scoped>\n",
       "    .dataframe tbody tr th:only-of-type {\n",
       "        vertical-align: middle;\n",
       "    }\n",
       "\n",
       "    .dataframe tbody tr th {\n",
       "        vertical-align: top;\n",
       "    }\n",
       "\n",
       "    .dataframe thead th {\n",
       "        text-align: right;\n",
       "    }\n",
       "</style>\n",
       "<table border=\"1\" class=\"dataframe\">\n",
       "  <thead>\n",
       "    <tr style=\"text-align: right;\">\n",
       "      <th></th>\n",
       "      <th>job_titles</th>\n",
       "      <th>typical_hours</th>\n",
       "    </tr>\n",
       "  </thead>\n",
       "  <tbody>\n",
       "    <tr>\n",
       "      <th>4</th>\n",
       "      <td>CONCRETE LABORER</td>\n",
       "      <td>40.0</td>\n",
       "    </tr>\n",
       "    <tr>\n",
       "      <th>6</th>\n",
       "      <td>TRAFFIC CONTROL AIDE-HOURLY</td>\n",
       "      <td>20.0</td>\n",
       "    </tr>\n",
       "    <tr>\n",
       "      <th>7</th>\n",
       "      <td>ELECTRICAL MECHANIC</td>\n",
       "      <td>40.0</td>\n",
       "    </tr>\n",
       "    <tr>\n",
       "      <th>10</th>\n",
       "      <td>FOSTER GRANDPARENT</td>\n",
       "      <td>20.0</td>\n",
       "    </tr>\n",
       "    <tr>\n",
       "      <th>21</th>\n",
       "      <td>ELECTRICAL MECHANIC (AUTOMOTIVE)</td>\n",
       "      <td>40.0</td>\n",
       "    </tr>\n",
       "    <tr>\n",
       "      <th>...</th>\n",
       "      <td>...</td>\n",
       "      <td>...</td>\n",
       "    </tr>\n",
       "    <tr>\n",
       "      <th>971</th>\n",
       "      <td>CONSTRUCTION LABORER</td>\n",
       "      <td>40.0</td>\n",
       "    </tr>\n",
       "    <tr>\n",
       "      <th>974</th>\n",
       "      <td>HOISTING ENGINEER</td>\n",
       "      <td>40.0</td>\n",
       "    </tr>\n",
       "    <tr>\n",
       "      <th>977</th>\n",
       "      <td>CONSTRUCTION LABORER</td>\n",
       "      <td>40.0</td>\n",
       "    </tr>\n",
       "    <tr>\n",
       "      <th>988</th>\n",
       "      <td>CONSTRUCTION LABORER</td>\n",
       "      <td>40.0</td>\n",
       "    </tr>\n",
       "    <tr>\n",
       "      <th>991</th>\n",
       "      <td>SANITATION LABORER</td>\n",
       "      <td>40.0</td>\n",
       "    </tr>\n",
       "  </tbody>\n",
       "</table>\n",
       "<p>215 rows × 2 columns</p>\n",
       "</div>"
      ],
      "text/plain": [
       "                           job_titles  typical_hours\n",
       "4                    CONCRETE LABORER           40.0\n",
       "6         TRAFFIC CONTROL AIDE-HOURLY           20.0\n",
       "7                 ELECTRICAL MECHANIC           40.0\n",
       "10                 FOSTER GRANDPARENT           20.0\n",
       "21   ELECTRICAL MECHANIC (AUTOMOTIVE)           40.0\n",
       "..                                ...            ...\n",
       "971              CONSTRUCTION LABORER           40.0\n",
       "974                 HOISTING ENGINEER           40.0\n",
       "977              CONSTRUCTION LABORER           40.0\n",
       "988              CONSTRUCTION LABORER           40.0\n",
       "991                SANITATION LABORER           40.0\n",
       "\n",
       "[215 rows x 2 columns]"
      ]
     },
     "execution_count": 7,
     "metadata": {},
     "output_type": "execute_result"
    }
   ],
   "source": [
    "def select_job_titles_typical_hours(df):\n",
    "    return [\"job_titles\", \"typical_hours\"]\n",
    "\n",
    "df[select_job_titles_typical_hours].dropna()"
   ]
  },
  {
   "cell_type": "markdown",
   "metadata": {
    "pycharm": {
     "name": "#%% md\n"
    }
   },
   "source": [
    "We can also return a boolean indexer, since that's a valid argument."
   ]
  },
  {
   "cell_type": "code",
   "execution_count": 8,
   "metadata": {
    "pycharm": {
     "name": "#%%\n"
    }
   },
   "outputs": [
    {
     "data": {
      "text/html": [
       "<div>\n",
       "<style scoped>\n",
       "    .dataframe tbody tr th:only-of-type {\n",
       "        vertical-align: middle;\n",
       "    }\n",
       "\n",
       "    .dataframe tbody tr th {\n",
       "        vertical-align: top;\n",
       "    }\n",
       "\n",
       "    .dataframe thead th {\n",
       "        text-align: right;\n",
       "    }\n",
       "</style>\n",
       "<table border=\"1\" class=\"dataframe\">\n",
       "  <thead>\n",
       "    <tr style=\"text-align: right;\">\n",
       "      <th></th>\n",
       "      <th>job_titles</th>\n",
       "      <th>department</th>\n",
       "      <th>full_or_part_time</th>\n",
       "      <th>salary_or_hourly</th>\n",
       "      <th>annual_salary</th>\n",
       "      <th>typical_hours</th>\n",
       "      <th>hourly_rate</th>\n",
       "    </tr>\n",
       "  </thead>\n",
       "  <tbody>\n",
       "    <tr>\n",
       "      <th>6</th>\n",
       "      <td>TRAFFIC CONTROL AIDE-HOURLY</td>\n",
       "      <td>OEMC</td>\n",
       "      <td>P</td>\n",
       "      <td>Hourly</td>\n",
       "      <td>NaN</td>\n",
       "      <td>20.0</td>\n",
       "      <td>19.86</td>\n",
       "    </tr>\n",
       "    <tr>\n",
       "      <th>10</th>\n",
       "      <td>FOSTER GRANDPARENT</td>\n",
       "      <td>FAMILY &amp; SUPPORT</td>\n",
       "      <td>P</td>\n",
       "      <td>Hourly</td>\n",
       "      <td>NaN</td>\n",
       "      <td>20.0</td>\n",
       "      <td>3.00</td>\n",
       "    </tr>\n",
       "    <tr>\n",
       "      <th>91</th>\n",
       "      <td>CROSSING GUARD</td>\n",
       "      <td>OEMC</td>\n",
       "      <td>P</td>\n",
       "      <td>Hourly</td>\n",
       "      <td>NaN</td>\n",
       "      <td>20.0</td>\n",
       "      <td>18.52</td>\n",
       "    </tr>\n",
       "    <tr>\n",
       "      <th>113</th>\n",
       "      <td>SENIOR COMPANION</td>\n",
       "      <td>FAMILY &amp; SUPPORT</td>\n",
       "      <td>P</td>\n",
       "      <td>Hourly</td>\n",
       "      <td>NaN</td>\n",
       "      <td>20.0</td>\n",
       "      <td>3.00</td>\n",
       "    </tr>\n",
       "    <tr>\n",
       "      <th>125</th>\n",
       "      <td>TITLE V PROGRAM TRAINEE I</td>\n",
       "      <td>FAMILY &amp; SUPPORT</td>\n",
       "      <td>P</td>\n",
       "      <td>Hourly</td>\n",
       "      <td>NaN</td>\n",
       "      <td>20.0</td>\n",
       "      <td>13.00</td>\n",
       "    </tr>\n",
       "  </tbody>\n",
       "</table>\n",
       "</div>"
      ],
      "text/plain": [
       "                      job_titles        department full_or_part_time  \\\n",
       "6    TRAFFIC CONTROL AIDE-HOURLY              OEMC                 P   \n",
       "10            FOSTER GRANDPARENT  FAMILY & SUPPORT                 P   \n",
       "91                CROSSING GUARD              OEMC                 P   \n",
       "113             SENIOR COMPANION  FAMILY & SUPPORT                 P   \n",
       "125    TITLE V PROGRAM TRAINEE I  FAMILY & SUPPORT                 P   \n",
       "\n",
       "    salary_or_hourly  annual_salary  typical_hours  hourly_rate  \n",
       "6             Hourly            NaN           20.0        19.86  \n",
       "10            Hourly            NaN           20.0         3.00  \n",
       "91            Hourly            NaN           20.0        18.52  \n",
       "113           Hourly            NaN           20.0         3.00  \n",
       "125           Hourly            NaN           20.0        13.00  "
      ]
     },
     "execution_count": 8,
     "metadata": {},
     "output_type": "execute_result"
    }
   ],
   "source": [
    "def select_20_hours_or_less(df):\n",
    "    return df['typical_hours'] <= 20\n",
    "\n",
    "df[select_20_hours_or_less].head()"
   ]
  },
  {
   "cell_type": "markdown",
   "metadata": {
    "pycharm": {
     "name": "#%% md\n"
    }
   },
   "source": [
    "You can also use callables for both the first (row indexer) and second (column indexer) arguments in a ```DataFrame```."
   ]
  },
  {
   "cell_type": "code",
   "execution_count": 9,
   "metadata": {
    "pycharm": {
     "name": "#%%\n"
    }
   },
   "outputs": [
    {
     "data": {
      "text/html": [
       "<div>\n",
       "<style scoped>\n",
       "    .dataframe tbody tr th:only-of-type {\n",
       "        vertical-align: middle;\n",
       "    }\n",
       "\n",
       "    .dataframe tbody tr th {\n",
       "        vertical-align: top;\n",
       "    }\n",
       "\n",
       "    .dataframe thead th {\n",
       "        text-align: right;\n",
       "    }\n",
       "</style>\n",
       "<table border=\"1\" class=\"dataframe\">\n",
       "  <thead>\n",
       "    <tr style=\"text-align: right;\">\n",
       "      <th></th>\n",
       "      <th>job_titles</th>\n",
       "      <th>typical_hours</th>\n",
       "    </tr>\n",
       "  </thead>\n",
       "  <tbody>\n",
       "    <tr>\n",
       "      <th>6</th>\n",
       "      <td>TRAFFIC CONTROL AIDE-HOURLY</td>\n",
       "      <td>20.0</td>\n",
       "    </tr>\n",
       "    <tr>\n",
       "      <th>10</th>\n",
       "      <td>FOSTER GRANDPARENT</td>\n",
       "      <td>20.0</td>\n",
       "    </tr>\n",
       "    <tr>\n",
       "      <th>91</th>\n",
       "      <td>CROSSING GUARD</td>\n",
       "      <td>20.0</td>\n",
       "    </tr>\n",
       "    <tr>\n",
       "      <th>113</th>\n",
       "      <td>SENIOR COMPANION</td>\n",
       "      <td>20.0</td>\n",
       "    </tr>\n",
       "    <tr>\n",
       "      <th>125</th>\n",
       "      <td>TITLE V PROGRAM TRAINEE I</td>\n",
       "      <td>20.0</td>\n",
       "    </tr>\n",
       "  </tbody>\n",
       "</table>\n",
       "</div>"
      ],
      "text/plain": [
       "                      job_titles  typical_hours\n",
       "6    TRAFFIC CONTROL AIDE-HOURLY           20.0\n",
       "10            FOSTER GRANDPARENT           20.0\n",
       "91                CROSSING GUARD           20.0\n",
       "113             SENIOR COMPANION           20.0\n",
       "125    TITLE V PROGRAM TRAINEE I           20.0"
      ]
     },
     "execution_count": 9,
     "metadata": {},
     "output_type": "execute_result"
    }
   ],
   "source": [
    "df.loc[lambda df: df['typical_hours'] <= 20, lambda df: ['job_titles', 'typical_hours']].head()"
   ]
  },
  {
   "cell_type": "markdown",
   "metadata": {
    "pycharm": {
     "name": "#%% md\n"
    }
   },
   "source": [
    "### But why?\n",
    "OK, so this all seems kind of unnecessary because you could do this much more directly. Why write a separate function to provide another level of redirection?\n",
    "\n",
    "I have to admit that before writing this post, I don't think that I've used callable indexing much, if at all. But one use case where it's helpful is something that I do all the time. Maybe you do as well.\n",
    "\n",
    "Let's say we want to find departments with an average hourly pay rate below some threshold. Usually you'll do a group by followed by a selector on the resulting groupby ```DataFrame```."
   ]
  },
  {
   "cell_type": "code",
   "execution_count": 10,
   "metadata": {
    "pycharm": {
     "name": "#%%\n"
    }
   },
   "outputs": [
    {
     "data": {
      "text/html": [
       "<div>\n",
       "<style scoped>\n",
       "    .dataframe tbody tr th:only-of-type {\n",
       "        vertical-align: middle;\n",
       "    }\n",
       "\n",
       "    .dataframe tbody tr th {\n",
       "        vertical-align: top;\n",
       "    }\n",
       "\n",
       "    .dataframe thead th {\n",
       "        text-align: right;\n",
       "    }\n",
       "</style>\n",
       "<table border=\"1\" class=\"dataframe\">\n",
       "  <thead>\n",
       "    <tr style=\"text-align: right;\">\n",
       "      <th></th>\n",
       "      <th>annual_salary</th>\n",
       "      <th>typical_hours</th>\n",
       "      <th>hourly_rate</th>\n",
       "    </tr>\n",
       "    <tr>\n",
       "      <th>job_titles</th>\n",
       "      <th></th>\n",
       "      <th></th>\n",
       "      <th></th>\n",
       "    </tr>\n",
       "  </thead>\n",
       "  <tbody>\n",
       "    <tr>\n",
       "      <th>ALDERMANIC AIDE</th>\n",
       "      <td>41760.0</td>\n",
       "      <td>25.0</td>\n",
       "      <td>14.000</td>\n",
       "    </tr>\n",
       "    <tr>\n",
       "      <th>CROSSING GUARD - PER CBA</th>\n",
       "      <td>NaN</td>\n",
       "      <td>20.0</td>\n",
       "      <td>15.195</td>\n",
       "    </tr>\n",
       "    <tr>\n",
       "      <th>CUSTODIAL WORKER</th>\n",
       "      <td>NaN</td>\n",
       "      <td>40.0</td>\n",
       "      <td>19.200</td>\n",
       "    </tr>\n",
       "    <tr>\n",
       "      <th>FOSTER GRANDPARENT</th>\n",
       "      <td>NaN</td>\n",
       "      <td>20.0</td>\n",
       "      <td>3.000</td>\n",
       "    </tr>\n",
       "    <tr>\n",
       "      <th>HOSPITALITY WORKER</th>\n",
       "      <td>NaN</td>\n",
       "      <td>20.0</td>\n",
       "      <td>14.110</td>\n",
       "    </tr>\n",
       "    <tr>\n",
       "      <th>LAW CLERK</th>\n",
       "      <td>NaN</td>\n",
       "      <td>35.0</td>\n",
       "      <td>14.950</td>\n",
       "    </tr>\n",
       "    <tr>\n",
       "      <th>LIBRARY CLERK - HOURLY</th>\n",
       "      <td>NaN</td>\n",
       "      <td>20.0</td>\n",
       "      <td>18.010</td>\n",
       "    </tr>\n",
       "    <tr>\n",
       "      <th>LIBRARY PAGE</th>\n",
       "      <td>NaN</td>\n",
       "      <td>20.0</td>\n",
       "      <td>13.750</td>\n",
       "    </tr>\n",
       "    <tr>\n",
       "      <th>SENIOR COMPANION</th>\n",
       "      <td>NaN</td>\n",
       "      <td>20.0</td>\n",
       "      <td>3.000</td>\n",
       "    </tr>\n",
       "    <tr>\n",
       "      <th>STUDENT INTERN</th>\n",
       "      <td>NaN</td>\n",
       "      <td>35.0</td>\n",
       "      <td>16.000</td>\n",
       "    </tr>\n",
       "    <tr>\n",
       "      <th>STUDENT INTERN - ALDERMANIC</th>\n",
       "      <td>NaN</td>\n",
       "      <td>35.0</td>\n",
       "      <td>14.000</td>\n",
       "    </tr>\n",
       "    <tr>\n",
       "      <th>TITLE V PROGRAM TRAINEE I</th>\n",
       "      <td>NaN</td>\n",
       "      <td>20.0</td>\n",
       "      <td>13.000</td>\n",
       "    </tr>\n",
       "    <tr>\n",
       "      <th>TRAFFIC CONTROL AIDE-HOURLY</th>\n",
       "      <td>NaN</td>\n",
       "      <td>20.0</td>\n",
       "      <td>19.860</td>\n",
       "    </tr>\n",
       "  </tbody>\n",
       "</table>\n",
       "</div>"
      ],
      "text/plain": [
       "                             annual_salary  typical_hours  hourly_rate\n",
       "job_titles                                                            \n",
       "ALDERMANIC AIDE                    41760.0           25.0       14.000\n",
       "CROSSING GUARD - PER CBA               NaN           20.0       15.195\n",
       "CUSTODIAL WORKER                       NaN           40.0       19.200\n",
       "FOSTER GRANDPARENT                     NaN           20.0        3.000\n",
       "HOSPITALITY WORKER                     NaN           20.0       14.110\n",
       "LAW CLERK                              NaN           35.0       14.950\n",
       "LIBRARY CLERK - HOURLY                 NaN           20.0       18.010\n",
       "LIBRARY PAGE                           NaN           20.0       13.750\n",
       "SENIOR COMPANION                       NaN           20.0        3.000\n",
       "STUDENT INTERN                         NaN           35.0       16.000\n",
       "STUDENT INTERN - ALDERMANIC            NaN           35.0       14.000\n",
       "TITLE V PROGRAM TRAINEE I              NaN           20.0       13.000\n",
       "TRAFFIC CONTROL AIDE-HOURLY            NaN           20.0       19.860"
      ]
     },
     "execution_count": 10,
     "metadata": {},
     "output_type": "execute_result"
    }
   ],
   "source": [
    "temp = df.groupby('job_titles').mean()\n",
    "temp[temp['hourly_rate'] < 20]"
   ]
  },
  {
   "cell_type": "markdown",
   "metadata": {
    "pycharm": {
     "name": "#%% md\n"
    }
   },
   "source": [
    "But with a callable, you can do this without the temporary ```DataFrame``` variable."
   ]
  },
  {
   "cell_type": "code",
   "execution_count": 11,
   "metadata": {
    "pycharm": {
     "name": "#%%\n"
    }
   },
   "outputs": [
    {
     "data": {
      "text/html": [
       "<div>\n",
       "<style scoped>\n",
       "    .dataframe tbody tr th:only-of-type {\n",
       "        vertical-align: middle;\n",
       "    }\n",
       "\n",
       "    .dataframe tbody tr th {\n",
       "        vertical-align: top;\n",
       "    }\n",
       "\n",
       "    .dataframe thead th {\n",
       "        text-align: right;\n",
       "    }\n",
       "</style>\n",
       "<table border=\"1\" class=\"dataframe\">\n",
       "  <thead>\n",
       "    <tr style=\"text-align: right;\">\n",
       "      <th></th>\n",
       "      <th>annual_salary</th>\n",
       "      <th>typical_hours</th>\n",
       "      <th>hourly_rate</th>\n",
       "    </tr>\n",
       "    <tr>\n",
       "      <th>job_titles</th>\n",
       "      <th></th>\n",
       "      <th></th>\n",
       "      <th></th>\n",
       "    </tr>\n",
       "  </thead>\n",
       "  <tbody>\n",
       "    <tr>\n",
       "      <th>ALDERMANIC AIDE</th>\n",
       "      <td>41760.0</td>\n",
       "      <td>25.0</td>\n",
       "      <td>14.000</td>\n",
       "    </tr>\n",
       "    <tr>\n",
       "      <th>CROSSING GUARD - PER CBA</th>\n",
       "      <td>NaN</td>\n",
       "      <td>20.0</td>\n",
       "      <td>15.195</td>\n",
       "    </tr>\n",
       "    <tr>\n",
       "      <th>CUSTODIAL WORKER</th>\n",
       "      <td>NaN</td>\n",
       "      <td>40.0</td>\n",
       "      <td>19.200</td>\n",
       "    </tr>\n",
       "    <tr>\n",
       "      <th>FOSTER GRANDPARENT</th>\n",
       "      <td>NaN</td>\n",
       "      <td>20.0</td>\n",
       "      <td>3.000</td>\n",
       "    </tr>\n",
       "    <tr>\n",
       "      <th>HOSPITALITY WORKER</th>\n",
       "      <td>NaN</td>\n",
       "      <td>20.0</td>\n",
       "      <td>14.110</td>\n",
       "    </tr>\n",
       "    <tr>\n",
       "      <th>LAW CLERK</th>\n",
       "      <td>NaN</td>\n",
       "      <td>35.0</td>\n",
       "      <td>14.950</td>\n",
       "    </tr>\n",
       "    <tr>\n",
       "      <th>LIBRARY CLERK - HOURLY</th>\n",
       "      <td>NaN</td>\n",
       "      <td>20.0</td>\n",
       "      <td>18.010</td>\n",
       "    </tr>\n",
       "    <tr>\n",
       "      <th>LIBRARY PAGE</th>\n",
       "      <td>NaN</td>\n",
       "      <td>20.0</td>\n",
       "      <td>13.750</td>\n",
       "    </tr>\n",
       "    <tr>\n",
       "      <th>SENIOR COMPANION</th>\n",
       "      <td>NaN</td>\n",
       "      <td>20.0</td>\n",
       "      <td>3.000</td>\n",
       "    </tr>\n",
       "    <tr>\n",
       "      <th>STUDENT INTERN</th>\n",
       "      <td>NaN</td>\n",
       "      <td>35.0</td>\n",
       "      <td>16.000</td>\n",
       "    </tr>\n",
       "    <tr>\n",
       "      <th>STUDENT INTERN - ALDERMANIC</th>\n",
       "      <td>NaN</td>\n",
       "      <td>35.0</td>\n",
       "      <td>14.000</td>\n",
       "    </tr>\n",
       "    <tr>\n",
       "      <th>TITLE V PROGRAM TRAINEE I</th>\n",
       "      <td>NaN</td>\n",
       "      <td>20.0</td>\n",
       "      <td>13.000</td>\n",
       "    </tr>\n",
       "    <tr>\n",
       "      <th>TRAFFIC CONTROL AIDE-HOURLY</th>\n",
       "      <td>NaN</td>\n",
       "      <td>20.0</td>\n",
       "      <td>19.860</td>\n",
       "    </tr>\n",
       "  </tbody>\n",
       "</table>\n",
       "</div>"
      ],
      "text/plain": [
       "                             annual_salary  typical_hours  hourly_rate\n",
       "job_titles                                                            \n",
       "ALDERMANIC AIDE                    41760.0           25.0       14.000\n",
       "CROSSING GUARD - PER CBA               NaN           20.0       15.195\n",
       "CUSTODIAL WORKER                       NaN           40.0       19.200\n",
       "FOSTER GRANDPARENT                     NaN           20.0        3.000\n",
       "HOSPITALITY WORKER                     NaN           20.0       14.110\n",
       "LAW CLERK                              NaN           35.0       14.950\n",
       "LIBRARY CLERK - HOURLY                 NaN           20.0       18.010\n",
       "LIBRARY PAGE                           NaN           20.0       13.750\n",
       "SENIOR COMPANION                       NaN           20.0        3.000\n",
       "STUDENT INTERN                         NaN           35.0       16.000\n",
       "STUDENT INTERN - ALDERMANIC            NaN           35.0       14.000\n",
       "TITLE V PROGRAM TRAINEE I              NaN           20.0       13.000\n",
       "TRAFFIC CONTROL AIDE-HOURLY            NaN           20.0       19.860"
      ]
     },
     "execution_count": 11,
     "metadata": {},
     "output_type": "execute_result"
    }
   ],
   "source": [
    "df.groupby('job_titles').mean().loc[lambda df: df['hourly_rate'] < 20]"
   ]
  },
  {
   "cell_type": "markdown",
   "metadata": {
    "pycharm": {
     "name": "#%% md\n"
    }
   },
   "source": [
    "One thing to note is that there's nothing special about these callables. They still have to return the correct values for the selector you are choosing to use. So for example, you can do this using ```loc```:"
   ]
  },
  {
   "cell_type": "code",
   "execution_count": 12,
   "metadata": {
    "pycharm": {
     "name": "#%%\n"
    }
   },
   "outputs": [
    {
     "data": {
      "text/html": [
       "<div>\n",
       "<style scoped>\n",
       "    .dataframe tbody tr th:only-of-type {\n",
       "        vertical-align: middle;\n",
       "    }\n",
       "\n",
       "    .dataframe tbody tr th {\n",
       "        vertical-align: top;\n",
       "    }\n",
       "\n",
       "    .dataframe thead th {\n",
       "        text-align: right;\n",
       "    }\n",
       "</style>\n",
       "<table border=\"1\" class=\"dataframe\">\n",
       "  <thead>\n",
       "    <tr style=\"text-align: right;\">\n",
       "      <th></th>\n",
       "      <th>job_titles</th>\n",
       "      <th>department</th>\n",
       "      <th>full_or_part_time</th>\n",
       "      <th>salary_or_hourly</th>\n",
       "      <th>annual_salary</th>\n",
       "      <th>typical_hours</th>\n",
       "      <th>hourly_rate</th>\n",
       "    </tr>\n",
       "  </thead>\n",
       "  <tbody>\n",
       "    <tr>\n",
       "      <th>124</th>\n",
       "      <td>STUDENT INTERN - ALDERMANIC</td>\n",
       "      <td>CITY COUNCIL</td>\n",
       "      <td>F</td>\n",
       "      <td>Hourly</td>\n",
       "      <td>NaN</td>\n",
       "      <td>35.0</td>\n",
       "      <td>14.0</td>\n",
       "    </tr>\n",
       "    <tr>\n",
       "      <th>175</th>\n",
       "      <td>LEGISLATIVE AIDE</td>\n",
       "      <td>CITY COUNCIL</td>\n",
       "      <td>F</td>\n",
       "      <td>Salary</td>\n",
       "      <td>20568.0</td>\n",
       "      <td>NaN</td>\n",
       "      <td>NaN</td>\n",
       "    </tr>\n",
       "    <tr>\n",
       "      <th>220</th>\n",
       "      <td>ALDERMANIC AIDE</td>\n",
       "      <td>CITY COUNCIL</td>\n",
       "      <td>F</td>\n",
       "      <td>Salary</td>\n",
       "      <td>47520.0</td>\n",
       "      <td>NaN</td>\n",
       "      <td>NaN</td>\n",
       "    </tr>\n",
       "    <tr>\n",
       "      <th>365</th>\n",
       "      <td>STUDENT INTERN - ALDERMANIC</td>\n",
       "      <td>CITY COUNCIL</td>\n",
       "      <td>F</td>\n",
       "      <td>Hourly</td>\n",
       "      <td>NaN</td>\n",
       "      <td>35.0</td>\n",
       "      <td>14.0</td>\n",
       "    </tr>\n",
       "    <tr>\n",
       "      <th>400</th>\n",
       "      <td>STUDENT INTERN - ALDERMANIC</td>\n",
       "      <td>CITY COUNCIL</td>\n",
       "      <td>F</td>\n",
       "      <td>Hourly</td>\n",
       "      <td>NaN</td>\n",
       "      <td>35.0</td>\n",
       "      <td>14.0</td>\n",
       "    </tr>\n",
       "    <tr>\n",
       "      <th>480</th>\n",
       "      <td>ALDERMANIC AIDE</td>\n",
       "      <td>CITY COUNCIL</td>\n",
       "      <td>P</td>\n",
       "      <td>Hourly</td>\n",
       "      <td>NaN</td>\n",
       "      <td>20.0</td>\n",
       "      <td>15.0</td>\n",
       "    </tr>\n",
       "    <tr>\n",
       "      <th>522</th>\n",
       "      <td>ASST TO THE ALDERMAN</td>\n",
       "      <td>CITY COUNCIL</td>\n",
       "      <td>F</td>\n",
       "      <td>Salary</td>\n",
       "      <td>90000.0</td>\n",
       "      <td>NaN</td>\n",
       "      <td>NaN</td>\n",
       "    </tr>\n",
       "    <tr>\n",
       "      <th>689</th>\n",
       "      <td>ALDERMANIC AIDE</td>\n",
       "      <td>CITY COUNCIL</td>\n",
       "      <td>P</td>\n",
       "      <td>Hourly</td>\n",
       "      <td>NaN</td>\n",
       "      <td>20.0</td>\n",
       "      <td>15.0</td>\n",
       "    </tr>\n",
       "    <tr>\n",
       "      <th>862</th>\n",
       "      <td>ASST TO THE ALDERMAN</td>\n",
       "      <td>CITY COUNCIL</td>\n",
       "      <td>F</td>\n",
       "      <td>Salary</td>\n",
       "      <td>65160.0</td>\n",
       "      <td>NaN</td>\n",
       "      <td>NaN</td>\n",
       "    </tr>\n",
       "    <tr>\n",
       "      <th>923</th>\n",
       "      <td>STAFF ASST TO THE ALDERMAN</td>\n",
       "      <td>CITY COUNCIL</td>\n",
       "      <td>F</td>\n",
       "      <td>Salary</td>\n",
       "      <td>60228.0</td>\n",
       "      <td>NaN</td>\n",
       "      <td>NaN</td>\n",
       "    </tr>\n",
       "    <tr>\n",
       "      <th>953</th>\n",
       "      <td>ALDERMANIC AIDE</td>\n",
       "      <td>CITY COUNCIL</td>\n",
       "      <td>F</td>\n",
       "      <td>Salary</td>\n",
       "      <td>36000.0</td>\n",
       "      <td>NaN</td>\n",
       "      <td>NaN</td>\n",
       "    </tr>\n",
       "    <tr>\n",
       "      <th>959</th>\n",
       "      <td>ALDERMANIC AIDE</td>\n",
       "      <td>CITY COUNCIL</td>\n",
       "      <td>P</td>\n",
       "      <td>Hourly</td>\n",
       "      <td>NaN</td>\n",
       "      <td>35.0</td>\n",
       "      <td>12.0</td>\n",
       "    </tr>\n",
       "  </tbody>\n",
       "</table>\n",
       "</div>"
      ],
      "text/plain": [
       "                      job_titles    department full_or_part_time  \\\n",
       "124  STUDENT INTERN - ALDERMANIC  CITY COUNCIL                 F   \n",
       "175             LEGISLATIVE AIDE  CITY COUNCIL                 F   \n",
       "220              ALDERMANIC AIDE  CITY COUNCIL                 F   \n",
       "365  STUDENT INTERN - ALDERMANIC  CITY COUNCIL                 F   \n",
       "400  STUDENT INTERN - ALDERMANIC  CITY COUNCIL                 F   \n",
       "480              ALDERMANIC AIDE  CITY COUNCIL                 P   \n",
       "522         ASST TO THE ALDERMAN  CITY COUNCIL                 F   \n",
       "689              ALDERMANIC AIDE  CITY COUNCIL                 P   \n",
       "862         ASST TO THE ALDERMAN  CITY COUNCIL                 F   \n",
       "923   STAFF ASST TO THE ALDERMAN  CITY COUNCIL                 F   \n",
       "953              ALDERMANIC AIDE  CITY COUNCIL                 F   \n",
       "959              ALDERMANIC AIDE  CITY COUNCIL                 P   \n",
       "\n",
       "    salary_or_hourly  annual_salary  typical_hours  hourly_rate  \n",
       "124           Hourly            NaN           35.0         14.0  \n",
       "175           Salary        20568.0            NaN          NaN  \n",
       "220           Salary        47520.0            NaN          NaN  \n",
       "365           Hourly            NaN           35.0         14.0  \n",
       "400           Hourly            NaN           35.0         14.0  \n",
       "480           Hourly            NaN           20.0         15.0  \n",
       "522           Salary        90000.0            NaN          NaN  \n",
       "689           Hourly            NaN           20.0         15.0  \n",
       "862           Salary        65160.0            NaN          NaN  \n",
       "923           Salary        60228.0            NaN          NaN  \n",
       "953           Salary        36000.0            NaN          NaN  \n",
       "959           Hourly            NaN           35.0         12.0  "
      ]
     },
     "execution_count": 12,
     "metadata": {},
     "output_type": "execute_result"
    }
   ],
   "source": [
    "df.loc[lambda df: df['department'] == 'CITY COUNCIL']"
   ]
  },
  {
   "cell_type": "markdown",
   "metadata": {
    "pycharm": {
     "name": "#%% md\n"
    }
   },
   "source": [
    "But you can't do this, because ```.iloc``` requires a boolean vector without an index (as we talked about in [the post on boolean indexing](https://www.wrighters.io/2021/01/04/boolean-indexing-in-pandas/)."
   ]
  },
  {
   "cell_type": "code",
   "execution_count": 13,
   "metadata": {
    "pycharm": {
     "name": "#%%\n"
    }
   },
   "outputs": [
    {
     "name": "stdout",
     "output_type": "stream",
     "text": [
      "iLocation based boolean indexing on an integer type is not available\n"
     ]
    },
    {
     "data": {
      "text/html": [
       "<div>\n",
       "<style scoped>\n",
       "    .dataframe tbody tr th:only-of-type {\n",
       "        vertical-align: middle;\n",
       "    }\n",
       "\n",
       "    .dataframe tbody tr th {\n",
       "        vertical-align: top;\n",
       "    }\n",
       "\n",
       "    .dataframe thead th {\n",
       "        text-align: right;\n",
       "    }\n",
       "</style>\n",
       "<table border=\"1\" class=\"dataframe\">\n",
       "  <thead>\n",
       "    <tr style=\"text-align: right;\">\n",
       "      <th></th>\n",
       "      <th>job_titles</th>\n",
       "      <th>department</th>\n",
       "      <th>full_or_part_time</th>\n",
       "      <th>salary_or_hourly</th>\n",
       "      <th>annual_salary</th>\n",
       "      <th>typical_hours</th>\n",
       "      <th>hourly_rate</th>\n",
       "    </tr>\n",
       "  </thead>\n",
       "  <tbody>\n",
       "    <tr>\n",
       "      <th>124</th>\n",
       "      <td>STUDENT INTERN - ALDERMANIC</td>\n",
       "      <td>CITY COUNCIL</td>\n",
       "      <td>F</td>\n",
       "      <td>Hourly</td>\n",
       "      <td>NaN</td>\n",
       "      <td>35.0</td>\n",
       "      <td>14.0</td>\n",
       "    </tr>\n",
       "    <tr>\n",
       "      <th>175</th>\n",
       "      <td>LEGISLATIVE AIDE</td>\n",
       "      <td>CITY COUNCIL</td>\n",
       "      <td>F</td>\n",
       "      <td>Salary</td>\n",
       "      <td>20568.0</td>\n",
       "      <td>NaN</td>\n",
       "      <td>NaN</td>\n",
       "    </tr>\n",
       "    <tr>\n",
       "      <th>220</th>\n",
       "      <td>ALDERMANIC AIDE</td>\n",
       "      <td>CITY COUNCIL</td>\n",
       "      <td>F</td>\n",
       "      <td>Salary</td>\n",
       "      <td>47520.0</td>\n",
       "      <td>NaN</td>\n",
       "      <td>NaN</td>\n",
       "    </tr>\n",
       "    <tr>\n",
       "      <th>365</th>\n",
       "      <td>STUDENT INTERN - ALDERMANIC</td>\n",
       "      <td>CITY COUNCIL</td>\n",
       "      <td>F</td>\n",
       "      <td>Hourly</td>\n",
       "      <td>NaN</td>\n",
       "      <td>35.0</td>\n",
       "      <td>14.0</td>\n",
       "    </tr>\n",
       "    <tr>\n",
       "      <th>400</th>\n",
       "      <td>STUDENT INTERN - ALDERMANIC</td>\n",
       "      <td>CITY COUNCIL</td>\n",
       "      <td>F</td>\n",
       "      <td>Hourly</td>\n",
       "      <td>NaN</td>\n",
       "      <td>35.0</td>\n",
       "      <td>14.0</td>\n",
       "    </tr>\n",
       "    <tr>\n",
       "      <th>480</th>\n",
       "      <td>ALDERMANIC AIDE</td>\n",
       "      <td>CITY COUNCIL</td>\n",
       "      <td>P</td>\n",
       "      <td>Hourly</td>\n",
       "      <td>NaN</td>\n",
       "      <td>20.0</td>\n",
       "      <td>15.0</td>\n",
       "    </tr>\n",
       "    <tr>\n",
       "      <th>522</th>\n",
       "      <td>ASST TO THE ALDERMAN</td>\n",
       "      <td>CITY COUNCIL</td>\n",
       "      <td>F</td>\n",
       "      <td>Salary</td>\n",
       "      <td>90000.0</td>\n",
       "      <td>NaN</td>\n",
       "      <td>NaN</td>\n",
       "    </tr>\n",
       "    <tr>\n",
       "      <th>689</th>\n",
       "      <td>ALDERMANIC AIDE</td>\n",
       "      <td>CITY COUNCIL</td>\n",
       "      <td>P</td>\n",
       "      <td>Hourly</td>\n",
       "      <td>NaN</td>\n",
       "      <td>20.0</td>\n",
       "      <td>15.0</td>\n",
       "    </tr>\n",
       "    <tr>\n",
       "      <th>862</th>\n",
       "      <td>ASST TO THE ALDERMAN</td>\n",
       "      <td>CITY COUNCIL</td>\n",
       "      <td>F</td>\n",
       "      <td>Salary</td>\n",
       "      <td>65160.0</td>\n",
       "      <td>NaN</td>\n",
       "      <td>NaN</td>\n",
       "    </tr>\n",
       "    <tr>\n",
       "      <th>923</th>\n",
       "      <td>STAFF ASST TO THE ALDERMAN</td>\n",
       "      <td>CITY COUNCIL</td>\n",
       "      <td>F</td>\n",
       "      <td>Salary</td>\n",
       "      <td>60228.0</td>\n",
       "      <td>NaN</td>\n",
       "      <td>NaN</td>\n",
       "    </tr>\n",
       "    <tr>\n",
       "      <th>953</th>\n",
       "      <td>ALDERMANIC AIDE</td>\n",
       "      <td>CITY COUNCIL</td>\n",
       "      <td>F</td>\n",
       "      <td>Salary</td>\n",
       "      <td>36000.0</td>\n",
       "      <td>NaN</td>\n",
       "      <td>NaN</td>\n",
       "    </tr>\n",
       "    <tr>\n",
       "      <th>959</th>\n",
       "      <td>ALDERMANIC AIDE</td>\n",
       "      <td>CITY COUNCIL</td>\n",
       "      <td>P</td>\n",
       "      <td>Hourly</td>\n",
       "      <td>NaN</td>\n",
       "      <td>35.0</td>\n",
       "      <td>12.0</td>\n",
       "    </tr>\n",
       "  </tbody>\n",
       "</table>\n",
       "</div>"
      ],
      "text/plain": [
       "                      job_titles    department full_or_part_time  \\\n",
       "124  STUDENT INTERN - ALDERMANIC  CITY COUNCIL                 F   \n",
       "175             LEGISLATIVE AIDE  CITY COUNCIL                 F   \n",
       "220              ALDERMANIC AIDE  CITY COUNCIL                 F   \n",
       "365  STUDENT INTERN - ALDERMANIC  CITY COUNCIL                 F   \n",
       "400  STUDENT INTERN - ALDERMANIC  CITY COUNCIL                 F   \n",
       "480              ALDERMANIC AIDE  CITY COUNCIL                 P   \n",
       "522         ASST TO THE ALDERMAN  CITY COUNCIL                 F   \n",
       "689              ALDERMANIC AIDE  CITY COUNCIL                 P   \n",
       "862         ASST TO THE ALDERMAN  CITY COUNCIL                 F   \n",
       "923   STAFF ASST TO THE ALDERMAN  CITY COUNCIL                 F   \n",
       "953              ALDERMANIC AIDE  CITY COUNCIL                 F   \n",
       "959              ALDERMANIC AIDE  CITY COUNCIL                 P   \n",
       "\n",
       "    salary_or_hourly  annual_salary  typical_hours  hourly_rate  \n",
       "124           Hourly            NaN           35.0         14.0  \n",
       "175           Salary        20568.0            NaN          NaN  \n",
       "220           Salary        47520.0            NaN          NaN  \n",
       "365           Hourly            NaN           35.0         14.0  \n",
       "400           Hourly            NaN           35.0         14.0  \n",
       "480           Hourly            NaN           20.0         15.0  \n",
       "522           Salary        90000.0            NaN          NaN  \n",
       "689           Hourly            NaN           20.0         15.0  \n",
       "862           Salary        65160.0            NaN          NaN  \n",
       "923           Salary        60228.0            NaN          NaN  \n",
       "953           Salary        36000.0            NaN          NaN  \n",
       "959           Hourly            NaN           35.0         12.0  "
      ]
     },
     "execution_count": 13,
     "metadata": {},
     "output_type": "execute_result"
    }
   ],
   "source": [
    "try:\n",
    "    df.iloc[lambda df: df['department'] == 'CITY COUNCIL']\n",
    "except NotImplementedError as nie:\n",
    "    print(nie)\n",
    "    \n",
    "    \n",
    "# instead, return just the boolean vector\n",
    "df.iloc[lambda df: (df['department'] == 'CITY COUNCIL').to_numpy()]\n",
    "# or \n",
    "df.iloc[lambda df: (df['department'] == 'CITY COUNCIL').values]\n"
   ]
  },
  {
   "cell_type": "markdown",
   "metadata": {
    "pycharm": {
     "name": "#%% md\n"
    }
   },
   "source": [
    "Also, while I've used the ```DataFrame``` for all these examples, this works in ```Series``` as well."
   ]
  },
  {
   "cell_type": "code",
   "execution_count": 14,
   "metadata": {
    "pycharm": {
     "name": "#%%\n"
    }
   },
   "outputs": [
    {
     "data": {
      "text/plain": [
       "175    20568.0\n",
       "Name: annual_salary, dtype: float64"
      ]
     },
     "execution_count": 14,
     "metadata": {},
     "output_type": "execute_result"
    }
   ],
   "source": [
    "s = df['annual_salary']\n",
    "\n",
    "s[lambda s: s < 30000]"
   ]
  },
  {
   "cell_type": "markdown",
   "metadata": {
    "pycharm": {
     "name": "#%% md\n"
    }
   },
   "source": [
    "In summary, indexing with a callable allows some flexibity for condensing some code that would otherwise require temporary variables. The thing to remember about the callable is that it will need to return a result that is acceptable in the same place as the callable. \n",
    "\n",
    "I hope you'll stay tuned for future updates. I'll plan to talk about the ```.where``` method of selection next."
   ]
  }
 ],
 "metadata": {
  "kernelspec": {
   "display_name": "Python 3",
   "language": "python",
   "name": "python3"
  },
  "language_info": {
   "codemirror_mode": {
    "name": "ipython",
    "version": 3
   },
   "file_extension": ".py",
   "mimetype": "text/x-python",
   "name": "python",
   "nbconvert_exporter": "python",
   "pygments_lexer": "ipython3",
   "version": "3.8.6"
  }
 },
 "nbformat": 4,
 "nbformat_minor": 4
}
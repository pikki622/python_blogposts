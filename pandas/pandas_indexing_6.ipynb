{
 "cells": [
  {
   "cell_type": "markdown",
   "metadata": {},
   "source": [
    "# Selection in pandas using ```query```.\n",
    "\n",
    "Now for something a little different. \n",
    "\n",
    "This is the sixth post in a series on indexing and selecting in pandas, and so far we have covered concepts about indexing and selecting data in both pandas ```Series``` and ```DataFrame```s using concepts like slicing, boolean indexing, and familiar python concepts like callables. This post will cover the details behind the ```query``` method and requires a little more background and explanation. In the end, you'll see how it's useful and how it can help speed up your calculations.\n",
    "\n",
    "Before we dive in, if you are jumping in the middle and want to get caught up, here's what has been discussed so far:\n",
    "\n",
    " * [Basic indexing, selecting by label and location](https://www.wrighters.io/indexing-and-selecting-in-pandas-part-1/)\n",
    " * [Slicing in pandas](https://www.wrighters.io/indexing-and-selecting-in-pandas-slicing/)\n",
    " * [Selecting by boolean indexing](https://www.wrighters.io/boolean-indexing-in-pandas/)\n",
    " * [Selecting by callable](https://www.wrighters.io/indexing-and-selecting-in-pandas-by-callable/)\n",
    " * [Selecting using where and mask](https://www.wrighters.io/selecting-in-pandas-using-where-and-mask/)\n",
    "\n",
    "\n",
    "In pandas, ```DataFrame```s have a ```query``` method that supports selection using an expression as a string. One way to think about this (and a natural way to think about it due to its name and basic functionality) is that it can sort of be like SQL. But I'm not sure that's a great way to think about it, for a couple of reasons. First, it is limited in the language it supports (i.e. don't count on writing queries with complex joins or group by expressions). Second, the purpose of this expression is not just to give you a simple query language for selecting data, but to speed up expressions.\n",
    "\n",
    "That being said, using query does offer a number of advantages, with a few complications, which we will cover.\n",
    "\n",
    "Let's start with a few examples of what an expression in ```query``` might look like."
   ]
  },
  {
   "cell_type": "code",
   "execution_count": 1,
   "metadata": {},
   "outputs": [],
   "source": [
    "import pandas as pd\n",
    "import numpy as np\n",
    "\n",
    "# create a sample dataframe of floating points around 0\n",
    "df = pd.DataFrame(np.random.random((5,5)) - .5, columns=list(\"abcde\"))"
   ]
  },
  {
   "cell_type": "code",
   "execution_count": 2,
   "metadata": {},
   "outputs": [
    {
     "data": {
      "text/html": [
       "<div>\n",
       "<style scoped>\n",
       "    .dataframe tbody tr th:only-of-type {\n",
       "        vertical-align: middle;\n",
       "    }\n",
       "\n",
       "    .dataframe tbody tr th {\n",
       "        vertical-align: top;\n",
       "    }\n",
       "\n",
       "    .dataframe thead th {\n",
       "        text-align: right;\n",
       "    }\n",
       "</style>\n",
       "<table border=\"1\" class=\"dataframe\">\n",
       "  <thead>\n",
       "    <tr style=\"text-align: right;\">\n",
       "      <th></th>\n",
       "      <th>a</th>\n",
       "      <th>b</th>\n",
       "      <th>c</th>\n",
       "      <th>d</th>\n",
       "      <th>e</th>\n",
       "    </tr>\n",
       "  </thead>\n",
       "  <tbody>\n",
       "    <tr>\n",
       "      <th>0</th>\n",
       "      <td>0.367389</td>\n",
       "      <td>0.018962</td>\n",
       "      <td>-0.106435</td>\n",
       "      <td>0.397229</td>\n",
       "      <td>-0.237226</td>\n",
       "    </tr>\n",
       "    <tr>\n",
       "      <th>1</th>\n",
       "      <td>0.016208</td>\n",
       "      <td>-0.151215</td>\n",
       "      <td>-0.465317</td>\n",
       "      <td>-0.295572</td>\n",
       "      <td>-0.153494</td>\n",
       "    </tr>\n",
       "    <tr>\n",
       "      <th>2</th>\n",
       "      <td>0.391743</td>\n",
       "      <td>-0.013441</td>\n",
       "      <td>-0.125635</td>\n",
       "      <td>0.137689</td>\n",
       "      <td>-0.152479</td>\n",
       "    </tr>\n",
       "    <tr>\n",
       "      <th>3</th>\n",
       "      <td>-0.488314</td>\n",
       "      <td>-0.303783</td>\n",
       "      <td>0.457164</td>\n",
       "      <td>0.447945</td>\n",
       "      <td>-0.054434</td>\n",
       "    </tr>\n",
       "    <tr>\n",
       "      <th>4</th>\n",
       "      <td>-0.475356</td>\n",
       "      <td>-0.095161</td>\n",
       "      <td>-0.484103</td>\n",
       "      <td>-0.055500</td>\n",
       "      <td>0.035111</td>\n",
       "    </tr>\n",
       "  </tbody>\n",
       "</table>\n",
       "</div>"
      ],
      "text/plain": [
       "          a         b         c         d         e\n",
       "0  0.367389  0.018962 -0.106435  0.397229 -0.237226\n",
       "1  0.016208 -0.151215 -0.465317 -0.295572 -0.153494\n",
       "2  0.391743 -0.013441 -0.125635  0.137689 -0.152479\n",
       "3 -0.488314 -0.303783  0.457164  0.447945 -0.054434\n",
       "4 -0.475356 -0.095161 -0.484103 -0.055500  0.035111"
      ]
     },
     "execution_count": 2,
     "metadata": {},
     "output_type": "execute_result"
    }
   ],
   "source": [
    "df"
   ]
  },
  {
   "cell_type": "markdown",
   "metadata": {},
   "source": [
    "### This is still boolean indexing\n",
    "If you look back on the [post on boolean indexing](https://www.wrighters.io/boolean-indexing-in-pandas/), you remember that to select rows in a ```DataFrame``` using any of the indexing methods, you can pass in a boolean vector the same size as the ```DataFrame``` index. So, if we want to select all rows in our ```DataFrame``` where the value in column ```b``` is negative, we pass in a boolean array created by applying the less than (```<```) operation to the column."
   ]
  },
  {
   "cell_type": "code",
   "execution_count": 3,
   "metadata": {},
   "outputs": [
    {
     "data": {
      "text/html": [
       "<div>\n",
       "<style scoped>\n",
       "    .dataframe tbody tr th:only-of-type {\n",
       "        vertical-align: middle;\n",
       "    }\n",
       "\n",
       "    .dataframe tbody tr th {\n",
       "        vertical-align: top;\n",
       "    }\n",
       "\n",
       "    .dataframe thead th {\n",
       "        text-align: right;\n",
       "    }\n",
       "</style>\n",
       "<table border=\"1\" class=\"dataframe\">\n",
       "  <thead>\n",
       "    <tr style=\"text-align: right;\">\n",
       "      <th></th>\n",
       "      <th>a</th>\n",
       "      <th>b</th>\n",
       "      <th>c</th>\n",
       "      <th>d</th>\n",
       "      <th>e</th>\n",
       "    </tr>\n",
       "  </thead>\n",
       "  <tbody>\n",
       "    <tr>\n",
       "      <th>1</th>\n",
       "      <td>0.016208</td>\n",
       "      <td>-0.151215</td>\n",
       "      <td>-0.465317</td>\n",
       "      <td>-0.295572</td>\n",
       "      <td>-0.153494</td>\n",
       "    </tr>\n",
       "    <tr>\n",
       "      <th>2</th>\n",
       "      <td>0.391743</td>\n",
       "      <td>-0.013441</td>\n",
       "      <td>-0.125635</td>\n",
       "      <td>0.137689</td>\n",
       "      <td>-0.152479</td>\n",
       "    </tr>\n",
       "    <tr>\n",
       "      <th>3</th>\n",
       "      <td>-0.488314</td>\n",
       "      <td>-0.303783</td>\n",
       "      <td>0.457164</td>\n",
       "      <td>0.447945</td>\n",
       "      <td>-0.054434</td>\n",
       "    </tr>\n",
       "    <tr>\n",
       "      <th>4</th>\n",
       "      <td>-0.475356</td>\n",
       "      <td>-0.095161</td>\n",
       "      <td>-0.484103</td>\n",
       "      <td>-0.055500</td>\n",
       "      <td>0.035111</td>\n",
       "    </tr>\n",
       "  </tbody>\n",
       "</table>\n",
       "</div>"
      ],
      "text/plain": [
       "          a         b         c         d         e\n",
       "1  0.016208 -0.151215 -0.465317 -0.295572 -0.153494\n",
       "2  0.391743 -0.013441 -0.125635  0.137689 -0.152479\n",
       "3 -0.488314 -0.303783  0.457164  0.447945 -0.054434\n",
       "4 -0.475356 -0.095161 -0.484103 -0.055500  0.035111"
      ]
     },
     "execution_count": 3,
     "metadata": {},
     "output_type": "execute_result"
    }
   ],
   "source": [
    "df[df[\"b\"] < 0]"
   ]
  },
  {
   "cell_type": "markdown",
   "metadata": {},
   "source": [
    "The ```query``` method is similar. It takes an expression, which is evaluated in the context of the ```DataFrame```, and that expression returns a boolean value used for selection. So we can write the same selection like this:"
   ]
  },
  {
   "cell_type": "code",
   "execution_count": 4,
   "metadata": {},
   "outputs": [
    {
     "data": {
      "text/html": [
       "<div>\n",
       "<style scoped>\n",
       "    .dataframe tbody tr th:only-of-type {\n",
       "        vertical-align: middle;\n",
       "    }\n",
       "\n",
       "    .dataframe tbody tr th {\n",
       "        vertical-align: top;\n",
       "    }\n",
       "\n",
       "    .dataframe thead th {\n",
       "        text-align: right;\n",
       "    }\n",
       "</style>\n",
       "<table border=\"1\" class=\"dataframe\">\n",
       "  <thead>\n",
       "    <tr style=\"text-align: right;\">\n",
       "      <th></th>\n",
       "      <th>a</th>\n",
       "      <th>b</th>\n",
       "      <th>c</th>\n",
       "      <th>d</th>\n",
       "      <th>e</th>\n",
       "    </tr>\n",
       "  </thead>\n",
       "  <tbody>\n",
       "    <tr>\n",
       "      <th>1</th>\n",
       "      <td>0.016208</td>\n",
       "      <td>-0.151215</td>\n",
       "      <td>-0.465317</td>\n",
       "      <td>-0.295572</td>\n",
       "      <td>-0.153494</td>\n",
       "    </tr>\n",
       "    <tr>\n",
       "      <th>2</th>\n",
       "      <td>0.391743</td>\n",
       "      <td>-0.013441</td>\n",
       "      <td>-0.125635</td>\n",
       "      <td>0.137689</td>\n",
       "      <td>-0.152479</td>\n",
       "    </tr>\n",
       "    <tr>\n",
       "      <th>3</th>\n",
       "      <td>-0.488314</td>\n",
       "      <td>-0.303783</td>\n",
       "      <td>0.457164</td>\n",
       "      <td>0.447945</td>\n",
       "      <td>-0.054434</td>\n",
       "    </tr>\n",
       "    <tr>\n",
       "      <th>4</th>\n",
       "      <td>-0.475356</td>\n",
       "      <td>-0.095161</td>\n",
       "      <td>-0.484103</td>\n",
       "      <td>-0.055500</td>\n",
       "      <td>0.035111</td>\n",
       "    </tr>\n",
       "  </tbody>\n",
       "</table>\n",
       "</div>"
      ],
      "text/plain": [
       "          a         b         c         d         e\n",
       "1  0.016208 -0.151215 -0.465317 -0.295572 -0.153494\n",
       "2  0.391743 -0.013441 -0.125635  0.137689 -0.152479\n",
       "3 -0.488314 -0.303783  0.457164  0.447945 -0.054434\n",
       "4 -0.475356 -0.095161 -0.484103 -0.055500  0.035111"
      ]
     },
     "execution_count": 4,
     "metadata": {},
     "output_type": "execute_result"
    }
   ],
   "source": [
    "df.query(\"b < 0\")"
   ]
  },
  {
   "cell_type": "markdown",
   "metadata": {},
   "source": [
    "More complex expressions can be expressed much simpler. For example, to select rows where column ```b``` is less than column ```c``` *and* column ```c``` is less than column ```e```, we need to use a fair amount of parentheses and repeat our ```df``` variable in order to have it parse properly."
   ]
  },
  {
   "cell_type": "code",
   "execution_count": 5,
   "metadata": {},
   "outputs": [
    {
     "data": {
      "text/html": [
       "<div>\n",
       "<style scoped>\n",
       "    .dataframe tbody tr th:only-of-type {\n",
       "        vertical-align: middle;\n",
       "    }\n",
       "\n",
       "    .dataframe tbody tr th {\n",
       "        vertical-align: top;\n",
       "    }\n",
       "\n",
       "    .dataframe thead th {\n",
       "        text-align: right;\n",
       "    }\n",
       "</style>\n",
       "<table border=\"1\" class=\"dataframe\">\n",
       "  <thead>\n",
       "    <tr style=\"text-align: right;\">\n",
       "      <th></th>\n",
       "      <th>a</th>\n",
       "      <th>b</th>\n",
       "      <th>c</th>\n",
       "      <th>d</th>\n",
       "      <th>e</th>\n",
       "    </tr>\n",
       "  </thead>\n",
       "  <tbody>\n",
       "  </tbody>\n",
       "</table>\n",
       "</div>"
      ],
      "text/plain": [
       "Empty DataFrame\n",
       "Columns: [a, b, c, d, e]\n",
       "Index: []"
      ]
     },
     "execution_count": 5,
     "metadata": {},
     "output_type": "execute_result"
    }
   ],
   "source": [
    "df[(df[\"b\"] < df[\"c\"]) & (df[\"c\"] < df[\"e\"])]"
   ]
  },
  {
   "cell_type": "markdown",
   "metadata": {},
   "source": [
    "Using ```query```, this can be written in a much more elegant way. For combining and modifying expressions, you can use ```&``` and ```|``` and ```~```, or ```and``` and ```or``` and ```not```."
   ]
  },
  {
   "cell_type": "code",
   "execution_count": 6,
   "metadata": {},
   "outputs": [
    {
     "data": {
      "text/html": [
       "<div>\n",
       "<style scoped>\n",
       "    .dataframe tbody tr th:only-of-type {\n",
       "        vertical-align: middle;\n",
       "    }\n",
       "\n",
       "    .dataframe tbody tr th {\n",
       "        vertical-align: top;\n",
       "    }\n",
       "\n",
       "    .dataframe thead th {\n",
       "        text-align: right;\n",
       "    }\n",
       "</style>\n",
       "<table border=\"1\" class=\"dataframe\">\n",
       "  <thead>\n",
       "    <tr style=\"text-align: right;\">\n",
       "      <th></th>\n",
       "      <th>a</th>\n",
       "      <th>b</th>\n",
       "      <th>c</th>\n",
       "      <th>d</th>\n",
       "      <th>e</th>\n",
       "    </tr>\n",
       "  </thead>\n",
       "  <tbody>\n",
       "  </tbody>\n",
       "</table>\n",
       "</div>"
      ],
      "text/plain": [
       "Empty DataFrame\n",
       "Columns: [a, b, c, d, e]\n",
       "Index: []"
      ]
     },
     "execution_count": 6,
     "metadata": {},
     "output_type": "execute_result"
    }
   ],
   "source": [
    "df.query(\"(b < c) & (c < e)\")\n",
    "df.query(\"(b < c) and (c < e)\")"
   ]
  },
  {
   "cell_type": "markdown",
   "metadata": {},
   "source": [
    "Or even better"
   ]
  },
  {
   "cell_type": "code",
   "execution_count": 7,
   "metadata": {},
   "outputs": [
    {
     "data": {
      "text/html": [
       "<div>\n",
       "<style scoped>\n",
       "    .dataframe tbody tr th:only-of-type {\n",
       "        vertical-align: middle;\n",
       "    }\n",
       "\n",
       "    .dataframe tbody tr th {\n",
       "        vertical-align: top;\n",
       "    }\n",
       "\n",
       "    .dataframe thead th {\n",
       "        text-align: right;\n",
       "    }\n",
       "</style>\n",
       "<table border=\"1\" class=\"dataframe\">\n",
       "  <thead>\n",
       "    <tr style=\"text-align: right;\">\n",
       "      <th></th>\n",
       "      <th>a</th>\n",
       "      <th>b</th>\n",
       "      <th>c</th>\n",
       "      <th>d</th>\n",
       "      <th>e</th>\n",
       "    </tr>\n",
       "  </thead>\n",
       "  <tbody>\n",
       "  </tbody>\n",
       "</table>\n",
       "</div>"
      ],
      "text/plain": [
       "Empty DataFrame\n",
       "Columns: [a, b, c, d, e]\n",
       "Index: []"
      ]
     },
     "execution_count": 7,
     "metadata": {},
     "output_type": "execute_result"
    }
   ],
   "source": [
    "df.query(\"b < c < e\")"
   ]
  },
  {
   "cell_type": "markdown",
   "metadata": {},
   "source": [
    "You can also use your index in the query, by using ```index```, or you can rename your index and use that."
   ]
  },
  {
   "cell_type": "code",
   "execution_count": 8,
   "metadata": {},
   "outputs": [
    {
     "data": {
      "text/html": [
       "<div>\n",
       "<style scoped>\n",
       "    .dataframe tbody tr th:only-of-type {\n",
       "        vertical-align: middle;\n",
       "    }\n",
       "\n",
       "    .dataframe tbody tr th {\n",
       "        vertical-align: top;\n",
       "    }\n",
       "\n",
       "    .dataframe thead th {\n",
       "        text-align: right;\n",
       "    }\n",
       "</style>\n",
       "<table border=\"1\" class=\"dataframe\">\n",
       "  <thead>\n",
       "    <tr style=\"text-align: right;\">\n",
       "      <th></th>\n",
       "      <th>a</th>\n",
       "      <th>b</th>\n",
       "      <th>c</th>\n",
       "      <th>d</th>\n",
       "      <th>e</th>\n",
       "    </tr>\n",
       "    <tr>\n",
       "      <th>idx</th>\n",
       "      <th></th>\n",
       "      <th></th>\n",
       "      <th></th>\n",
       "      <th></th>\n",
       "      <th></th>\n",
       "    </tr>\n",
       "  </thead>\n",
       "  <tbody>\n",
       "    <tr>\n",
       "      <th>3</th>\n",
       "      <td>-0.488314</td>\n",
       "      <td>-0.303783</td>\n",
       "      <td>0.457164</td>\n",
       "      <td>0.447945</td>\n",
       "      <td>-0.054434</td>\n",
       "    </tr>\n",
       "    <tr>\n",
       "      <th>4</th>\n",
       "      <td>-0.475356</td>\n",
       "      <td>-0.095161</td>\n",
       "      <td>-0.484103</td>\n",
       "      <td>-0.055500</td>\n",
       "      <td>0.035111</td>\n",
       "    </tr>\n",
       "  </tbody>\n",
       "</table>\n",
       "</div>"
      ],
      "text/plain": [
       "            a         b         c         d         e\n",
       "idx                                                  \n",
       "3   -0.488314 -0.303783  0.457164  0.447945 -0.054434\n",
       "4   -0.475356 -0.095161 -0.484103 -0.055500  0.035111"
      ]
     },
     "execution_count": 8,
     "metadata": {},
     "output_type": "execute_result"
    }
   ],
   "source": [
    "df.query(\"index > 2\")\n",
    "df.index.name = 'idx'\n",
    "df.query(\"idx > 2\")"
   ]
  },
  {
   "cell_type": "markdown",
   "metadata": {},
   "source": [
    "### Variables from your environment\n",
    "You can also use variables that are in scope inside your expression by prefixing them with an ```@```."
   ]
  },
  {
   "cell_type": "code",
   "execution_count": 9,
   "metadata": {},
   "outputs": [
    {
     "data": {
      "text/html": [
       "<div>\n",
       "<style scoped>\n",
       "    .dataframe tbody tr th:only-of-type {\n",
       "        vertical-align: middle;\n",
       "    }\n",
       "\n",
       "    .dataframe tbody tr th {\n",
       "        vertical-align: top;\n",
       "    }\n",
       "\n",
       "    .dataframe thead th {\n",
       "        text-align: right;\n",
       "    }\n",
       "</style>\n",
       "<table border=\"1\" class=\"dataframe\">\n",
       "  <thead>\n",
       "    <tr style=\"text-align: right;\">\n",
       "      <th></th>\n",
       "      <th>a</th>\n",
       "      <th>b</th>\n",
       "      <th>c</th>\n",
       "      <th>d</th>\n",
       "      <th>e</th>\n",
       "    </tr>\n",
       "    <tr>\n",
       "      <th>idx</th>\n",
       "      <th></th>\n",
       "      <th></th>\n",
       "      <th></th>\n",
       "      <th></th>\n",
       "      <th></th>\n",
       "    </tr>\n",
       "  </thead>\n",
       "  <tbody>\n",
       "  </tbody>\n",
       "</table>\n",
       "</div>"
      ],
      "text/plain": [
       "Empty DataFrame\n",
       "Columns: [a, b, c, d, e]\n",
       "Index: []"
      ]
     },
     "execution_count": 9,
     "metadata": {},
     "output_type": "execute_result"
    }
   ],
   "source": [
    "limit = 0.1\n",
    "df.query(\"b > @limit\")"
   ]
  },
  {
   "cell_type": "markdown",
   "metadata": {},
   "source": [
    "If your columns are not valid Python variable names, you'll have to surround them with backticks (Note you'll need pandas 0.25 or higher for this functionality, and 1.0+ for expanded support)."
   ]
  },
  {
   "cell_type": "code",
   "execution_count": 10,
   "metadata": {},
   "outputs": [
    {
     "data": {
      "text/html": [
       "<div>\n",
       "<style scoped>\n",
       "    .dataframe tbody tr th:only-of-type {\n",
       "        vertical-align: middle;\n",
       "    }\n",
       "\n",
       "    .dataframe tbody tr th {\n",
       "        vertical-align: top;\n",
       "    }\n",
       "\n",
       "    .dataframe thead th {\n",
       "        text-align: right;\n",
       "    }\n",
       "</style>\n",
       "<table border=\"1\" class=\"dataframe\">\n",
       "  <thead>\n",
       "    <tr style=\"text-align: right;\">\n",
       "      <th></th>\n",
       "      <th>a</th>\n",
       "      <th>b</th>\n",
       "      <th>c</th>\n",
       "      <th>d</th>\n",
       "      <th>e</th>\n",
       "      <th>mean value</th>\n",
       "    </tr>\n",
       "    <tr>\n",
       "      <th>idx</th>\n",
       "      <th></th>\n",
       "      <th></th>\n",
       "      <th></th>\n",
       "      <th></th>\n",
       "      <th></th>\n",
       "      <th></th>\n",
       "    </tr>\n",
       "  </thead>\n",
       "  <tbody>\n",
       "    <tr>\n",
       "      <th>1</th>\n",
       "      <td>0.016208</td>\n",
       "      <td>-0.151215</td>\n",
       "      <td>-0.465317</td>\n",
       "      <td>-0.295572</td>\n",
       "      <td>-0.153494</td>\n",
       "      <td>-0.209878</td>\n",
       "    </tr>\n",
       "  </tbody>\n",
       "</table>\n",
       "</div>"
      ],
      "text/plain": [
       "            a         b         c         d         e  mean value\n",
       "idx                                                              \n",
       "1    0.016208 -0.151215 -0.465317 -0.295572 -0.153494   -0.209878"
      ]
     },
     "execution_count": 10,
     "metadata": {},
     "output_type": "execute_result"
    }
   ],
   "source": [
    "df['mean value'] = df.mean(axis=1)\n",
    "df.query('`mean value` > d')"
   ]
  },
  {
   "cell_type": "markdown",
   "metadata": {},
   "source": [
    "The ```in``` operator is supported in query, so you can use that as well, either using a variable, or existing columns, or as literals.  The ```===``` and ```!=``` operators work like ```in``` and ```not in``` for lists."
   ]
  },
  {
   "cell_type": "code",
   "execution_count": 11,
   "metadata": {},
   "outputs": [
    {
     "data": {
      "text/html": [
       "<div>\n",
       "<style scoped>\n",
       "    .dataframe tbody tr th:only-of-type {\n",
       "        vertical-align: middle;\n",
       "    }\n",
       "\n",
       "    .dataframe tbody tr th {\n",
       "        vertical-align: top;\n",
       "    }\n",
       "\n",
       "    .dataframe thead th {\n",
       "        text-align: right;\n",
       "    }\n",
       "</style>\n",
       "<table border=\"1\" class=\"dataframe\">\n",
       "  <thead>\n",
       "    <tr style=\"text-align: right;\">\n",
       "      <th></th>\n",
       "      <th>a</th>\n",
       "      <th>b</th>\n",
       "      <th>c</th>\n",
       "      <th>d</th>\n",
       "      <th>e</th>\n",
       "      <th>mean value</th>\n",
       "      <th>name</th>\n",
       "    </tr>\n",
       "    <tr>\n",
       "      <th>idx</th>\n",
       "      <th></th>\n",
       "      <th></th>\n",
       "      <th></th>\n",
       "      <th></th>\n",
       "      <th></th>\n",
       "      <th></th>\n",
       "      <th></th>\n",
       "    </tr>\n",
       "  </thead>\n",
       "  <tbody>\n",
       "    <tr>\n",
       "      <th>0</th>\n",
       "      <td>0.367389</td>\n",
       "      <td>0.018962</td>\n",
       "      <td>-0.106435</td>\n",
       "      <td>0.397229</td>\n",
       "      <td>-0.237226</td>\n",
       "      <td>0.087984</td>\n",
       "      <td>x</td>\n",
       "    </tr>\n",
       "    <tr>\n",
       "      <th>1</th>\n",
       "      <td>0.016208</td>\n",
       "      <td>-0.151215</td>\n",
       "      <td>-0.465317</td>\n",
       "      <td>-0.295572</td>\n",
       "      <td>-0.153494</td>\n",
       "      <td>-0.209878</td>\n",
       "      <td>y</td>\n",
       "    </tr>\n",
       "  </tbody>\n",
       "</table>\n",
       "</div>"
      ],
      "text/plain": [
       "            a         b         c         d         e  mean value name\n",
       "idx                                                                   \n",
       "0    0.367389  0.018962 -0.106435  0.397229 -0.237226    0.087984    x\n",
       "1    0.016208 -0.151215 -0.465317 -0.295572 -0.153494   -0.209878    y"
      ]
     },
     "execution_count": 11,
     "metadata": {},
     "output_type": "execute_result"
    }
   ],
   "source": [
    "df['name'] = ['x', 'y', 'z', 'p', 'q']\n",
    "search = ['x', 'y']\n",
    "df.query(\"name in ['x', 'y']\")\n",
    "# or\n",
    "df.query('name in @search')\n",
    "# or\n",
    "df.query('name == @search')\n",
    "# or\n",
    "df.query(\"name == ['x', 'y']\")"
   ]
  },
  {
   "cell_type": "markdown",
   "metadata": {},
   "source": [
    "### What about updates?\n",
    "This expression is handy, but what about updating your ```DataFrame```? I know we've mostly talked about selecting data, but it turns out that you can also update or add columns by using expressions, but with the ```eval``` method. Note that ```eval``` returns a copy of the modified data, so you need to assign back to your variable or use the ```inplace``` argument to retain the changes."
   ]
  },
  {
   "cell_type": "code",
   "execution_count": 12,
   "metadata": {},
   "outputs": [
    {
     "data": {
      "text/html": [
       "<div>\n",
       "<style scoped>\n",
       "    .dataframe tbody tr th:only-of-type {\n",
       "        vertical-align: middle;\n",
       "    }\n",
       "\n",
       "    .dataframe tbody tr th {\n",
       "        vertical-align: top;\n",
       "    }\n",
       "\n",
       "    .dataframe thead th {\n",
       "        text-align: right;\n",
       "    }\n",
       "</style>\n",
       "<table border=\"1\" class=\"dataframe\">\n",
       "  <thead>\n",
       "    <tr style=\"text-align: right;\">\n",
       "      <th></th>\n",
       "      <th>a</th>\n",
       "      <th>b</th>\n",
       "      <th>c</th>\n",
       "      <th>d</th>\n",
       "      <th>e</th>\n",
       "      <th>mean value</th>\n",
       "      <th>name</th>\n",
       "      <th>x</th>\n",
       "    </tr>\n",
       "    <tr>\n",
       "      <th>idx</th>\n",
       "      <th></th>\n",
       "      <th></th>\n",
       "      <th></th>\n",
       "      <th></th>\n",
       "      <th></th>\n",
       "      <th></th>\n",
       "      <th></th>\n",
       "      <th></th>\n",
       "    </tr>\n",
       "  </thead>\n",
       "  <tbody>\n",
       "    <tr>\n",
       "      <th>0</th>\n",
       "      <td>0.367389</td>\n",
       "      <td>0.018962</td>\n",
       "      <td>-0.106435</td>\n",
       "      <td>0.397229</td>\n",
       "      <td>-0.237226</td>\n",
       "      <td>0.087984</td>\n",
       "      <td>x</td>\n",
       "      <td>0.006966</td>\n",
       "    </tr>\n",
       "    <tr>\n",
       "      <th>1</th>\n",
       "      <td>0.016208</td>\n",
       "      <td>-0.151215</td>\n",
       "      <td>-0.465317</td>\n",
       "      <td>-0.295572</td>\n",
       "      <td>-0.153494</td>\n",
       "      <td>-0.209878</td>\n",
       "      <td>y</td>\n",
       "      <td>-0.002451</td>\n",
       "    </tr>\n",
       "    <tr>\n",
       "      <th>2</th>\n",
       "      <td>0.391743</td>\n",
       "      <td>-0.013441</td>\n",
       "      <td>-0.125635</td>\n",
       "      <td>0.137689</td>\n",
       "      <td>-0.152479</td>\n",
       "      <td>0.047575</td>\n",
       "      <td>z</td>\n",
       "      <td>-0.005265</td>\n",
       "    </tr>\n",
       "    <tr>\n",
       "      <th>3</th>\n",
       "      <td>-0.488314</td>\n",
       "      <td>-0.303783</td>\n",
       "      <td>0.457164</td>\n",
       "      <td>0.447945</td>\n",
       "      <td>-0.054434</td>\n",
       "      <td>0.011716</td>\n",
       "      <td>p</td>\n",
       "      <td>0.148342</td>\n",
       "    </tr>\n",
       "    <tr>\n",
       "      <th>4</th>\n",
       "      <td>-0.475356</td>\n",
       "      <td>-0.095161</td>\n",
       "      <td>-0.484103</td>\n",
       "      <td>-0.055500</td>\n",
       "      <td>0.035111</td>\n",
       "      <td>-0.215002</td>\n",
       "      <td>q</td>\n",
       "      <td>0.045235</td>\n",
       "    </tr>\n",
       "  </tbody>\n",
       "</table>\n",
       "</div>"
      ],
      "text/plain": [
       "            a         b         c         d         e  mean value name  \\\n",
       "idx                                                                      \n",
       "0    0.367389  0.018962 -0.106435  0.397229 -0.237226    0.087984    x   \n",
       "1    0.016208 -0.151215 -0.465317 -0.295572 -0.153494   -0.209878    y   \n",
       "2    0.391743 -0.013441 -0.125635  0.137689 -0.152479    0.047575    z   \n",
       "3   -0.488314 -0.303783  0.457164  0.447945 -0.054434    0.011716    p   \n",
       "4   -0.475356 -0.095161 -0.484103 -0.055500  0.035111   -0.215002    q   \n",
       "\n",
       "            x  \n",
       "idx            \n",
       "0    0.006966  \n",
       "1   -0.002451  \n",
       "2   -0.005265  \n",
       "3    0.148342  \n",
       "4    0.045235  "
      ]
     },
     "execution_count": 12,
     "metadata": {},
     "output_type": "execute_result"
    }
   ],
   "source": [
    "df.eval('x = a * b')"
   ]
  },
  {
   "cell_type": "markdown",
   "metadata": {},
   "source": [
    "Note you can pass in multiple expressions to be evaluated in one go."
   ]
  },
  {
   "cell_type": "code",
   "execution_count": 13,
   "metadata": {},
   "outputs": [
    {
     "data": {
      "text/html": [
       "<div>\n",
       "<style scoped>\n",
       "    .dataframe tbody tr th:only-of-type {\n",
       "        vertical-align: middle;\n",
       "    }\n",
       "\n",
       "    .dataframe tbody tr th {\n",
       "        vertical-align: top;\n",
       "    }\n",
       "\n",
       "    .dataframe thead th {\n",
       "        text-align: right;\n",
       "    }\n",
       "</style>\n",
       "<table border=\"1\" class=\"dataframe\">\n",
       "  <thead>\n",
       "    <tr style=\"text-align: right;\">\n",
       "      <th></th>\n",
       "      <th>a</th>\n",
       "      <th>b</th>\n",
       "      <th>c</th>\n",
       "      <th>d</th>\n",
       "      <th>e</th>\n",
       "      <th>mean value</th>\n",
       "      <th>name</th>\n",
       "      <th>x</th>\n",
       "      <th>y</th>\n",
       "    </tr>\n",
       "    <tr>\n",
       "      <th>idx</th>\n",
       "      <th></th>\n",
       "      <th></th>\n",
       "      <th></th>\n",
       "      <th></th>\n",
       "      <th></th>\n",
       "      <th></th>\n",
       "      <th></th>\n",
       "      <th></th>\n",
       "      <th></th>\n",
       "    </tr>\n",
       "  </thead>\n",
       "  <tbody>\n",
       "    <tr>\n",
       "      <th>0</th>\n",
       "      <td>0.367389</td>\n",
       "      <td>0.018962</td>\n",
       "      <td>-0.106435</td>\n",
       "      <td>0.397229</td>\n",
       "      <td>-0.237226</td>\n",
       "      <td>0.087984</td>\n",
       "      <td>x</td>\n",
       "      <td>0.006966</td>\n",
       "      <td>-0.042279</td>\n",
       "    </tr>\n",
       "    <tr>\n",
       "      <th>1</th>\n",
       "      <td>0.016208</td>\n",
       "      <td>-0.151215</td>\n",
       "      <td>-0.465317</td>\n",
       "      <td>-0.295572</td>\n",
       "      <td>-0.153494</td>\n",
       "      <td>-0.209878</td>\n",
       "      <td>y</td>\n",
       "      <td>-0.002451</td>\n",
       "      <td>0.137535</td>\n",
       "    </tr>\n",
       "    <tr>\n",
       "      <th>2</th>\n",
       "      <td>0.391743</td>\n",
       "      <td>-0.013441</td>\n",
       "      <td>-0.125635</td>\n",
       "      <td>0.137689</td>\n",
       "      <td>-0.152479</td>\n",
       "      <td>0.047575</td>\n",
       "      <td>z</td>\n",
       "      <td>-0.005265</td>\n",
       "      <td>-0.017299</td>\n",
       "    </tr>\n",
       "    <tr>\n",
       "      <th>3</th>\n",
       "      <td>-0.488314</td>\n",
       "      <td>-0.303783</td>\n",
       "      <td>0.457164</td>\n",
       "      <td>0.447945</td>\n",
       "      <td>-0.054434</td>\n",
       "      <td>0.011716</td>\n",
       "      <td>p</td>\n",
       "      <td>0.148342</td>\n",
       "      <td>0.204784</td>\n",
       "    </tr>\n",
       "    <tr>\n",
       "      <th>4</th>\n",
       "      <td>-0.475356</td>\n",
       "      <td>-0.095161</td>\n",
       "      <td>-0.484103</td>\n",
       "      <td>-0.055500</td>\n",
       "      <td>0.035111</td>\n",
       "      <td>-0.215002</td>\n",
       "      <td>q</td>\n",
       "      <td>0.045235</td>\n",
       "      <td>0.026868</td>\n",
       "    </tr>\n",
       "  </tbody>\n",
       "</table>\n",
       "</div>"
      ],
      "text/plain": [
       "            a         b         c         d         e  mean value name  \\\n",
       "idx                                                                      \n",
       "0    0.367389  0.018962 -0.106435  0.397229 -0.237226    0.087984    x   \n",
       "1    0.016208 -0.151215 -0.465317 -0.295572 -0.153494   -0.209878    y   \n",
       "2    0.391743 -0.013441 -0.125635  0.137689 -0.152479    0.047575    z   \n",
       "3   -0.488314 -0.303783  0.457164  0.447945 -0.054434    0.011716    p   \n",
       "4   -0.475356 -0.095161 -0.484103 -0.055500  0.035111   -0.215002    q   \n",
       "\n",
       "            x         y  \n",
       "idx                      \n",
       "0    0.006966 -0.042279  \n",
       "1   -0.002451  0.137535  \n",
       "2   -0.005265 -0.017299  \n",
       "3    0.148342  0.204784  \n",
       "4    0.045235  0.026868  "
      ]
     },
     "execution_count": 13,
     "metadata": {},
     "output_type": "execute_result"
    }
   ],
   "source": [
    "df.eval('''\n",
    "x = a * b\n",
    "y = c * d\n",
    "''')"
   ]
  },
  {
   "cell_type": "markdown",
   "metadata": {},
   "source": [
    "### What about updates with multiple values?\n",
    "It turns out there is a also a higher level pandas ```eval``` function available for doing more complicated updates involving multiple ```DataFrames``` or ```Series```. I won't get it into it in much detail here, but you can use it for the same sorts of expressions as above."
   ]
  },
  {
   "cell_type": "code",
   "execution_count": 14,
   "metadata": {},
   "outputs": [
    {
     "data": {
      "text/html": [
       "<div>\n",
       "<style scoped>\n",
       "    .dataframe tbody tr th:only-of-type {\n",
       "        vertical-align: middle;\n",
       "    }\n",
       "\n",
       "    .dataframe tbody tr th {\n",
       "        vertical-align: top;\n",
       "    }\n",
       "\n",
       "    .dataframe thead th {\n",
       "        text-align: right;\n",
       "    }\n",
       "</style>\n",
       "<table border=\"1\" class=\"dataframe\">\n",
       "  <thead>\n",
       "    <tr style=\"text-align: right;\">\n",
       "      <th></th>\n",
       "      <th>a</th>\n",
       "      <th>b</th>\n",
       "      <th>c</th>\n",
       "      <th>d</th>\n",
       "      <th>e</th>\n",
       "      <th>mean value</th>\n",
       "      <th>name</th>\n",
       "      <th>g</th>\n",
       "    </tr>\n",
       "    <tr>\n",
       "      <th>idx</th>\n",
       "      <th></th>\n",
       "      <th></th>\n",
       "      <th></th>\n",
       "      <th></th>\n",
       "      <th></th>\n",
       "      <th></th>\n",
       "      <th></th>\n",
       "      <th></th>\n",
       "    </tr>\n",
       "  </thead>\n",
       "  <tbody>\n",
       "    <tr>\n",
       "      <th>0</th>\n",
       "      <td>0.367389</td>\n",
       "      <td>0.018962</td>\n",
       "      <td>-0.106435</td>\n",
       "      <td>0.397229</td>\n",
       "      <td>-0.237226</td>\n",
       "      <td>0.087984</td>\n",
       "      <td>x</td>\n",
       "      <td>0.786829</td>\n",
       "    </tr>\n",
       "    <tr>\n",
       "      <th>1</th>\n",
       "      <td>0.016208</td>\n",
       "      <td>-0.151215</td>\n",
       "      <td>-0.465317</td>\n",
       "      <td>-0.295572</td>\n",
       "      <td>-0.153494</td>\n",
       "      <td>-0.209878</td>\n",
       "      <td>y</td>\n",
       "      <td>0.740401</td>\n",
       "    </tr>\n",
       "    <tr>\n",
       "      <th>2</th>\n",
       "      <td>0.391743</td>\n",
       "      <td>-0.013441</td>\n",
       "      <td>-0.125635</td>\n",
       "      <td>0.137689</td>\n",
       "      <td>-0.152479</td>\n",
       "      <td>0.047575</td>\n",
       "      <td>z</td>\n",
       "      <td>0.537689</td>\n",
       "    </tr>\n",
       "    <tr>\n",
       "      <th>3</th>\n",
       "      <td>-0.488314</td>\n",
       "      <td>-0.303783</td>\n",
       "      <td>0.457164</td>\n",
       "      <td>0.447945</td>\n",
       "      <td>-0.054434</td>\n",
       "      <td>0.011716</td>\n",
       "      <td>p</td>\n",
       "      <td>-0.269873</td>\n",
       "    </tr>\n",
       "    <tr>\n",
       "      <th>4</th>\n",
       "      <td>-0.475356</td>\n",
       "      <td>-0.095161</td>\n",
       "      <td>-0.484103</td>\n",
       "      <td>-0.055500</td>\n",
       "      <td>0.035111</td>\n",
       "      <td>-0.215002</td>\n",
       "      <td>q</td>\n",
       "      <td>-0.358582</td>\n",
       "    </tr>\n",
       "  </tbody>\n",
       "</table>\n",
       "</div>"
      ],
      "text/plain": [
       "            a         b         c         d         e  mean value name  \\\n",
       "idx                                                                      \n",
       "0    0.367389  0.018962 -0.106435  0.397229 -0.237226    0.087984    x   \n",
       "1    0.016208 -0.151215 -0.465317 -0.295572 -0.153494   -0.209878    y   \n",
       "2    0.391743 -0.013441 -0.125635  0.137689 -0.152479    0.047575    z   \n",
       "3   -0.488314 -0.303783  0.457164  0.447945 -0.054434    0.011716    p   \n",
       "4   -0.475356 -0.095161 -0.484103 -0.055500  0.035111   -0.215002    q   \n",
       "\n",
       "            g  \n",
       "idx            \n",
       "0    0.786829  \n",
       "1    0.740401  \n",
       "2    0.537689  \n",
       "3   -0.269873  \n",
       "4   -0.358582  "
      ]
     },
     "execution_count": 14,
     "metadata": {},
     "output_type": "execute_result"
    }
   ],
   "source": [
    "s = pd.Series(np.random.random(5))\n",
    "pd.eval('g = df.a + s', target=df)"
   ]
  },
  {
   "cell_type": "markdown",
   "metadata": {},
   "source": [
    "### One other nice use case\n",
    "One more nice advantage of using ```query``` (and ```eval```) is that you may have a situation where you have multiple ```DataFrame```s in your code that share column names where you'd like to use the same expression on them. If you didn't use ```query```, you'd have to pass these into a function so you refer to these in local python expressions. So as these expressions get more complex, ```query``` may make sense for code clarity."
   ]
  },
  {
   "cell_type": "code",
   "execution_count": 15,
   "metadata": {},
   "outputs": [],
   "source": [
    "df2 = pd.DataFrame(np.random.random((5,5)) - .5, columns=list(\"abcde\"))\n",
    "\n",
    "# without query, need to build expression in python\n",
    "def find_d_gt_e(d):\n",
    "    return d[d['d'] > d['e']]\n",
    "\n",
    "find_d_gt_e(df)\n",
    "find_d_gt_e(df2)\n",
    "\n",
    "expr = \"d > e\" # same expression, re-usable anywhere these columns exist\n",
    "\n",
    "df.query(expr)\n",
    "df2.query(expr);"
   ]
  },
  {
   "cell_type": "markdown",
   "metadata": {},
   "source": [
    "## But what's the point?\n",
    "So there are a few advantages to the mini-langage used by ```query``` and ```eval```, resulting in cleaner looking code. But there are still some disadvantages to using a differing query language. First, since you're passing in a string, there's no syntax checking being done by your editor. You may find this annoying or it may make you slightly less efficient. Also, you have to learn a new set of rules about what expressions are allowed and even possible in this mini language.\n",
    "\n",
    "### It's mainly about speed\n",
    "What is not entirely obvious here is that under the hood you can install a nice library called ```numexpr```  ([docs](https://numexpr.readthedocs.io/en/latest/index.html), [src](https://github.com/pydata/numexpr)) that exists to make calculations with large NumPy (and pandas) objects potentially much faster. When you use ```query``` or ```eval```, this expression is passed into ```numexpr``` and optimized using its bag of tricks. Expected performance improvement can be between .95x and up to 20x, with average performance around 3-4x for typical use cases. You can read details in the docs, but essentially ```numexpr``` takes vectorized operations and makes them work in chunks that optimize for cache and CPU branch prediction. If your arrays are really large, your cache will not be hit much, and if you break your large arrays into very small pieces, your CPU won't be as efficient. \n",
    "\n",
    "Make sure you install it in your environment first if it's not there."
   ]
  },
  {
   "cell_type": "code",
   "execution_count": 16,
   "metadata": {},
   "outputs": [
    {
     "name": "stdout",
     "output_type": "stream",
     "text": [
      "Requirement already satisfied: numexpr in /Users/mcw/.pyenv/versions/3.8.6/envs/pandas/lib/python3.8/site-packages (2.7.1)\n",
      "Requirement already satisfied: numpy>=1.7 in /Users/mcw/.pyenv/versions/3.8.6/envs/pandas/lib/python3.8/site-packages (from numexpr) (1.19.4)\n",
      "\u001b[33mWARNING: You are using pip version 20.2.4; however, version 21.0 is available.\n",
      "You should consider upgrading via the '/Users/mcw/.pyenv/versions/3.8.6/envs/pandas/bin/python -m pip install --upgrade pip' command.\u001b[0m\n",
      "Note: you may need to restart the kernel to use updated packages.\n"
     ]
    }
   ],
   "source": [
    "%pip install numexpr"
   ]
  },
  {
   "cell_type": "markdown",
   "metadata": {},
   "source": [
    "Here's a simple NumPy example from the ```numexpr``` docs that shows what the improvement can look like."
   ]
  },
  {
   "cell_type": "code",
   "execution_count": 17,
   "metadata": {},
   "outputs": [
    {
     "name": "stdout",
     "output_type": "stream",
     "text": [
      "5.2 ms ± 425 µs per loop (mean ± std. dev. of 7 runs, 100 loops each)\n",
      "2.06 ms ± 83.2 µs per loop (mean ± std. dev. of 7 runs, 100 loops each)\n"
     ]
    }
   ],
   "source": [
    "import numexpr as ne\n",
    "\n",
    "a = np.random.rand(int(1e6))\n",
    "b = np.random.rand(int(1e6))\n",
    "\n",
    "r1 = %timeit -o 2 * a + 3 * b\n",
    "r2 = %timeit -o ne.evaluate(\"2 * a + 3 * b\")"
   ]
  },
  {
   "cell_type": "code",
   "execution_count": 18,
   "metadata": {},
   "outputs": [
    {
     "name": "stdout",
     "output_type": "stream",
     "text": [
      "2.52x faster\n"
     ]
    }
   ],
   "source": [
    "print(f\"{r1.average / r2.average:.2f}x faster\")"
   ]
  },
  {
   "cell_type": "markdown",
   "metadata": {},
   "source": [
    "You can see much more detail in the ```numexpr``` docs if you're interested, but for a pandas specific example, let's see what the difference is when using numexpr and not for some ```DataFrames``` in the size range where we can start to expect an improvement (over 200k rows)."
   ]
  },
  {
   "cell_type": "code",
   "execution_count": 19,
   "metadata": {},
   "outputs": [
    {
     "name": "stdout",
     "output_type": "stream",
     "text": [
      "118 ms ± 4.74 ms per loop (mean ± std. dev. of 7 runs, 1 loop each)\n"
     ]
    }
   ],
   "source": [
    "sd = pd.DataFrame(np.random.random(int(3e7)).reshape(int(1e7), 3))\n",
    "sd2 = pd.DataFrame(np.random.random(int(3e7)).reshape(int(1e7), 3))\n",
    "\n",
    "r1 = %timeit -o 3 * sd + 4 * sd2"
   ]
  },
  {
   "cell_type": "code",
   "execution_count": 20,
   "metadata": {},
   "outputs": [
    {
     "name": "stdout",
     "output_type": "stream",
     "text": [
      "112 ms ± 4.78 ms per loop (mean ± std. dev. of 7 runs, 1 loop each)\n"
     ]
    }
   ],
   "source": [
    "r2 = %timeit -o pd.eval('3 * sd + 4 * sd2')"
   ]
  },
  {
   "cell_type": "code",
   "execution_count": 21,
   "metadata": {},
   "outputs": [
    {
     "name": "stdout",
     "output_type": "stream",
     "text": [
      " 1.05x faster\n"
     ]
    }
   ],
   "source": [
    "print(f\"{r1.average / r2.average: .2f}x faster\")"
   ]
  },
  {
   "cell_type": "markdown",
   "metadata": {},
   "source": [
    "Depending on what you are doing, some operations will be sped up even more."
   ]
  },
  {
   "cell_type": "code",
   "execution_count": 22,
   "metadata": {},
   "outputs": [
    {
     "name": "stdout",
     "output_type": "stream",
     "text": [
      "260 ms ± 22.1 ms per loop (mean ± std. dev. of 7 runs, 1 loop each)\n"
     ]
    }
   ],
   "source": [
    "r1 = %timeit -o 3 * sd + sd2 ** 4"
   ]
  },
  {
   "cell_type": "code",
   "execution_count": 23,
   "metadata": {},
   "outputs": [
    {
     "name": "stdout",
     "output_type": "stream",
     "text": [
      "85.4 ms ± 2.09 ms per loop (mean ± std. dev. of 7 runs, 10 loops each)\n"
     ]
    }
   ],
   "source": [
    "r2 = %timeit -o pd.eval('3 * sd + sd2 ** 4')"
   ]
  },
  {
   "cell_type": "code",
   "execution_count": 24,
   "metadata": {},
   "outputs": [
    {
     "name": "stdout",
     "output_type": "stream",
     "text": [
      " 3.04x faster\n"
     ]
    }
   ],
   "source": [
    "print(f\"{r1.average / r2.average: .2f}x faster\")"
   ]
  },
  {
   "cell_type": "markdown",
   "metadata": {},
   "source": [
    "### Wrapping up\n",
    "When you're working with initial exploration of data, or smaller data sets, using ```query``` and ```eval``` will probably not be your go-to options for data selection. But consider these methods for speeding up code that needs to work with large data sets or is run repeatedly, it can make a big difference. It's also useful for cleaning up code with complicated selection criteria.\n",
    "\n",
    "\n",
    "I also think this is a good place to wrap up the series on selecting and indexing in pandas. Now that the basics have been covered, there are many more topics worth looking at."
   ]
  }
 ],
 "metadata": {
  "kernelspec": {
   "display_name": "Python 3",
   "language": "python",
   "name": "python3"
  },
  "language_info": {
   "codemirror_mode": {
    "name": "ipython",
    "version": 3
   },
   "file_extension": ".py",
   "mimetype": "text/x-python",
   "name": "python",
   "nbconvert_exporter": "python",
   "pygments_lexer": "ipython3",
   "version": "3.8.6"
  }
 },
 "nbformat": 4,
 "nbformat_minor": 4
}

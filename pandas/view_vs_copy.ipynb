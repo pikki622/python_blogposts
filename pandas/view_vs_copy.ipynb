{
 "cells": [
  {
   "cell_type": "markdown",
   "metadata": {},
   "source": [
    "# Views, Copies, and that annoying SettingWithCopyWarning\n",
    "If you've spent any time in pandas at all, you've seen ```SettingWithCopyWarning```. If not, you will soon.\n",
    "\n",
    "Just like any warning, it's best not to ignore it since it's there for a reason: it's a sign that something is wrong with your code that could cause issues for you. In my case, I usually get this warning when I'm knee deep in some analysis and don't want to spend too much time figuring out how to fix it.\n",
    "\n",
    "I'm going to cover a few typical examples of when this warning shows up, why it shows up, and how to quickly fix the underlying issue.\n",
    "\n",
    "First, let's make an example ```DataFrame```.  I'm using a handy Python package called [Faker](https://faker.readthedocs.io/en/stable/index.html) to create some test data. You may need to install it first, with ```pip```.\n",
    "\n",
    "As a quick aside, Faker is a great way to build test data for unit tests, test databases, or examples."
   ]
  },
  {
   "cell_type": "code",
   "execution_count": 1,
   "metadata": {},
   "outputs": [
    {
     "name": "stdout",
     "output_type": "stream",
     "text": [
      "Requirement already satisfied: Faker in /Users/mcw/.pyenv/versions/3.8.6/envs/pandas/lib/python3.8/site-packages (5.8.0)\n",
      "Requirement already satisfied: python-dateutil>=2.4 in /Users/mcw/.pyenv/versions/3.8.6/envs/pandas/lib/python3.8/site-packages (from Faker) (2.8.1)\n",
      "Requirement already satisfied: text-unidecode==1.3 in /Users/mcw/.pyenv/versions/3.8.6/envs/pandas/lib/python3.8/site-packages (from Faker) (1.3)\n",
      "Requirement already satisfied: six>=1.5 in /Users/mcw/.pyenv/versions/3.8.6/envs/pandas/lib/python3.8/site-packages (from python-dateutil>=2.4->Faker) (1.15.0)\n",
      "\u001b[33mWARNING: You are using pip version 20.2.4; however, version 21.0.1 is available.\n",
      "You should consider upgrading via the '/Users/mcw/.pyenv/versions/3.8.6/envs/pandas/bin/python -m pip install --upgrade pip' command.\u001b[0m\n",
      "Note: you may need to restart the kernel to use updated packages.\n"
     ]
    }
   ],
   "source": [
    "%pip install Faker"
   ]
  },
  {
   "cell_type": "code",
   "execution_count": 2,
   "metadata": {},
   "outputs": [],
   "source": [
    "import datetime\n",
    "\n",
    "import pandas as pd\n",
    "import numpy as np\n",
    "\n",
    "from faker import Faker\n",
    "fake = Faker()"
   ]
  },
  {
   "cell_type": "code",
   "execution_count": 3,
   "metadata": {},
   "outputs": [
    {
     "data": {
      "text/html": [
       "<div>\n",
       "<style scoped>\n",
       "    .dataframe tbody tr th:only-of-type {\n",
       "        vertical-align: middle;\n",
       "    }\n",
       "\n",
       "    .dataframe tbody tr th {\n",
       "        vertical-align: top;\n",
       "    }\n",
       "\n",
       "    .dataframe thead th {\n",
       "        text-align: right;\n",
       "    }\n",
       "</style>\n",
       "<table border=\"1\" class=\"dataframe\">\n",
       "  <thead>\n",
       "    <tr style=\"text-align: right;\">\n",
       "      <th></th>\n",
       "      <th>first_name</th>\n",
       "      <th>last_name</th>\n",
       "      <th>dob</th>\n",
       "      <th>lastupdate</th>\n",
       "      <th>city</th>\n",
       "      <th>state</th>\n",
       "      <th>zip</th>\n",
       "    </tr>\n",
       "  </thead>\n",
       "  <tbody>\n",
       "    <tr>\n",
       "      <th>0</th>\n",
       "      <td>Matthew</td>\n",
       "      <td>Franco</td>\n",
       "      <td>1969-11-24</td>\n",
       "      <td>2021-02-03</td>\n",
       "      <td>South Amandafort</td>\n",
       "      <td>CA</td>\n",
       "      <td>26721</td>\n",
       "    </tr>\n",
       "    <tr>\n",
       "      <th>1</th>\n",
       "      <td>Beth</td>\n",
       "      <td>Miller</td>\n",
       "      <td>1909-12-04</td>\n",
       "      <td>2021-01-12</td>\n",
       "      <td>Petersonstad</td>\n",
       "      <td>AK</td>\n",
       "      <td>52881</td>\n",
       "    </tr>\n",
       "    <tr>\n",
       "      <th>2</th>\n",
       "      <td>Kevin</td>\n",
       "      <td>Kim</td>\n",
       "      <td>1952-01-26</td>\n",
       "      <td>2021-01-27</td>\n",
       "      <td>Yatestown</td>\n",
       "      <td>ME</td>\n",
       "      <td>81028</td>\n",
       "    </tr>\n",
       "  </tbody>\n",
       "</table>\n",
       "</div>"
      ],
      "text/plain": [
       "  first_name last_name         dob  lastupdate              city state    zip\n",
       "0    Matthew    Franco  1969-11-24  2021-02-03  South Amandafort    CA  26721\n",
       "1       Beth    Miller  1909-12-04  2021-01-12      Petersonstad    AK  52881\n",
       "2      Kevin       Kim  1952-01-26  2021-01-27         Yatestown    ME  81028"
      ]
     },
     "execution_count": 3,
     "metadata": {},
     "output_type": "execute_result"
    }
   ],
   "source": [
    "df = pd.DataFrame(\n",
    "[\n",
    " [fake.first_name(),\n",
    "  fake.last_name(),\n",
    "  fake.date_of_birth(),\n",
    "  fake.date_this_year(),\n",
    "  fake.city(),\n",
    "  fake.state_abbr(),\n",
    "  fake.postalcode()]\n",
    "     for _ in range(20)],\n",
    " columns = ['first_name', 'last_name', 'dob', 'lastupdate', 'city', 'state', 'zip'])\n",
    "\n",
    "df.head(3)"
   ]
  },
  {
   "cell_type": "markdown",
   "metadata": {},
   "source": [
    "## How do we set data again?\n",
    "First, let's just review the ways we can set data in a ```DataFrame```, using use the ```loc``` or ```iloc``` indexers. These are for label based or integer offset based indexing respectively. (See [this article](https://www.wrighters.io/indexing-and-selecting-in-pandas-part-1/) for more detail on the two methods)\n",
    "\n",
    "The first argument in the indexer is for the row, the second is for the column (or columns), and if we assign to this expression, we will update the underlying ```DataFrame```.\n",
    "\n",
    "Note that the index here is just a ```RangeIndex```, so the labels are numbers. Because of that, even though I'm passing in int values to ```loc```, this is looking up by label, not relative index. "
   ]
  },
  {
   "cell_type": "code",
   "execution_count": 4,
   "metadata": {},
   "outputs": [
    {
     "data": {
      "text/plain": [
       "0    26721\n",
       "Name: zip, dtype: object"
      ]
     },
     "execution_count": 4,
     "metadata": {},
     "output_type": "execute_result"
    }
   ],
   "source": [
    "df.head(1)['zip']"
   ]
  },
  {
   "cell_type": "code",
   "execution_count": 5,
   "metadata": {},
   "outputs": [],
   "source": [
    "df.loc[0, 'zip'] = '60601'"
   ]
  },
  {
   "cell_type": "code",
   "execution_count": 6,
   "metadata": {},
   "outputs": [
    {
     "data": {
      "text/plain": [
       "0    60601\n",
       "Name: zip, dtype: object"
      ]
     },
     "execution_count": 6,
     "metadata": {},
     "output_type": "execute_result"
    }
   ],
   "source": [
    "df.head(1)['zip']"
   ]
  },
  {
   "cell_type": "code",
   "execution_count": 7,
   "metadata": {},
   "outputs": [],
   "source": [
    "df.loc[0, ['city', 'state']] = ['Chicago', 'IL']"
   ]
  },
  {
   "cell_type": "code",
   "execution_count": 8,
   "metadata": {},
   "outputs": [
    {
     "data": {
      "text/html": [
       "<div>\n",
       "<style scoped>\n",
       "    .dataframe tbody tr th:only-of-type {\n",
       "        vertical-align: middle;\n",
       "    }\n",
       "\n",
       "    .dataframe tbody tr th {\n",
       "        vertical-align: top;\n",
       "    }\n",
       "\n",
       "    .dataframe thead th {\n",
       "        text-align: right;\n",
       "    }\n",
       "</style>\n",
       "<table border=\"1\" class=\"dataframe\">\n",
       "  <thead>\n",
       "    <tr style=\"text-align: right;\">\n",
       "      <th></th>\n",
       "      <th>first_name</th>\n",
       "      <th>last_name</th>\n",
       "      <th>dob</th>\n",
       "      <th>lastupdate</th>\n",
       "      <th>city</th>\n",
       "      <th>state</th>\n",
       "      <th>zip</th>\n",
       "    </tr>\n",
       "  </thead>\n",
       "  <tbody>\n",
       "    <tr>\n",
       "      <th>0</th>\n",
       "      <td>Matthew</td>\n",
       "      <td>Franco</td>\n",
       "      <td>1969-11-24</td>\n",
       "      <td>2021-02-03</td>\n",
       "      <td>Chicago</td>\n",
       "      <td>IL</td>\n",
       "      <td>60601</td>\n",
       "    </tr>\n",
       "  </tbody>\n",
       "</table>\n",
       "</div>"
      ],
      "text/plain": [
       "  first_name last_name         dob  lastupdate     city state    zip\n",
       "0    Matthew    Franco  1969-11-24  2021-02-03  Chicago    IL  60601"
      ]
     },
     "execution_count": 8,
     "metadata": {},
     "output_type": "execute_result"
    }
   ],
   "source": [
    "df.head(1)"
   ]
  },
  {
   "cell_type": "markdown",
   "metadata": {},
   "source": [
    "Here's an example of an ```iloc``` update."
   ]
  },
  {
   "cell_type": "code",
   "execution_count": 9,
   "metadata": {},
   "outputs": [
    {
     "data": {
      "text/html": [
       "<div>\n",
       "<style scoped>\n",
       "    .dataframe tbody tr th:only-of-type {\n",
       "        vertical-align: middle;\n",
       "    }\n",
       "\n",
       "    .dataframe tbody tr th {\n",
       "        vertical-align: top;\n",
       "    }\n",
       "\n",
       "    .dataframe thead th {\n",
       "        text-align: right;\n",
       "    }\n",
       "</style>\n",
       "<table border=\"1\" class=\"dataframe\">\n",
       "  <thead>\n",
       "    <tr style=\"text-align: right;\">\n",
       "      <th></th>\n",
       "      <th>first_name</th>\n",
       "      <th>last_name</th>\n",
       "      <th>dob</th>\n",
       "      <th>lastupdate</th>\n",
       "      <th>city</th>\n",
       "      <th>state</th>\n",
       "      <th>zip</th>\n",
       "    </tr>\n",
       "  </thead>\n",
       "  <tbody>\n",
       "    <tr>\n",
       "      <th>0</th>\n",
       "      <td>Josh</td>\n",
       "      <td>Franco</td>\n",
       "      <td>1969-11-24</td>\n",
       "      <td>2021-02-03</td>\n",
       "      <td>Chicago</td>\n",
       "      <td>IL</td>\n",
       "      <td>60601</td>\n",
       "    </tr>\n",
       "  </tbody>\n",
       "</table>\n",
       "</div>"
      ],
      "text/plain": [
       "  first_name last_name         dob  lastupdate     city state    zip\n",
       "0       Josh    Franco  1969-11-24  2021-02-03  Chicago    IL  60601"
      ]
     },
     "execution_count": 9,
     "metadata": {},
     "output_type": "execute_result"
    }
   ],
   "source": [
    "df.iloc[0, 0] = 'Josh'\n",
    "df.head(1)"
   ]
  },
  {
   "cell_type": "markdown",
   "metadata": {},
   "source": [
    "Now, you can also do updates with the array indexing operator, but this can look very confusing because remember that on a ```DataFrame```, you are selecting columns first. I'd recommend not doing this for this reason alone, but as you'll soon see, there are other issues that can arise."
   ]
  },
  {
   "cell_type": "code",
   "execution_count": 10,
   "metadata": {},
   "outputs": [],
   "source": [
    "df[\"first_name\"][0] = 'Joshy'"
   ]
  },
  {
   "cell_type": "code",
   "execution_count": 11,
   "metadata": {},
   "outputs": [
    {
     "data": {
      "text/html": [
       "<div>\n",
       "<style scoped>\n",
       "    .dataframe tbody tr th:only-of-type {\n",
       "        vertical-align: middle;\n",
       "    }\n",
       "\n",
       "    .dataframe tbody tr th {\n",
       "        vertical-align: top;\n",
       "    }\n",
       "\n",
       "    .dataframe thead th {\n",
       "        text-align: right;\n",
       "    }\n",
       "</style>\n",
       "<table border=\"1\" class=\"dataframe\">\n",
       "  <thead>\n",
       "    <tr style=\"text-align: right;\">\n",
       "      <th></th>\n",
       "      <th>first_name</th>\n",
       "      <th>last_name</th>\n",
       "      <th>dob</th>\n",
       "      <th>lastupdate</th>\n",
       "      <th>city</th>\n",
       "      <th>state</th>\n",
       "      <th>zip</th>\n",
       "    </tr>\n",
       "  </thead>\n",
       "  <tbody>\n",
       "    <tr>\n",
       "      <th>0</th>\n",
       "      <td>Joshy</td>\n",
       "      <td>Franco</td>\n",
       "      <td>1969-11-24</td>\n",
       "      <td>2021-02-03</td>\n",
       "      <td>Chicago</td>\n",
       "      <td>IL</td>\n",
       "      <td>60601</td>\n",
       "    </tr>\n",
       "  </tbody>\n",
       "</table>\n",
       "</div>"
      ],
      "text/plain": [
       "  first_name last_name         dob  lastupdate     city state    zip\n",
       "0      Joshy    Franco  1969-11-24  2021-02-03  Chicago    IL  60601"
      ]
     },
     "execution_count": 11,
     "metadata": {},
     "output_type": "execute_result"
    }
   ],
   "source": [
    "df.head(1)"
   ]
  },
  {
   "cell_type": "markdown",
   "metadata": {},
   "source": [
    "## When do we see this warning?\n",
    "OK, now that we have updated our ```DataFrame``` successfully, it's time to see an example of where things can go wrong. For me, it's very typical to select a subset of the original data to work with. For example, let's say that we decide to only work with data where the person was born before 2000."
   ]
  },
  {
   "cell_type": "code",
   "execution_count": 12,
   "metadata": {},
   "outputs": [
    {
     "data": {
      "text/plain": [
       "(14, 7)"
      ]
     },
     "execution_count": 12,
     "metadata": {},
     "output_type": "execute_result"
    }
   ],
   "source": [
    "dob_limit = datetime.date(2000, 1, 1)\n",
    "sub = df[df['dob'] < dob_limit]\n",
    "sub.shape"
   ]
  },
  {
   "cell_type": "code",
   "execution_count": 13,
   "metadata": {},
   "outputs": [
    {
     "data": {
      "text/html": [
       "<div>\n",
       "<style scoped>\n",
       "    .dataframe tbody tr th:only-of-type {\n",
       "        vertical-align: middle;\n",
       "    }\n",
       "\n",
       "    .dataframe tbody tr th {\n",
       "        vertical-align: top;\n",
       "    }\n",
       "\n",
       "    .dataframe thead th {\n",
       "        text-align: right;\n",
       "    }\n",
       "</style>\n",
       "<table border=\"1\" class=\"dataframe\">\n",
       "  <thead>\n",
       "    <tr style=\"text-align: right;\">\n",
       "      <th></th>\n",
       "      <th>first_name</th>\n",
       "      <th>last_name</th>\n",
       "      <th>dob</th>\n",
       "      <th>lastupdate</th>\n",
       "      <th>city</th>\n",
       "      <th>state</th>\n",
       "      <th>zip</th>\n",
       "    </tr>\n",
       "  </thead>\n",
       "  <tbody>\n",
       "    <tr>\n",
       "      <th>0</th>\n",
       "      <td>Joshy</td>\n",
       "      <td>Franco</td>\n",
       "      <td>1969-11-24</td>\n",
       "      <td>2021-02-03</td>\n",
       "      <td>Chicago</td>\n",
       "      <td>IL</td>\n",
       "      <td>60601</td>\n",
       "    </tr>\n",
       "  </tbody>\n",
       "</table>\n",
       "</div>"
      ],
      "text/plain": [
       "  first_name last_name         dob  lastupdate     city state    zip\n",
       "0      Joshy    Franco  1969-11-24  2021-02-03  Chicago    IL  60601"
      ]
     },
     "execution_count": 13,
     "metadata": {},
     "output_type": "execute_result"
    }
   ],
   "source": [
    "idx = sub.head(1).index[0]  # save the location for update attempts below\n",
    "sub.head(1)"
   ]
  },
  {
   "cell_type": "markdown",
   "metadata": {},
   "source": [
    "Let's try to update the ```lastupdate``` column."
   ]
  },
  {
   "cell_type": "code",
   "execution_count": 14,
   "metadata": {},
   "outputs": [
    {
     "name": "stderr",
     "output_type": "stream",
     "text": [
      "/Users/mcw/.pyenv/versions/3.8.6/envs/pandas/lib/python3.8/site-packages/pandas/core/indexing.py:670: SettingWithCopyWarning: \n",
      "A value is trying to be set on a copy of a slice from a DataFrame\n",
      "\n",
      "See the caveats in the documentation: https://pandas.pydata.org/pandas-docs/stable/user_guide/indexing.html#returning-a-view-versus-a-copy\n",
      "  iloc._setitem_with_indexer(indexer, value)\n",
      "<ipython-input-14-5f1769c87aaf>:1: SettingWithCopyWarning: \n",
      "A value is trying to be set on a copy of a slice from a DataFrame\n",
      "\n",
      "See the caveats in the documentation: https://pandas.pydata.org/pandas-docs/stable/user_guide/indexing.html#returning-a-view-versus-a-copy\n",
      "  sub.loc[idx, 'lastupdate'] = datetime.date.today()\n"
     ]
    }
   ],
   "source": [
    "sub.loc[idx, 'lastupdate'] = datetime.date.today()"
   ]
  },
  {
   "cell_type": "markdown",
   "metadata": {},
   "source": [
    "Boom! There it is, we are told we are trying to set values on a copy of a slice from a ```DataFrame```. What ended up happening here?  Well, ```sub``` *was* updated, but ```df``` *wasn't*."
   ]
  },
  {
   "cell_type": "code",
   "execution_count": 15,
   "metadata": {},
   "outputs": [
    {
     "data": {
      "text/plain": [
       "datetime.date(2021, 2, 4)"
      ]
     },
     "execution_count": 15,
     "metadata": {},
     "output_type": "execute_result"
    }
   ],
   "source": [
    "sub.loc[idx, 'lastupdate']"
   ]
  },
  {
   "cell_type": "code",
   "execution_count": 16,
   "metadata": {},
   "outputs": [
    {
     "data": {
      "text/plain": [
       "datetime.date(2021, 2, 3)"
      ]
     },
     "execution_count": 16,
     "metadata": {},
     "output_type": "execute_result"
    }
   ],
   "source": [
    "df.loc[idx, 'lastupdate']"
   ]
  },
  {
   "cell_type": "markdown",
   "metadata": {},
   "source": [
    "Pandas is warning you that you might have not done what you expected. When you created ```sub```, you ended up with a copy of the data in ```df```. When you updated the value, you're now being warned that you only updated the copy, not the original.\n",
    "\n",
    "## So how should this be fixed?\n",
    "There are two primary ways to address this, and which one you choose depends on what you are trying to accomplish in your code. \n",
    "\n",
    "### Update the original\n",
    "If your intention is to update your original data, you just need to update it directly. So instead of doing your update on ```sub```, do it on ```df``` instead."
   ]
  },
  {
   "cell_type": "code",
   "execution_count": 17,
   "metadata": {},
   "outputs": [],
   "source": [
    "df.loc[idx, 'lastupdate'] = datetime.date.today()"
   ]
  },
  {
   "cell_type": "code",
   "execution_count": 18,
   "metadata": {},
   "outputs": [
    {
     "data": {
      "text/plain": [
       "datetime.date(2021, 2, 4)"
      ]
     },
     "execution_count": 18,
     "metadata": {},
     "output_type": "execute_result"
    }
   ],
   "source": [
    "df.loc[idx, 'lastupdate']"
   ]
  },
  {
   "cell_type": "markdown",
   "metadata": {},
   "source": [
    "Now note that when you do this, since your view is a copy, it won't be updated. If you want both ```sub``` and ```df``` to match, you need to either update both or recreate ```sub``` after the update. Because of this, it's important for you to pause and think any time you update a ```DataFrame```. Have you created views of this data that now need to be refreshed?\n",
    "\n",
    "### Update the copy\n",
    "If your goal is to update the copy of the data only, to eliminate the warning, tell pandas you want that view to always be a copy."
   ]
  },
  {
   "cell_type": "code",
   "execution_count": 19,
   "metadata": {},
   "outputs": [
    {
     "data": {
      "text/plain": [
       "datetime.date(2021, 2, 4)"
      ]
     },
     "execution_count": 19,
     "metadata": {},
     "output_type": "execute_result"
    }
   ],
   "source": [
    "sub2 = df[df['dob'] < dob_limit].copy()\n",
    "sub2.loc[idx, 'lastupdate'] = datetime.date.today()\n",
    "sub2.loc[idx, 'lastupdate']"
   ]
  },
  {
   "cell_type": "markdown",
   "metadata": {},
   "source": [
    "### In between\n",
    "One common situation that happens is an initial full sized ```DataFrame``` is narrowed down to a much smaller one by filtering the data. Maybe new columns are added as part of some calculations, and then as a final result, the original ```DataFrame``` should be updated. One way to do that is to use the index to help you out."
   ]
  },
  {
   "cell_type": "code",
   "execution_count": 20,
   "metadata": {},
   "outputs": [
    {
     "data": {
      "text/plain": [
       "0    2021-01-25\n",
       "1    2021-01-25\n",
       "2    2021-01-25\n",
       "Name: manualupdate, dtype: object"
      ]
     },
     "execution_count": 20,
     "metadata": {},
     "output_type": "execute_result"
    }
   ],
   "source": [
    "sub3 = df[df['dob'] < dob_limit].copy()                                          # we'll be updating this DataFrame\n",
    "sub3['manualupdate'] = datetime.date.today() - datetime.timedelta(days=10)       # you can modify this DataFrame\n",
    "sub3 = sub3.head(3)                                                              # or even make it smaller\n",
    "sub3['manualupdate']"
   ]
  },
  {
   "cell_type": "markdown",
   "metadata": {},
   "source": [
    "Now, we'll use the fact that ```sub3``` shares an index with the original ```df``` to use it to update the data. We can update all matching row of column ```lastupdate``` for example."
   ]
  },
  {
   "cell_type": "code",
   "execution_count": 21,
   "metadata": {},
   "outputs": [
    {
     "data": {
      "text/html": [
       "<div>\n",
       "<style scoped>\n",
       "    .dataframe tbody tr th:only-of-type {\n",
       "        vertical-align: middle;\n",
       "    }\n",
       "\n",
       "    .dataframe tbody tr th {\n",
       "        vertical-align: top;\n",
       "    }\n",
       "\n",
       "    .dataframe thead th {\n",
       "        text-align: right;\n",
       "    }\n",
       "</style>\n",
       "<table border=\"1\" class=\"dataframe\">\n",
       "  <thead>\n",
       "    <tr style=\"text-align: right;\">\n",
       "      <th></th>\n",
       "      <th>first_name</th>\n",
       "      <th>last_name</th>\n",
       "      <th>dob</th>\n",
       "      <th>lastupdate</th>\n",
       "      <th>city</th>\n",
       "      <th>state</th>\n",
       "      <th>zip</th>\n",
       "    </tr>\n",
       "  </thead>\n",
       "  <tbody>\n",
       "    <tr>\n",
       "      <th>0</th>\n",
       "      <td>Joshy</td>\n",
       "      <td>Franco</td>\n",
       "      <td>1969-11-24</td>\n",
       "      <td>2021-01-25</td>\n",
       "      <td>Chicago</td>\n",
       "      <td>IL</td>\n",
       "      <td>60601</td>\n",
       "    </tr>\n",
       "    <tr>\n",
       "      <th>1</th>\n",
       "      <td>Beth</td>\n",
       "      <td>Miller</td>\n",
       "      <td>1909-12-04</td>\n",
       "      <td>2021-01-25</td>\n",
       "      <td>Petersonstad</td>\n",
       "      <td>AK</td>\n",
       "      <td>52881</td>\n",
       "    </tr>\n",
       "    <tr>\n",
       "      <th>2</th>\n",
       "      <td>Kevin</td>\n",
       "      <td>Kim</td>\n",
       "      <td>1952-01-26</td>\n",
       "      <td>2021-01-25</td>\n",
       "      <td>Yatestown</td>\n",
       "      <td>ME</td>\n",
       "      <td>81028</td>\n",
       "    </tr>\n",
       "  </tbody>\n",
       "</table>\n",
       "</div>"
      ],
      "text/plain": [
       "  first_name last_name         dob  lastupdate          city state    zip\n",
       "0      Joshy    Franco  1969-11-24  2021-01-25       Chicago    IL  60601\n",
       "1       Beth    Miller  1909-12-04  2021-01-25  Petersonstad    AK  52881\n",
       "2      Kevin       Kim  1952-01-26  2021-01-25     Yatestown    ME  81028"
      ]
     },
     "execution_count": 21,
     "metadata": {},
     "output_type": "execute_result"
    }
   ],
   "source": [
    "df.loc[sub3.index, 'lastupdate'] = sub3['manualupdate']\n",
    "df.loc[sub3.index]"
   ]
  },
  {
   "cell_type": "markdown",
   "metadata": {},
   "source": [
    "Now, you can see that those rows have been updated from our smaller subset of data. \n",
    "\n",
    "## Subsets of columns\n",
    "You also may encounter this warning when working with subsets of columns in a ```DataFrame```."
   ]
  },
  {
   "cell_type": "code",
   "execution_count": 22,
   "metadata": {},
   "outputs": [
    {
     "name": "stderr",
     "output_type": "stream",
     "text": [
      "/Users/mcw/.pyenv/versions/3.8.6/envs/pandas/lib/python3.8/site-packages/pandas/core/indexing.py:670: SettingWithCopyWarning: \n",
      "A value is trying to be set on a copy of a slice from a DataFrame\n",
      "\n",
      "See the caveats in the documentation: https://pandas.pydata.org/pandas-docs/stable/user_guide/indexing.html#returning-a-view-versus-a-copy\n",
      "  iloc._setitem_with_indexer(indexer, value)\n",
      "<ipython-input-22-3e10c5d68e8e>:2: SettingWithCopyWarning: \n",
      "A value is trying to be set on a copy of a slice from a DataFrame\n",
      "\n",
      "See the caveats in the documentation: https://pandas.pydata.org/pandas-docs/stable/user_guide/indexing.html#returning-a-view-versus-a-copy\n",
      "  df_d.loc[idx, 'zip'] = \"00313\" # SettingWithCopyWarning\n"
     ]
    }
   ],
   "source": [
    "df_d = df[['zip']]\n",
    "df_d.loc[idx, 'zip'] = \"00313\" # SettingWithCopyWarning "
   ]
  },
  {
   "cell_type": "markdown",
   "metadata": {},
   "source": [
    "A great way to suppress the warning here is to do a full slice with ```loc``` in your initial selection. You can also use ```copy```."
   ]
  },
  {
   "cell_type": "code",
   "execution_count": 23,
   "metadata": {},
   "outputs": [],
   "source": [
    "df_d = df.loc[:, ['zip']]\n",
    "\n",
    "df_d.loc[idx, 'zip'] = \"00313\""
   ]
  },
  {
   "cell_type": "markdown",
   "metadata": {},
   "source": [
    "### For completeness, some more details\n",
    "Now you can read about this warning in many [other](https://www.dataquest.io/blog/settingwithcopywarning/) [places](https://stackoverflow.com/questions/20625582/how-to-deal-with-settingwithcopywarning-in-pandas), and if you've come here through a search engine maybe you've already found them either confusing or not directly applicable to your situation. I took a slightly different approach above to show the situation where I usually see this error. However, a more common reason new pandas users encounter this error is when trying to update their ```DataFrame``` using the array index operator (```[]```)."
   ]
  },
  {
   "cell_type": "code",
   "execution_count": 24,
   "metadata": {},
   "outputs": [
    {
     "name": "stderr",
     "output_type": "stream",
     "text": [
      "<ipython-input-24-95dc4215230c>:1: SettingWithCopyWarning: \n",
      "A value is trying to be set on a copy of a slice from a DataFrame.\n",
      "Try using .loc[row_indexer,col_indexer] = value instead\n",
      "\n",
      "See the caveats in the documentation: https://pandas.pydata.org/pandas-docs/stable/user_guide/indexing.html#returning-a-view-versus-a-copy\n",
      "  df[df['dob'] < dob_limit]['lastupdate'] = datetime.date.today()\n"
     ]
    }
   ],
   "source": [
    "df[df['dob'] < dob_limit]['lastupdate'] = datetime.date.today()"
   ]
  },
  {
   "cell_type": "markdown",
   "metadata": {},
   "source": [
    "The fix here is pretty straightforward, use ```loc```. Let's give that a try."
   ]
  },
  {
   "cell_type": "code",
   "execution_count": 25,
   "metadata": {},
   "outputs": [
    {
     "data": {
      "text/html": [
       "<div>\n",
       "<style scoped>\n",
       "    .dataframe tbody tr th:only-of-type {\n",
       "        vertical-align: middle;\n",
       "    }\n",
       "\n",
       "    .dataframe tbody tr th {\n",
       "        vertical-align: top;\n",
       "    }\n",
       "\n",
       "    .dataframe thead th {\n",
       "        text-align: right;\n",
       "    }\n",
       "</style>\n",
       "<table border=\"1\" class=\"dataframe\">\n",
       "  <thead>\n",
       "    <tr style=\"text-align: right;\">\n",
       "      <th></th>\n",
       "      <th>first_name</th>\n",
       "      <th>last_name</th>\n",
       "      <th>dob</th>\n",
       "      <th>lastupdate</th>\n",
       "      <th>city</th>\n",
       "      <th>state</th>\n",
       "      <th>zip</th>\n",
       "    </tr>\n",
       "  </thead>\n",
       "  <tbody>\n",
       "    <tr>\n",
       "      <th>0</th>\n",
       "      <td>Joshy</td>\n",
       "      <td>Franco</td>\n",
       "      <td>1969-11-24</td>\n",
       "      <td>2021-02-03</td>\n",
       "      <td>Chicago</td>\n",
       "      <td>IL</td>\n",
       "      <td>60601</td>\n",
       "    </tr>\n",
       "  </tbody>\n",
       "</table>\n",
       "</div>"
      ],
      "text/plain": [
       "  first_name last_name         dob  lastupdate     city state    zip\n",
       "0      Joshy    Franco  1969-11-24  2021-02-03  Chicago    IL  60601"
      ]
     },
     "execution_count": 25,
     "metadata": {},
     "output_type": "execute_result"
    }
   ],
   "source": [
    "df.loc[df['dob'] < dob_limit, 'lastupdate'] = datetime.date.today() - datetime.timedelta(days=1)\n",
    "df.loc[df['dob'] < dob_limit].head(1)"
   ]
  },
  {
   "cell_type": "markdown",
   "metadata": {},
   "source": [
    "That works. The warning here was telling us that our first update is (potentially) operating on a copy of our original data. I don't think this is quite as obvious as our opening case because pandas has some complicated reasons for choosing to sometimes return a copy and sometimes return a view into the original data, and this may not seem obvious when the update is on one line. When it can detect that this is happening, it raises this warning.\n",
    "\n",
    "This is called chained assignment. The assignment above with the warning is really doing this:"
   ]
  },
  {
   "cell_type": "code",
   "execution_count": 26,
   "metadata": {
    "scrolled": true
   },
   "outputs": [
    {
     "name": "stderr",
     "output_type": "stream",
     "text": [
      "<ipython-input-26-4d66135bbbfe>:1: SettingWithCopyWarning: \n",
      "A value is trying to be set on a copy of a slice from a DataFrame.\n",
      "Try using .loc[row_indexer,col_indexer] = value instead\n",
      "\n",
      "See the caveats in the documentation: https://pandas.pydata.org/pandas-docs/stable/user_guide/indexing.html#returning-a-view-versus-a-copy\n",
      "  df.__getitem__(df.__getitem__('dob') < dob_limit).__setitem__('lastupdate', datetime.date.today())\n"
     ]
    }
   ],
   "source": [
    "df.__getitem__(df.__getitem__('dob') < dob_limit).__setitem__('lastupdate', datetime.date.today())"
   ]
  },
  {
   "cell_type": "markdown",
   "metadata": {},
   "source": [
    "When you use the array index operator, the ```__getitem__``` and ```__setitem__``` methods are invoked for getting and setting respectively. That first function call to ```__getitem__``` is returning a copy of the data, then attempting to set data on it, triggering the warning.\n",
    "\n",
    "\n",
    "If we use ```loc```, though, it will be doing this, without returning a temporary view."
   ]
  },
  {
   "cell_type": "code",
   "execution_count": 27,
   "metadata": {},
   "outputs": [],
   "source": [
    "df.loc.__setitem__((df.__getitem__('dob') < dob_limit, 'lastupdate'), datetime.date.today())"
   ]
  },
  {
   "cell_type": "markdown",
   "metadata": {},
   "source": [
    "So whenever you see this warning, just look at your code and check two things. Did you try to update the data using ```[]```? If so, switch to ```loc``` (or ```iloc```). If you're doing that and it's still complaining, it's because your ```DataFrame``` was created from another ```DataFrame```. Either make a full copy if you plant to update it, or update your original ```DataFrame``` instead."
   ]
  }
 ],
 "metadata": {
  "kernelspec": {
   "display_name": "Python 3",
   "language": "python",
   "name": "python3"
  },
  "language_info": {
   "codemirror_mode": {
    "name": "ipython",
    "version": 3
   },
   "file_extension": ".py",
   "mimetype": "text/x-python",
   "name": "python",
   "nbconvert_exporter": "python",
   "pygments_lexer": "ipython3",
   "version": "3.8.6"
  }
 },
 "nbformat": 4,
 "nbformat_minor": 4
}

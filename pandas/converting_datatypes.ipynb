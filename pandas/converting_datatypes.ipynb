{
 "cells": [
  {
   "cell_type": "markdown",
   "metadata": {
    "pycharm": {
     "name": "#%% md\n"
    }
   },
   "source": [
    "Pandas is great for dealing with both numerical and text data. In most projects you'll need to clean up and verify your data before analysing or using it for anything useful. Data might be delivered in databases, csv or other formats of data file, web scraping results, or even manually entered. Once you have loaded data into pandas, you'll likely need to convert it to a type that makes the most sense for what you are trying to accomplish. In this post, I'm going to review the basic datatypes in pandas and how to safely and accurately convert data.\n",
    "\n",
    "## DataFrame and Series\n",
    "First, let's review the basic container types in pandas, ```Series``` and ```DataFrame```. A ```Series``` is a one dimensional labeled array of data, backed by a ```NumPy``` array. A ```DataFrame``` is a two-dimensional structure that consists of multiple Series columns that share an index. A Series has a data type, referenced as [```dtype```](https://numpy.org/doc/stable/reference/arrays.dtypes.html), and all elements in that ```Series``` will share the same type.\n",
    "\n",
    "## But what types?\n",
    "The data type can be a core ```NumPy``` datatype, which means it could be a numerical type, or Python object. But the type can also be a pandas extension type, known as an ```ExtensionDType```. Without getting into too much detail, just know two very common examples are the ```CategoricalDType```, and in pandas 1.0+, the ```StringDType```. For now, what's important to remember is that all elements in a ```Series``` share the same type.\n",
    "\n",
    "\n",
    "What's important to realize is that when constructiong a ```Series``` or a ```DataFrame```, pandas will pick the datatype that can represent all values in the ```Series``` (or ```DataFrame```). Let's look at an example to make this more clear.\n"
   ]
  },
  {
   "cell_type": "code",
   "execution_count": 1,
   "metadata": {
    "pycharm": {
     "name": "#%%\n"
    }
   },
   "outputs": [],
   "source": [
    "import pandas as pd"
   ]
  },
  {
   "cell_type": "code",
   "execution_count": 2,
   "metadata": {
    "pycharm": {
     "name": "#%%\n"
    }
   },
   "outputs": [
    {
     "data": {
      "text/plain": [
       "0      1\n",
       "1    N/A\n",
       "2      2\n",
       "dtype: object"
      ]
     },
     "execution_count": 2,
     "metadata": {},
     "output_type": "execute_result"
    }
   ],
   "source": [
    "s = pd.Series([1.0, 'N/A', 2])\n",
    "s"
   ]
  },
  {
   "cell_type": "markdown",
   "metadata": {
    "pycharm": {
     "name": "#%% md\n"
    }
   },
   "source": [
    "As you can see, pandas has chosen the ```object``` type for my ```Series``` since it can represent values that are floating point numbers, strings, and integers. The individual items in this ```Series``` are all of a different type in this case, but can be represented as objects."
   ]
  },
  {
   "cell_type": "code",
   "execution_count": 3,
   "metadata": {
    "pycharm": {
     "name": "#%%\n"
    }
   },
   "outputs": [
    {
     "name": "stdout",
     "output_type": "stream",
     "text": [
      "<class 'float'>\n",
      "<class 'str'>\n",
      "<class 'int'>\n"
     ]
    }
   ],
   "source": [
    "print(type(s[0]))\n",
    "print(type(s[1]))\n",
    "print(type(s[2]))"
   ]
  },
  {
   "cell_type": "markdown",
   "metadata": {
    "pycharm": {
     "name": "#%% md\n"
    }
   },
   "source": [
    "## So, what's the problem?\n",
    "The problem with using object for everything is that you rarely want to work with your data this way. Looking at this first example, if you had imported this data from a text file you'd most likely want it to be treated as numerical, and perhaps calculate some statistical values from it."
   ]
  },
  {
   "cell_type": "code",
   "execution_count": 4,
   "metadata": {
    "pycharm": {
     "name": "#%%\n"
    }
   },
   "outputs": [
    {
     "name": "stdout",
     "output_type": "stream",
     "text": [
      "unsupported operand type(s) for +: 'float' and 'str'\n"
     ]
    }
   ],
   "source": [
    "try:\n",
    "    s.mean()\n",
    "except Exception as ex:\n",
    "    print(ex)"
   ]
  },
  {
   "cell_type": "markdown",
   "metadata": {
    "pycharm": {
     "name": "#%% md\n"
    }
   },
   "source": [
    "It's clear here that the ```mean``` function fails because it's trying to add up the values in the ```Series``` and cannot add the 'N/A' to the running sum of values.\n",
    "\n",
    "## So how do we fix this?\n",
    "Well, we could inspect the values and convert them by hand or using some other logic, but luckily pandas gives us a few options to do this in a sensible way. Let's go through them all.\n",
    "\n",
    "## astype\n",
    "First, you can try to use ```astype``` to convert values. ```astype``` is limited, however, because if it cannot convert a value it will either raise an error or return the original value. Because of this, it cannot help us in this situation."
   ]
  },
  {
   "cell_type": "code",
   "execution_count": 5,
   "metadata": {
    "pycharm": {
     "name": "#%%\n"
    }
   },
   "outputs": [
    {
     "name": "stdout",
     "output_type": "stream",
     "text": [
      "could not convert string to float: 'N/A'\n"
     ]
    }
   ],
   "source": [
    "try:\n",
    "    s.astype('float')\n",
    "except Exception as ex:\n",
    "    print(ex)"
   ]
  },
  {
   "cell_type": "markdown",
   "metadata": {
    "pycharm": {
     "name": "#%% md\n"
    }
   },
   "source": [
    "But ```astype``` is very useful, so before moving on, let's look at a few examples where you would use it. First, if your data was all convertible between types, it would do just what you want."
   ]
  },
  {
   "cell_type": "code",
   "execution_count": 6,
   "metadata": {
    "pycharm": {
     "name": "#%%\n"
    }
   },
   "outputs": [
    {
     "name": "stdout",
     "output_type": "stream",
     "text": [
      "0      1\n",
      "1      2\n",
      "2    3.4\n",
      "3    5.5\n",
      "dtype: object\n",
      "0    1.0\n",
      "1    2.0\n",
      "2    3.4\n",
      "3    5.5\n",
      "dtype: float64\n"
     ]
    }
   ],
   "source": [
    "s2 = pd.Series([1, \"2\", \"3.4\", 5.5])\n",
    "print(s2)\n",
    "print(s2.astype('float'))"
   ]
  },
  {
   "cell_type": "markdown",
   "metadata": {
    "pycharm": {
     "name": "#%% md\n"
    }
   },
   "source": [
    "Second, ```astype``` is useful for saving space in ```Series``` and ```DataFrame```s, especially when you have repeated types that can be expressed as [categoricals](https://pandas.pydata.org/pandas-docs/stable/user_guide/categorical.html). Categoricals can save memory and also make data a little more readable during analysis since it will tell you all the possible values. For example:"
   ]
  },
  {
   "cell_type": "code",
   "execution_count": 7,
   "metadata": {
    "pycharm": {
     "name": "#%%\n"
    }
   },
   "outputs": [],
   "source": [
    "s3 = pd.Series([\"Black\", \"Red\"] * 1000)\n",
    "\n",
    "s3.astype('category')\n",
    "\n",
    "print(\"String:\", s3.memory_usage())\n",
    "print(\"Category:\", s3.astype('category').memory_usage())"
   ]
  },
  {
   "cell_type": "markdown",
   "metadata": {
    "pycharm": {
     "name": "#%% md\n"
    }
   },
   "source": [
    "You can also save space by using smaller ```NumPy``` types."
   ]
  },
  {
   "cell_type": "code",
   "execution_count": 10,
   "metadata": {
    "pycharm": {
     "name": "#%%\n"
    }
   },
   "outputs": [],
   "source": [
    "s4 = pd.Series([22000, 3, 1, 9])\n",
    "\n",
    "print(s4.memory_usage())\n",
    "\n",
    "print(s4.astype('int8').memory_usage())"
   ]
  },
  {
   "cell_type": "markdown",
   "metadata": {
    "pycharm": {
     "name": "#%% md\n"
    }
   },
   "source": [
    "But note the error above! It will happily convert numbers that don't fit in the new type without reporting the error to you."
   ]
  },
  {
   "cell_type": "code",
   "execution_count": 13,
   "metadata": {
    "pycharm": {
     "name": "#%%\n"
    }
   },
   "outputs": [
    {
     "data": {
      "text/plain": [
       "0   -16\n",
       "1     3\n",
       "2     1\n",
       "3     9\n",
       "dtype: int8"
      ]
     },
     "execution_count": 13,
     "metadata": {},
     "output_type": "execute_result"
    }
   ],
   "source": [
    "s4.astype('int8')"
   ]
  },
  {
   "cell_type": "markdown",
   "metadata": {
    "pycharm": {
     "name": "#%% md\n"
    }
   },
   "source": [
    "Note that you can also use ```astype``` on ```DataFrame```s, even specifying different values for each column"
   ]
  },
  {
   "cell_type": "code",
   "execution_count": 14,
   "metadata": {
    "pycharm": {
     "name": "#%%\n"
    }
   },
   "outputs": [],
   "source": [
    "df = pd.DataFrame({'a': [1,2,3.3, 4], 'b': [4, 5, 2, 3], 'c': [\"4\", 5.5, \"7.09\", 1]})"
   ]
  },
  {
   "cell_type": "code",
   "execution_count": 15,
   "metadata": {
    "pycharm": {
     "name": "#%%\n"
    }
   },
   "outputs": [
    {
     "data": {
      "text/html": [
       "<div>\n",
       "<style scoped>\n",
       "    .dataframe tbody tr th:only-of-type {\n",
       "        vertical-align: middle;\n",
       "    }\n",
       "\n",
       "    .dataframe tbody tr th {\n",
       "        vertical-align: top;\n",
       "    }\n",
       "\n",
       "    .dataframe thead th {\n",
       "        text-align: right;\n",
       "    }\n",
       "</style>\n",
       "<table border=\"1\" class=\"dataframe\">\n",
       "  <thead>\n",
       "    <tr style=\"text-align: right;\">\n",
       "      <th></th>\n",
       "      <th>a</th>\n",
       "      <th>b</th>\n",
       "      <th>c</th>\n",
       "    </tr>\n",
       "  </thead>\n",
       "  <tbody>\n",
       "    <tr>\n",
       "      <th>0</th>\n",
       "      <td>1.0</td>\n",
       "      <td>4.0</td>\n",
       "      <td>4.00</td>\n",
       "    </tr>\n",
       "    <tr>\n",
       "      <th>1</th>\n",
       "      <td>2.0</td>\n",
       "      <td>5.0</td>\n",
       "      <td>5.50</td>\n",
       "    </tr>\n",
       "    <tr>\n",
       "      <th>2</th>\n",
       "      <td>3.3</td>\n",
       "      <td>2.0</td>\n",
       "      <td>7.09</td>\n",
       "    </tr>\n",
       "    <tr>\n",
       "      <th>3</th>\n",
       "      <td>4.0</td>\n",
       "      <td>3.0</td>\n",
       "      <td>1.00</td>\n",
       "    </tr>\n",
       "  </tbody>\n",
       "</table>\n",
       "</div>"
      ],
      "text/plain": [
       "     a    b     c\n",
       "0  1.0  4.0  4.00\n",
       "1  2.0  5.0  5.50\n",
       "2  3.3  2.0  7.09\n",
       "3  4.0  3.0  1.00"
      ]
     },
     "execution_count": 15,
     "metadata": {},
     "output_type": "execute_result"
    }
   ],
   "source": [
    "df.astype('float')"
   ]
  },
  {
   "cell_type": "code",
   "execution_count": 16,
   "metadata": {
    "pycharm": {
     "name": "#%%\n"
    }
   },
   "outputs": [
    {
     "data": {
      "text/html": [
       "<div>\n",
       "<style scoped>\n",
       "    .dataframe tbody tr th:only-of-type {\n",
       "        vertical-align: middle;\n",
       "    }\n",
       "\n",
       "    .dataframe tbody tr th {\n",
       "        vertical-align: top;\n",
       "    }\n",
       "\n",
       "    .dataframe thead th {\n",
       "        text-align: right;\n",
       "    }\n",
       "</style>\n",
       "<table border=\"1\" class=\"dataframe\">\n",
       "  <thead>\n",
       "    <tr style=\"text-align: right;\">\n",
       "      <th></th>\n",
       "      <th>a</th>\n",
       "      <th>b</th>\n",
       "      <th>c</th>\n",
       "    </tr>\n",
       "  </thead>\n",
       "  <tbody>\n",
       "    <tr>\n",
       "      <th>0</th>\n",
       "      <td>1</td>\n",
       "      <td>4.0</td>\n",
       "      <td>4</td>\n",
       "    </tr>\n",
       "    <tr>\n",
       "      <th>1</th>\n",
       "      <td>2</td>\n",
       "      <td>5.0</td>\n",
       "      <td>5.5</td>\n",
       "    </tr>\n",
       "    <tr>\n",
       "      <th>2</th>\n",
       "      <td>3</td>\n",
       "      <td>2.0</td>\n",
       "      <td>7.09</td>\n",
       "    </tr>\n",
       "    <tr>\n",
       "      <th>3</th>\n",
       "      <td>4</td>\n",
       "      <td>3.0</td>\n",
       "      <td>1</td>\n",
       "    </tr>\n",
       "  </tbody>\n",
       "</table>\n",
       "</div>"
      ],
      "text/plain": [
       "   a    b     c\n",
       "0  1  4.0     4\n",
       "1  2  5.0   5.5\n",
       "2  3  2.0  7.09\n",
       "3  4  3.0     1"
      ]
     },
     "execution_count": 16,
     "metadata": {},
     "output_type": "execute_result"
    }
   ],
   "source": [
    "df.astype({'a': 'uint', 'b': 'float16'})"
   ]
  },
  {
   "cell_type": "markdown",
   "metadata": {
    "pycharm": {
     "name": "#%% md\n"
    }
   },
   "source": [
    "## to_numeric (or to_datetime or to_timedelta)\n",
    "There are a few better options available in pandas for converting one-dimensional data (i.e. one ```Series``` at a time). These methods provide better error correction than ```astype``` through the optional ```errors``` and ```downcast``` parameters. Take a look at how it can deal with the first ```Series``` created in this post. Using ```coerce``` for errors will turn any conversion errors into ```NaN```. Passing in ```ignore``` will get the same behavior we had available in ```astype```, returning our original input. Likewise, passing in ```raise``` will raise an exception."
   ]
  },
  {
   "cell_type": "code",
   "execution_count": 17,
   "metadata": {
    "pycharm": {
     "name": "#%%\n"
    }
   },
   "outputs": [
    {
     "data": {
      "text/plain": [
       "0    1.0\n",
       "1    NaN\n",
       "2    2.0\n",
       "dtype: float64"
      ]
     },
     "execution_count": 17,
     "metadata": {},
     "output_type": "execute_result"
    }
   ],
   "source": [
    "pd.to_numeric(s, errors='coerce')"
   ]
  },
  {
   "cell_type": "markdown",
   "metadata": {
    "pycharm": {
     "name": "#%% md\n"
    }
   },
   "source": [
    "And if we want to save some space, we can safely downcast to the minimim size that will hold our data without errors (getting ```int16``` instead of ```int64``` if we didn't downcast)"
   ]
  },
  {
   "cell_type": "code",
   "execution_count": 18,
   "metadata": {
    "pycharm": {
     "name": "#%%\n"
    }
   },
   "outputs": [
    {
     "data": {
      "text/plain": [
       "0    22000\n",
       "1        3\n",
       "2        1\n",
       "3        9\n",
       "dtype: int16"
      ]
     },
     "execution_count": 18,
     "metadata": {},
     "output_type": "execute_result"
    }
   ],
   "source": [
    "pd.to_numeric(s4, downcast='integer')"
   ]
  },
  {
   "cell_type": "code",
   "execution_count": 19,
   "metadata": {
    "pycharm": {
     "name": "#%%\n"
    }
   },
   "outputs": [
    {
     "data": {
      "text/plain": [
       "dtype('int64')"
      ]
     },
     "execution_count": 19,
     "metadata": {},
     "output_type": "execute_result"
    }
   ],
   "source": [
    "pd.to_numeric(s4).dtype"
   ]
  },
  {
   "cell_type": "markdown",
   "metadata": {
    "pycharm": {
     "name": "#%% md\n"
    }
   },
   "source": [
    "The ```to_datetime``` and ```to_timedelta``` methods will behave similarly, but for dates and timedeltas."
   ]
  },
  {
   "cell_type": "code",
   "execution_count": 20,
   "metadata": {
    "pycharm": {
     "name": "#%%\n"
    }
   },
   "outputs": [
    {
     "data": {
      "text/plain": [
       "TimedeltaIndex([  '2 days 00:00:00',   '0 days 00:05:00', '-1 days +23:59:57',\n",
       "                  '0 days 00:04:00',                 NaT],\n",
       "               dtype='timedelta64[ns]', freq=None)"
      ]
     },
     "execution_count": 20,
     "metadata": {},
     "output_type": "execute_result"
    }
   ],
   "source": [
    "pd.to_timedelta(['2 days', '5 min', '-3s', '4M', '1 parsec'], errors='coerce')"
   ]
  },
  {
   "cell_type": "code",
   "execution_count": 21,
   "metadata": {
    "pycharm": {
     "name": "#%%\n"
    }
   },
   "outputs": [
    {
     "data": {
      "text/plain": [
       "DatetimeIndex(['2020-11-01 00:00:00', '1919-01-04 00:00:00',\n",
       "               '2020-09-30 08:00:31'],\n",
       "              dtype='datetime64[ns]', freq=None)"
      ]
     },
     "execution_count": 21,
     "metadata": {},
     "output_type": "execute_result"
    }
   ],
   "source": [
    "pd.to_datetime(['11/1/2020', 'Jan 4th 1919', '20200930 08:00:31'])"
   ]
  },
  {
   "cell_type": "markdown",
   "metadata": {
    "pycharm": {
     "name": "#%% md\n"
    }
   },
   "source": [
    "Since these functions are all for 1-dimensional data, you will need to use ```apply``` on a ```DataFrame```. For instance, to downcast all the values to the smallest possible floating point size, use the downcast parameter."
   ]
  },
  {
   "cell_type": "code",
   "execution_count": 22,
   "metadata": {
    "pycharm": {
     "name": "#%%\n"
    }
   },
   "outputs": [
    {
     "data": {
      "text/plain": [
       "a    float32\n",
       "b    float32\n",
       "c    float32\n",
       "dtype: object"
      ]
     },
     "execution_count": 22,
     "metadata": {},
     "output_type": "execute_result"
    }
   ],
   "source": [
    "from functools import partial\n",
    "\n",
    "df.apply(partial(pd.to_numeric, downcast='float')).dtypes"
   ]
  },
  {
   "cell_type": "markdown",
   "metadata": {
    "pycharm": {
     "name": "#%% md\n"
    }
   },
   "source": [
    "## infer_objects\n",
    "If you happend to have a pandas object that consists of objects that haven't been converted yet, both ```Series``` and ```DataFrame``` have a method that will attempt to convert those objects to the most sensible type. To see this, you have to do a sort of contrived example, because pandas will attempt to convert objects when you create them. For example:"
   ]
  },
  {
   "cell_type": "code",
   "execution_count": 23,
   "metadata": {
    "pycharm": {
     "name": "#%%\n"
    }
   },
   "outputs": [
    {
     "name": "stdout",
     "output_type": "stream",
     "text": [
      "int64\n",
      "object\n",
      "int64\n"
     ]
    }
   ],
   "source": [
    "print(pd.Series([1, 2, 3, 4], dtype='object').infer_objects().dtype)\n",
    "print(pd.Series([1, 2, 3, '4'], dtype='object').infer_objects().dtype)\n",
    "print(pd.Series([1, 2, 3, 4]).dtype)\n"
   ]
  },
  {
   "cell_type": "markdown",
   "metadata": {
    "pycharm": {
     "name": "#%% md\n"
    }
   },
   "source": [
    "You can see here that if the Series happens to have all numerical types (in this case integers) but they are stored as objects, it can figure out how to convert these to integers. But it doesn't know how to convert the '4' to an integer. For that, you need to use one of the techniques from above.\n",
    "\n",
    "## convert_dtypes\n",
    "This method is new in pandas 1.0, and can convert to the best possible ```dtype``` that supports ```pd.NA```. Note that this will be the pandas dtype versus the ```NumPy``` dtype (i.e. ```Int64``` instead of ```int64```)."
   ]
  },
  {
   "cell_type": "code",
   "execution_count": 24,
   "metadata": {
    "pycharm": {
     "name": "#%%\n"
    }
   },
   "outputs": [
    {
     "name": "stdout",
     "output_type": "stream",
     "text": [
      "Int64\n",
      "object\n",
      "Int64\n"
     ]
    }
   ],
   "source": [
    "print(pd.Series([1, 2, 3, 4], dtype='object').convert_dtypes().dtype)\n",
    "print(pd.Series([1, 2, 3, '4'], dtype='object').convert_dtypes().dtype)\n",
    "print(pd.Series([1, 2, 3, 4]).convert_dtypes().dtype)\n",
    "\n"
   ]
  },
  {
   "cell_type": "markdown",
   "metadata": {
    "pycharm": {
     "name": "#%% md\n"
    }
   },
   "source": [
    "## What should you use most often then?\n",
    "What I recommend doing is looking at your raw data once it is imported. Depending on your data source, it may already be in the dtype that you want. But once you need to convert it, you have all the tools you need to do this correctly. For numeric types, the ```pd.to_numeric``` method is best suited for doing this conversion in a safe way, and with wise use of the ```downcast``` parameter, you can also save space. Consider using ```astype(\"category\")``` when you have repeated data to save some space as well. The ```convert_dtypes``` and ```infer_objects``` methods are not going to be that helpful in most cases unless you somehow have data stored as objects that is readily convertible to another type. Remember, there's no magic function in pandas that will ensure you have the best data type for every case, you need to examine and understand your own data to use or analyze it correctly. But knowing the best way to do that conversion is a great start."
   ]
  },
  {
   "cell_type": "code",
   "execution_count": null,
   "metadata": {
    "pycharm": {
     "name": "#%%\n"
    }
   },
   "outputs": [],
   "source": []
  }
 ],
 "metadata": {
  "kernelspec": {
   "display_name": "Python 3",
   "language": "python",
   "name": "python3"
  },
  "language_info": {
   "codemirror_mode": {
    "name": "ipython",
    "version": 3
   },
   "file_extension": ".py",
   "mimetype": "text/x-python",
   "name": "python",
   "nbconvert_exporter": "python",
   "pygments_lexer": "ipython3",
   "version": "3.8.6"
  }
 },
 "nbformat": 4,
 "nbformat_minor": 4
}
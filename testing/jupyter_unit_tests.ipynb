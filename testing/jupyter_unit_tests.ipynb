{
 "cells": [
  {
   "cell_type": "markdown",
   "metadata": {},
   "source": [
    "# Unit testing Python code in Jupyter notebooks\n",
    "Most of us agree that we should write unit tests, and many of us actually do. This should be especially true for production code, library code, or if you ascribe to test driven development, during the entire development process.\n",
    "\n",
    "Often Jupyter notebooks running Python are used for data exploration, and so users may not choose (or need) to write unit tests for their notebook code since they typically may be looking at results for each cell as they progress through the notebook, then coming to a conclusion, and moving on. However, in my experience what typically happens with notebooks is soon the code in the notebook moves beyond data exploration and is useful for further work. Or, perhaps the notebook itself produces results that are useful and need to be run on a regular basis. Perhaps the code needs to be maintained and integrated with external data sources. Then it becomes important to ensure that the code in the notebook can be tested and verified. \n",
    "\n",
    "In this case, what are our options for unit testing notebook code? In this article I'll cover several options for unit testing Python code in a Jupyter notebook.\n",
    "\n",
    "## Maybe just don't do it?\n",
    "The first option of Jupyter notebook unit testing is to just not do it at all. By this, I don't mean don't unit test your code, but rather *extract* it from the notebook into separate Python modules that you import back into your notebook. That code should be tested the way you usually unit test your code, whether that be with ```unittest```, ```pytest```, ```doctest```, or another unit testing framework. This article won't cover all those frameworks in detail, but a great choice for python developers is to not test inside their Jupyter notebooks, but to use the rich assortment of testing frameworks already available for Python code, and to move code to external modules as soon as possible in the development process.\n",
    "\n",
    "## OK, so you can test in a notebook\n",
    "If you end up deciding you want to leave your code inside a Jupyter notebook, there actually are some unit testing options. Before reviewing a few of them, let's just setup a code example that we might encounter in a Jupyter notebook. Let's say your notebook pulls some data from an API, calculates some results from it, then produces some graphs and other data summaries that it persists elsewhere. Maybe there's a function that produces the proper API URL, and we want to unit test that function. This function has some logic that changes the URL format based on the date for the report. Here's a debugged version."
   ]
  },
  {
   "cell_type": "code",
   "execution_count": 1,
   "metadata": {},
   "outputs": [],
   "source": [
    "import datetime\n",
    "import dateutil\n",
    "\n",
    "def make_url(date):\n",
    "    \"\"\"Return the url for our API call based on date.\"\"\"\n",
    "\n",
    "    if isinstance(date, str):\n",
    "        date = dateutil.parser.parse(date).date()\n",
    "    elif not isinstance(date, datetime.date):\n",
    "        raise ValueError(\"must be a date\")\n",
    "    if date >= datetime.date(2020, 1, 1):\n",
    "        return f\"https://api.example.com/v2/{date.year}/{date.month}/{date.day}\"\n",
    "    else:\n",
    "        return f\"https://api.example.com/v1/{date:%Y-%m-%d}\""
   ]
  },
  {
   "cell_type": "markdown",
   "metadata": {},
   "source": [
    "## Unit testing with unittest\n",
    "Normally, when we test with [```unittest```](https://docs.python.org/3/library/unittest.html) we would either put our test methods in a separate test module, or possibly we'd mix those methods inside the main module. Then we'd need to execute the ```unittest.main``` method, possibly as the default ```__main__``` method.  We can basically do the same thing in our Jupyter notebook. We can make a ```unitest.TestCase``` class, perform the tests we want, and then just execute the unit tests in any cell. The results of the tests can even be inspected or asserted to include no failures if you want the notebook execution to fail on errors. You just need to save the output of the ```unittest.main``` method and inspect it for errors."
   ]
  },
  {
   "cell_type": "code",
   "execution_count": 2,
   "metadata": {},
   "outputs": [
    {
     "name": "stderr",
     "output_type": "stream",
     "text": [
      "test_make_url_v1 (__main__.TestUrl) ... ok\n",
      "test_make_url_v2 (__main__.TestUrl) ... ok\n",
      "\n",
      "----------------------------------------------------------------------\n",
      "Ran 2 tests in 0.001s\n",
      "\n",
      "OK\n"
     ]
    }
   ],
   "source": [
    "import unittest\n",
    "\n",
    "class TestUrl(unittest.TestCase):\n",
    "    def test_make_url_v2(self):\n",
    "        date = datetime.date(2020, 1, 1)\n",
    "        self.assertEqual(make_url(date), \"https://api.example.com/v2/2020/1/1\")\n",
    "        \n",
    "    def test_make_url_v1(self):\n",
    "        date = datetime.date(2019, 12, 31)\n",
    "        self.assertEqual(make_url(date), \"https://api.example.com/v1/2019-12-31\")\n",
    "\n",
    "        \n",
    "res = unittest.main(argv=[''], verbosity=3, exit=False)\n",
    "\n",
    "# if we want our notebook to stop processing due to failures, we need a cell itself to fail\n",
    "assert len(res.result.failures) == 0"
   ]
  },
  {
   "cell_type": "markdown",
   "metadata": {},
   "source": [
    "This turns out to be fairly straightforward, and if you don't mind comingling code and tests in your notebook, it works fine.\n",
    "\n",
    "## Unit testing with doctest\n",
    "Another way to include tests in your code is to use [doctest](https://docs.python.org/3/library/doctest.html#module-doctest). Doctest uses specially formatted code documentation that includes our tests and the expected results. Below is an updated method with this special code documentation included, both for positive and negative test cases. This is a simple way to test and document code in one place, and often will be used in python modules where the main guard will just run the doct test, like this:\n",
    "\n",
    "```\n",
    "if __name__ == __main__:\n",
    "    doctest.testmod()\n",
    "```\n",
    "\n",
    "Since we're in a notebook, we will just add this to a cell below where our code is defined, and it will also work. First, here's our updated ```make_url``` method with the doctest comments."
   ]
  },
  {
   "cell_type": "code",
   "execution_count": 3,
   "metadata": {},
   "outputs": [],
   "source": [
    "def make_url(date):\n",
    "    \"\"\"Return the url for our API call based on date.\n",
    "    >>> make_url(\"1/1/2020\")\n",
    "    'https://api.example.com/v2/2020/1/1'\n",
    "    \n",
    "    >>> make_url(\"1-1-x1\")\n",
    "    Traceback (most recent call last):\n",
    "        ...\n",
    "    dateutil.parser._parser.ParserError: Unknown string format: 1-1-x1\n",
    "    \n",
    "    >>> make_url(\"1/1/20001\")\n",
    "    Traceback (most recent call last):\n",
    "        ...\n",
    "    dateutil.parser._parser.ParserError: year 20001 is out of range: 1/1/20001\n",
    "    \n",
    "    >>> make_url(datetime.date(2020,1,1))\n",
    "    'https://api.example.com/v2/2020/1/1'\n",
    "    \n",
    "    >>> make_url(datetime.date(2019,12,31))\n",
    "    'https://api.example.com/v1/2019-12-31'\n",
    "    \"\"\"\n",
    "    if isinstance(date, str):\n",
    "        date = dateutil.parser.parse(date).date()\n",
    "    elif not isinstance(date, datetime.date):\n",
    "        raise ValueError(\"must be a date\")\n",
    "    if date >= datetime.date(2020, 1, 1):\n",
    "        return f\"https://api.example.com/v2/{date.year}/{date.month}/{date.day}\"\n",
    "    else:\n",
    "        return f\"https://api.example.com/v1/{date:%Y-%m-%d}\"\n",
    "\n"
   ]
  },
  {
   "cell_type": "code",
   "execution_count": 4,
   "metadata": {},
   "outputs": [
    {
     "data": {
      "text/plain": [
       "TestResults(failed=0, attempted=5)"
      ]
     },
     "execution_count": 4,
     "metadata": {},
     "output_type": "execute_result"
    }
   ],
   "source": [
    "import doctest\n",
    "\n",
    "doctest.testmod()"
   ]
  },
  {
   "cell_type": "markdown",
   "metadata": {},
   "source": [
    "## Unit testing with testbook\n",
    "The [testbook](https://github.com/nteract/testbook) project is a different take on notebook unit testing. It allows you to refer to your notebooks in pure Python code from outside a notebook. This allows you to use any testing framework you like (for example, ```pytest```, or ```unittest```) in separate Python modules. You may have a situation where allowing users to modify and update notebook code is the best way to keep code updated and to allow for flexibility for end users. But you may prefer that the code still be tested and verified separately. Testbook makes this an option.\n",
    "\n",
    "First, you have to install it in your environment:\n",
    "\n",
    "```\n",
    "pip install testbook\n",
    "```\n",
    "or in your notebook\n",
    "```\n",
    "%pip install testbook\n",
    "````\n",
    "\n",
    "Now, in a separate python file, you can import your notebook code and test it there. In that file, you'll create code that looks like the following, and then you'll use whichever unit testing framework you prefer to actually execute the unit test. You might create the following code in a Python file (say ```jupyter_unit_tests.py```)."
   ]
  },
  {
   "cell_type": "code",
   "execution_count": 5,
   "metadata": {},
   "outputs": [],
   "source": [
    "import datetime\n",
    "import testbook\n",
    "\n",
    "@testbook.testbook('./jupyter_unit_tests.ipynb', execute=True)\n",
    "def test_make_url(tb):\n",
    "    func = tb.ref(\"make_url\")\n",
    "    date = datetime.date(2020, 1, 2)\n",
    "    assert make_url(date) == \"https://api.example.com/v2/2020/1/1\""
   ]
  },
  {
   "cell_type": "markdown",
   "metadata": {},
   "source": [
    "In this case, you can now run the tests with any unit testing framework. For example, with pytest, you would just run the following:\n",
    "\n",
    "```\n",
    "pytest jupyter_unit_tests.py\n",
    "```\n",
    "\n",
    "This works as a normal unit test, and the tests should pass. However, in developing this article, I realized that the ```testbook``` code has limited support for passing arguments in the unit test back into the notebook kernel for testing. These arguments are JSON serialized, and the current code knows how to handle a wide array of Python types. But it doesn't pass a datetime as an object, for example, but as a string. Since our code makes an attempt to parse strings into dates (after I modified it), it works. In other words, the unit test above is not passing in a ```datetime.date``` to the ```make_url``` method, but rather a string (```2020-01-02```) that is then parsed into a date. How could you pass in a date from the unit test into the notebook code? You have several options. First, you can make a date object in your notebook just for testing purposes and then refer to that in your unit tests."
   ]
  },
  {
   "cell_type": "code",
   "execution_count": 6,
   "metadata": {},
   "outputs": [],
   "source": [
    "testdate1 = datetime.date(2020,1,1)  # for unit test"
   ]
  },
  {
   "cell_type": "markdown",
   "metadata": {},
   "source": [
    "Then, you could write your unit test to use that variable in the test.\n",
    "\n",
    "A second option is to inject Python code into the notebook, then refer to it back in your unit test. Both options are shown in the final version of the external unit test, which would need to be saved to ```jupyter_unit_tests.py```."
   ]
  },
  {
   "cell_type": "code",
   "execution_count": 7,
   "metadata": {},
   "outputs": [],
   "source": [
    "import datetime\n",
    "\n",
    "import testbook\n",
    "\n",
    "@testbook.testbook('./jupyter_unit_tests.ipynb', execute=True)\n",
    "def test_make_url(tb):\n",
    "    f = tb.ref(\"make_url\")\n",
    "    d = \"2020-01-02\"\n",
    "    assert f(d) == \"https://api.example.com/v2/2020/1/2\"\n",
    "\n",
    "    # note that this is actually converted to a string\n",
    "    d = datetime.date(2020, 1, 2)\n",
    "    assert f(d) == \"https://api.example.com/v2/2020/1/2\"\n",
    "\n",
    "    # this one will be testing the date functionality\n",
    "    d2 = tb.ref(\"testdate1\")\n",
    "    assert f(d2) == \"https://api.example.com/v2/2020/1/1\"\n",
    "\n",
    "    # this one will inject similar code as above, then use it\n",
    "    tb.inject(\"d3 = datetime.date(2020, 2, 3)\")\n",
    "    d3 = tb.ref(\"d3\")\n",
    "    assert f(d3) == \"https://api.example.com/v2/2020/2/3\""
   ]
  },
  {
   "cell_type": "markdown",
   "metadata": {},
   "source": [
    "## Summary\n",
    "So whether you are a unit testing purist or you just want to sprinkle a few unit tests into your notebooks, there are several options for you to consider. Don't let your use of notebooks prevent you from doing the right thing in terms of testing your code."
   ]
  }
 ],
 "metadata": {
  "kernelspec": {
   "display_name": "Python 3",
   "language": "python",
   "name": "python3"
  },
  "language_info": {
   "codemirror_mode": {
    "name": "ipython",
    "version": 3
   },
   "file_extension": ".py",
   "mimetype": "text/x-python",
   "name": "python",
   "nbconvert_exporter": "python",
   "pygments_lexer": "ipython3",
   "version": "3.8.6"
  }
 },
 "nbformat": 4,
 "nbformat_minor": 4
}

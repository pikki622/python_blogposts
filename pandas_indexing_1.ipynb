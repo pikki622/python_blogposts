{
 "cells": [
  {
   "cell_type": "markdown",
   "metadata": {},
   "source": [
    "# Indexing and Selecting in pandas\n",
    "The topic of indexing and selecting data in pandas is core to using pandas, but it can be quite confusing. One reason for that is because over the years pandas has grown organically based on user requests so there are multiple way to select data out of a pandas ```DataFrame``` or ```Series```. Reading through the documentation can be a real challenge, especially for beginners. For more advanced users, it is easy to learn a few techniques and just fall back on your favorite method to access data and not realize that there might be simpler, faster, or more reliable ways to both select and modify your data.\n",
    "\n",
    "Since this can be a complicated and confusing topic, I'll break it into a few smaller posts so that it doesn't become overwhelming, working up from the basics to the more complex scenarios. The methods used for selecting and indexing are some of the most confusing methods to work with in pandas due to their different behavior with different argument types.\n",
    "\n",
    "## Indexing topics\n",
    "This will be the first of a series of posts covering indexing and selecting data. This post is just going to cover selecting data by index label or integer offsets. In the future, I'll discuss slicing, boolean indexing, the ```query``` method, cross sections, and much more.\n",
    "\n",
    "## Our test data\n",
    "As we get started, we want some data. But instead of making fake data to work with, let's grab some real data online that is a little more interesting. I live near Chicago, so I looked at the [Chicago Data Portal](https://data.cityofchicago.org) for some datasets. A smaller one I found was the [Individual Landmarks](https://data.cityofchicago.org/Historic-Preservation/Individual-Landmarks/tdab-kixi) dataset. It has text, numeric, and date fields. I'm going to manipulate it a bit to make it useful for explaining more concepts."
   ]
  },
  {
   "cell_type": "code",
   "execution_count": 1,
   "metadata": {},
   "outputs": [],
   "source": [
    "import pandas as pd\n",
    "import numpy as np\n",
    "\n",
    "# you should be able to grab this dataset as an unauthenticated user, but you can be rate limited\n",
    "df = pd.read_json(\"https://data.cityofchicago.org/resource/tdab-kixi.json\")"
   ]
  },
  {
   "cell_type": "code",
   "execution_count": 2,
   "metadata": {},
   "outputs": [
    {
     "data": {
      "text/html": [
       "<div>\n",
       "<style scoped>\n",
       "    .dataframe tbody tr th:only-of-type {\n",
       "        vertical-align: middle;\n",
       "    }\n",
       "\n",
       "    .dataframe tbody tr th {\n",
       "        vertical-align: top;\n",
       "    }\n",
       "\n",
       "    .dataframe thead th {\n",
       "        text-align: right;\n",
       "    }\n",
       "</style>\n",
       "<table border=\"1\" class=\"dataframe\">\n",
       "  <thead>\n",
       "    <tr style=\"text-align: right;\">\n",
       "      <th></th>\n",
       "      <th>landmark_name</th>\n",
       "      <th>id</th>\n",
       "      <th>address</th>\n",
       "      <th>landmark_designation_date</th>\n",
       "      <th>latitude</th>\n",
       "      <th>longitude</th>\n",
       "      <th>location</th>\n",
       "      <th>:@computed_region_rpca_8um6</th>\n",
       "      <th>:@computed_region_vrxf_vc4k</th>\n",
       "      <th>:@computed_region_6mkv_f3dw</th>\n",
       "      <th>:@computed_region_bdys_3d7i</th>\n",
       "      <th>:@computed_region_43wa_7qmu</th>\n",
       "      <th>:@computed_region_awaf_s7ux</th>\n",
       "      <th>date_built</th>\n",
       "      <th>architect</th>\n",
       "    </tr>\n",
       "  </thead>\n",
       "  <tbody>\n",
       "    <tr>\n",
       "      <th>0</th>\n",
       "      <td>Vassar Swiss Underwear Company Building</td>\n",
       "      <td>L-265</td>\n",
       "      <td>2543 - 2545 W Diversey Av</td>\n",
       "      <td>2008-07-30T07:00:00.000Z</td>\n",
       "      <td>41.931627</td>\n",
       "      <td>-87.692100</td>\n",
       "      <td>{'latitude': '41.9316266084', 'longitude': '-8...</td>\n",
       "      <td>1.0</td>\n",
       "      <td>23.0</td>\n",
       "      <td>22535.0</td>\n",
       "      <td>240.0</td>\n",
       "      <td>40.0</td>\n",
       "      <td>24.0</td>\n",
       "      <td>NaN</td>\n",
       "      <td>NaN</td>\n",
       "    </tr>\n",
       "    <tr>\n",
       "      <th>1</th>\n",
       "      <td>Mathilde Eliel House</td>\n",
       "      <td>L- 89</td>\n",
       "      <td>4122 S Ellis Av</td>\n",
       "      <td>1991-10-02T07:00:00.000Z</td>\n",
       "      <td>41.819256</td>\n",
       "      <td>-87.602788</td>\n",
       "      <td>{'latitude': '41.819255751', 'longitude': '-87...</td>\n",
       "      <td>36.0</td>\n",
       "      <td>2.0</td>\n",
       "      <td>4301.0</td>\n",
       "      <td>220.0</td>\n",
       "      <td>10.0</td>\n",
       "      <td>1.0</td>\n",
       "      <td>1886</td>\n",
       "      <td>Adler &amp; Sullivan</td>\n",
       "    </tr>\n",
       "    <tr>\n",
       "      <th>2</th>\n",
       "      <td>Manhattan Building</td>\n",
       "      <td>L-139</td>\n",
       "      <td>431 S Dearborn St</td>\n",
       "      <td>1978-07-07T07:00:00.000Z</td>\n",
       "      <td>41.876066</td>\n",
       "      <td>-87.628964</td>\n",
       "      <td>{'latitude': '41.8760657234', 'longitude': '-8...</td>\n",
       "      <td>35.0</td>\n",
       "      <td>38.0</td>\n",
       "      <td>14913.0</td>\n",
       "      <td>92.0</td>\n",
       "      <td>10.0</td>\n",
       "      <td>48.0</td>\n",
       "      <td>1891</td>\n",
       "      <td>William LeBaron Jenney</td>\n",
       "    </tr>\n",
       "  </tbody>\n",
       "</table>\n",
       "</div>"
      ],
      "text/plain": [
       "                             landmark_name     id                    address  \\\n",
       "0  Vassar Swiss Underwear Company Building  L-265  2543 - 2545 W Diversey Av   \n",
       "1                     Mathilde Eliel House  L- 89            4122 S Ellis Av   \n",
       "2                       Manhattan Building  L-139          431 S Dearborn St   \n",
       "\n",
       "  landmark_designation_date   latitude  longitude  \\\n",
       "0  2008-07-30T07:00:00.000Z  41.931627 -87.692100   \n",
       "1  1991-10-02T07:00:00.000Z  41.819256 -87.602788   \n",
       "2  1978-07-07T07:00:00.000Z  41.876066 -87.628964   \n",
       "\n",
       "                                            location  \\\n",
       "0  {'latitude': '41.9316266084', 'longitude': '-8...   \n",
       "1  {'latitude': '41.819255751', 'longitude': '-87...   \n",
       "2  {'latitude': '41.8760657234', 'longitude': '-8...   \n",
       "\n",
       "   :@computed_region_rpca_8um6  :@computed_region_vrxf_vc4k  \\\n",
       "0                          1.0                         23.0   \n",
       "1                         36.0                          2.0   \n",
       "2                         35.0                         38.0   \n",
       "\n",
       "   :@computed_region_6mkv_f3dw  :@computed_region_bdys_3d7i  \\\n",
       "0                      22535.0                        240.0   \n",
       "1                       4301.0                        220.0   \n",
       "2                      14913.0                         92.0   \n",
       "\n",
       "   :@computed_region_43wa_7qmu  :@computed_region_awaf_s7ux date_built  \\\n",
       "0                         40.0                         24.0        NaN   \n",
       "1                         10.0                          1.0       1886   \n",
       "2                         10.0                         48.0       1891   \n",
       "\n",
       "                architect  \n",
       "0                     NaN  \n",
       "1        Adler & Sullivan  \n",
       "2  William LeBaron Jenney  "
      ]
     },
     "execution_count": 2,
     "metadata": {},
     "output_type": "execute_result"
    }
   ],
   "source": [
    "df.head(3)"
   ]
  },
  {
   "cell_type": "code",
   "execution_count": 3,
   "metadata": {},
   "outputs": [
    {
     "data": {
      "text/plain": [
       "landmark_name                   object\n",
       "id                              object\n",
       "address                         object\n",
       "landmark_designation_date       object\n",
       "latitude                       float64\n",
       "longitude                      float64\n",
       "location                        object\n",
       ":@computed_region_rpca_8um6    float64\n",
       ":@computed_region_vrxf_vc4k    float64\n",
       ":@computed_region_6mkv_f3dw    float64\n",
       ":@computed_region_bdys_3d7i    float64\n",
       ":@computed_region_43wa_7qmu    float64\n",
       ":@computed_region_awaf_s7ux    float64\n",
       "date_built                      object\n",
       "architect                       object\n",
       "dtype: object"
      ]
     },
     "execution_count": 3,
     "metadata": {},
     "output_type": "execute_result"
    }
   ],
   "source": [
    "df.dtypes"
   ]
  },
  {
   "cell_type": "code",
   "execution_count": 4,
   "metadata": {},
   "outputs": [],
   "source": [
    "# let's transform that date from object to a datetime\n",
    "df['landmark_designation_date'] = pd.to_datetime(df['landmark_designation_date'])"
   ]
  },
  {
   "cell_type": "code",
   "execution_count": 5,
   "metadata": {},
   "outputs": [],
   "source": [
    "# also trimming down the columns\n",
    "df = df[['landmark_name', 'id', 'address', 'landmark_designation_date',\n",
    "         'latitude', 'longitude', 'location', 'date_built', 'architect']]"
   ]
  },
  {
   "cell_type": "code",
   "execution_count": 6,
   "metadata": {},
   "outputs": [
    {
     "data": {
      "text/plain": [
       "Index(['landmark_name', 'id', 'address', 'landmark_designation_date',\n",
       "       'latitude', 'longitude', 'location', 'date_built', 'architect'],\n",
       "      dtype='object')"
      ]
     },
     "execution_count": 6,
     "metadata": {},
     "output_type": "execute_result"
    }
   ],
   "source": [
    "df.columns"
   ]
  },
  {
   "cell_type": "markdown",
   "metadata": {},
   "source": [
    "# Axes\n",
    "The two main data structures in pandas both have at least one axis. A ```Series``` has one axis, the index. A ```DataFrame``` has two axes, the index and the columns. It's useful to note here that in all the ```DataFrame``` functions that can be applied to either rows or columns, an axis of 0 refers to the index, an axis of 1 refers to the columns.\n",
    "\n",
    "We can inspect these in our sample ```DataFrame```. We'll pick the ```landmark_name``` column as a sample ```Series``` to demonstrate the basics for a ```Series```. You can see the column (which is a ```Series```) and the entire ```DataFrame``` share the same index."
   ]
  },
  {
   "cell_type": "code",
   "execution_count": 7,
   "metadata": {},
   "outputs": [
    {
     "name": "stdout",
     "output_type": "stream",
     "text": [
      "Series index: RangeIndex(start=0, stop=317, step=1)\n",
      "DataFrame index: RangeIndex(start=0, stop=317, step=1)\n"
     ]
    }
   ],
   "source": [
    "s = df['landmark_name']\n",
    "print(\"Series index:\", s.index)\n",
    "print(\"DataFrame index:\", df.index)"
   ]
  },
  {
   "cell_type": "markdown",
   "metadata": {},
   "source": [
    "# Index\n",
    "In pandas, an ```Index``` (or a subclass) allows for the data structures that use it to support lookups (or selection), data alignment (think of time-series data especially, where all the observations needs to be aligned with their observation time), and reindexing (changing the underlying index to have different values, but keeping the data aligned). There are a number of types of indices, but for now, we'll just look at the simple ```RangeIndex``` that our current ```DataFrame``` is using, which will have integer values.\n",
    "\n",
    "# Basic selecting with ```[]```\n",
    "We're going to start with the basic form of selecting, using the ```[]``` operator, which in Python maps to a class's ```__getitem__``` function (if you're familiar with objects in Python, if not, don't worry about that for now). Depending on whether the pandas object is a ```Series``` or a ```DataFrame``` and the arguments you pass into this function, you will get very different results. Let's start with the basics, invoking with a single argument.\n",
    "\n",
    "## Series\n",
    "With a ```Series```, the call will return a single scalar value that matches the value at that label in the index. If you pass in a value for a label that doesn't exist, you will get a ```KeyError``` raised. Also, if you pass in an integer and your index has that value, it will return it. But if you don't have an integer value in your index, it will return the value by position. This is convenient, but can be confusing.\n",
    "\n",
    "Now I'm going to give this ```DataFrame``` (and ```Series```) a new index because the ```RangeIndex``` could make much of the following examples very confusing. It's important for us to differentiate between accessing elements by label and by position. If our index labels are integers, you will not be able to see the difference! Since this dataset already has a unique ```id``` column, we'll use that instead."
   ]
  },
  {
   "cell_type": "code",
   "execution_count": 8,
   "metadata": {},
   "outputs": [
    {
     "data": {
      "text/plain": [
       "Index(['L-265', 'L-89', 'L-139', 'L-12', 'L-88', 'L-318', 'L-85', 'L-149',\n",
       "       'L-286', 'L-71',\n",
       "       ...\n",
       "       'L-241', 'L-133', 'L-169', 'L-277', 'L-164', 'L-310', 'L-103', 'L-236',\n",
       "       'L-65', 'L-224'],\n",
       "      dtype='object', name='id', length=317)"
      ]
     },
     "execution_count": 8,
     "metadata": {},
     "output_type": "execute_result"
    }
   ],
   "source": [
    "df.index = df['id'].str.replace(' ', '') # remove spaces for this example\n",
    "s = df['landmark_name']\n",
    "df.index"
   ]
  },
  {
   "cell_type": "markdown",
   "metadata": {},
   "source": [
    "Now that our index doesn't contain ```int``` values, when we call it with ```int```s they will be evaluated as positional arguments. If you index had ```int``` values, they would be found first rather than posititional values. Confusing, isn't it? This is one reason why you want to read on and see why there are better ways to do this."
   ]
  },
  {
   "cell_type": "code",
   "execution_count": 9,
   "metadata": {},
   "outputs": [
    {
     "name": "stdout",
     "output_type": "stream",
     "text": [
      "The value for L-265: Vassar Swiss Underwear Company Building\n",
      "The first value: Vassar Swiss Underwear Company Building\n",
      "The value for L-139: Manhattan Building\n",
      "The third value: Manhattan Building\n",
      "Exception:  'L-900'\n"
     ]
    }
   ],
   "source": [
    "print(\"The value for L-265:\", s['L-265'])\n",
    "print(\"The first value:\", s[0])\n",
    "print(\"The value for L-139:\", s['L-139'])\n",
    "print(\"The third value:\", s[2])\n",
    "try:\n",
    "    s['L-900']\n",
    "except KeyError as ke:\n",
    "    print(\"Exception: \", ke)"
   ]
  },
  {
   "cell_type": "markdown",
   "metadata": {},
   "source": [
    "While I rarely use it, there is a ```get``` method available, which will return ```None``` if the argument is not in the index instead of raising a ```KeyError```."
   ]
  },
  {
   "cell_type": "code",
   "execution_count": 10,
   "metadata": {},
   "outputs": [
    {
     "name": "stdout",
     "output_type": "stream",
     "text": [
      "The first value: Vassar Swiss Underwear Company Building\n",
      "Is there a value at 'L-900'?:  None\n"
     ]
    }
   ],
   "source": [
    "print(\"The first value:\", s.get(0))\n",
    "print(\"Is there a value at 'L-900'?: \", s.get('L-900'))"
   ]
  },
  {
   "cell_type": "markdown",
   "metadata": {},
   "source": [
    "## DataFrame\n",
    "Now with a ```DataFrame```, calls to ```[]``` are used for selecting from the column index, not the row index. This can be confusing since it's different from a ```Series``` when passing in integer values. Instead, we pass in column names."
   ]
  },
  {
   "cell_type": "code",
   "execution_count": 11,
   "metadata": {},
   "outputs": [
    {
     "name": "stdout",
     "output_type": "stream",
     "text": [
      "First element in a Series: Vassar Swiss Underwear Company Building\n",
      "Nope, that's not how you select rows in a DataFrame\n"
     ]
    },
    {
     "data": {
      "text/plain": [
       "id\n",
       "L-265              Vassar Swiss Underwear Company Building\n",
       "L-89                                  Mathilde Eliel House\n",
       "L-139                                   Manhattan Building\n",
       "L-12     Machinery Hall at Illinois Institute of Techno...\n",
       "L-88                                Melissa Ann Elam House\n",
       "                               ...                        \n",
       "L-310     (Former) Schlitz BreweryTied-House@1944 N.Oakley\n",
       "L-103                                           Getty Tomb\n",
       "L-236                         Engine Company 129, Truck 50\n",
       "L-65                                  James Charnley House\n",
       "L-224                         Beeson House and Coach House\n",
       "Name: landmark_name, Length: 317, dtype: object"
      ]
     },
     "execution_count": 11,
     "metadata": {},
     "output_type": "execute_result"
    }
   ],
   "source": [
    "try:\n",
    "    print(\"First element in a Series:\", s[0])\n",
    "    print(\"First row in a DataFrame?:\", df[0])\n",
    "except KeyError as ke:\n",
    "    print(\"Nope, that's not how you select rows in a DataFrame\")\n",
    "\n",
    "df['landmark_name']"
   ]
  },
  {
   "cell_type": "markdown",
   "metadata": {},
   "source": [
    "We can also select a list of columns, in any order (even repeated)."
   ]
  },
  {
   "cell_type": "code",
   "execution_count": 12,
   "metadata": {},
   "outputs": [
    {
     "data": {
      "text/html": [
       "<div>\n",
       "<style scoped>\n",
       "    .dataframe tbody tr th:only-of-type {\n",
       "        vertical-align: middle;\n",
       "    }\n",
       "\n",
       "    .dataframe tbody tr th {\n",
       "        vertical-align: top;\n",
       "    }\n",
       "\n",
       "    .dataframe thead th {\n",
       "        text-align: right;\n",
       "    }\n",
       "</style>\n",
       "<table border=\"1\" class=\"dataframe\">\n",
       "  <thead>\n",
       "    <tr style=\"text-align: right;\">\n",
       "      <th></th>\n",
       "      <th>landmark_name</th>\n",
       "      <th>address</th>\n",
       "      <th>landmark_name</th>\n",
       "    </tr>\n",
       "    <tr>\n",
       "      <th>id</th>\n",
       "      <th></th>\n",
       "      <th></th>\n",
       "      <th></th>\n",
       "    </tr>\n",
       "  </thead>\n",
       "  <tbody>\n",
       "    <tr>\n",
       "      <th>L-265</th>\n",
       "      <td>Vassar Swiss Underwear Company Building</td>\n",
       "      <td>2543 - 2545 W Diversey Av</td>\n",
       "      <td>Vassar Swiss Underwear Company Building</td>\n",
       "    </tr>\n",
       "    <tr>\n",
       "      <th>L-89</th>\n",
       "      <td>Mathilde Eliel House</td>\n",
       "      <td>4122 S Ellis Av</td>\n",
       "      <td>Mathilde Eliel House</td>\n",
       "    </tr>\n",
       "    <tr>\n",
       "      <th>L-139</th>\n",
       "      <td>Manhattan Building</td>\n",
       "      <td>431 S Dearborn St</td>\n",
       "      <td>Manhattan Building</td>\n",
       "    </tr>\n",
       "    <tr>\n",
       "      <th>L-12</th>\n",
       "      <td>Machinery Hall at Illinois Institute of Techno...</td>\n",
       "      <td>100 W 33rd St</td>\n",
       "      <td>Machinery Hall at Illinois Institute of Techno...</td>\n",
       "    </tr>\n",
       "    <tr>\n",
       "      <th>L-88</th>\n",
       "      <td>Melissa Ann Elam House</td>\n",
       "      <td>4726 S Dr Martin Luther King Jr Dr</td>\n",
       "      <td>Melissa Ann Elam House</td>\n",
       "    </tr>\n",
       "    <tr>\n",
       "      <th>...</th>\n",
       "      <td>...</td>\n",
       "      <td>...</td>\n",
       "      <td>...</td>\n",
       "    </tr>\n",
       "    <tr>\n",
       "      <th>L-310</th>\n",
       "      <td>(Former) Schlitz BreweryTied-House@1944 N.Oakley</td>\n",
       "      <td>1944 N. Oakley Ave.</td>\n",
       "      <td>(Former) Schlitz BreweryTied-House@1944 N.Oakley</td>\n",
       "    </tr>\n",
       "    <tr>\n",
       "      <th>L-103</th>\n",
       "      <td>Getty Tomb</td>\n",
       "      <td>Graceland Cemetery, 4011 N Clark St</td>\n",
       "      <td>Getty Tomb</td>\n",
       "    </tr>\n",
       "    <tr>\n",
       "      <th>L-236</th>\n",
       "      <td>Engine Company 129, Truck 50</td>\n",
       "      <td>8120 S Ashland Av</td>\n",
       "      <td>Engine Company 129, Truck 50</td>\n",
       "    </tr>\n",
       "    <tr>\n",
       "      <th>L-65</th>\n",
       "      <td>James Charnley House</td>\n",
       "      <td>1365 N Astor st</td>\n",
       "      <td>James Charnley House</td>\n",
       "    </tr>\n",
       "    <tr>\n",
       "      <th>L-224</th>\n",
       "      <td>Beeson House and Coach House</td>\n",
       "      <td>5810 W Midway Park</td>\n",
       "      <td>Beeson House and Coach House</td>\n",
       "    </tr>\n",
       "  </tbody>\n",
       "</table>\n",
       "<p>317 rows × 3 columns</p>\n",
       "</div>"
      ],
      "text/plain": [
       "                                           landmark_name  \\\n",
       "id                                                         \n",
       "L-265            Vassar Swiss Underwear Company Building   \n",
       "L-89                                Mathilde Eliel House   \n",
       "L-139                                 Manhattan Building   \n",
       "L-12   Machinery Hall at Illinois Institute of Techno...   \n",
       "L-88                              Melissa Ann Elam House   \n",
       "...                                                  ...   \n",
       "L-310   (Former) Schlitz BreweryTied-House@1944 N.Oakley   \n",
       "L-103                                         Getty Tomb   \n",
       "L-236                       Engine Company 129, Truck 50   \n",
       "L-65                                James Charnley House   \n",
       "L-224                       Beeson House and Coach House   \n",
       "\n",
       "                                   address  \\\n",
       "id                                           \n",
       "L-265            2543 - 2545 W Diversey Av   \n",
       "L-89                       4122 S Ellis Av   \n",
       "L-139                    431 S Dearborn St   \n",
       "L-12                         100 W 33rd St   \n",
       "L-88    4726 S Dr Martin Luther King Jr Dr   \n",
       "...                                    ...   \n",
       "L-310                  1944 N. Oakley Ave.   \n",
       "L-103  Graceland Cemetery, 4011 N Clark St   \n",
       "L-236                    8120 S Ashland Av   \n",
       "L-65                       1365 N Astor st   \n",
       "L-224                   5810 W Midway Park   \n",
       "\n",
       "                                           landmark_name  \n",
       "id                                                        \n",
       "L-265            Vassar Swiss Underwear Company Building  \n",
       "L-89                                Mathilde Eliel House  \n",
       "L-139                                 Manhattan Building  \n",
       "L-12   Machinery Hall at Illinois Institute of Techno...  \n",
       "L-88                              Melissa Ann Elam House  \n",
       "...                                                  ...  \n",
       "L-310   (Former) Schlitz BreweryTied-House@1944 N.Oakley  \n",
       "L-103                                         Getty Tomb  \n",
       "L-236                       Engine Company 129, Truck 50  \n",
       "L-65                                James Charnley House  \n",
       "L-224                       Beeson House and Coach House  \n",
       "\n",
       "[317 rows x 3 columns]"
      ]
     },
     "execution_count": 12,
     "metadata": {},
     "output_type": "execute_result"
    }
   ],
   "source": [
    "df[['landmark_name', 'address', 'landmark_name']]"
   ]
  },
  {
   "cell_type": "markdown",
   "metadata": {},
   "source": [
    "## Attribute access for columns on a ```DataFrame``` or values in a ```Series```.\n",
    "Another way to select a ```DataFrame``` column or an element in a ```Series``` is using the attribute operator, ```.```. Pandas will automagically create accessors for all ```DataFrame``` columns or for all labels in a ```Series```, provided their name translates to valid Python. This can make life easier for you, especially in an environment with tab-completion like IPython or a Jupyter notebook, but in general, it's best not to use these attributes in production code. Why not?\n",
    "* Your column names may collide with method names on a ```DataFrame``` itself, and in that case you will be accessing something you weren't intending to.\n",
    "* Column names often may not be valid Python identifiers since they may contain spaces or start with (or just be) numbers, so you have to use the longer form anyway.\n",
    "* Using ```[]``` with quoted strings makes your code very clear for others (and future self) to read. \n",
    "* Assigning to a non-existing attribute won't create a new column, it will just create an attribute on the object. (We'll talk about modifying data in subsequent posts, you can read [this article](https://www.wrighters.io/2020/09/10/basic-pandas-how-to-add-a-column-to-a-dataframe/) for details on adding columns to a ```DataFrame```)\n",
    "\n",
    "So hopefully this list reinforces why it's just a bad habit to rely on attribute access. In our data example, we can use attribute access for some of our column names, but because the primary index doesn't make valid Python identifiers, we can't use it on our ```Series``` (L-265 is not a valid Python identifier, for example). But it does work for some situations and may save you a few keystrokes when doing exploratory analysis."
   ]
  },
  {
   "cell_type": "code",
   "execution_count": 13,
   "metadata": {},
   "outputs": [
    {
     "data": {
      "text/plain": [
       "id\n",
       "L-265              Vassar Swiss Underwear Company Building\n",
       "L-89                                  Mathilde Eliel House\n",
       "L-139                                   Manhattan Building\n",
       "L-12     Machinery Hall at Illinois Institute of Techno...\n",
       "L-88                                Melissa Ann Elam House\n",
       "                               ...                        \n",
       "L-310     (Former) Schlitz BreweryTied-House@1944 N.Oakley\n",
       "L-103                                           Getty Tomb\n",
       "L-236                         Engine Company 129, Truck 50\n",
       "L-65                                  James Charnley House\n",
       "L-224                         Beeson House and Coach House\n",
       "Name: landmark_name, Length: 317, dtype: object"
      ]
     },
     "execution_count": 13,
     "metadata": {},
     "output_type": "execute_result"
    }
   ],
   "source": [
    "df.landmark_name"
   ]
  },
  {
   "cell_type": "markdown",
   "metadata": {},
   "source": [
    "# Selecting with ```.loc```\n",
    "We also have the ```.loc``` attribute which is intended for selection and indexing by label, similar to ```[]``` on a ```Series```. However, using ```.loc``` and ```.iloc``` will make it more clear in your code what your intentions are, and they behave differently.  Note that ```.loc``` will raise ```KeyError``` when an element doesn't exist at that label.\n",
    "\n",
    "Also note that this is not a method, so we don't call it, but rather we use the indexing operator (```[]```) on it. \n",
    "\n",
    "## Series\n",
    "Let's start with a ```Series```. First, note that we don't select by location, we can select by index label."
   ]
  },
  {
   "cell_type": "code",
   "execution_count": 14,
   "metadata": {},
   "outputs": [
    {
     "name": "stdout",
     "output_type": "stream",
     "text": [
      "Nope, not with .loc:  0\n",
      "Yes, do it by label:  Manhattan Building\n"
     ]
    }
   ],
   "source": [
    "try:\n",
    "    print(\"Selecting by location?\", s.loc[0])\n",
    "except KeyError as ke:\n",
    "    print(\"Nope, not with .loc: \", ke)\n",
    "\n",
    "print(\"Yes, do it by label: \", s.loc['L-139'])"
   ]
  },
  {
   "cell_type": "markdown",
   "metadata": {},
   "source": [
    "We can also pass in a list of labels, and they will be returned as a ```Series```."
   ]
  },
  {
   "cell_type": "code",
   "execution_count": 15,
   "metadata": {},
   "outputs": [
    {
     "data": {
      "text/plain": [
       "id\n",
       "L-12     Machinery Hall at Illinois Institute of Techno...\n",
       "L-265              Vassar Swiss Underwear Company Building\n",
       "L-224                         Beeson House and Coach House\n",
       "Name: landmark_name, dtype: object"
      ]
     },
     "execution_count": 15,
     "metadata": {},
     "output_type": "execute_result"
    }
   ],
   "source": [
    "s.loc[['L-12', 'L-265', 'L-224']]"
   ]
  },
  {
   "cell_type": "markdown",
   "metadata": {},
   "source": [
    "Note that this can be a list with a single element, but passing in a list returns a ```Series``` (with one element), not a scalar."
   ]
  },
  {
   "cell_type": "code",
   "execution_count": 16,
   "metadata": {},
   "outputs": [
    {
     "data": {
      "text/plain": [
       "id\n",
       "L-12    Machinery Hall at Illinois Institute of Techno...\n",
       "Name: landmark_name, dtype: object"
      ]
     },
     "execution_count": 16,
     "metadata": {},
     "output_type": "execute_result"
    }
   ],
   "source": [
    "s.loc[['L-12']]"
   ]
  },
  {
   "cell_type": "markdown",
   "metadata": {},
   "source": [
    "## DataFrame\n",
    "On a ```DataFrame```, a single argument to ```.loc``` will return a ```Series``` for the row matching the label."
   ]
  },
  {
   "cell_type": "code",
   "execution_count": 17,
   "metadata": {},
   "outputs": [
    {
     "data": {
      "text/plain": [
       "landmark_name                                      South Shore Cultural Center\n",
       "id                                                                       L- 11\n",
       "address                                                    7059 South Shore Dr\n",
       "landmark_designation_date                            2004-05-26 07:00:00+00:00\n",
       "latitude                                                               41.7676\n",
       "longitude                                                             -87.5644\n",
       "location                     {'latitude': '41.7676086628', 'longitude': '-8...\n",
       "date_built                                                          1906,09,16\n",
       "architect                                                       Marshall & Fox\n",
       "Name: L-11, dtype: object"
      ]
     },
     "execution_count": 17,
     "metadata": {},
     "output_type": "execute_result"
    }
   ],
   "source": [
    "df.loc['L-11']"
   ]
  },
  {
   "cell_type": "markdown",
   "metadata": {},
   "source": [
    "If passed a list of labels, ```.loc``` will return a ```DataFrame``` of the matching rows. This is just selecting rows by index, but selecting multiple rows. Note that all of the elements in the list have to be in the index or ```KeyError``` is raised."
   ]
  },
  {
   "cell_type": "code",
   "execution_count": 18,
   "metadata": {},
   "outputs": [
    {
     "data": {
      "text/html": [
       "<div>\n",
       "<style scoped>\n",
       "    .dataframe tbody tr th:only-of-type {\n",
       "        vertical-align: middle;\n",
       "    }\n",
       "\n",
       "    .dataframe tbody tr th {\n",
       "        vertical-align: top;\n",
       "    }\n",
       "\n",
       "    .dataframe thead th {\n",
       "        text-align: right;\n",
       "    }\n",
       "</style>\n",
       "<table border=\"1\" class=\"dataframe\">\n",
       "  <thead>\n",
       "    <tr style=\"text-align: right;\">\n",
       "      <th></th>\n",
       "      <th>landmark_name</th>\n",
       "      <th>id</th>\n",
       "      <th>address</th>\n",
       "      <th>landmark_designation_date</th>\n",
       "      <th>latitude</th>\n",
       "      <th>longitude</th>\n",
       "      <th>location</th>\n",
       "      <th>date_built</th>\n",
       "      <th>architect</th>\n",
       "    </tr>\n",
       "    <tr>\n",
       "      <th>id</th>\n",
       "      <th></th>\n",
       "      <th></th>\n",
       "      <th></th>\n",
       "      <th></th>\n",
       "      <th></th>\n",
       "      <th></th>\n",
       "      <th></th>\n",
       "      <th></th>\n",
       "      <th></th>\n",
       "    </tr>\n",
       "  </thead>\n",
       "  <tbody>\n",
       "    <tr>\n",
       "      <th>L-12</th>\n",
       "      <td>Machinery Hall at Illinois Institute of Techno...</td>\n",
       "      <td>L- 12</td>\n",
       "      <td>100 W 33rd St</td>\n",
       "      <td>2004-05-26 07:00:00+00:00</td>\n",
       "      <td>41.835161</td>\n",
       "      <td>-87.629221</td>\n",
       "      <td>{'latitude': '41.8351614122', 'longitude': '-8...</td>\n",
       "      <td>1901</td>\n",
       "      <td>Patton, Fisher &amp; Miller</td>\n",
       "    </tr>\n",
       "    <tr>\n",
       "      <th>L-11</th>\n",
       "      <td>South Shore Cultural Center</td>\n",
       "      <td>L- 11</td>\n",
       "      <td>7059 South Shore Dr</td>\n",
       "      <td>2004-05-26 07:00:00+00:00</td>\n",
       "      <td>41.767609</td>\n",
       "      <td>-87.564415</td>\n",
       "      <td>{'latitude': '41.7676086628', 'longitude': '-8...</td>\n",
       "      <td>1906,09,16</td>\n",
       "      <td>Marshall &amp; Fox</td>\n",
       "    </tr>\n",
       "    <tr>\n",
       "      <th>L-13</th>\n",
       "      <td>Main Building at Illinois Institute of Technology</td>\n",
       "      <td>L- 13</td>\n",
       "      <td>3320 S Federal St</td>\n",
       "      <td>2004-05-26 07:00:00+00:00</td>\n",
       "      <td>41.833681</td>\n",
       "      <td>-87.629223</td>\n",
       "      <td>{'latitude': '41.8336805026', 'longitude': '-8...</td>\n",
       "      <td>1891-93</td>\n",
       "      <td>Patton &amp; Fisher</td>\n",
       "    </tr>\n",
       "  </tbody>\n",
       "</table>\n",
       "</div>"
      ],
      "text/plain": [
       "                                          landmark_name     id  \\\n",
       "id                                                               \n",
       "L-12  Machinery Hall at Illinois Institute of Techno...  L- 12   \n",
       "L-11                        South Shore Cultural Center  L- 11   \n",
       "L-13  Main Building at Illinois Institute of Technology  L- 13   \n",
       "\n",
       "                  address landmark_designation_date   latitude  longitude  \\\n",
       "id                                                                          \n",
       "L-12        100 W 33rd St 2004-05-26 07:00:00+00:00  41.835161 -87.629221   \n",
       "L-11  7059 South Shore Dr 2004-05-26 07:00:00+00:00  41.767609 -87.564415   \n",
       "L-13    3320 S Federal St 2004-05-26 07:00:00+00:00  41.833681 -87.629223   \n",
       "\n",
       "                                               location  date_built  \\\n",
       "id                                                                    \n",
       "L-12  {'latitude': '41.8351614122', 'longitude': '-8...        1901   \n",
       "L-11  {'latitude': '41.7676086628', 'longitude': '-8...  1906,09,16   \n",
       "L-13  {'latitude': '41.8336805026', 'longitude': '-8...     1891-93   \n",
       "\n",
       "                    architect  \n",
       "id                             \n",
       "L-12  Patton, Fisher & Miller  \n",
       "L-11           Marshall & Fox  \n",
       "L-13          Patton & Fisher  "
      ]
     },
     "execution_count": 18,
     "metadata": {},
     "output_type": "execute_result"
    }
   ],
   "source": [
    "df.loc[['L-12', 'L-11', 'L-13']]"
   ]
  },
  {
   "cell_type": "markdown",
   "metadata": {},
   "source": [
    "But, ```DataFrame```'s ```.loc``` can take multiple arguments. The first argument is an indexer for rows, the second argument is an indexer for the columns. So if we wanted a row and the landmark_name column, we can get back a scalar."
   ]
  },
  {
   "cell_type": "code",
   "execution_count": 19,
   "metadata": {},
   "outputs": [
    {
     "data": {
      "text/plain": [
       "'Machinery Hall at Illinois Institute of Technology'"
      ]
     },
     "execution_count": 19,
     "metadata": {},
     "output_type": "execute_result"
    }
   ],
   "source": [
    "df.loc['L-12','landmark_name']"
   ]
  },
  {
   "cell_type": "markdown",
   "metadata": {},
   "source": [
    "Now I'm going to move on from ```.loc``` for now, but will circle back to talk about some more advanced ways of selecting data with it.\n",
    "\n",
    "# Selecting with ```.iloc```.\n",
    "```.iloc``` is a separate method for use with purely integer based indexing, starting from 0. It's very similar to the behavior of ```.loc```, as we'll see, but raises ```IndexError``` when the indexer is out of bounds, or the wrong type.\n",
    "\n",
    "## Series\n",
    "For a ```Series```, ```.iloc``` returns a scalar, just like ```.loc```."
   ]
  },
  {
   "cell_type": "code",
   "execution_count": 20,
   "metadata": {},
   "outputs": [
    {
     "data": {
      "text/plain": [
       "'Vassar Swiss Underwear Company Building'"
      ]
     },
     "execution_count": 20,
     "metadata": {},
     "output_type": "execute_result"
    }
   ],
   "source": [
    "s.iloc[0]"
   ]
  },
  {
   "cell_type": "markdown",
   "metadata": {},
   "source": [
    "Relative indexing is allowed, and if you try to access a non-existent element, ```IndexError``` is raised."
   ]
  },
  {
   "cell_type": "code",
   "execution_count": 21,
   "metadata": {},
   "outputs": [
    {
     "data": {
      "text/plain": [
       "'Beeson House and Coach House'"
      ]
     },
     "execution_count": 21,
     "metadata": {},
     "output_type": "execute_result"
    }
   ],
   "source": [
    "s.iloc[-1]"
   ]
  },
  {
   "cell_type": "code",
   "execution_count": 22,
   "metadata": {},
   "outputs": [
    {
     "name": "stdout",
     "output_type": "stream",
     "text": [
      "You ran over the end of your Series:  single positional indexer is out-of-bounds\n"
     ]
    }
   ],
   "source": [
    "try:\n",
    "    s.iloc[9999]\n",
    "except IndexError as ix:\n",
    "    print(\"You ran over the end of your Series: \", ix)"
   ]
  },
  {
   "cell_type": "markdown",
   "metadata": {},
   "source": [
    "Passing in a list returns a ```Series```. Again, all elements in the list need to be in the index, or ```IndexError``` is raised."
   ]
  },
  {
   "cell_type": "code",
   "execution_count": 23,
   "metadata": {},
   "outputs": [
    {
     "data": {
      "text/plain": [
       "id\n",
       "L-265    Vassar Swiss Underwear Company Building\n",
       "L-89                        Mathilde Eliel House\n",
       "L-139                         Manhattan Building\n",
       "Name: landmark_name, dtype: object"
      ]
     },
     "execution_count": 23,
     "metadata": {},
     "output_type": "execute_result"
    }
   ],
   "source": [
    "s.iloc[[0,1,2]]"
   ]
  },
  {
   "cell_type": "markdown",
   "metadata": {},
   "source": [
    "I'm going to stop here for this post, and I know this seems quite unsatisfying to only see this much of selection. There are many more topics to cover, and I'll cover those in much more detail one by one.\n",
    "\n",
    "In future posts, we'll look at slicing and boolean indexing which will give us much more power to use the three methods that were covered in this post: ```[]```, ```.loc```, and ```.iloc```."
   ]
  }
 ],
 "metadata": {
  "kernelspec": {
   "display_name": "Python 3",
   "language": "python",
   "name": "python3"
  },
  "language_info": {
   "codemirror_mode": {
    "name": "ipython",
    "version": 3
   },
   "file_extension": ".py",
   "mimetype": "text/x-python",
   "name": "python",
   "nbconvert_exporter": "python",
   "pygments_lexer": "ipython3",
   "version": "3.8.6"
  }
 },
 "nbformat": 4,
 "nbformat_minor": 4
}

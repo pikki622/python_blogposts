{
 "cells": [
  {
   "cell_type": "markdown",
   "metadata": {},
   "source": [
    "# Boolean indexing\n",
    "This is the third post in the series on indexing and selecting data in pandas. If you haven't read the others yet, see [the first post](https://www.wrighters.io/2020/12/26/indexing-and-selecting-in-pandas-part-1/) that covers the basics of selecting based on index or relative numerical indexing, and [the second post](https://www.wrighters.io/2020/12/29/indexing-and-selecting-in-pandas-slicing/), that talks about slicing. In this post, I'm going to talk about boolean indexing, the way that I mostly select subsets of data when I work with pandas.\n",
    "\n",
    "\n",
    "## What is boolean indexing?\n",
    "For those familiar with NumPy, this may already be second nature, but for beginners it is not so obvious. Boolean indexing works for a given array by passing a boolean vector into the indexing operator (```[]```), returning all values that are ```True```.\n",
    "\n",
    "One thing to note, this array needs to be the same length as the array dimension being indexed.\n",
    "\n",
    "Let's look at an example."
   ]
  },
  {
   "cell_type": "code",
   "execution_count": 74,
   "metadata": {},
   "outputs": [
    {
     "data": {
      "text/plain": [
       "array([0, 1, 2, 3, 4])"
      ]
     },
     "execution_count": 74,
     "metadata": {},
     "output_type": "execute_result"
    }
   ],
   "source": [
    "import pandas as pd\n",
    "import numpy as np\n",
    "\n",
    "a = np.arange(5)\n",
    "a"
   ]
  },
  {
   "cell_type": "markdown",
   "metadata": {},
   "source": [
    "Now we can select the first, second and last elements of our array using a list of array indices."
   ]
  },
  {
   "cell_type": "code",
   "execution_count": 75,
   "metadata": {},
   "outputs": [
    {
     "data": {
      "text/plain": [
       "array([0, 1, 4])"
      ]
     },
     "execution_count": 75,
     "metadata": {},
     "output_type": "execute_result"
    }
   ],
   "source": [
    "a[[0, 1, 4]]"
   ]
  },
  {
   "cell_type": "markdown",
   "metadata": {},
   "source": [
    "Boolean indexing can do the same, by creating a boolean array of the same size as the original array, with elements 0, 1 and 4 set to ```True```, all others ```False```."
   ]
  },
  {
   "cell_type": "code",
   "execution_count": 76,
   "metadata": {},
   "outputs": [
    {
     "data": {
      "text/plain": [
       "array([0, 1, 4])"
      ]
     },
     "execution_count": 76,
     "metadata": {},
     "output_type": "execute_result"
    }
   ],
   "source": [
    "mask = np.array([True, True, False, False, True])\n",
    "a[mask]"
   ]
  },
  {
   "cell_type": "markdown",
   "metadata": {},
   "source": [
    "## Boolean operators\n",
    "So now we know how to index our array with a single boolean array. But building that array by hand is a pain, so what you will usually end up doing is applying operations to the original array that return a boolean array themselves.\n",
    "\n",
    "For example, to select all elements less than 3:"
   ]
  },
  {
   "cell_type": "code",
   "execution_count": 77,
   "metadata": {},
   "outputs": [
    {
     "data": {
      "text/plain": [
       "array([0, 1, 2])"
      ]
     },
     "execution_count": 77,
     "metadata": {},
     "output_type": "execute_result"
    }
   ],
   "source": [
    "a[a < 3]"
   ]
  },
  {
   "cell_type": "markdown",
   "metadata": {},
   "source": [
    "or all even elements:"
   ]
  },
  {
   "cell_type": "code",
   "execution_count": 78,
   "metadata": {},
   "outputs": [
    {
     "data": {
      "text/plain": [
       "array([0, 2, 4])"
      ]
     },
     "execution_count": 78,
     "metadata": {},
     "output_type": "execute_result"
    }
   ],
   "source": [
    "a[a % 2 == 0]"
   ]
  },
  {
   "cell_type": "markdown",
   "metadata": {},
   "source": [
    "And we can combine these using expressions, to AND them (```&```) or OR them (```|```). With these operators, we can select the same elements from our first example."
   ]
  },
  {
   "cell_type": "code",
   "execution_count": 79,
   "metadata": {},
   "outputs": [
    {
     "data": {
      "text/plain": [
       "array([0, 1, 4])"
      ]
     },
     "execution_count": 79,
     "metadata": {},
     "output_type": "execute_result"
    }
   ],
   "source": [
    "a[(a < 2) | (a >= 4)]"
   ]
  },
  {
   "cell_type": "markdown",
   "metadata": {},
   "source": [
    "Another very helpful operators is the inverse or not operator, (```~```). Remember to watch your parentheses."
   ]
  },
  {
   "cell_type": "code",
   "execution_count": 80,
   "metadata": {},
   "outputs": [
    {
     "data": {
      "text/plain": [
       "array([2, 3])"
      ]
     },
     "execution_count": 80,
     "metadata": {},
     "output_type": "execute_result"
    }
   ],
   "source": [
    "a[~((a < 2) | (a >= 4))]"
   ]
  },
  {
   "cell_type": "markdown",
   "metadata": {},
   "source": [
    "## On to pandas\n",
    "In pandas, boolean indexing works pretty much like in NumPy, especially in a ```Series```. You pass in a vector the same length as the ```Series```. Note that this vector doesn't have to have an index, but if you use a ```Series```, it does. A common method of using boolean indexing is to apply functions to the original series.\n",
    "\n",
    "### Series"
   ]
  },
  {
   "cell_type": "code",
   "execution_count": 81,
   "metadata": {
    "scrolled": true
   },
   "outputs": [
    {
     "data": {
      "text/plain": [
       "a    0\n",
       "b    1\n",
       "c    2\n",
       "d    3\n",
       "e    4\n",
       "dtype: int64"
      ]
     },
     "execution_count": 81,
     "metadata": {},
     "output_type": "execute_result"
    }
   ],
   "source": [
    "s = pd.Series(np.arange(5), index=list(\"abcde\"))\n",
    "s"
   ]
  },
  {
   "cell_type": "code",
   "execution_count": 82,
   "metadata": {},
   "outputs": [
    {
     "data": {
      "text/plain": [
       "a    0\n",
       "b    1\n",
       "e    4\n",
       "dtype: int64"
      ]
     },
     "execution_count": 82,
     "metadata": {},
     "output_type": "execute_result"
    }
   ],
   "source": [
    "s[[True, True, False, False, True]]            # this vector is just a list of boolean values"
   ]
  },
  {
   "cell_type": "code",
   "execution_count": 83,
   "metadata": {},
   "outputs": [
    {
     "data": {
      "text/plain": [
       "a    0\n",
       "b    1\n",
       "e    4\n",
       "dtype: int64"
      ]
     },
     "execution_count": 83,
     "metadata": {},
     "output_type": "execute_result"
    }
   ],
   "source": [
    "s[np.array([True, True, False, False, True])]  # this vector is a NumPy array of boolean values"
   ]
  },
  {
   "cell_type": "markdown",
   "metadata": {},
   "source": [
    "But, since our index is not the default (i.e. not a ```RangeIndex```), if we use another ```Series``` of the same length, it will not work. It needs a matching index."
   ]
  },
  {
   "cell_type": "code",
   "execution_count": 84,
   "metadata": {},
   "outputs": [
    {
     "name": "stdout",
     "output_type": "stream",
     "text": [
      "Unalignable boolean Series provided as indexer (index of the boolean Series and of the indexed object do not match).\n"
     ]
    },
    {
     "data": {
      "text/plain": [
       "a    0\n",
       "b    1\n",
       "e    4\n",
       "dtype: int64"
      ]
     },
     "execution_count": 84,
     "metadata": {},
     "output_type": "execute_result"
    }
   ],
   "source": [
    "try:\n",
    "    s[pd.Series([True, True, False, False, True])]\n",
    "except Exception as ie:\n",
    "    print(ie)\n",
    "    \n",
    "    \n",
    "s[pd.Series([True, True, False, False, True], index=list(\"abcde\"))]"
   ]
  },
  {
   "cell_type": "markdown",
   "metadata": {},
   "source": [
    "But instead of making a new ```Series```, we'll just base all of our expressions on our source data ```Series``` or ```DataFrame```, then they'll share an index."
   ]
  },
  {
   "cell_type": "code",
   "execution_count": 85,
   "metadata": {},
   "outputs": [
    {
     "data": {
      "text/plain": [
       "a    0\n",
       "b    1\n",
       "e    4\n",
       "dtype: int64"
      ]
     },
     "execution_count": 85,
     "metadata": {},
     "output_type": "execute_result"
    }
   ],
   "source": [
    "# just like before with NumPy\n",
    "s[(s < 2) | (s > 3)]"
   ]
  },
  {
   "cell_type": "markdown",
   "metadata": {},
   "source": [
    "Make note that you need to surround each expression with parentheses because the Python parser will apply the boolean operators incorrectly. For the example above, it would apply it as s < (2 | s ) < 3. You'll realize you're forgetting parentheses when you get complaints about the boolean operators being applied to a series. See?"
   ]
  },
  {
   "cell_type": "code",
   "execution_count": 86,
   "metadata": {
    "tags": [
     "raises-exception"
    ]
   },
   "outputs": [
    {
     "ename": "ValueError",
     "evalue": "The truth value of a Series is ambiguous. Use a.empty, a.bool(), a.item(), a.any() or a.all().",
     "output_type": "error",
     "traceback": [
      "\u001b[0;31m---------------------------------------------------------------------------\u001b[0m",
      "\u001b[0;31mValueError\u001b[0m                                Traceback (most recent call last)",
      "\u001b[0;32m<ipython-input-86-9e801e69de50>\u001b[0m in \u001b[0;36m<module>\u001b[0;34m\u001b[0m\n\u001b[0;32m----> 1\u001b[0;31m \u001b[0ms\u001b[0m\u001b[0;34m[\u001b[0m\u001b[0ms\u001b[0m \u001b[0;34m<\u001b[0m \u001b[0;36m2\u001b[0m \u001b[0;34m|\u001b[0m \u001b[0ms\u001b[0m \u001b[0;34m>\u001b[0m \u001b[0;36m3\u001b[0m\u001b[0;34m]\u001b[0m\u001b[0;34m\u001b[0m\u001b[0;34m\u001b[0m\u001b[0m\n\u001b[0m",
      "\u001b[0;32m~/.pyenv/versions/3.8.6/envs/pandas/lib/python3.8/site-packages/pandas/core/generic.py\u001b[0m in \u001b[0;36m__nonzero__\u001b[0;34m(self)\u001b[0m\n\u001b[1;32m   1327\u001b[0m \u001b[0;34m\u001b[0m\u001b[0m\n\u001b[1;32m   1328\u001b[0m     \u001b[0;32mdef\u001b[0m \u001b[0m__nonzero__\u001b[0m\u001b[0;34m(\u001b[0m\u001b[0mself\u001b[0m\u001b[0;34m)\u001b[0m\u001b[0;34m:\u001b[0m\u001b[0;34m\u001b[0m\u001b[0;34m\u001b[0m\u001b[0m\n\u001b[0;32m-> 1329\u001b[0;31m         raise ValueError(\n\u001b[0m\u001b[1;32m   1330\u001b[0m             \u001b[0;34mf\"The truth value of a {type(self).__name__} is ambiguous. \"\u001b[0m\u001b[0;34m\u001b[0m\u001b[0;34m\u001b[0m\u001b[0m\n\u001b[1;32m   1331\u001b[0m             \u001b[0;34m\"Use a.empty, a.bool(), a.item(), a.any() or a.all().\"\u001b[0m\u001b[0;34m\u001b[0m\u001b[0;34m\u001b[0m\u001b[0m\n",
      "\u001b[0;31mValueError\u001b[0m: The truth value of a Series is ambiguous. Use a.empty, a.bool(), a.item(), a.any() or a.all()."
     ]
    }
   ],
   "source": [
    "s[s < 2 | s > 3]    "
   ]
  },
  {
   "cell_type": "markdown",
   "metadata": {},
   "source": [
    "### DataFrame\n",
    "We can also do boolean indexing on ```DataFrames```. A popular way to create the boolean vector is to use one or more of the columns of the ```DataFrame```."
   ]
  },
  {
   "cell_type": "code",
   "execution_count": 87,
   "metadata": {},
   "outputs": [
    {
     "data": {
      "text/html": [
       "<div>\n",
       "<style scoped>\n",
       "    .dataframe tbody tr th:only-of-type {\n",
       "        vertical-align: middle;\n",
       "    }\n",
       "\n",
       "    .dataframe tbody tr th {\n",
       "        vertical-align: top;\n",
       "    }\n",
       "\n",
       "    .dataframe thead th {\n",
       "        text-align: right;\n",
       "    }\n",
       "</style>\n",
       "<table border=\"1\" class=\"dataframe\">\n",
       "  <thead>\n",
       "    <tr style=\"text-align: right;\">\n",
       "      <th></th>\n",
       "      <th>x</th>\n",
       "      <th>y</th>\n",
       "    </tr>\n",
       "  </thead>\n",
       "  <tbody>\n",
       "    <tr>\n",
       "      <th>0</th>\n",
       "      <td>0</td>\n",
       "      <td>5</td>\n",
       "    </tr>\n",
       "    <tr>\n",
       "      <th>1</th>\n",
       "      <td>1</td>\n",
       "      <td>6</td>\n",
       "    </tr>\n",
       "    <tr>\n",
       "      <th>2</th>\n",
       "      <td>2</td>\n",
       "      <td>7</td>\n",
       "    </tr>\n",
       "  </tbody>\n",
       "</table>\n",
       "</div>"
      ],
      "text/plain": [
       "   x  y\n",
       "0  0  5\n",
       "1  1  6\n",
       "2  2  7"
      ]
     },
     "execution_count": 87,
     "metadata": {},
     "output_type": "execute_result"
    }
   ],
   "source": [
    "df = pd.DataFrame({'x': np.arange(5), 'y': np.arange(5, 10)})\n",
    "df[df['x'] < 3]"
   ]
  },
  {
   "cell_type": "markdown",
   "metadata": {},
   "source": [
    "You can also supply multiple conditions, just like before with ```Series```. (Remember those parentheses!)"
   ]
  },
  {
   "cell_type": "code",
   "execution_count": 88,
   "metadata": {},
   "outputs": [
    {
     "data": {
      "text/html": [
       "<div>\n",
       "<style scoped>\n",
       "    .dataframe tbody tr th:only-of-type {\n",
       "        vertical-align: middle;\n",
       "    }\n",
       "\n",
       "    .dataframe tbody tr th {\n",
       "        vertical-align: top;\n",
       "    }\n",
       "\n",
       "    .dataframe thead th {\n",
       "        text-align: right;\n",
       "    }\n",
       "</style>\n",
       "<table border=\"1\" class=\"dataframe\">\n",
       "  <thead>\n",
       "    <tr style=\"text-align: right;\">\n",
       "      <th></th>\n",
       "      <th>x</th>\n",
       "      <th>y</th>\n",
       "    </tr>\n",
       "  </thead>\n",
       "  <tbody>\n",
       "    <tr>\n",
       "      <th>1</th>\n",
       "      <td>1</td>\n",
       "      <td>6</td>\n",
       "    </tr>\n",
       "    <tr>\n",
       "      <th>2</th>\n",
       "      <td>2</td>\n",
       "      <td>7</td>\n",
       "    </tr>\n",
       "  </tbody>\n",
       "</table>\n",
       "</div>"
      ],
      "text/plain": [
       "   x  y\n",
       "1  1  6\n",
       "2  2  7"
      ]
     },
     "execution_count": 88,
     "metadata": {},
     "output_type": "execute_result"
    }
   ],
   "source": [
    "df[(df['x'] < 3) & (df['y'] > 5)]"
   ]
  },
  {
   "cell_type": "markdown",
   "metadata": {},
   "source": [
    "### ```.loc```, ```.iloc```, and ```[]```\n",
    "If you remember from previous posts, pandas has three primary ways to index the containers. The indexing operator (```[]```) is sort of a hybrid of using the index labels or location based offsets. ```.loc``` is meant for using the index labels, ```.iloc``` is for integer based indexing.  The good news is that all of them accept boolean arrays, and return subsets of the underlying container."
   ]
  },
  {
   "cell_type": "code",
   "execution_count": 104,
   "metadata": {},
   "outputs": [
    {
     "data": {
      "text/plain": [
       "0    False\n",
       "1     True\n",
       "2     True\n",
       "3    False\n",
       "4    False\n",
       "dtype: bool"
      ]
     },
     "execution_count": 104,
     "metadata": {},
     "output_type": "execute_result"
    }
   ],
   "source": [
    "mask = (df['x'] < 3) & (df['y'] > 5)\n",
    "mask"
   ]
  },
  {
   "cell_type": "code",
   "execution_count": 91,
   "metadata": {},
   "outputs": [
    {
     "data": {
      "text/html": [
       "<div>\n",
       "<style scoped>\n",
       "    .dataframe tbody tr th:only-of-type {\n",
       "        vertical-align: middle;\n",
       "    }\n",
       "\n",
       "    .dataframe tbody tr th {\n",
       "        vertical-align: top;\n",
       "    }\n",
       "\n",
       "    .dataframe thead th {\n",
       "        text-align: right;\n",
       "    }\n",
       "</style>\n",
       "<table border=\"1\" class=\"dataframe\">\n",
       "  <thead>\n",
       "    <tr style=\"text-align: right;\">\n",
       "      <th></th>\n",
       "      <th>x</th>\n",
       "      <th>y</th>\n",
       "    </tr>\n",
       "  </thead>\n",
       "  <tbody>\n",
       "    <tr>\n",
       "      <th>1</th>\n",
       "      <td>1</td>\n",
       "      <td>6</td>\n",
       "    </tr>\n",
       "    <tr>\n",
       "      <th>2</th>\n",
       "      <td>2</td>\n",
       "      <td>7</td>\n",
       "    </tr>\n",
       "  </tbody>\n",
       "</table>\n",
       "</div>"
      ],
      "text/plain": [
       "   x  y\n",
       "1  1  6\n",
       "2  2  7"
      ]
     },
     "metadata": {},
     "output_type": "display_data"
    },
    {
     "data": {
      "text/html": [
       "<div>\n",
       "<style scoped>\n",
       "    .dataframe tbody tr th:only-of-type {\n",
       "        vertical-align: middle;\n",
       "    }\n",
       "\n",
       "    .dataframe tbody tr th {\n",
       "        vertical-align: top;\n",
       "    }\n",
       "\n",
       "    .dataframe thead th {\n",
       "        text-align: right;\n",
       "    }\n",
       "</style>\n",
       "<table border=\"1\" class=\"dataframe\">\n",
       "  <thead>\n",
       "    <tr style=\"text-align: right;\">\n",
       "      <th></th>\n",
       "      <th>x</th>\n",
       "      <th>y</th>\n",
       "    </tr>\n",
       "  </thead>\n",
       "  <tbody>\n",
       "    <tr>\n",
       "      <th>1</th>\n",
       "      <td>1</td>\n",
       "      <td>6</td>\n",
       "    </tr>\n",
       "    <tr>\n",
       "      <th>2</th>\n",
       "      <td>2</td>\n",
       "      <td>7</td>\n",
       "    </tr>\n",
       "  </tbody>\n",
       "</table>\n",
       "</div>"
      ],
      "text/plain": [
       "   x  y\n",
       "1  1  6\n",
       "2  2  7"
      ]
     },
     "metadata": {},
     "output_type": "display_data"
    }
   ],
   "source": [
    "display(df[mask])\n",
    "display(df.loc[mask])"
   ]
  },
  {
   "cell_type": "markdown",
   "metadata": {},
   "source": [
    "Note that ```.iloc``` is a little different than the others, if you pass in this mask, you'll get an exception."
   ]
  },
  {
   "cell_type": "code",
   "execution_count": 92,
   "metadata": {},
   "outputs": [
    {
     "name": "stdout",
     "output_type": "stream",
     "text": [
      "iLocation based boolean indexing on an integer type is not available\n"
     ]
    }
   ],
   "source": [
    "try:\n",
    "    df.iloc[mask]\n",
    "except NotImplementedError as nie:\n",
    "    print(nie)"
   ]
  },
  {
   "cell_type": "markdown",
   "metadata": {},
   "source": [
    "This is by design, ```.iloc``` is only intended to take positional arguments. However, our mask is a ```Series``` with an index, so it is rejected. You can still pass in a boolean vector, but just pass in the vector itself without the index."
   ]
  },
  {
   "cell_type": "code",
   "execution_count": 93,
   "metadata": {},
   "outputs": [
    {
     "data": {
      "text/html": [
       "<div>\n",
       "<style scoped>\n",
       "    .dataframe tbody tr th:only-of-type {\n",
       "        vertical-align: middle;\n",
       "    }\n",
       "\n",
       "    .dataframe tbody tr th {\n",
       "        vertical-align: top;\n",
       "    }\n",
       "\n",
       "    .dataframe thead th {\n",
       "        text-align: right;\n",
       "    }\n",
       "</style>\n",
       "<table border=\"1\" class=\"dataframe\">\n",
       "  <thead>\n",
       "    <tr style=\"text-align: right;\">\n",
       "      <th></th>\n",
       "      <th>x</th>\n",
       "      <th>y</th>\n",
       "    </tr>\n",
       "  </thead>\n",
       "  <tbody>\n",
       "    <tr>\n",
       "      <th>1</th>\n",
       "      <td>1</td>\n",
       "      <td>6</td>\n",
       "    </tr>\n",
       "    <tr>\n",
       "      <th>2</th>\n",
       "      <td>2</td>\n",
       "      <td>7</td>\n",
       "    </tr>\n",
       "  </tbody>\n",
       "</table>\n",
       "</div>"
      ],
      "text/plain": [
       "   x  y\n",
       "1  1  6\n",
       "2  2  7"
      ]
     },
     "execution_count": 93,
     "metadata": {},
     "output_type": "execute_result"
    }
   ],
   "source": [
    "df.iloc[mask.to_numpy()]\n",
    "# or\n",
    "df.iloc[mask.values]"
   ]
  },
  {
   "cell_type": "markdown",
   "metadata": {},
   "source": [
    "## Examples!\n",
    "I think one of the most helpful things when thinking about boolean indexing is to see some examples. You are only limited by what you can express by grouping together any combination of expressions on your data. You do this by carefully grouping your boolean expressions and using parentheses wisely. It can also help to break the problem into pieces as you work on it.\n",
    "\n",
    "In this series I've been grabbing data from the [Chicago Data Portal](https://data.cityofchicago.org). This time, I thought the [list of lobbyists](https://data.cityofchicago.org/Ethics/Lobbyist-Data-Lobbyists/tq3e-t5yq) might be interesting. Due to the need for lobbyists to re-register every year, there's some repeating data. Let's take a look.\n"
   ]
  },
  {
   "cell_type": "code",
   "execution_count": 94,
   "metadata": {},
   "outputs": [],
   "source": [
    "# you should be able to grab this dataset as an unauthenticated user, but you can be rate limited\n",
    "lbys = pd.read_json(\"https://data.cityofchicago.org/resource/tq3e-t5yq.json\")"
   ]
  },
  {
   "cell_type": "code",
   "execution_count": 95,
   "metadata": {},
   "outputs": [
    {
     "data": {
      "text/plain": [
       "year               int64\n",
       "lobbyist_id        int64\n",
       "salutation        object\n",
       "first_name        object\n",
       "last_name         object\n",
       "address_1         object\n",
       "city              object\n",
       "state             object\n",
       "zip               object\n",
       "country           object\n",
       "email             object\n",
       "phone             object\n",
       "fax               object\n",
       "employer_id        int64\n",
       "employer_name     object\n",
       "created_date      object\n",
       "middle_initial    object\n",
       "address_2         object\n",
       "suffix            object\n",
       "dtype: object"
      ]
     },
     "execution_count": 95,
     "metadata": {},
     "output_type": "execute_result"
    }
   ],
   "source": [
    "lbys.dtypes"
   ]
  },
  {
   "cell_type": "code",
   "execution_count": 96,
   "metadata": {},
   "outputs": [],
   "source": [
    "lbys['created_date'] = pd.to_datetime(lbys['created_date'])\n",
    "\n",
    "# I'll drop the personally identifiable data, just to be nice\n",
    "lbys = lbys.drop(['email', 'phone', 'fax', 'last_name'], axis=1)\n",
    "\n",
    "lbys.head(3)"
   ]
  },
  {
   "cell_type": "markdown",
   "metadata": {},
   "source": [
    "In terms of examples, there's not really too much complexity to deal with, but here's a few to give you an idea what boolean indexing looks like."
   ]
  },
  {
   "cell_type": "code",
   "execution_count": 99,
   "metadata": {
    "scrolled": false
   },
   "outputs": [
    {
     "data": {
      "text/html": [
       "<div>\n",
       "<style scoped>\n",
       "    .dataframe tbody tr th:only-of-type {\n",
       "        vertical-align: middle;\n",
       "    }\n",
       "\n",
       "    .dataframe tbody tr th {\n",
       "        vertical-align: top;\n",
       "    }\n",
       "\n",
       "    .dataframe thead th {\n",
       "        text-align: right;\n",
       "    }\n",
       "</style>\n",
       "<table border=\"1\" class=\"dataframe\">\n",
       "  <thead>\n",
       "    <tr style=\"text-align: right;\">\n",
       "      <th></th>\n",
       "      <th>year</th>\n",
       "      <th>lobbyist_id</th>\n",
       "      <th>salutation</th>\n",
       "      <th>first_name</th>\n",
       "      <th>address_1</th>\n",
       "      <th>city</th>\n",
       "      <th>state</th>\n",
       "      <th>zip</th>\n",
       "      <th>country</th>\n",
       "      <th>employer_id</th>\n",
       "      <th>employer_name</th>\n",
       "      <th>created_date</th>\n",
       "      <th>middle_initial</th>\n",
       "      <th>address_2</th>\n",
       "      <th>suffix</th>\n",
       "    </tr>\n",
       "  </thead>\n",
       "  <tbody>\n",
       "    <tr>\n",
       "      <th>619</th>\n",
       "      <td>2020</td>\n",
       "      <td>24484</td>\n",
       "      <td>NaN</td>\n",
       "      <td>BRIAN</td>\n",
       "      <td>1330 W FULTON ST</td>\n",
       "      <td>CHICAGO</td>\n",
       "      <td>IL</td>\n",
       "      <td>60607</td>\n",
       "      <td>United States</td>\n",
       "      <td>726370277</td>\n",
       "      <td>STERLING BAY, LLC AND ITS AFFILIATES</td>\n",
       "      <td>2020-01-15</td>\n",
       "      <td>NaN</td>\n",
       "      <td>STE 800</td>\n",
       "      <td>NaN</td>\n",
       "    </tr>\n",
       "    <tr>\n",
       "      <th>654</th>\n",
       "      <td>2020</td>\n",
       "      <td>24106</td>\n",
       "      <td>NaN</td>\n",
       "      <td>HOWARD</td>\n",
       "      <td>1330 W. FULTON ST</td>\n",
       "      <td>CHICAGO</td>\n",
       "      <td>IL</td>\n",
       "      <td>60607</td>\n",
       "      <td>United States</td>\n",
       "      <td>726370277</td>\n",
       "      <td>STERLING BAY, LLC AND ITS AFFILIATES</td>\n",
       "      <td>2020-01-17</td>\n",
       "      <td>NaN</td>\n",
       "      <td>SUITE 800</td>\n",
       "      <td>NaN</td>\n",
       "    </tr>\n",
       "    <tr>\n",
       "      <th>982</th>\n",
       "      <td>2020</td>\n",
       "      <td>23828</td>\n",
       "      <td>MS.</td>\n",
       "      <td>SHELLY</td>\n",
       "      <td>1330 W. FULTON ST</td>\n",
       "      <td>CHICAGO</td>\n",
       "      <td>IL</td>\n",
       "      <td>60607</td>\n",
       "      <td>United States</td>\n",
       "      <td>726370277</td>\n",
       "      <td>STERLING BAY, LLC AND ITS AFFILIATES</td>\n",
       "      <td>2020-01-15</td>\n",
       "      <td>NaN</td>\n",
       "      <td>SUITE 800</td>\n",
       "      <td>NaN</td>\n",
       "    </tr>\n",
       "  </tbody>\n",
       "</table>\n",
       "</div>"
      ],
      "text/plain": [
       "     year  lobbyist_id salutation first_name          address_1     city  \\\n",
       "619  2020        24484        NaN      BRIAN   1330 W FULTON ST  CHICAGO   \n",
       "654  2020        24106        NaN     HOWARD  1330 W. FULTON ST  CHICAGO   \n",
       "982  2020        23828        MS.     SHELLY  1330 W. FULTON ST  CHICAGO   \n",
       "\n",
       "    state    zip        country  employer_id  \\\n",
       "619    IL  60607  United States    726370277   \n",
       "654    IL  60607  United States    726370277   \n",
       "982    IL  60607  United States    726370277   \n",
       "\n",
       "                            employer_name created_date middle_initial  \\\n",
       "619  STERLING BAY, LLC AND ITS AFFILIATES   2020-01-15            NaN   \n",
       "654  STERLING BAY, LLC AND ITS AFFILIATES   2020-01-17            NaN   \n",
       "982  STERLING BAY, LLC AND ITS AFFILIATES   2020-01-15            NaN   \n",
       "\n",
       "     address_2 suffix  \n",
       "619    STE 800    NaN  \n",
       "654  SUITE 800    NaN  \n",
       "982  SUITE 800    NaN  "
      ]
     },
     "execution_count": 99,
     "metadata": {},
     "output_type": "execute_result"
    }
   ],
   "source": [
    "lbys[lbys['year'] == 2020]  # all lobbyists registered in 2020\n",
    "lbys[(lbys['year'] == 2020) & (lbys['city'] == 'CHICAGO')] # lobbyists registered in 2020 from Chicago\n",
    "\n",
    "\n",
    "# let's get the most popular employer for 2020\n",
    "pop_emp_id = lbys[lbys['year'] == 2020].groupby('employer_id').count().sort_values(by='lobbyist_id', ascending=False).index[0]\n",
    "\n",
    "# who works for them?\n",
    "lbys[(lbys['employer_id'] == pop_emp_id) & (lbys['year'] == 2020)]"
   ]
  },
  {
   "cell_type": "markdown",
   "metadata": {},
   "source": [
    "If we only want to deal with 2020 data, we can just make a new smaller ```DataFrame``` with that data."
   ]
  },
  {
   "cell_type": "code",
   "execution_count": 100,
   "metadata": {},
   "outputs": [],
   "source": [
    "lbys = lbys[lbys['year'] == 2020]"
   ]
  },
  {
   "cell_type": "markdown",
   "metadata": {},
   "source": [
    "### Boolean indexing with ```isin```\n",
    "A helpful method that is often paired with boolean indexing is ```Series.isin```. It returns a boolean vector with all rows that match one of the elements in the arguments."
   ]
  },
  {
   "cell_type": "code",
   "execution_count": 101,
   "metadata": {},
   "outputs": [
    {
     "data": {
      "text/plain": [
       "0     IL\n",
       "4     IL\n",
       "22    IL\n",
       "27    PA\n",
       "32    IL\n",
       "Name: state, dtype: object"
      ]
     },
     "metadata": {},
     "output_type": "display_data"
    },
    {
     "data": {
      "text/plain": [
       "0      True\n",
       "4      True\n",
       "22     True\n",
       "27    False\n",
       "32     True\n",
       "Name: state, dtype: bool"
      ]
     },
     "metadata": {},
     "output_type": "display_data"
    },
    {
     "data": {
      "text/html": [
       "<div>\n",
       "<style scoped>\n",
       "    .dataframe tbody tr th:only-of-type {\n",
       "        vertical-align: middle;\n",
       "    }\n",
       "\n",
       "    .dataframe tbody tr th {\n",
       "        vertical-align: top;\n",
       "    }\n",
       "\n",
       "    .dataframe thead th {\n",
       "        text-align: right;\n",
       "    }\n",
       "</style>\n",
       "<table border=\"1\" class=\"dataframe\">\n",
       "  <thead>\n",
       "    <tr style=\"text-align: right;\">\n",
       "      <th></th>\n",
       "      <th>year</th>\n",
       "      <th>lobbyist_id</th>\n",
       "      <th>salutation</th>\n",
       "      <th>first_name</th>\n",
       "      <th>address_1</th>\n",
       "      <th>city</th>\n",
       "      <th>state</th>\n",
       "      <th>zip</th>\n",
       "      <th>country</th>\n",
       "      <th>employer_id</th>\n",
       "      <th>employer_name</th>\n",
       "      <th>created_date</th>\n",
       "      <th>middle_initial</th>\n",
       "      <th>address_2</th>\n",
       "      <th>suffix</th>\n",
       "    </tr>\n",
       "  </thead>\n",
       "  <tbody>\n",
       "    <tr>\n",
       "      <th>164</th>\n",
       "      <td>2020</td>\n",
       "      <td>24879</td>\n",
       "      <td>NaN</td>\n",
       "      <td>DAN</td>\n",
       "      <td>1340 RUSSELL CAVE RD</td>\n",
       "      <td>LEXINGTON</td>\n",
       "      <td>KY</td>\n",
       "      <td>405053114</td>\n",
       "      <td>United States</td>\n",
       "      <td>3439332326</td>\n",
       "      <td>GALLS, LLC</td>\n",
       "      <td>2020-06-15</td>\n",
       "      <td>NaN</td>\n",
       "      <td>NaN</td>\n",
       "      <td>NaN</td>\n",
       "    </tr>\n",
       "    <tr>\n",
       "      <th>791</th>\n",
       "      <td>2020</td>\n",
       "      <td>15543</td>\n",
       "      <td>MR.</td>\n",
       "      <td>LORENZO</td>\n",
       "      <td>501 N BROADWAY</td>\n",
       "      <td>ST. LOUIS</td>\n",
       "      <td>MO</td>\n",
       "      <td>63102</td>\n",
       "      <td>United States</td>\n",
       "      <td>2465452260</td>\n",
       "      <td>STIFEL, NICOLAUS &amp; COMPANY, INC.</td>\n",
       "      <td>2020-01-10</td>\n",
       "      <td>NaN</td>\n",
       "      <td>NaN</td>\n",
       "      <td>NaN</td>\n",
       "    </tr>\n",
       "  </tbody>\n",
       "</table>\n",
       "</div>"
      ],
      "text/plain": [
       "     year  lobbyist_id salutation first_name             address_1       city  \\\n",
       "164  2020        24879        NaN        DAN  1340 RUSSELL CAVE RD  LEXINGTON   \n",
       "791  2020        15543        MR.    LORENZO        501 N BROADWAY  ST. LOUIS   \n",
       "\n",
       "    state        zip        country  employer_id  \\\n",
       "164    KY  405053114  United States   3439332326   \n",
       "791    MO      63102  United States   2465452260   \n",
       "\n",
       "                        employer_name created_date middle_initial address_2  \\\n",
       "164                        GALLS, LLC   2020-06-15            NaN       NaN   \n",
       "791  STIFEL, NICOLAUS & COMPANY, INC.   2020-01-10            NaN       NaN   \n",
       "\n",
       "    suffix  \n",
       "164    NaN  \n",
       "791    NaN  "
      ]
     },
     "execution_count": 101,
     "metadata": {},
     "output_type": "execute_result"
    }
   ],
   "source": [
    "display(lbys['state'].head())\n",
    "display(lbys['state'].isin(['IL']).head())\n",
    "lbys[lbys['state'].isin(['WI', 'IA', 'MO', 'KY', 'IN'])] # lobbyists from bordering states"
   ]
  },
  {
   "cell_type": "markdown",
   "metadata": {},
   "source": [
    "I'll wrap it up with a slightly more complicated expression."
   ]
  },
  {
   "cell_type": "code",
   "execution_count": 102,
   "metadata": {},
   "outputs": [
    {
     "data": {
      "text/html": [
       "<div>\n",
       "<style scoped>\n",
       "    .dataframe tbody tr th:only-of-type {\n",
       "        vertical-align: middle;\n",
       "    }\n",
       "\n",
       "    .dataframe tbody tr th {\n",
       "        vertical-align: top;\n",
       "    }\n",
       "\n",
       "    .dataframe thead th {\n",
       "        text-align: right;\n",
       "    }\n",
       "</style>\n",
       "<table border=\"1\" class=\"dataframe\">\n",
       "  <thead>\n",
       "    <tr style=\"text-align: right;\">\n",
       "      <th></th>\n",
       "      <th>year</th>\n",
       "      <th>lobbyist_id</th>\n",
       "      <th>salutation</th>\n",
       "      <th>first_name</th>\n",
       "      <th>address_1</th>\n",
       "      <th>city</th>\n",
       "      <th>state</th>\n",
       "      <th>zip</th>\n",
       "      <th>country</th>\n",
       "      <th>employer_id</th>\n",
       "      <th>employer_name</th>\n",
       "      <th>created_date</th>\n",
       "      <th>middle_initial</th>\n",
       "      <th>address_2</th>\n",
       "      <th>suffix</th>\n",
       "    </tr>\n",
       "  </thead>\n",
       "  <tbody>\n",
       "    <tr>\n",
       "      <th>27</th>\n",
       "      <td>2020</td>\n",
       "      <td>24967</td>\n",
       "      <td>NaN</td>\n",
       "      <td>JON</td>\n",
       "      <td>7450 TILGHMAN ST.</td>\n",
       "      <td>ALLENTOWN</td>\n",
       "      <td>PA</td>\n",
       "      <td>18106</td>\n",
       "      <td>United States</td>\n",
       "      <td>3314122666</td>\n",
       "      <td>CLEAR CHANNEL AIRPORTS</td>\n",
       "      <td>2020-10-21</td>\n",
       "      <td>NaN</td>\n",
       "      <td>SUITE 104</td>\n",
       "      <td>NaN</td>\n",
       "    </tr>\n",
       "    <tr>\n",
       "      <th>227</th>\n",
       "      <td>2020</td>\n",
       "      <td>24909</td>\n",
       "      <td>MS.</td>\n",
       "      <td>LAKEITHA</td>\n",
       "      <td>1201 F STREET NW, SUITE 1000</td>\n",
       "      <td>WASHINGTON</td>\n",
       "      <td>DC</td>\n",
       "      <td>20004</td>\n",
       "      <td>United States</td>\n",
       "      <td>1059549017</td>\n",
       "      <td>RAI SERVICES</td>\n",
       "      <td>2020-07-14</td>\n",
       "      <td>NaN</td>\n",
       "      <td>NaN</td>\n",
       "      <td>NaN</td>\n",
       "    </tr>\n",
       "    <tr>\n",
       "      <th>700</th>\n",
       "      <td>2020</td>\n",
       "      <td>24925</td>\n",
       "      <td>NaN</td>\n",
       "      <td>TAMI</td>\n",
       "      <td>205 S. FRONT STREET</td>\n",
       "      <td>MARQUETTE</td>\n",
       "      <td>MI</td>\n",
       "      <td>49855</td>\n",
       "      <td>United States</td>\n",
       "      <td>3989938709</td>\n",
       "      <td>THALES CONSULTING INC</td>\n",
       "      <td>2020-08-06</td>\n",
       "      <td>NaN</td>\n",
       "      <td>NaN</td>\n",
       "      <td>NaN</td>\n",
       "    </tr>\n",
       "    <tr>\n",
       "      <th>862</th>\n",
       "      <td>2020</td>\n",
       "      <td>24969</td>\n",
       "      <td>MR.</td>\n",
       "      <td>ALEX</td>\n",
       "      <td>201 WEST ST</td>\n",
       "      <td>ANNAPOLIS</td>\n",
       "      <td>MD</td>\n",
       "      <td>21401</td>\n",
       "      <td>United States</td>\n",
       "      <td>1710218143</td>\n",
       "      <td>REALTERM US, INC</td>\n",
       "      <td>2020-08-31</td>\n",
       "      <td>NaN</td>\n",
       "      <td>NaN</td>\n",
       "      <td>NaN</td>\n",
       "    </tr>\n",
       "  </tbody>\n",
       "</table>\n",
       "</div>"
      ],
      "text/plain": [
       "     year  lobbyist_id salutation first_name                     address_1  \\\n",
       "27   2020        24967        NaN        JON             7450 TILGHMAN ST.   \n",
       "227  2020        24909        MS.   LAKEITHA  1201 F STREET NW, SUITE 1000   \n",
       "700  2020        24925        NaN       TAMI           205 S. FRONT STREET   \n",
       "862  2020        24969        MR.       ALEX                   201 WEST ST   \n",
       "\n",
       "           city state    zip        country  employer_id  \\\n",
       "27    ALLENTOWN    PA  18106  United States   3314122666   \n",
       "227  WASHINGTON    DC  20004  United States   1059549017   \n",
       "700   MARQUETTE    MI  49855  United States   3989938709   \n",
       "862   ANNAPOLIS    MD  21401  United States   1710218143   \n",
       "\n",
       "              employer_name created_date middle_initial  address_2 suffix  \n",
       "27   CLEAR CHANNEL AIRPORTS   2020-10-21            NaN  SUITE 104    NaN  \n",
       "227            RAI SERVICES   2020-07-14            NaN        NaN    NaN  \n",
       "700   THALES CONSULTING INC   2020-08-06            NaN        NaN    NaN  \n",
       "862        REALTERM US, INC   2020-08-31            NaN        NaN    NaN  "
      ]
     },
     "execution_count": 102,
     "metadata": {},
     "output_type": "execute_result"
    }
   ],
   "source": [
    "lbys[\n",
    "    ~(lbys['state'].isin(['WI', 'IA', 'MO', 'KY', 'IN'])) & # lobbyists NOT from bordering states\n",
    "    (lbys['state'] != 'IL') &                               # and NOT from IL\n",
    "    (lbys['created_date'] >= '2020-07-01')                  # created in the last half of the year\n",
    "    ]"
   ]
  },
  {
   "cell_type": "markdown",
   "metadata": {},
   "source": [
    "I also find it helpful to sometimes create a variable for storing the mask. So for the above example, instead of having to parse the entire expression when reading the code, it can be helpful to have expressive variable names for the parts of the indexing expression."
   ]
  },
  {
   "cell_type": "code",
   "execution_count": 103,
   "metadata": {},
   "outputs": [
    {
     "data": {
      "text/html": [
       "<div>\n",
       "<style scoped>\n",
       "    .dataframe tbody tr th:only-of-type {\n",
       "        vertical-align: middle;\n",
       "    }\n",
       "\n",
       "    .dataframe tbody tr th {\n",
       "        vertical-align: top;\n",
       "    }\n",
       "\n",
       "    .dataframe thead th {\n",
       "        text-align: right;\n",
       "    }\n",
       "</style>\n",
       "<table border=\"1\" class=\"dataframe\">\n",
       "  <thead>\n",
       "    <tr style=\"text-align: right;\">\n",
       "      <th></th>\n",
       "      <th>year</th>\n",
       "      <th>lobbyist_id</th>\n",
       "      <th>salutation</th>\n",
       "      <th>first_name</th>\n",
       "      <th>address_1</th>\n",
       "      <th>city</th>\n",
       "      <th>state</th>\n",
       "      <th>zip</th>\n",
       "      <th>country</th>\n",
       "      <th>employer_id</th>\n",
       "      <th>employer_name</th>\n",
       "      <th>created_date</th>\n",
       "      <th>middle_initial</th>\n",
       "      <th>address_2</th>\n",
       "      <th>suffix</th>\n",
       "    </tr>\n",
       "  </thead>\n",
       "  <tbody>\n",
       "    <tr>\n",
       "      <th>27</th>\n",
       "      <td>2020</td>\n",
       "      <td>24967</td>\n",
       "      <td>NaN</td>\n",
       "      <td>JON</td>\n",
       "      <td>7450 TILGHMAN ST.</td>\n",
       "      <td>ALLENTOWN</td>\n",
       "      <td>PA</td>\n",
       "      <td>18106</td>\n",
       "      <td>United States</td>\n",
       "      <td>3314122666</td>\n",
       "      <td>CLEAR CHANNEL AIRPORTS</td>\n",
       "      <td>2020-10-21</td>\n",
       "      <td>NaN</td>\n",
       "      <td>SUITE 104</td>\n",
       "      <td>NaN</td>\n",
       "    </tr>\n",
       "    <tr>\n",
       "      <th>227</th>\n",
       "      <td>2020</td>\n",
       "      <td>24909</td>\n",
       "      <td>MS.</td>\n",
       "      <td>LAKEITHA</td>\n",
       "      <td>1201 F STREET NW, SUITE 1000</td>\n",
       "      <td>WASHINGTON</td>\n",
       "      <td>DC</td>\n",
       "      <td>20004</td>\n",
       "      <td>United States</td>\n",
       "      <td>1059549017</td>\n",
       "      <td>RAI SERVICES</td>\n",
       "      <td>2020-07-14</td>\n",
       "      <td>NaN</td>\n",
       "      <td>NaN</td>\n",
       "      <td>NaN</td>\n",
       "    </tr>\n",
       "    <tr>\n",
       "      <th>700</th>\n",
       "      <td>2020</td>\n",
       "      <td>24925</td>\n",
       "      <td>NaN</td>\n",
       "      <td>TAMI</td>\n",
       "      <td>205 S. FRONT STREET</td>\n",
       "      <td>MARQUETTE</td>\n",
       "      <td>MI</td>\n",
       "      <td>49855</td>\n",
       "      <td>United States</td>\n",
       "      <td>3989938709</td>\n",
       "      <td>THALES CONSULTING INC</td>\n",
       "      <td>2020-08-06</td>\n",
       "      <td>NaN</td>\n",
       "      <td>NaN</td>\n",
       "      <td>NaN</td>\n",
       "    </tr>\n",
       "    <tr>\n",
       "      <th>862</th>\n",
       "      <td>2020</td>\n",
       "      <td>24969</td>\n",
       "      <td>MR.</td>\n",
       "      <td>ALEX</td>\n",
       "      <td>201 WEST ST</td>\n",
       "      <td>ANNAPOLIS</td>\n",
       "      <td>MD</td>\n",
       "      <td>21401</td>\n",
       "      <td>United States</td>\n",
       "      <td>1710218143</td>\n",
       "      <td>REALTERM US, INC</td>\n",
       "      <td>2020-08-31</td>\n",
       "      <td>NaN</td>\n",
       "      <td>NaN</td>\n",
       "      <td>NaN</td>\n",
       "    </tr>\n",
       "  </tbody>\n",
       "</table>\n",
       "</div>"
      ],
      "text/plain": [
       "     year  lobbyist_id salutation first_name                     address_1  \\\n",
       "27   2020        24967        NaN        JON             7450 TILGHMAN ST.   \n",
       "227  2020        24909        MS.   LAKEITHA  1201 F STREET NW, SUITE 1000   \n",
       "700  2020        24925        NaN       TAMI           205 S. FRONT STREET   \n",
       "862  2020        24969        MR.       ALEX                   201 WEST ST   \n",
       "\n",
       "           city state    zip        country  employer_id  \\\n",
       "27    ALLENTOWN    PA  18106  United States   3314122666   \n",
       "227  WASHINGTON    DC  20004  United States   1059549017   \n",
       "700   MARQUETTE    MI  49855  United States   3989938709   \n",
       "862   ANNAPOLIS    MD  21401  United States   1710218143   \n",
       "\n",
       "              employer_name created_date middle_initial  address_2 suffix  \n",
       "27   CLEAR CHANNEL AIRPORTS   2020-10-21            NaN  SUITE 104    NaN  \n",
       "227            RAI SERVICES   2020-07-14            NaN        NaN    NaN  \n",
       "700   THALES CONSULTING INC   2020-08-06            NaN        NaN    NaN  \n",
       "862        REALTERM US, INC   2020-08-31            NaN        NaN    NaN  "
      ]
     },
     "execution_count": 103,
     "metadata": {},
     "output_type": "execute_result"
    }
   ],
   "source": [
    "non_bordering = ~(lbys['state'].isin(['WI', 'IA', 'MO', 'KY', 'IN']))\n",
    "non_illinois = (lbys['state'] != 'IL')\n",
    "\n",
    "# more readable maybe?\n",
    "lbys[non_bordering & non_illinois & (lbys['created_date'] >= '2020-07-01')]"
   ]
  },
  {
   "cell_type": "markdown",
   "metadata": {},
   "source": [
    "Often when building a complex expression, it can be helpful to build it in pieces, so assigning parts of the mask to variables can make a much more complicated expression easier to read, at the cost of extra variables to deal with. In general, I use variables in the mask if I have to reuse them multiple times, but if only used once, I do the entire expression in place.\n",
    "\n",
    "Boolean indexing is really quite simple, but powerful. I'll be looking at a few other ways to select data in pandas in upcoming posts."
   ]
  },
  {
   "cell_type": "code",
   "execution_count": null,
   "metadata": {},
   "outputs": [],
   "source": []
  }
 ],
 "metadata": {
  "kernelspec": {
   "display_name": "Python 3",
   "language": "python",
   "name": "python3"
  },
  "language_info": {
   "codemirror_mode": {
    "name": "ipython",
    "version": 3
   },
   "file_extension": ".py",
   "mimetype": "text/x-python",
   "name": "python",
   "nbconvert_exporter": "python",
   "pygments_lexer": "ipython3",
   "version": "3.8.6"
  }
 },
 "nbformat": 4,
 "nbformat_minor": 4
}
